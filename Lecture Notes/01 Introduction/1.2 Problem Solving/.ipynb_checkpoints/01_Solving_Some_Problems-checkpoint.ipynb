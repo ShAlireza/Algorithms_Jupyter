{
 "cells": [
  {
   "cell_type": "markdown",
   "metadata": {},
   "source": [
    "<div style=\"direction:rtl;line-height:300%;\"><font face=\"XB Zar\" size=5>\n",
    "<div style=\"direction:rtl;line-height:300%;\"><font face=\"XB Zar\" size=5>\n",
    "<div align=center>\n",
    "<font face=\"IranNastaliq\" size=30>\n",
    "<p></p>\n",
    "به نام خدا\n",
    "</font>\n",
    "<br>\n",
    "<font color=#FF7500>\n",
    "دانشگاه صنعتی شریف - دانشکده مهندسی کامپیوتر\n",
    "</font>\n",
    "<br>\n",
    "<font color=blue>\n",
    "داده‌ساختارها و الگوریتم‌ها\n",
    "</font>\n",
    "<br>\n",
    "    ترم دوم سال تحصیلی ۱۳۹۹-۱۳۹۸\n",
    "</div>\n",
    "<hr/>\n",
    "<font color=red size=6>\n",
    "<p></p>\n",
    "\n",
    "<div align=center>فصل اول: مقدمات، حل چند مسئله</div>\n",
    "</font>\n",
    "<div align=center>\n",
    "مهدی قربانی، کیانوش عباسی</div>\n",
    "<hr>\n",
    "</font></div>\n",
    "\n",
    "\n",
    "<style type=\"text/css\" scoped>\n",
    "p{\n",
    "border: 1px solid #a2a9b1;background-color: #f8f9fa;display: inline-block;\n",
    "};\n",
    "</style>\n",
    "\n",
    "<div>\n",
    "<h3> فهرست محتویات</h3>\n",
    "<ul style=\"margin-right: 0;\">\n",
    "    <li><a href=\"#section0\">مقدمه</a></li>\n",
    "    <li><a href=\"#section1\">تحلیل الگوریتم‌ها</a></li>\n",
    "    <li><a href=\"#section2\">زمان‌های اجرا</a></li>\n",
    "    <li><a href=\"#section3\">مسئله: بزرگ‌ترین زیردنباله‌ی متوالی</a></li>\n",
    "    <li><a href=\"#section4\">مسئله: ۳-مجموع</a></li>\n",
    "</ul>\n",
    "</div>"
   ]
  },
  {
   "cell_type": "markdown",
   "metadata": {},
   "source": [
    "<div style=\"direction:rtl;line-height:300%;\"><font face=\"XB Zar\" size=5>\n",
    "<div class=\"persian\" id=\"section0\">\n",
    "<h3>مقدمه</h3>\n",
    "به ذهنم نرسید یه مقدمه ی خوب\n",
    "</div>\n",
    "</font></div>\n"
   ]
  },
  {
   "cell_type": "markdown",
   "metadata": {},
   "source": [
    "<div style=\"direction:rtl;line-height:300%;\" id=\"section1\"><font face=\"XB Zar\" size=5>\n",
    "<h3>تحلیل الگوریتم‌ها</h3>\n",
    "\n",
    "</font></div>"
   ]
  },
  {
   "cell_type": "markdown",
   "metadata": {},
   "source": [
    "<div style=\"direction:rtl;line-height:300%;\" id=\"section2\"><font face=\"XB Zar\" size=5>\n",
    "<h3>زمان‌های اجرا</h3>\n",
    "\n",
    "</font></div>"
   ]
  },
  {
   "cell_type": "markdown",
   "metadata": {},
   "source": [
    "<div style=\"direction:rtl;line-height:300%;\" id=\"section3\"><font face=\"XB Zar\" size=5>\n",
    "<h3>مسئله: بزرگ‌ترین زیردنباله‌ی متوالی</h3>\n",
    "تعریف:\n",
    "یک آرایه از اعداد حقیقی داده شده است. می‌خواهیم بیشترین مجموع بین زیرآرایه‌های متوالی مختلف این آرایه را بیابیم.\n",
    "</font></div>"
   ]
  },
  {
   "cell_type": "markdown",
   "metadata": {
    "pycharm": {
     "name": "#%% md\n"
    }
   },
   "source": [
    "<div style=\"direction:rtl;line-height:300%;\"><font face=\"XB Zar\" size=5>\n",
    "راه حل ۱:\n",
    "اولین راهی که برای حل این مسئله به ذهن می‌رسد، این است که همه‌ی زیردنباله‌های ممکن را درنظر بگیریم و اعضای آن را جمع بزنیم و آن زیردنباله‌ای که جمع آن بیشینه بود را به عنوان خروجی اعلام کنیم.\n",
    "<br/>\n",
    "می‌توانید کد این الگوریتم را در زیر ببینید.\n",
    "</font></div>"
   ]
  },
  {
   "cell_type": "code",
   "execution_count": null,
   "metadata": {
    "pycharm": {
     "name": "#%%\n"
    }
   },
   "outputs": [],
   "source": [
    "#include<bits/stdc++.h> \n",
    "using namespace std;\n",
    "\n",
    "int maxSubArray(int arr[], int n) {\n",
    "    int maxSum = INT_MIN;\n",
    "    for(int i = 0; i < n; i++) {\n",
    "        for(int j = i; j < n; j++) {\n",
    "            int sum = 0;\n",
    "            for(int k = i; k <= j; k++)\n",
    "                sum += arr[k];\n",
    "            if(sum > maxSum)\n",
    "                maxSum = sum;\n",
    "        }\n",
    "    }\n",
    "    return maxSum;\n",
    "}"
   ]
  },
  {
   "cell_type": "markdown",
   "metadata": {
    "pycharm": {
     "name": "#%% md\n"
    }
   },
   "source": [
    "<div style=\"direction:rtl;line-height:300%;\"><font face=\"XB Zar\" size=5>\n",
    "تحلیل زمانی ۱:\n",
    "اگر این الگوریتم را تحلیل زمانی کنیم می‌بینیم که از \n",
    "$O(n^۳)$\n",
    "زمان می‌برد چرا که انتخاب دو اندیس برای ابتدا و انتهای این زیردنباله \n",
    "$\\frac{n \\times (n+۱)}{۲}$\n",
    " عملیات نیاز دارد و پیمایش کردن عناصر بین این دو اندیس و جمع زدن آن‌ها هم از به تعداد طول آن عملیات نیاز دارد که از \n",
    " $O(n)$\n",
    " عملیات مصرف می‌کند. پس نهایتا این الگوریتم از \n",
    "$O(n^۳)$\n",
    "زمان می‌برد. آیا راهی سریع‌تر برای حل این مسئله وجود دارد؟\n",
    "</font></div>"
   ]
  },
  {
   "cell_type": "markdown",
   "metadata": {},
   "source": [
    "<div style=\"direction:rtl;line-height:300%;\"><font face=\"XB Zar\" size=5>\n",
    "راه حل ۲:\n",
    "حال سعی می‌کنیم که راه حلی سریع‌تر ارائه دهیم. در راه حل اول، هر بار مجموع را مجددا از اول محاسبه می‌کردیم و چنین کاری زمان زیادی از ما می‌گرفت. وقتی که می‌خواهیم جمع اعضای آرایه از اندیس \n",
    "$i$\n",
    "ام تا \n",
    "$j$\n",
    "ام را محاسبه کنیم، به جای جمع زدن همه‌ی این اعضا از اول، می‌توان به مجموع اعضای \n",
    "$i$\n",
    "ام تا \n",
    "$j - ۱$\n",
    "ام، عضو \n",
    "$j$\n",
    "ام را اضافه کرد.\n",
    "پس برای حل مسئله، اندیس پایان را همیشه بعد از اندیس شروع در نظر می‌گیریم. حال هم‌زمان با پیمایش اندیس پایان روی اعضای آرایه، مجموع را نیز محاسبه کرده و با مقدار بیشینه‌ای که تا الآن به دست آمده مقایسه می‌کنیم و اگر مقدار حاصل بیشتر از مقدار قبل بود، مقدار جدید را جایگزین آن می‌کنیم.\n",
    "<br/>\n",
    "می‌توانید کد این الگوریتم را در زیر ببینید.\n",
    "</font></div>"
   ]
  },
  {
   "cell_type": "code",
   "execution_count": null,
   "metadata": {
    "pycharm": {
     "name": "#%%\n"
    }
   },
   "outputs": [],
   "source": [
    "#include<bits/stdc++.h> \n",
    "using namespace std;\n",
    "\n",
    "int maxSubArray(int arr[], int n) {\n",
    "    int maxSum = INT_MIN;\n",
    "    for(int i = 0; i < n; i++) {\n",
    "        int sum = 0;\n",
    "        for(int j = i; j < n; j++) {\n",
    "            sum += arr[j];\n",
    "            if(sum > maxSum)\n",
    "                maxSum = sum;\n",
    "        }\n",
    "    }\n",
    "    return maxSum;\n",
    "}"
   ]
  },
  {
   "cell_type": "markdown",
   "metadata": {},
   "source": [
    "<div style=\"direction:rtl;line-height:300%;\"><font face=\"XB Zar\" size=5>\n",
    "تحلیل زمانی ۲:\n",
    "اگر این الگوریتم را تحلیل زمانی کنیم می‌بینیم که از \n",
    "$O(n^۲)$\n",
    "زمان می‌برد چرا که انتخاب دو اندیس برای ابتدا و انتهای این زیردنباله \n",
    "$\\frac{n \\times (n+۱)}{۲}$\n",
    " عملیات نیاز دارد و از آن‌جایی که جمع زدن اعضا الآن از \n",
    " $O(۱)$\n",
    " زمان می‌برد، پس نهایتا این الگوریتم از\n",
    "$O(n^۲)$\n",
    "زمان می‌برد. آیا باز هم می‌توان الگوریتم سریع‌تری برای حل این مسئله ارائه کرد؟ \n",
    "</font></div>"
   ]
  },
  {
   "cell_type": "markdown",
   "metadata": {},
   "source": [
    "<div style=\"direction:rtl;line-height:300%;\"><font face=\"XB Zar\" size=5>\n",
    "راه حل ۳:\n",
    "از ابتدا شروع به پیمایش اعضای آرایه می‌کنیم. یک متغیر برای ذخیره‌سازی حاصل جمع در نظر می‌گیریم. به هر عضو جدید که می‌رسیم، مقدار این متغیر را با عضو جدید جمع زده و در همان متغیر قرار می‌دهیم. حال اگر مقدار متغیر مثبت بود، آن را با متغیر دیگری که حاصل جمع بیشینه تا الآن در آن نگهداری شده بود مقایسه می‌کنیم و اگر بیشتر از آن بود، مقدار آن متغیر را به روز رسانی می‌کنیم. اگر مقدار این متغیر منفی بود، آن‌گاه مقدار متغیر را ۰ کرده و به سراغ عضو بعدی آرایه می‌رویم. همین روند را تا پیمایش کامل اعضای آرایه طی می‌کنیم. نهایتا مقدار عدد نوشته شده در متغیر دارای حاصل جمع بیشینه، جواب مسئله خواهد بود.\n",
    "<br/>\n",
    "می‌توانید کد این الگوریتم را در زیر ببینید.\n",
    "</font></div>"
   ]
  },
  {
   "cell_type": "code",
   "execution_count": null,
   "metadata": {
    "pycharm": {
     "name": "#%%\n"
    }
   },
   "outputs": [],
   "source": [
    "#include<bits/stdc++.h> \n",
    "using namespace std;\n",
    "\n",
    "int maxSubArray(int arr[], int n) {\n",
    "    int maxSum = INT_MIN;\n",
    "    int sum = 0;\n",
    "    for(int i = 0; i < n; i++) {\n",
    "        sum += arr[i];\n",
    "        if(sum < 0)\n",
    "            sum = arr[i];\n",
    "        if(sum > maxSum)\n",
    "            maxSum = sum;\n",
    "    }\n",
    "    return maxSum;\n",
    "}"
   ]
  },
  {
   "cell_type": "markdown",
   "metadata": {},
   "source": [
    "<div style=\"direction:rtl;line-height:300%;\"><font face=\"XB Zar\" size=5>\n",
    "تحلیل زمانی ۳:\n",
    "اگر این الگوریتم را تحلیل زمانی کنیم می‌بینیم که از \n",
    "$O(n)$\n",
    "زمان می‌برد چرا که کافی است فقط یک مرتبه تمام اعضای آرایه پیمایش شوند و در حین پیمایش تعدادی عملیات جمع و مقایسه و مقداردهی کردن که از \n",
    "$O(۱)$\n",
    "زمان می‌برند انجام می‌شود. پس نهایتا الگوریتم از \n",
    "$O(n)$\n",
    "خواهد بود. \n",
    "</font></div>"
   ]
  },
  {
   "cell_type": "markdown",
   "metadata": {},
   "source": [
    "<div style=\"direction:rtl;line-height:300%;\" id=\"section4\"><font face=\"XB Zar\" size=5>\n",
    "<h3>مسئله: ۳-مجموع</h3>\n",
    "تعریف:\n",
    "یک مجموعه شامل\n",
    "$n$\n",
    "عدد حقیقی داده شده است. می‌خواهیم بدانیم که آیا ۳ عضو از این مجموعه وجود دارند که مجموع آن‌ها ۰ شود؟\n",
    "</font></div>"
   ]
  },
  {
   "cell_type": "markdown",
   "metadata": {
    "pycharm": {
     "name": "#%% md\n"
    }
   },
   "source": [
    "<div style=\"direction:rtl;line-height:300%;\"><font face=\"XB Zar\" size=5>\n",
    "راه حل ۱:\n",
    "برای حل این مسئله اولین راه حلی که به ذهن می‌رسد این است که برروی تمام اعضای مجموعه پیمایش کنیم و هر ۳ تایی از اعضا را درنظر گرفته و با یکدیگر جمع کنیم و اگر حاصل این جمع برابر با ۰ شد آن‌گاه به یک جواب مطلوب رسیده‌ایم و اگر جمع هیچ ۳ تایی از اعضا برابر ۰ نشد آن‌گاه این مسئله جواب ندارد.\n",
    "\n",
    "<br/>\n",
    "می‌توانید کد این الگوریتم را در زیر ببینید.\n",
    "</font></div>"
   ]
  },
  {
   "cell_type": "code",
   "execution_count": null,
   "metadata": {
    "pycharm": {
     "name": "#%%\n"
    }
   },
   "outputs": [],
   "source": [
    "#include<bits/stdc++.h> \n",
    "using namespace std;\n",
    "\n",
    "bool three_sum(int arr[], int n) {\n",
    "    for(int i = 0; i < n; i++) {\n",
    "        for(int j = 0; j < n; j++) {\n",
    "            for(int k = 0; k < n; k++) {\n",
    "                if(i != j && j != k && k != i && arr[i] + arr[j] + arr[k] == 0)\n",
    "                    return true;\n",
    "            }\n",
    "        }\n",
    "    }\n",
    "    return false;\n",
    "}"
   ]
  },
  {
   "cell_type": "markdown",
   "metadata": {},
   "source": [
    "<div style=\"direction:rtl;line-height:300%;\"><font face=\"XB Zar\" size=5>\n",
    "تحلیل زمانی ۱:\n",
    "اگر این الگوریتم را تحلیل زمانی کنیم، می‌بینیم که از \n",
    "$O(n^۳)$\n",
    "زمان می‌برد چرا که برای بررسی هر کدام از اعضا باید یک مرتبه آن‌ها را پیمایش کنیم پس مجموعا نیاز به \n",
    "$n^۳$\n",
    "عملیات برای پیمایش اعضا داریم که از \n",
    "$O(n^۳)$ \n",
    "زمان می‌برد.\n",
    "</font></div>"
   ]
  },
  {
   "cell_type": "markdown",
   "metadata": {
    "pycharm": {
     "name": "#%% md\n"
    }
   },
   "source": [
    "<div style=\"direction:rtl;line-height:300%;\"><font face=\"XB Zar\" size=5>\n",
    "راه حل ۲:\n",
    "می‌توانیم همان راه حل ۱ را به گونه‌ای تغییر دهیم که به جای پیمایش همه‌ی اعضا، اعضا را به صورت تکراری پیمایش نکنیم. در واقع برای یافتن ۳ تایی‌ها، عضو اول ۳ تایی برروی تمام اعضای مجموعه، عضو دوم ۳ تایی برروی اعضای مجموعه از عضو اول به بعد و عضو سوم ۳ تایی هم روی اعضای مجموعه از عضو دوم به بعد پیمایش کنند. \n",
    "<br/>\n",
    "می‌توانید کد این الگوریتم را در زیر ببینید.\n",
    "</font></div>"
   ]
  },
  {
   "cell_type": "code",
   "execution_count": null,
   "metadata": {
    "pycharm": {
     "name": "#%%\n"
    }
   },
   "outputs": [],
   "source": [
    "#include<bits/stdc++.h> \n",
    "using namespace std;\n",
    "\n",
    "bool three_sum(int arr[], int n) {\n",
    "    for(int i = 0; i < n; i++) {\n",
    "        for(int j = i + 1; j < n; j++) {\n",
    "            for(int k =  j + 1; k < n; k++) {\n",
    "                if(arr[i] + arr[j] + arr[k] == 0)\n",
    "                    return true;\n",
    "            }\n",
    "        }\n",
    "    }\n",
    "    return false;\n",
    "}"
   ]
  },
  {
   "cell_type": "markdown",
   "metadata": {},
   "source": [
    "<div style=\"direction:rtl;line-height:300%;\"><font face=\"XB Zar\" size=5>\n",
    "تحلیل زمانی ۲:\n",
    "اگر این الگوریتم را تحلیل زمانی کنیم، می‌بینیم که از \n",
    "$O(n^۳)$\n",
    "زمان می‌برد چرا که تعداد عملیات‌های ما برابر با تعداد روش‌های انتخاب ۳ عدد بین ۱ تا $n$ و قرار دادن آن‌ها با ترتیب ثابت است که دقیقا \n",
    "$\\frac{n \\times (n-۱) \\times (n-۲)}{۶}$\n",
    "عملیات برای پیمایش عناصر داریم که از \n",
    "$O(n^۳)$ \n",
    "زمان می‌برد.\n",
    "پس دیدید که با این تغییر هم مرتبه‌ی زمان بهتر نشد. آیا راه حلی با مرتبه‌ی زمانی کمتر وجود دارد؟\n",
    "</font></div>"
   ]
  },
  {
   "cell_type": "markdown",
   "metadata": {
    "pycharm": {
     "name": "#%% md\n"
    }
   },
   "source": [
    "<div style=\"direction:rtl;line-height:300%;\"><font face=\"XB Zar\" size=5>\n",
    "راه حل ۳:\n",
    "حال می‌خواهیم راه حلی ارائه دهیم که مرتبه‌ی زمانی کمتری داشته باشد. ابتدا اعضای مجموعه را مرتب می‌کنیم. برای یافتن عضو اول ۳ تایی روی اعضای ۱ تا \n",
    "$n-۱$\n",
    "مجموعه پیمایش می کنیم. فرض می کنیم عضو دوم ۳ تایی همیشه بعد از عضو اول و قبل از عضو سوم است. در ابتدا فرض می‌کنیم عضو دوم ۳ تایی، عضو بعدی عضو اول در مجموعه و عضو سوم ۳ تایی، آخرین عضو مجموعه است. حال در هر مرحله، این ۳ عضو را جمع می‌زنیم، اگر مقدار برابر ۰ شد این مسئله جواب دارد. اگر این جمع کمتر از ۰ بود، عضو دوم را عضو بعدی مقدار فعلی‌اش در مجموعه فرض می‌کنیم. اگر این جمع بزرگ‌تر از ۰ بود، عضو سوم را عضو قبلی مقدار فعلی‌اش در مجموعه فرض می‌کنیم. در نهایت اگر برای هیچ مقداری این جمع برابر با ۰ نشد پس این مسئله جواب نخواهد داشت.\n",
    "<br/>\n",
    "می‌توانید کد این الگوریتم را در زیر ببینید.\n",
    "</font></div>"
   ]
  },
  {
   "cell_type": "code",
   "execution_count": null,
   "metadata": {
    "pycharm": {
     "name": "#%%\n"
    }
   },
   "outputs": [],
   "source": [
    "#include<bits/stdc++.h> \n",
    "using namespace std;\n",
    "\n",
    "bool three_sum(int arr[], int n) {\n",
    "    sort(arr, arr + n);\n",
    "    for(int i = 0; i < n - 1; i++) {\n",
    "        int j = i + 1;\n",
    "        int k = n - 1;\n",
    "        while(j < k) {\n",
    "            int sum = arr[i] + arr[j] + arr[k];\n",
    "            if(sum == 0)\n",
    "                return true;\n",
    "            else if(sum > 0)\n",
    "                k--;\n",
    "            else\n",
    "                j++;\n",
    "        }\n",
    "    }\n",
    "    return false;\n",
    "}"
   ]
  },
  {
   "cell_type": "markdown",
   "metadata": {
    "pycharm": {
     "name": "#%% md\n"
    }
   },
   "source": [
    "<div style=\"direction:rtl;line-height:300%;\"><font face=\"XB Zar\" size=5>\n",
    "تحلیل زمانی ۳:\n",
    "اگر این الگوریتم را تحلیل زمانی کنیم، می‌بینیم که از \n",
    "$O(n^۲)$\n",
    "زمان می‌برد چرا که عضو اول برروی \n",
    "$n-۱$\n",
    "مقدار متفاوت پیمایش می کند و عضو دوم و سوم هم هر دو با هم حداکثر برروی \n",
    "$n-۱$\n",
    "مقدار متفاوت پیمایش می‌کنند پس حداکثر \n",
    "$(n-۱)^۲$\n",
    "عملیات برای پیمایش عناصر داریم که از \n",
    "$O(n^۲)$ \n",
    "زمان می‌برد.\n",
    "</font></div>\n"
   ]
  }
 ],
 "metadata": {
  "kernelspec": {
   "display_name": "Python 3",
   "language": "python",
   "name": "python3"
  },
  "language_info": {
   "codemirror_mode": {
    "name": "ipython",
    "version": 3
   },
   "file_extension": ".py",
   "mimetype": "text/x-python",
   "name": "python",
   "nbconvert_exporter": "python",
   "pygments_lexer": "ipython3",
   "version": "3.7.2"
  },
  "pycharm": {
   "stem_cell": {
    "cell_type": "raw",
    "metadata": {
     "collapsed": false
    },
    "source": []
   }
  }
 },
 "nbformat": 4,
 "nbformat_minor": 1
}
