{
 "cells": [
  {
   "cell_type": "markdown",
   "metadata": {},
   "source": [
    "<div style=\"direction:rtl;line-height:300%;\"> <font face=\"XB Zar\">\n",
    "<div align=center>\n",
    "    <div style=\"font-size:14px\">\n",
    "    به نام خدا\n",
    "    </div><br>\n",
    "    <strong><div style=\"font-size:50px; color: blue\">\n",
    "    طراحی الگوریتم‌ها\n",
    "    </div></strong>\n",
    "    <br>\n",
    "    <div style=\"font-size:20px; color: #ff6600\">\n",
    "    دانشگاه صنعتی شریف، دانشکده مهندسی کامپیوتر\n",
    "    </div>\n",
    "    <div style=\"font-size:15px; color: black\">\n",
    "        نیم‌سال دوم سال تحصیلی ۹۸-۹۹\n",
    "    </div>\n",
    "    <hr>\n",
    "    <strong><div style=\"font-size:35px; color: red\">\n",
    "        فصل اول: مقدمه\n",
    "    </div></strong><br>\n",
    "    <div style=\"font-size:30px; color: navy\">\n",
    "        بخش دوم: حل مساله\n",
    "    </div><br>\n",
    "    <div style=\"font-size:20px; color: black\">\n",
    "        مهدی قربانی، کیانوش عباسی\n",
    "    </div>\n",
    "\n",
    "</div>\n",
    "<hr>"
   ]
  },
  {
   "cell_type": "markdown",
   "metadata": {},
   "source": [
    "<div style=\"direction:rtl; font-size: 17px; font-family: 'XB Zar'; line-height: 200%\">\n",
    "<div style=\"font-size: 22px; color: #ff6600; font-weight: bold\">\n",
    "فهرست محتویات\n",
    "</div>         \n",
    "<ul style=\"margin-right: 0;\">\n",
    "    <li><a href=\"#section1\">مقدمه</a></li>\n",
    "    <li><a href=\"#section2\">مسئله‌ی اول: بزرگ‌ترین زیردنباله‌ی متوالی</a></li>\n",
    "    <li><a href=\"#section3\">مساله‌ی دوم: سه-مجموع</a></li>\n",
    "</ul>\n",
    "</div>"
   ]
  },
  {
   "cell_type": "markdown",
   "metadata": {},
   "source": [
    "<div id=\"section1\" style=\"direction:rtl; font-size: 17px; font-family: 'XB Zar'; line-height: 200%\">\n",
    "<div style=\"font-size: 22px; color: #ff6600; font-weight: bold\">\n",
    "مقدمه\n",
    "</div><br>\n",
    "در درس داده‌ساختارها و الگوریتم‌ها با تعریف کلی الگوریتم، محاسبه‌ی زمان اجرا و اثبات درستی الگوریتم آشنا شدیم و در این درس در ادامه‌ی همان مسیر به مسائل پیشرفته‌تر می‌پردازیم. راه حل این مسائل معمولا در چند دسته الگوریتم قرار می‌گیرند؛ یعنی روش‌هایی در طول چند دهه‌ی گذشته ابداع شده‌اند که برای حل این مسائل استفاده می‌شوند. این روش‌ها عبارتند از: برنامه‌بنویسی پویا، حریصانه، تقسیم و حل و ...\n",
    "<br>\n",
    "البته بخش بزرگی از چالش‌های موجود در حل مسائل الگوریتمی، همین یافتن دسته‌بندی مناسب برای آن مساله و اعمال الگوریتمی است که بتواند آن را با صرف زمان و حافظه‌ی مناسب حل کند. شما در درس داده‌ساختار‌ها با مفهوم تحلیل الگوریتم از نظر زمان و حافظه و مفاهیمی نظیر $O$ و $\\Theta$ آشنا شدید. در این بخش دو مساله را با هم مرور می‌کنیم که راه حل اولیه‌ای که در موردشان به ذهن می‌رسد از نظر زمانی بهینه نیست، و به مرور سعی می‌کنیم آن ها را گام‌به‌گام بهبود ببخشیم. این مسائل هم‌چنین در دسته‌بندی خاصی (از میان دسته‌های بالا) قرار نمی‌گیرند و بنابراین صرفا به کمک فکر کردن و ایده‌زنی حل می‌شوند.\n",
    "</div>\n",
    "<hr>"
   ]
  },
  {
   "cell_type": "markdown",
   "metadata": {},
   "source": [
    "<div id=\"section2\" style=\"direction:rtl; font-size: 17px; font-family: 'XB Zar'; line-height: 200%\">\n",
    "<div style=\"font-size: 22px; color: #ff6600; font-weight: bold\">\n",
    "مسئله‌ی اول: بزرگ‌ترین زیردنباله‌ی متوالی\n",
    "</div><br>            \n",
    "یک دنباله از اعداد حقیقی داده شده است. می‌خواهیم بین همه‌ی زیردنباله‌های متوالی آن، زیردنباله‌ای با بیشترین مجموع اعضا را بیابیم.\n",
    "<br>\n",
    "<strong>\n",
    "نکته:\n",
    "</strong>    \n",
    "اکیدا توصیه می‌شود قبل از خواندن راه حل دقایقی خودتان به دنبال راه حل این مساله بگردید.\n",
    "<hr>\n",
    "</div>    "
   ]
  },
  {
   "cell_type": "markdown",
   "metadata": {},
   "source": [
    "<div style=\"direction:rtl; font-size: 17px; font-family: 'XB Zar'; line-height: 200%\">\n",
    "<div style=\"font-size: 17px; color: #ff6600; font-weight: bold\">\n",
    "نخستین راه حل\n",
    "</div>         \n",
    "اولین راهی که برای حل این مسئله به ذهن می‌رسد، این است که همه‌ی زیردنباله‌های ممکن را درنظر بگیریم و اعضای آن را جمع بزنیم و آن زیردنباله‌ای که جمع آن بیشینه بود را به عنوان خروجی اعلام کنیم. می‌توانید کد این الگوریتم را در زیر ببینید.\n",
    "<hr>\n",
    "</div>"
   ]
  },
  {
   "cell_type": "code",
   "execution_count": 1,
   "metadata": {},
   "outputs": [],
   "source": [
    "#include <iostream>\n",
    "#include <climits>\n",
    "using namespace std;"
   ]
  },
  {
   "cell_type": "code",
   "execution_count": 2,
   "metadata": {
    "pycharm": {
     "name": "#%%\n"
    }
   },
   "outputs": [
    {
     "name": "stdout",
     "output_type": "stream",
     "text": [
      "94"
     ]
    }
   ],
   "source": [
    "{\n",
    "    int n = 10;\n",
    "    int arr[10] = {1, 2, 31, -3, 51, 12, -102, 1, 31, 1};\n",
    "    int maxSum = INT_MIN;\n",
    "    \n",
    "    for(int i = 0; i < n; i++) {\n",
    "        for(int j = i; j < n; j++) {\n",
    "            int sum = 0;\n",
    "            for(int k = i; k <= j; k++)\n",
    "                sum += arr[k];\n",
    "            if(sum > maxSum)\n",
    "                maxSum = sum;\n",
    "        }\n",
    "    }\n",
    "    cout << maxSum;\n",
    "}"
   ]
  },
  {
   "cell_type": "markdown",
   "metadata": {
    "pycharm": {
     "name": "#%% md\n"
    }
   },
   "source": [
    "<div style=\"direction:rtl; font-size: 17px; font-family: 'XB Zar'; line-height: 200%\">\n",
    "<div style=\"font-size: 17px; color: #ff6600; font-weight: bold\">\n",
    "تحلیل زمانی\n",
    "</div>            \n",
    "اگر این الگوریتم را تحلیل زمانی کنیم می‌بینیم که از \n",
    "$O(n^۳)$\n",
    "زمان می‌برد چرا که انتخاب دو اندیس برای ابتدا و انتهای این زیردنباله \n",
    "$\\frac{n \\times (n+۱)}{۲}$\n",
    " عملیات نیاز دارد و پیمایش کردن عناصر بین این دو اندیس و جمع زدن آن‌ها هم از به تعداد طول آن عملیات نیاز دارد که از \n",
    " $O(n)$\n",
    " عملیات مصرف می‌کند. پس نهایتا این الگوریتم از \n",
    "$O(n^۳)$\n",
    "زمان می‌برد. آیا راهی سریع‌تر برای حل این مسئله وجود دارد؟\n",
    "<hr>\n",
    "</div>"
   ]
  },
  {
   "cell_type": "markdown",
   "metadata": {
    "pycharm": {
     "name": "#%% md\n"
    }
   },
   "source": [
    "<div style=\"direction:rtl; font-size: 17px; font-family: 'XB Zar'; line-height: 200%\">\n",
    "<div style=\"font-size: 17px; color: #ff6600; font-weight: bold\">\n",
    "راه حل دوم\n",
    "</div>            \n",
    "حال سعی می‌کنیم که راه حلی سریع‌تر ارائه دهیم. در راه حل اول، هر بار مجموع را مجددا از اول محاسبه می‌کردیم و چنین کاری زمان زیادی از ما می‌گرفت. وقتی که می‌خواهیم جمع اعضای آرایه از اندیس \n",
    "$i$\n",
    "ام تا \n",
    "$j$\n",
    "ام را محاسبه کنیم، به جای جمع زدن همه‌ی این اعضا از اول، می‌توان به مجموع اعضای \n",
    "$i$\n",
    "ام تا \n",
    "$j - ۱$\n",
    "ام، عضو \n",
    "$j$\n",
    "ام را اضافه کرد.\n",
    "پس برای حل مسئله، اندیس پایان را همیشه بعد از اندیس شروع در نظر می‌گیریم. حال هم‌زمان با پیمایش اندیس پایان روی اعضای آرایه، مجموع را نیز محاسبه کرده و با مقدار بیشینه‌ای که تا الآن به دست آمده مقایسه می‌کنیم و اگر مقدار حاصل بیشتر از مقدار قبل بود، مقدار جدید را جایگزین آن می‌کنیم.\n",
    "<br/>\n",
    "می‌توانید کد این الگوریتم را در زیر ببینید.\n",
    "<hr>\n",
    "</div>"
   ]
  },
  {
   "cell_type": "code",
   "execution_count": 3,
   "metadata": {
    "pycharm": {
     "name": "#%%\n"
    }
   },
   "outputs": [
    {
     "name": "stdout",
     "output_type": "stream",
     "text": [
      "94"
     ]
    }
   ],
   "source": [
    "{\n",
    "    int n = 10;\n",
    "    int arr[10] = {1, 2, 31, -3, 51, 12, -102, 1, 31, 1};\n",
    "    int maxSum = INT_MIN;\n",
    "\n",
    "    for(int i = 0; i < n; i++) {\n",
    "        int sum = 0;\n",
    "        for(int j = i; j < n; j++) {\n",
    "            sum += arr[j];\n",
    "            if(sum > maxSum)\n",
    "                maxSum = sum;\n",
    "        }\n",
    "    }\n",
    "    std::cout << maxSum;\n",
    "}"
   ]
  },
  {
   "cell_type": "markdown",
   "metadata": {},
   "source": [
    "<div style=\"direction:rtl; font-size: 17px; font-family: 'XB Zar'; line-height: 200%\">\n",
    "<div style=\"font-size: 17px; color: #ff6600; font-weight: bold\">\n",
    "تحلیل زمانی این راه حل\n",
    "</div>            \n",
    "اگر این الگوریتم را تحلیل زمانی کنیم می‌بینیم که از \n",
    "$O(n^۲)$\n",
    "زمان می‌برد چرا که انتخاب دو اندیس برای ابتدا و انتهای این زیردنباله \n",
    "$\\frac{n \\times (n+۱)}{۲}$\n",
    " عملیات نیاز دارد و از آن‌جایی که جمع زدن اعضا الآن از \n",
    " $O(۱)$\n",
    " زمان می‌برد، پس نهایتا این الگوریتم از\n",
    "$O(n^۲)$\n",
    "زمان می‌برد. آیا باز هم می‌توان الگوریتم سریع‌تری برای حل این مسئله ارائه کرد؟ \n",
    "<hr>\n",
    "</div>"
   ]
  },
  {
   "cell_type": "markdown",
   "metadata": {},
   "source": [
    "<div style=\"direction:rtl; font-size: 17px; font-family: 'XB Zar'; line-height: 200%\">\n",
    "<div style=\"font-size: 17px; color: #ff6600; font-weight: bold\">\n",
    "راه حل سوم\n",
    "</div>            \n",
    "از ابتدا شروع به پیمایش اعضای آرایه می‌کنیم. یک متغیر برای ذخیره‌سازی حاصل جمع در نظر می‌گیریم. به هر عضو جدید که می‌رسیم، مقدار این متغیر را با عضو جدید جمع زده و در همان متغیر قرار می‌دهیم. حال اگر مقدار متغیر مثبت بود، آن را با متغیر دیگری که حاصل جمع بیشینه تا الآن در آن نگهداری شده بود مقایسه می‌کنیم و اگر بیشتر از آن بود، مقدار آن متغیر را به روز رسانی می‌کنیم. اگر مقدار این متغیر منفی بود، آن‌گاه مقدار متغیر را ۰ کرده و به سراغ عضو بعدی آرایه می‌رویم. همین روند را تا پیمایش کامل اعضای آرایه طی می‌کنیم. نهایتا مقدار عدد نوشته شده در متغیر دارای حاصل جمع بیشینه، جواب مسئله خواهد بود.\n",
    "می‌توانید کد این الگوریتم را در زیر ببینید.\n",
    "<hr>\n",
    "</div>"
   ]
  },
  {
   "cell_type": "code",
   "execution_count": 4,
   "metadata": {
    "pycharm": {
     "name": "#%%\n"
    }
   },
   "outputs": [
    {
     "name": "stdout",
     "output_type": "stream",
     "text": [
      "94"
     ]
    }
   ],
   "source": [
    "{\n",
    "    int n = 10;\n",
    "    int arr[10] = {1, 2, 31, -3, 51, 12, -102, 1, 31, 1};\n",
    "    int maxSum = INT_MIN;\n",
    "\n",
    "    int sum = 0;\n",
    "    for(int i = 0; i < n; i++) {\n",
    "        if(sum < 0)\n",
    "            sum = 0;\n",
    "        sum += arr[i];\n",
    "        if(sum > maxSum)\n",
    "            maxSum = sum;\n",
    "    }\n",
    "    cout << maxSum;\n",
    "}"
   ]
  },
  {
   "cell_type": "markdown",
   "metadata": {},
   "source": [
    "<div style=\"direction:rtl; font-size: 17px; font-family: 'XB Zar'; line-height: 200%\">\n",
    "<div style=\"font-size: 17px; color: #ff6600; font-weight: bold\">\n",
    "تحلیل زمانی این راه حل\n",
    "</div>            \n",
    "اگر این الگوریتم را تحلیل زمانی کنیم می‌بینیم که از \n",
    "$O(n)$\n",
    "زمان می‌برد چرا که کافی است فقط یک مرتبه تمام اعضای آرایه پیمایش شوند و در حین پیمایش تعدادی عملیات جمع و مقایسه و مقداردهی کردن که از \n",
    "$O(۱)$\n",
    "زمان می‌برند انجام می‌شود. پس نهایتا الگوریتم از \n",
    "$O(n)$\n",
    "خواهد بود.\n",
    "بنابراین اکنون مساله‌ای را حل کردیم که در نگاه اول به نظر می‌رسید راه‌حلش از \n",
    "$O(n^3)$\n",
    "است ولی با مقداری بررسی بیشتر موفق شدیم به راه‌حلی خطی برسیم که به مراتب بهتر از راه‌حل اولیه بود.\n",
    "<hr>\n",
    "</div>"
   ]
  },
  {
   "cell_type": "markdown",
   "metadata": {},
   "source": [
    "<div id=\"section3\" style=\"direction:rtl; font-size: 17px; font-family: 'XB Zar'; line-height: 200%\">\n",
    "<div style=\"font-size: 22px; color: #ff6600; font-weight: bold\">\n",
    "مساله‌ی دوم: سه-مجموع\n",
    "</div><br>            \n",
    "یک مجموعه شامل\n",
    "$n$\n",
    "عدد حقیقی داده شده است. می‌خواهیم بدانیم که آیا سه عضو از این مجموعه وجود دارند که مجموع آن‌ها صفر شود؟\n",
    "<br>\n",
    "<strong>\n",
    "نکته:\n",
    "</strong>    \n",
    "اکیدا توصیه می‌شود قبل از خواندن راه حل دقایقی خودتان به دنبال راه حل این مساله بگردید.\n",
    "<hr>\n",
    "</div>"
   ]
  },
  {
   "cell_type": "markdown",
   "metadata": {},
   "source": [
    "<div style=\"direction:rtl; font-size: 17px; font-family: 'XB Zar'; line-height: 200%\">\n",
    "<div style=\"font-size: 17px; color: #ff6600; font-weight: bold\">\n",
    "راه حل اول\n",
    "</div>            \n",
    "برای حل این مسئله اولین راه حلی که به ذهن می‌رسد این است که برروی تمام اعضای مجموعه پیمایش کنیم و هر سه‌تایی از اعضا را درنظر گرفته و با یکدیگر جمع کنیم و اگر حاصل این جمع برابر با صفر شد آن‌گاه به یک جواب مطلوب رسیده‌ایم و اگر جمع هیچ سه‌تایی از اعضا برابر صفر نشد آن‌گاه این مسئله جواب ندارد.\n",
    "می‌توانید کد این الگوریتم را در زیر ببینید.\n",
    "<hr>\n",
    "</div>"
   ]
  },
  {
   "cell_type": "code",
   "execution_count": 5,
   "metadata": {
    "pycharm": {
     "name": "#%%\n"
    }
   },
   "outputs": [
    {
     "name": "stdout",
     "output_type": "stream",
     "text": [
      "Yes"
     ]
    }
   ],
   "source": [
    "{\n",
    "    int n = 10;\n",
    "    int arr[10] = {1, 2, 31, -3, 51, 12, -102, 1, 31, 1};\n",
    "\n",
    "    for(int i = 0; i < n; i++) {\n",
    "        for(int j = 0; j < n; j++) {\n",
    "            for(int k = 0; k < n; k++) {\n",
    "                if(i != j && j != k && k != i && arr[i] + arr[j] + arr[k] == 0){\n",
    "                    cout << \"Yes\";\n",
    "                    return;\n",
    "                }\n",
    "            }\n",
    "        }\n",
    "    }\n",
    "    cout << \"No\";\n",
    "}"
   ]
  },
  {
   "cell_type": "markdown",
   "metadata": {
    "pycharm": {
     "name": "#%% md\n"
    }
   },
   "source": [
    "<div style=\"direction:rtl; font-size: 17px; font-family: 'XB Zar'; line-height: 200%\">\n",
    "<div style=\"font-size: 17px; color: #ff6600; font-weight: bold\">\n",
    "تحلیل زمانی این راه حل\n",
    "</div>            \n",
    "اگر این الگوریتم را تحلیل زمانی کنیم، می‌بینیم که از \n",
    "$O(n^۳)$\n",
    "زمان می‌برد چرا که برای بررسی هر کدام از اعضا باید یک مرتبه آن‌ها را پیمایش کنیم پس مجموعا نیاز به \n",
    "$n^۳$\n",
    "عملیات برای پیمایش اعضا داریم که از \n",
    "$O(n^۳)$ \n",
    "زمان می‌برد.\n",
    "<hr>\n",
    "</div>"
   ]
  },
  {
   "cell_type": "markdown",
   "metadata": {},
   "source": [
    "<div style=\"direction:rtl; font-size: 17px; font-family: 'XB Zar'; line-height: 200%\">\n",
    "<div style=\"font-size: 17px; color: #ff6600; font-weight: bold\">\n",
    "راه حل دوم\n",
    "</div>            \n",
    "اگر کمی بیشتر بررسی کنیم، متوجه می‌شویم که    \n",
    "می‌توانیم همان راه حل اول را به گونه‌ای تغییر دهیم که به جای پیمایش همه‌ی اعضا، اعضا را به صورت تکراری پیمایش نکنیم. در واقع برای یافتن سه‌تایی‌ها، عضو اول سه‌تایی برروی تمام اعضای مجموعه، عضو دوم سه‌تایی برروی اعضای مجموعه از عضو اول به بعد و عضو سوم سه‌تایی هم روی اعضای مجموعه از عضو دوم به بعد پیمایش کنند. \n",
    "می‌توانید کد این الگوریتم را در زیر ببینید.\n",
    "<hr>\n",
    "</div>"
   ]
  },
  {
   "cell_type": "code",
   "execution_count": 6,
   "metadata": {
    "pycharm": {
     "name": "#%%\n"
    }
   },
   "outputs": [
    {
     "name": "stdout",
     "output_type": "stream",
     "text": [
      "Yes"
     ]
    }
   ],
   "source": [
    "{\n",
    "    int n = 10;\n",
    "    int arr[10] = {1, 2, 31, -3, 51, 12, -102, 1, 31, 1};\n",
    "\n",
    "    for(int i = 0; i < n; i++) {\n",
    "        for(int j = i + 1; j < n; j++) {\n",
    "            for(int k =  j + 1; k < n; k++) {\n",
    "                if(arr[i] + arr[j] + arr[k] == 0){\n",
    "                    cout << \"Yes\";\n",
    "                    return;\n",
    "                }\n",
    "            }\n",
    "        }\n",
    "    }\n",
    "    cout << \"No\";\n",
    "}"
   ]
  },
  {
   "cell_type": "markdown",
   "metadata": {
    "pycharm": {
     "name": "#%% md\n"
    }
   },
   "source": [
    "<div style=\"direction:rtl; font-size: 17px; font-family: 'XB Zar'; line-height: 200%\">\n",
    "<div style=\"font-size: 17px; color: #ff6600; font-weight: bold\">\n",
    "تحلیل زمانی این راه حل\n",
    "</div>            \n",
    "اگر این الگوریتم را تحلیل زمانی کنیم، می‌بینیم که از \n",
    "$O(n^۳)$\n",
    "زمان می‌برد چرا که تعداد عملیات‌های ما برابر با تعداد روش‌های انتخاب ۳ عدد بین ۱ تا $n$ و قرار دادن آن‌ها با ترتیب ثابت است که دقیقا \n",
    "$\\frac{n \\times (n-۱) \\times (n-۲)}{۶}$\n",
    "عملیات برای پیمایش عناصر داریم که از \n",
    "$O(n^۳)$ \n",
    "زمان می‌برد.\n",
    "پس متوجه شدیم که با این تغییر هم مرتبه‌ی زمان بهتر نشد. آیا راه حلی با مرتبه‌ی زمانی کمتر وجود دارد؟\n",
    "<hr>\n",
    "</div>"
   ]
  },
  {
   "cell_type": "markdown",
   "metadata": {},
   "source": [
    "<div style=\"direction:rtl; font-size: 17px; font-family: 'XB Zar'; line-height: 200%\">\n",
    "<div style=\"font-size: 17px; color: #ff6600; font-weight: bold\">\n",
    "راه حل سوم\n",
    "</div>            \n",
    "حال می‌خواهیم راه حلی ارائه دهیم که مرتبه‌ی زمانی کمتری داشته باشد. ابتدا اعضای مجموعه را مرتب می‌کنیم. برای یافتن عضو اول ۳ تایی روی اعضای ۱ تا \n",
    "$n-۱$\n",
    "مجموعه پیمایش می کنیم. فرض می کنیم عضو دوم ۳ تایی همیشه بعد از عضو اول و قبل از عضو سوم است. در ابتدا فرض می‌کنیم عضو دوم ۳ تایی، عضو بعدی عضو اول در مجموعه و عضو سوم ۳ تایی، آخرین عضو مجموعه است. حال در هر مرحله، این ۳ عضو را جمع می‌زنیم، اگر مقدار برابر ۰ شد این مسئله جواب دارد. اگر این جمع کمتر از ۰ بود، عضو دوم را عضو بعدی مقدار فعلی‌اش در مجموعه فرض می‌کنیم. اگر این جمع بزرگ‌تر از ۰ بود، عضو سوم را عضو قبلی مقدار فعلی‌اش در مجموعه فرض می‌کنیم. در نهایت اگر برای هیچ مقداری این جمع برابر با ۰ نشد پس این مسئله جواب نخواهد داشت.\n",
    "<br/>\n",
    "می‌توانید کد این الگوریتم را در زیر ببینید.\n",
    "<hr>\n",
    "</div>"
   ]
  },
  {
   "cell_type": "code",
   "execution_count": 7,
   "metadata": {
    "pycharm": {
     "name": "#%%\n"
    }
   },
   "outputs": [
    {
     "name": "stdout",
     "output_type": "stream",
     "text": [
      "Yes"
     ]
    }
   ],
   "source": [
    "{\n",
    "    int n = 10;\n",
    "    int arr[10] = {1, 2, 31, -3, 51, 12, -102, 1, 31, 1};\n",
    "\n",
    "    sort(arr, arr + n);\n",
    "    for(int i = 0; i < n - 1; i++) {\n",
    "        int j = i + 1;\n",
    "        int k = n - 1;\n",
    "        while(j < k) {\n",
    "            int sum = arr[i] + arr[j] + arr[k];\n",
    "            if(sum == 0){\n",
    "                cout << \"Yes\";\n",
    "                return;\n",
    "            }\n",
    "            else if(sum > 0)\n",
    "                k--;\n",
    "            else\n",
    "                j++;\n",
    "        }\n",
    "    }\n",
    "    cout << \"No\";\n",
    "}"
   ]
  },
  {
   "cell_type": "markdown",
   "metadata": {
    "pycharm": {
     "name": "#%% md\n"
    }
   },
   "source": [
    "<div style=\"direction:rtl; font-size: 17px; font-family: 'XB Zar'; line-height: 200%\">\n",
    "<div style=\"font-size: 17px; color: #ff6600; font-weight: bold\">\n",
    "تحلیل زمانی این راه حل\n",
    "</div>            \n",
    "اگر این الگوریتم را تحلیل زمانی کنیم، می‌بینیم که از \n",
    "$O(n^۲)$\n",
    "زمان می‌برد چرا که عضو اول برروی \n",
    "$n-۱$\n",
    "مقدار متفاوت پیمایش می کند و عضو دوم و سوم هم هر دو با هم حداکثر برروی \n",
    "$n-۱$\n",
    "مقدار متفاوت پیمایش می‌کنند پس حداکثر \n",
    "$(n-۱)^۲$\n",
    "عملیات برای پیمایش عناصر داریم که از \n",
    "$O(n^۲)$ \n",
    "زمان می‌برد. بنابراین موفق شدیم بهبود قابل توجهی در زمان اجرای الگوریتم ایجاد کنیم.\n",
    "<hr>\n",
    "</div>"
   ]
  }
 ],
 "metadata": {
  "kernelspec": {
   "display_name": "Python 3",
   "language": "python",
   "name": "python3"
  },
  "language_info": {
   "codemirror_mode": {
    "name": "ipython",
    "version": 3
   },
   "file_extension": ".py",
   "mimetype": "text/x-python",
   "name": "python",
   "nbconvert_exporter": "python",
   "pygments_lexer": "ipython3",
   "version": "3.7.4"
  },
  "pycharm": {
   "stem_cell": {
    "cell_type": "raw",
    "metadata": {
     "collapsed": false
    },
    "source": []
   }
  }
 },
 "nbformat": 4,
 "nbformat_minor": 1
}
