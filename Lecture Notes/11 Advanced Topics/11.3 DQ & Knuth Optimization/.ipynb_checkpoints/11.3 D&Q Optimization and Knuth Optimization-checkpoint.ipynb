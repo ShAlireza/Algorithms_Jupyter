{
 "cells": [
  {
   "cell_type": "markdown",
   "metadata": {},
   "source": [
    "<div style=\"direction:rtl;line-height:300%;\"> <font face=\"XB Zar\">\n",
    "<div align=center>\n",
    "    <div style=\"font-size:14px\">\n",
    "    به نام خدا\n",
    "    </div><br>\n",
    "    <strong><div style=\"font-size:50px; color: blue\">\n",
    "    طراحی الگوریتم‌ها\n",
    "    </div></strong>\n",
    "    <br>\n",
    "    <div style=\"font-size:20px; color: #ff6600\">\n",
    "    دانشگاه صنعتی شریف، دانشکده مهندسی کامپیوتر\n",
    "    </div>\n",
    "    <div style=\"font-size:15px; color: black\">\n",
    "        نیم‌سال دوم سال تحصیلی ۹۸-۹۹\n",
    "    </div>\n",
    "    <hr>\n",
    "    <strong><div style=\"font-size:35px; color: red\">\n",
    "        فصل یازدهم: بهینه‌سازی پویا\n",
    "    </div></strong><br>\n",
    "    <div style=\"font-size:30px; color: navy\">\n",
    "        بخش دوم: بهینه‌سازی تقسیم و حل و بهینه‌سازی Knuth\n",
    "    </div><br>\n",
    "    <div style=\"font-size:20px; color: black\">\n",
    "        محمد مهدوی\n",
    "    </div>\n",
    "\n",
    "</div>\n",
    "<hr>"
   ]
  },
  {
   "cell_type": "markdown",
   "metadata": {},
   "source": [
    "<div style=\"direction:rtl; font-size: 17px; font-family: 'XB Zar'; line-height: 200%\">\n",
    "<div style=\"font-size: 22px; color: #ff6600; font-weight: bold\">\n",
    "فهرست محتویات\n",
    "</div>         \n",
    "<ul style=\"margin-right: 0;\">\n",
    "    <li><a href=\"#section1\">مقدمه</a></li>\n",
    "    <li><a href=\"#section2\">بهینه‌سازی تقسیم و حل</a></li>\n",
    "    <li><a href=\"#section3\">بهینه‌سازی Knuth</a></li>\n",
    "</ul>\n",
    "</div>"
   ]
  },
  {
   "cell_type": "markdown",
   "metadata": {},
   "source": [
    "<div id=\"section1\" style=\"direction:rtl; font-size: 17px; font-family: 'XB Zar'; line-height: 200%\">\n",
    "<div style=\"font-size: 22px; color: #ff6600; font-weight: bold\">\n",
    "مقدمه</div><br>\n",
    "<br>\n",
    "\n",
    "</div>\n",
    "<hr>"
   ]
  },
  {
   "cell_type": "markdown",
   "metadata": {},
   "source": [
    "<div id=\"section2\" style=\"direction:rtl; font-size: 17px; font-family: 'XB Zar'; line-height: 200%\">\n",
    "<div style=\"font-size: 22px; color: #ff6600; font-weight: bold\">\n",
    "بهینه‌سازی تقسیم و حل(Divide and Conquer Optimization)</div><br>            \n",
    "در بعضی مسائل DP به رابطه بازگشتی‌ای مثل<br><div align = center> $dp(i, j) =\n",
    "\\min_{k \\leq j} \\{ dp(i - 1, k) + C(k, j) \\}$</div> <br> بر می‌خوریم که در آن $C(k, j)$ یک تابع هزینه است. اگر $i$ بتواند از ۱ تا $n$ و $j$ از ۱ تا $m$ باشد و بتوانیم مقدار $C$ را بتوانیم در $O(1)$ محاسبه کنیم، می‌توانیم جواب این مسئله را به سادگی در $O(n m^2)$ محاسبه کنیم که برای آن $O(nm)$ استیت برای DP داریم و هر استیت در $O(m)$ محاسبه می‌شود. می‌خواهیم ببینیم آیا می‌توان این DP را سریع‌تر محاسبه کرد.<br>\n",
    "    فرض کنید $opt(i,j)$ برابر با مقداری از $k$ باشد که $dp(i, j)$  به ازای آن از $dp(i-1, k)$ محاسبه می‌شود. اگر داشته باشیم برای هر $i$ و $j$، $opt(i,j) \\leq opt(i,j+1)$ باشد می‌توانیم از بهینه‌سازی تقسیم و حل استفاده کنیم. به این شرط، شرط <strong> یکنوایی </strong> می‌گویند.<br>\n",
    "   فرض کنید مقادیر DP را برای $i-1$ می‌دانیم و می‌خواهیم آن‌را برای $i$ به دست آوریم. حال اگر مقدار $opt(i,j)$ را برای یک $j$ داشته باشیم برای هر $j' < j$ برای محاسبه $dp(i,j')$ کافی است رابطه بازگشتی را برای $k \\leq opt(i,j)$ چک کنیم. <br>\n",
    "    برای استفاده از این خاصیت و کم کردن زمان می‌توانیم از ایده تقسیم و حل استفاده کنیم. فرض کنید ما به روش بدیهی $dp(i, m / 2)$ را محاسبه کنیم و $opt(i, m / 2)$ را نیز به دست آوریم. اگر این مقدار برابر $optM$ باشد جواب برای $j > m / 2$ با استفاده از مقادیر $k \\geq optM$ و برای مقادیر $j < m / 2$ با استفاده از مقادیر $k \\leq optM$ محاسبه می‌شود. حال می‌توانیم به طور بازگشتی مسئله را که به دو قسمت $j < m/2$ و $j > m/2$ تقسیم شده را حل کنیم و مقادیر DP را در دو طرف به دست آوریم. در این کار در مرحله بعد با دقت به اینکه $opt$ آن‌ها در چه بازه‌ای قرار می‌گیرد $dp(i,m/4)$ و $dp(i,3m/4)$ را به دست می‌آوریم و به همین صورت ادامه می‌دهیم تا تمامی مقادیر محاسبه شوند. <br>\n",
    "    در این روش در هر طبقه محاسبه DPها از $O(m)$ زمان می‌برد چون بازه‌ها تنها در سر و ته اشتراک دارند. همچنین با توجه به نصف شدن انداره بازه‌هایی که باید DP آن‌ها محاسبه شود تعداد طبقات از $O(logm)$ است و با این روش مقادیر DP در $O(nmlogm)$ محاسبه می‌شوند.<br><img src = \"d&q.png\">\n",
    "    نمونه‌ای از یک مسئله که با این روش می‌توان زمان اجرای آن را بهینه‌سازی کرد مسئله زیر است:<br>\n",
    "    $n$ نفر در یک شهربازی در صف چرخ‌و‌فلک هستند.می‌خواهیم این افراد را به $k$ دسته تقسیم کنیم تا در $k$کابین متفاوت سوار چرخ‌و‌فلک شوند و طبیعتا هر یک از این دسته‌ها باید شامل یک بازه پشت‌سرهم از افراد درون صف باشد. حال هر فرد دوست ندارد با افراد ناآشنا در یک کابین قرار بگیرد و ما برای هر دو نفر یک سطح ناآشنایی داریم و می‌خواهیم افراد رو طوری به $k$ دسته تقسیم کنیم که جمع ناآشنایی دوبه‌دو افراد کوپه‌ها کمینه شود. می‌توان برای این مسئله $dp(i,j)$ را به عنوان کمینه جمع ناآشنایی‌های ممکن اگر $j$ نفر اول صف را به $i$ دسته تقسیم کنیم در نظر گرفت. در این صورت اگر $C(i,j)$ برابر با جمع ناآشنایی‌های افراد $i$م تا $j$م صف باشد این DP رابطه بازگشتی به شکل گفته شده خواهد داشت و همچنین شرط یکنوایی را نیز دارد و می‌توان جواب آن را در $O(nklogn)$ با بهینه‌سازی تقسیم و حل محاسبه کرد. <br>\n",
    "    در پایین یک پیاده‌سازی کلی از این روش آمده است که از روی مقادیر $dp(i-1,x)$ مقادیر $dp(i,y)$ را به دست می‌آورد.\n",
    "</div>    "
   ]
  },
  {
   "cell_type": "code",
   "execution_count": 1,
   "metadata": {},
   "outputs": [
    {
     "ename": "SyntaxError",
     "evalue": "invalid syntax (<ipython-input-1-a349b29340c3>, line 1)",
     "output_type": "error",
     "traceback": [
      "\u001b[1;36m  File \u001b[1;32m\"<ipython-input-1-a349b29340c3>\"\u001b[1;36m, line \u001b[1;32m1\u001b[0m\n\u001b[1;33m    long long C(int i, int j);\u001b[0m\n\u001b[1;37m            ^\u001b[0m\n\u001b[1;31mSyntaxError\u001b[0m\u001b[1;31m:\u001b[0m invalid syntax\n"
     ]
    }
   ],
   "source": [
    "long long C(int i, int j);\n",
    "void compute(int l, int r, int optl, int optr, int old_dp[], int new_dp[])\n",
    "{\n",
    "    if (l > r)\n",
    "        return;\n",
    "    int mid = (l + r) / 2;\n",
    "    pair<int, int> best = {INF, -1};\n",
    "\n",
    "    for (int k = optl; k <= min(mid, optr); k++) {\n",
    "        best = min(best, {old_dp[k] + C(k, mid), k});\n",
    "    }\n",
    "\n",
    "    new_dp[mid] = best.first;\n",
    "    int optm = best.second;\n",
    "\n",
    "    compute(l, mid - 1, optl, optm, old_dp, new_dp);\n",
    "    compute(mid + 1, r, optm, optr, old_dp, new_dp);\n",
    "}"
   ]
  },
  {
   "cell_type": "markdown",
   "metadata": {},
   "source": [
    "<div id=\"section3\" style=\"direction:rtl; font-size: 17px; font-family: 'XB Zar'; line-height: 200%\">\n",
    "<div style=\"font-size: 22px; color: #ff6600; font-weight: bold\">\n",
    "<hr>\n",
    "</div>"
   ]
  },
  {
   "cell_type": "markdown",
   "metadata": {},
   "source": [
    "<div id=\"section3\" style=\"direction:rtl; font-size: 17px; font-family: 'XB Zar'; line-height: 200%\">\n",
    "<div style=\"font-size: 22px; color: #ff6600; font-weight: bold\">\n",
    "بهینه‌سازی Knuth</div><br>            \n",
    "<hr>\n",
    "</div>"
   ]
  }
 ],
 "metadata": {
  "kernelspec": {
   "display_name": "Python 3",
   "language": "python",
   "name": "python3"
  },
  "language_info": {
   "codemirror_mode": {
    "name": "ipython",
    "version": 3
   },
   "file_extension": ".py",
   "mimetype": "text/x-python",
   "name": "python",
   "nbconvert_exporter": "python",
   "pygments_lexer": "ipython3",
   "version": "3.7.3"
  }
 },
 "nbformat": 4,
 "nbformat_minor": 4
}
