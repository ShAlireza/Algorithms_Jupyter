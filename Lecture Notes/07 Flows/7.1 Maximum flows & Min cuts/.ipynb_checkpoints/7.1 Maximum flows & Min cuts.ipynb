{
 "cells": [
  {
   "cell_type": "markdown",
   "metadata": {},
   "source": [
    "<div style=\"direction:rtl;line-height:300%;\"><font face=\"XB Zar\" size=5>\n",
    "<div style=\"direction:rtl;line-height:300%;\"><font face=\"XB Zar\" size=5>\n",
    "<div align=center>\n",
    "<font face=\"IranNastaliq\" size=30>\n",
    "<p></p>\n",
    "به نام خدا\n",
    "</font>\n",
    "<br>\n",
    "<font color=#FF7500>\n",
    "دانشگاه صنعتی شریف - دانشکده مهندسی کامپیوتر\n",
    "</font>\n",
    "<br>\n",
    "<font color=blue>\n",
    "طراحی الگوریتم‌ها\n",
    "</font>\n",
    "<br>\n",
    "    ترم دوم سال تحصیلی ۱۳۹۹-۱۳۹۸\n",
    "</div>\n",
    "<hr/>\n",
    "<font color=red size=6>\n",
    "<p></p>\n",
    "\n",
    "<div align=center>فصل هفتم: بیشینه شار، برش کمینه، مروری بر بهبود‌های فورد-فالکرسن و ادموندز-کارپ</div>\n",
    "</font>\n",
    "<div align=center>\n",
    "آریان میکائیلی، نیما جمالی</div>\n",
    "<hr>\n",
    "</font></div>\n",
    "\n",
    "\n",
    "<style type=\"text/css\" scoped>\n",
    "p{\n",
    "border: 1px solid #a2a9b1;background-color: #f8f9fa;display: inline-block;\n",
    "};\n",
    "</style>\n",
    "\n",
    "<div>\n",
    "<h3> فهرست محتویات</h3>\n",
    "<ul style=\"margin-right: 0;\">\n",
    "    <li><a href=\"#problem\"> یک مسئله: فاصله‌گذاری اجتماعی در خوابگاه </a></li>\n",
    "    <li><a href=\"#section0\">مقدمه</a></li>\n",
    "    <li><a href=\"#section1\">شار بیشینه</a></li>\n",
    "    <li><a href=\"#section2\">برش کمینه</a></li>\n",
    "    <li><a href=\"#section5\">گراف باقی‌مانده</a></li>\n",
    "    <li><a href=\"#section3\">روش فورد-فالکرسن برای حل مسئله‌ی شار بیشینه</a></li>\n",
    "    <li><a href=\"#section4\">روش ادموندز-کارپ</a></li>\n",
    "</ul>\n",
    "</div>"
   ]
  },
  {
   "cell_type": "markdown",
   "metadata": {},
   "source": [
    "<div style=\"direction:rtl;line-height:300%;\"><font face=\"XB Zar\" size=5>\n",
    "<div class=\"persian\" id=\"problem\">\n",
    "<h3>یک مسئله: فاصله‌گذاری اجتماعی در خوابگاه</h3>\n",
    "پس از شیوع ویروس کرونا و تعطیلی دانشگاه‌ها، مسئولین دانشگاه به فکر بازگشایی مجدد دانشگاه افتادند. اما با توجه به آن که نگرانی‌هایی درباره‌ی اوج گرفتن دوباره‌ی ویروس در سطح جهان وجود دارد، مسئولین به دنبال اجرای طرح‌هایی هستند تا تماس دانشجویان در محیط خوابگاه را کمتر کنند. در یکی از طرح‌های پیشنهادی که عجیب به نظر می‌رسد، پیشنهاد شده که هر اتاق تنها به یک دانشجو تعلق پیدا کند که این خود مستلزم بیشتر کردن تعداد اتاق‌ها است. حال فرض کنید $n$ نفر دانشجو و $m$ اتاق داریم و می‌خواهیم طرح پیشنهادی را عملی کنیم. هر دانشجو می‌تواند به هر تعداد دلخواهی (1 تا $m$) اتاق را به عنوان اتاق‌های مطلوب خود انتخاب کند و در صورتی که به او اتاقی تعلق بگیرد که در لیست مطلوبش نبوده، به خوابگاه باز نمی‌گردد! در نتیجه باید سعی کنیم که اتاق‌ها را به گونه‌ای به دانشجویان اختصاص دهیم که بیشترین تعداد دانشجو به خوابگاه باز گردند. برای حل چنین مسئله‌ای با\n",
    "<b>شبکه‌ی شار</b> \n",
    "آشنا می‌شویم.\n",
    "</div>\n",
    "</font></div>"
   ]
  },
  {
   "cell_type": "markdown",
   "metadata": {},
   "source": [
    "<div style=\"direction:rtl;line-height:300%;\"><font face=\"XB Zar\" size=5>\n",
    "<div class=\"persian\" id=\"section0\">\n",
    "<h3>مقدمه</h3>\n",
    "در نظریه گراف، شبکه‌ی شار یک گراف جهت‌دار است که شامل دو راس مبدا ($source$) و مقصد ($sink$) است. این گراف معمولا شامل راس‌های دیگری است که با یال‌های جهت‌دار به هم متصل شده‌اند. هر یال در یک شبکه‌ی شار دارای ظرفیت مشخصی است. یک شار تنها زمانی می‌تواند از یک یال عبور کند که از میزان ظرفیت آن یال بیشتر نباشد.\n",
    "</div>\n",
    "</font></div>"
   ]
  },
  {
   "cell_type": "markdown",
   "metadata": {},
   "source": [
    "<div style=\"direction:rtl;line-height:300%;\"><font face=\"XB Zar\" size=5>\n",
    "یک شبکه‌ی شار باید در شرایط زیر صدق کند:\n",
    "<br/>\n",
    "<ol>\n",
    "<li>\n",
    "شار خروجی از راس مبدا باید با شار ورودی به راس مقصد برابر باشد.\n",
    "</li>\n",
    "<li>\n",
    "برای سایر راس‌ها، میزان شار ورودی باید برابر با میزان شار خروجی باشد.\n",
    "</li>\n",
    "<li>\n",
    "شار عبوری از هر یال عددی نامنفی است و حداکثر برابر با ظرفیت آن یال است.\n",
    "</li>\n",
    "</ol>\n",
    "</font></div>"
   ]
  },
  {
   "cell_type": "markdown",
   "metadata": {},
   "source": [
    "<div style=\"direction:rtl;line-height:300%;\" id=\"section1\"><font face=\"XB Zar\" size=5>\n",
    "<h3>شار بیشینه</h3>\n",
    "بیشترین شار خروجی از راس مبدا به صورتی که شرایط ذکر شده برای شبکه شار را نقض نکند.\n",
    "<br/>\n",
    "شبکه شار مقابل را در نظر بگیرید:\n",
    "</font></div>"
   ]
  },
  {
   "cell_type": "markdown",
   "metadata": {},
   "source": [
    "<img src=\"figs/ford_fulkerson11.png\" style=\"float:center; width:50%\"/>"
   ]
  },
  {
   "cell_type": "markdown",
   "metadata": {},
   "source": [
    "<div style=\"direction:rtl;line-height:300%;\"><font face=\"XB Zar\" size=5>\n",
    "بیشینه شار عبوری  از شبکه‌ی بالا برابر 23 است.  برای حل مسئله‌ی شار بیشینه  الگوریتم‌های متعددی موجود هستند که در این درس به دو روش فورد فالکرسن و ادموندز-کارپ اشاره می‌گردد.\n",
    "</font></div>"
   ]
  },
  {
   "cell_type": "markdown",
   "metadata": {},
   "source": [
    "<div style=\"direction:rtl;line-height:300%;\" id=\"section2\"><font face=\"XB Zar\" size=5>\n",
    "<h3>برش کمینه</h3>\n",
    "برش s-t در گراف همبند به صورت مجموعه‌ای از یال‌ها تعریف می‌شود که حذف آن‌ها از گراف، گراف را به دو مؤلفه همبندی تقسیم می‌کند، به گونه‌ای که راس s در یک مؤلفه و راس t در مؤلفه دیگر قرار می‌گیرد.\n",
    "<br/>\n",
    "برش کمینه‌ی s-t در گراف همبند G، برشی است که مجموع  ظرفیت یال‌های آن کمینه باشد. می‌توان نشان داد که مجموع ظرفیت یال‌های برش کمینه برابر با شار بیشینه عبوری از راس s به راس t است.\n",
    "</font></div>"
   ]
  },
  {
   "cell_type": "markdown",
   "metadata": {},
   "source": [
    "<div style=\"direction:rtl;line-height:300%;\"><font face=\"XB Zar\" size=5>\n",
    "در شکل زیر، برش کمینه را برای گراف $G$ مشاهده می‌کنید:\n",
    "</font></div>"
   ]
  },
  {
   "cell_type": "markdown",
   "metadata": {},
   "source": [
    "<img src=\"figs/minCut.png\" style=\"float:center; width:50%\"/>"
   ]
  },
  {
   "cell_type": "markdown",
   "metadata": {},
   "source": [
    "<div style=\"direction:rtl;line-height:300%;\"><font face=\"XB Zar\" size=5>\n",
    "توجه: بیشینه شار خروجی از راس s به راس t عددی یکتاست اما برش کمینه لزوما یکتا نیست و ممکن است چندین برش کمینه‌ی s-t داشته باشیم.\n",
    "</font></div>"
   ]
  },
  {
   "cell_type": "markdown",
   "metadata": {},
   "source": [
    "<div style=\"direction:rtl;line-height:300%;\"><font face=\"XB Zar\" size=5>\n",
    "تمرین: نشان دهید مجموع ظرفیت یال‌های برش کمینه برابر با بیشینه شار عبوری از مبدا به مقصد است. (راهنمایی: از برنامه‌ریزی خطی استفاده کنید و نشان دهید مسئله‌ی برش کمینه، دوگان مسئله‌ی شار بیشینه است)</font></div>"
   ]
  },
  {
   "cell_type": "markdown",
   "metadata": {},
   "source": [
    "<div style=\"direction:rtl;line-height:300%;\" id=\"section5\"><font face=\"XB Zar\" size=5>\n",
    "<h3>گراف باقی‌مانده</h3>\n",
    "برای یک شار$f$ گراف باقی‌مانده به صورت زیر تعریف می‌شود:\n",
    "\\begin{equation}\n",
    "  c_{f}(e)=\\begin{cases}\n",
    "      c(e) - f(e) & \\text{if e $\\in$ E}\\\\\n",
    "      f(e) & \\text{if $e^{r}$ $\\in$ E}\\\\\n",
    "    \\end{cases}  \n",
    "\\end{equation}\n",
    "که در معادله‌ی بالا $e^{r}$ یالی در خلاف جهت $e$ است. \n",
    "<br>\n",
    "در شکل زیر می‌‎توانید یک گراف و گراف باقی‌مانده‌ی آن را مشاهده کنید:\n",
    "</font></div>"
   ]
  },
  {
   "cell_type": "markdown",
   "metadata": {},
   "source": [
    "<img src=\"figs/residual.jpg\" style=\"float:center; width:50%\"/>"
   ]
  },
  {
   "cell_type": "markdown",
   "metadata": {},
   "source": [
    "<div style=\"direction:rtl;line-height:300%;\" id=\"section3\"><font face=\"XB Zar\" size=5>\n",
    "<h3>روش فورد-فالکرسن</h3>\n",
    "</font></div>"
   ]
  },
  {
   "cell_type": "markdown",
   "metadata": {
    "pycharm": {
     "name": "#%% md\n"
    }
   },
   "source": [
    "<div style=\"direction:rtl;line-height:300%;\"><font face=\"XB Zar\" size=5>\n",
    "شبکه‌ی شار مقابل را در نظر بگیرید:\n",
    "</font></div>"
   ]
  },
  {
   "cell_type": "markdown",
   "metadata": {
    "pycharm": {
     "name": "#%%\n"
    }
   },
   "source": [
    "<img src=\"figs/ford_fulkerson11.png\" style=\"float:center; width:50%\"/>"
   ]
  },
  {
   "cell_type": "markdown",
   "metadata": {
    "pycharm": {
     "name": "#%% md\n"
    }
   },
   "source": [
    "<div style=\"direction:rtl;line-height:300%;\"><font face=\"XB Zar\" size=5>\n",
    "ابتدا شار عبوری از هر یال را برابر با 0 در نظر می‌گیریم. در روش فورد-فالکرسن تا زمانی که مسیری از راس مبدا به راس مقصد وجود داشته باشد، به گونه‌ای که شار عبوری از همه‌ی یال‌های آن مسیر، کمتر از ظرفیت آن یال‌ها باشد، مراحل زیر را طی می‌کنیم:\n",
    "</font></div>"
   ]
  },
  {
   "cell_type": "markdown",
   "metadata": {},
   "source": [
    "<div style=\"direction:rtl;line-height:300%;\"><font face=\"XB Zar\" size=5>\n",
    "<ol>\n",
    "<li>\n",
    "کمینه‌ی ظرفیت یال‌های مسیر را می‌یابیم. این کمینه را با متغیر $m$ نشان می‌دهیم.\n",
    "</li>\n",
    "<li>\n",
    "برای همه‌ی یال‌های مسیر تغییرات زیر را اعمال می‌کنیم: (فرض بر آن است که یال‌های جهت‌دار مسیر از راس u به راس v بوده‌اند)\n",
    "<ul>\n",
    "<li>\n",
    "   \\begin{equation}\n",
    "        f(u,v) = f(u,v) + m\n",
    "    \\end{equation}\n",
    "</li>\n",
    "<li>\n",
    "   \\begin{equation}\n",
    "        f(v,u) = f(v,u) - m\n",
    "    \\end{equation}\n",
    "( $f(v, u)$ نشان‌دهنده‌ی شار عبوری از یال‌ها در جهت عکس مسیر ذکر شده می‌باشد)\n",
    "</li>\n",
    "<li>\n",
    "   \\begin{equation}\n",
    "        maxFlow = maxFlow + m\n",
    "    \\end{equation}\n",
    "</li>\n",
    "</ul>\n",
    "</li>\n",
    "</ol>\n",
    "</font></div>"
   ]
  },
  {
   "cell_type": "markdown",
   "metadata": {
    "pycharm": {
     "name": "#%%\n"
    }
   },
   "source": [
    "<div style=\"direction:rtl;line-height:300%;\"><font face=\"XB Zar\" size=5>\n",
    "حال الگوریتم فورد-فالکرسن را بر روی گراف فوق اجرا می‌کنیم. ابتدا دنباله‌ی راس‌های {0,1,3,5} را به عنوان مسیر در نظر می‌گیریم و به اندازه‌ی کمینه‌ی وزن یال یعنی $12$ به مقدار $maxFlow$ اضافه می‌کنیم. حال دنباله‌ی راس‌های {0,1,2,4,5} را انتخاب می‌کنیم و کمینه‌ی مقدار ظرفیت این مسیر، یعنی $4$ را به مقدار maxFlow اضافه می‌کنیم و در پایان این مرحله مقدار $16$ در $maxFlow$ ذخیره می‌گردد. در نهایت مسیر شامل دنباله راس‌های  {0,2,4,3,5} را در نظر می‌گیریم. مقدار کمینه‌ی ظرفیت یال‌های این مسیر برابر با $7$ است و در نتیجه مقدار $23$ در $maxFlow$ ذخیره می‌گردد.\n",
    "<br/>\n",
    "با توجه به آنکه دیگر مسیری از راس $0$ به راس $5$ وجود ندارد، به گونه‌ای که شار عبوری از تمام یال‌های مسیر، کمتر از مقدار ظرفیت آن یال‌ها باشد، الگوریتم خاتمه می‌یابد و مقدار $23$ به عنوان بیشینه شار خروجی داده می‌شود.\n",
    "</font></div>"
   ]
  },
  {
   "cell_type": "markdown",
   "metadata": {},
   "source": [
    "<div style=\"direction:rtl;line-height:300%;\"><font face=\"XB Zar\" size=5>\n",
    "در شکل زیر، می‌توانید چگونگی تقسیم شار بیشینه بین یال‌های گراف فوق را مشاهده کنید:\n",
    "</font></div>"
   ]
  },
  {
   "cell_type": "markdown",
   "metadata": {},
   "source": [
    "<img src=\"figs/ford_output.png\" style=\"float:center; width:50%\"/>"
   ]
  },
  {
   "cell_type": "markdown",
   "metadata": {
    "pycharm": {
     "name": "#%%\n"
    }
   },
   "source": [
    "<div style=\"direction:rtl;line-height:300%;\"><font face=\"XB Zar\" size=5>\n",
    "برای درک بهتر الگوریتم فورد-فالکرسن، شبه کد زیر را مشاهده کنید:\n",
    "</font></div>"
   ]
  },
  {
   "cell_type": "markdown",
   "metadata": {},
   "source": [
    "```python\n",
    "Ford_Fulkerson(G):\n",
    "Initialize F = 0, Gf = G\n",
    "while p = exists_augmenting_path(G):\n",
    "        augment F along p\n",
    "        update Gf\n",
    "return F\n",
    "    \n",
    "        \n",
    "```"
   ]
  },
  {
   "cell_type": "markdown",
   "metadata": {},
   "source": [
    "<div style=\"direction:rtl;line-height:300%;\" id=\"section3\"><font face=\"XB Zar\" size=5>\n",
    "<h4>تحلیل زمانی:</h4>\n",
    "اگر گراف $G$ دارای $n$ راس و $m$ یال یاشد، مسیر افزایشی ($path$ $augmenting$) را می‌توان در زمان $O(m)$ یافت. حال با فرض این که ظرفیت هر یال $C$ است، شار بیشینه حداکثر برابر $nC$ خواهد بود.\n",
    "پس در بدترین حالت مرتبه زمانی الگوریتم $O(nmC)$ است.\n",
    "توجه کنید که این الگوریتم از مرتبه‌ی زمانی چند‌جمله‌ای نیست.\n",
    "\n",
    "</font></div>"
   ]
  },
  {
   "cell_type": "markdown",
   "metadata": {},
   "source": [
    "<div style=\"direction:rtl;line-height:300%;\" id=\"section4\"><font face=\"XB Zar\" size=5>\n",
    "<h3>بهبود ادموندز-کارپ</h3>\n",
    "</font></div>"
   ]
  },
  {
   "cell_type": "markdown",
   "metadata": {
    "pycharm": {
     "name": "#%% md\n"
    }
   },
   "source": [
    "<div style=\"direction:rtl;line-height:300%;\"><font face=\"XB Zar\" size=5>\n",
    "این الگوریتم مشابه الگوریتم فورد-فالکرسن است. با این تفاوت که در این الگوریتم مسیر افزاینده، کوتاه‌ترین مسیر افزایشی بین مبدا و مقصد است. \n",
    "<br>\n",
    "برای یافتن کوتاه‌ترین مسیر در این الگوریتم می‌توان از الگوریتم BFS استفاده کرد.\n",
    "<br>  \n",
    "این الگوریتم در زیر پیاده‌سازی شده است. شما می‌توانید با وارد کردن گراف خود و ظرفیت هر یال، شار بیشینه را مشاهده کنید:\n",
    "</font></div>"
   ]
  },
  {
   "cell_type": "code",
   "execution_count": 1,
   "metadata": {
    "pycharm": {
     "name": "#%%\n"
    }
   },
   "outputs": [],
   "source": [
    "#include <iostream>\n",
    "#include <vector>\n",
    "#include<queue>\n",
    "\n",
    "\n",
    "#define INF 987654321\n",
    "\n",
    "using namespace std;"
   ]
  },
  {
   "cell_type": "code",
   "execution_count": 2,
   "metadata": {},
   "outputs": [],
   "source": [
    "int nodeCount, edgeCount;\n",
    "\n",
    "vector<vector<int>> flowMat;\n",
    "vector<vector<int>> adjMat;\n",
    "vector<int> pathC;\n",
    "vector<int> path;"
   ]
  },
  {
   "cell_type": "code",
   "execution_count": 3,
   "metadata": {
    "pycharm": {
     "name": "#%% md\n"
    }
   },
   "outputs": [],
   "source": [
    "int bfs(int s, int t)\n",
    "{\n",
    "\tpathC = vector<int>(nodeCount, 0);\n",
    "\tpath = vector<int>(nodeCount, -1);\n",
    "\tqueue<int> q;\n",
    "\tq.push(s);\n",
    "\tpathC[s] = INF;\n",
    "\n",
    "\twhile (!q.empty())\n",
    "\t{\n",
    "\t\tint currentNode = q.front();\n",
    "\t\tq.pop();\n",
    "\t\tfor (int i = 0; i < nodeCount; i++)\n",
    "\t\t{\n",
    "\t\t\tif (adjMat[currentNode][i] > 0)\n",
    "\t\t\t{\n",
    "\t\t\t\tint to = i;\n",
    "\t\t\t\tif (path[to] == -1 && adjMat[currentNode][i] - flowMat[currentNode][i] > 0)\n",
    "\t\t\t\t{\n",
    "\t\t\t\t\tpath[to] = currentNode;\n",
    "\t\t\t\t\tpathC[to] = min(adjMat[currentNode][i] - flowMat[currentNode][i], pathC[currentNode]);\n",
    "\t\t\t\t\tif (to == t)\n",
    "\t\t\t\t\t{\n",
    "\t\t\t\t\t\treturn pathC[t];\n",
    "\t\t\t\t\t}\n",
    "\t\t\t\t\tq.push(to);\n",
    "\t\t\t\t}\n",
    "\t\t\t}\n",
    "\t\t}\n",
    "\n",
    "\t}\n",
    "\n",
    "\n",
    "\treturn 0;\n",
    "}"
   ]
  },
  {
   "cell_type": "code",
   "execution_count": 4,
   "metadata": {
    "pycharm": {
     "name": "#%%\n"
    }
   },
   "outputs": [],
   "source": [
    "int edmundKarp(int s, int t)\n",
    "{\n",
    "    flowMat = vector<vector<int>> (nodeCount, vector<int>(nodeCount, 0));\n",
    "\tint maxFlow = 0;\n",
    "\twhile (true)\n",
    "\t{\n",
    "\t\tint flow = bfs(s, t);\n",
    "\t\tif (flow == 0)\n",
    "\t\t{\n",
    "\t\t\tbreak;\n",
    "\t\t}\n",
    "\t\tmaxFlow += flow;\n",
    "\t\tint currentNode = t;\n",
    "\t\twhile (currentNode != s)\n",
    "\t\t{\n",
    "\t\t\tint previous = path[currentNode];\n",
    "\t\t\tflowMat[previous][currentNode] += flow;\n",
    "\t\t\tflowMat[currentNode][previous] -= flow;\n",
    "\t\t\tcurrentNode = previous;\n",
    "\t\t}\n",
    "\n",
    "\t}\n",
    "\treturn maxFlow;\n",
    "}"
   ]
  },
  {
   "cell_type": "markdown",
   "metadata": {},
   "source": [
    "<div style=\"direction:rtl;line-height:300%;\"><font face=\"XB Zar\" size=5>\n",
    "تعداد راس‌ها و یال‌ها را وارد کنید:\n",
    "</font></div>"
   ]
  },
  {
   "cell_type": "code",
   "execution_count": 5,
   "metadata": {
    "pycharm": {
     "name": "#%% md\n"
    }
   },
   "outputs": [
    {
     "name": "stdout",
     "output_type": "stream",
     "text": [
      "4 4\n"
     ]
    }
   ],
   "source": [
    "cin >> nodeCount >> edgeCount;"
   ]
  },
  {
   "cell_type": "markdown",
   "metadata": {
    "pycharm": {
     "name": "#%%\n"
    }
   },
   "source": [
    "<div style=\"direction:rtl;line-height:300%;\"><font face=\"XB Zar\" size=5>\n",
    "در این قسمت راس‌های مبدا و مقصد را مشخص کنید:\n",
    "</font></div>"
   ]
  },
  {
   "cell_type": "code",
   "execution_count": 6,
   "metadata": {},
   "outputs": [],
   "source": [
    "int s, t;"
   ]
  },
  {
   "cell_type": "code",
   "execution_count": 7,
   "metadata": {
    "pycharm": {
     "name": "#%% md\n"
    }
   },
   "outputs": [
    {
     "name": "stdout",
     "output_type": "stream",
     "text": [
      "0 3\n"
     ]
    }
   ],
   "source": [
    "cin >> s >> t;"
   ]
  },
  {
   "cell_type": "code",
   "execution_count": 8,
   "metadata": {},
   "outputs": [
    {
     "data": {
      "text/plain": [
       "{ { 0, 0, 0, 0 }, { 0, 0, 0, 0 }, { 0, 0, 0, 0 }, { 0, 0, 0, 0 } }"
      ]
     },
     "execution_count": 8,
     "metadata": {},
     "output_type": "execute_result"
    }
   ],
   "source": [
    "adjMat =  vector<vector<int>> (nodeCount, vector<int>(nodeCount, 0)); /*you can use simple arrays for C++14 and higher*/"
   ]
  },
  {
   "cell_type": "code",
   "execution_count": 9,
   "metadata": {},
   "outputs": [
    {
     "name": "stdout",
     "output_type": "stream",
     "text": [
      "0 1 3\n",
      "0 2 2\n",
      "1 3 2\n",
      "2 3 2\n"
     ]
    }
   ],
   "source": [
    "for (int i = 0; i < edgeCount; i++)\n",
    "{\n",
    "    int from, to, cap;\n",
    "    cin >> from >> to >> cap;\n",
    "    adjMat[from][to] = cap;\n",
    "}"
   ]
  },
  {
   "cell_type": "code",
   "execution_count": 10,
   "metadata": {},
   "outputs": [],
   "source": [
    "int maxFlow;"
   ]
  },
  {
   "cell_type": "code",
   "execution_count": 12,
   "metadata": {},
   "outputs": [
    {
     "name": "stdout",
     "output_type": "stream",
     "text": [
      "4"
     ]
    }
   ],
   "source": [
    "maxFlow = edmundKarp(s, t);\n",
    "cout << maxFlow;"
   ]
  },
  {
   "cell_type": "markdown",
   "metadata": {},
   "source": [
    "<div style=\"direction:rtl;line-height:300%;\" id=\"section3\"><font face=\"XB Zar\" size=5>\n",
    "<h4>تحلیل زمانی:</h4>\n",
    "هربار اجرای الگوریتم bfs از مرتبه‌ی $O(m)$ است.\n",
    "ولی در این الگوریتم، در هربار عبور شار از یک مسیر افزایشی می‌توانیم اطمینان داشته باشیم که ظرفیت یک یال پر شده و دیگر استفاده نخواهد شد. پس الگوریتم bfs حداکثر $mn$ \n",
    "بار اجرا می‌شود. لذا مرتبه‌ی زمانی این الگوریتم $O(nm^2)$ است.\n",
    "</font></div>"
   ]
  },
  {
   "cell_type": "markdown",
   "metadata": {},
   "source": [
    "<div style=\"direction:rtl;line-height:300%;\"><font face=\"XB Zar\" size=5>\n",
    "تمرین: مسئله‌ی فاصله‌گذاری اجتماعی در خوابگاه را با یک شبکه‌ی شار مدل کرده و راه حلی برای آن ارائه دهید. (راهنمایی: دو راس s و t را به گراف اضافه کنید و از راس s یال‌هایی با ظرفیت 1 به هر دانشجو وصل کنید، و از هر اتاق هم یالی با ظرفیت 1 به t ایجاد کنید)\n",
    "</font></div>"
   ]
  }
 ],
 "metadata": {
  "kernelspec": {
   "display_name": "C++11",
   "language": "C++11",
   "name": "xcpp11"
  },
  "language_info": {
   "codemirror_mode": "text/x-c++src",
   "file_extension": ".cpp",
   "mimetype": "text/x-c++src",
   "name": "c++",
   "version": "11"
  },
  "pycharm": {
   "stem_cell": {
    "cell_type": "raw",
    "metadata": {
     "collapsed": false
    },
    "source": []
   }
  }
 },
 "nbformat": 4,
 "nbformat_minor": 4
}
