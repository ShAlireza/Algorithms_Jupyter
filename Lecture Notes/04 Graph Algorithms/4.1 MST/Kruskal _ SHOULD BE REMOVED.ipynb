{
 "cells": [
  {
   "cell_type": "markdown",
   "metadata": {},
   "source": [
    "<div style=\"direction:rtl;line-height:300%;\"> <font face=\"XB Zar\">\n",
    "<div align=center>\n",
    "    <div style=\"font-size:14px\">\n",
    "    به نام خدا\n",
    "    </div><br>\n",
    "    <strong><div style=\"font-size:50px; color: blue\">\n",
    "    طراحی الگوریتم‌ها\n",
    "    </div></strong>\n",
    "    <br>\n",
    "    <div style=\"font-size:20px; color: #ff6600\">\n",
    "    دانشگاه صنعتی شریف، دانشکده مهندسی کامپیوتر\n",
    "    </div>\n",
    "    <div style=\"font-size:15px; color: black\">\n",
    "        نیم‌سال دوم سال تحصیلی ۹۸-۹۹\n",
    "    </div>\n",
    "    <hr>\n",
    "    <strong><div style=\"font-size:35px; color: red\">\n",
    "        فصل سوم: گراف \n",
    "    </div></strong><br>\n",
    "    <div style=\"font-size:30px; color: navy\">\n",
    "        بخش اول: MST،الگوریتم کروسکال\n",
    "    </div><br>\n",
    "    <div style=\"font-size:20px; color: black\">\n",
    "       اسرا کاشانی‌نیا\n",
    "    </div>\n",
    "\n",
    "</div>\n",
    "<hr>"
   ]
  },
  {
   "cell_type": "markdown",
   "metadata": {},
   "source": [
    "<div style=\"direction:rtl; font-size: 17px; font-family: 'XB Zar'; line-height: 200%\">\n",
    "<div style=\"font-size: 22px; color: #ff6600; font-weight: bold\">\n",
    "فهرست محتویات\n",
    "</div>         \n",
    "<ul style=\"margin-right: 0;\">\n",
    "    <li><a href=\"#section1\">مقدمه</a></li>\n",
    "    <li><a href=\"#section2\">ایده حل</a></li>\n",
    "    <li><a href=\"#section3\">الگوریتم کروسکال</a></li>\n",
    "    <li><a href=\"#section4\">چک کردن وجود دور در گراف</a></li>\n",
    "    <li><a href=\"#section5\">پیچیدگی زمانی</a></li>\n",
    "    <li><a href=\"#section6\">اثبات درستی</a></li>\n",
    "</ul>\n",
    "</div>"
   ]
  },
  {
   "cell_type": "markdown",
   "metadata": {},
   "source": [
    "<div id=\"section1\" style=\"direction:rtl; font-size: 17px; font-family: 'XB Zar'; line-height: 200%\">\n",
    "<div style=\"font-size: 22px; color: #ff6600; font-weight: bold\">\n",
    "مقدمه\n",
    "</div><br>\n",
    "درخت پوشای کمینه چیست؟\n",
    "<br>\n",
    "    یک گراف همبند و بدون جهت را در نظر بگیرید، یک درخت پوشا از آن گراف، یک زیرگراف آن است که اولا یک درخت است و دوما همه‌ی راس‌های گراف را به هم وصل می‌کند. یک گراف می‌تواند درخت‌های پوشای مختلفی داشته باشد. درخت پوشای کمینه (Minimum Spanning Tree) یا MST یا درخت پوشا با وزن کمینه، برای یک گراف وزن دار، همبند و بدون جهت، درخت پوشایی است که وزن آن کوچکتر یا مساوی وزن هر درخت پوشای دیگری برای آن گراف است. وزن درخت پوشا هم مجموع وزن همه‌ی یال‌های آن است.\n",
    "    <br>\n",
    "    هر درخت پوشا V-1 یال دارد که V تعداد راس‌های گراف داده شده است.\n",
    "    <br>\n",
    "    <br>\n",
    "    کاربردهای آن چیست؟\n",
    "    <li>طراحی شبکه: مثلا اگر یک کسب‌وکار دفاتر مختلفی در شهرهای مختلف داشته باشد، و بخواهیم خط تلفن بکشیم که دفترها را به هم وصل کنیم، شرکت ارتباطات مبالغ مختلفی برای وصل کردن هر دو تا شهر می‌گیرد. پس ما مجموعه خطوط تلفنی‌ای می خواهیم که با حداقل هزینه، همه دفاتر را به هم وصل کند. که اگر مجموعه دفاتر را یک گراف بگیریم جواب درخت پوشای کمینه‌شان است.</li>\n",
    "    <li>مساله‌ی آنالیز کردن خوشه‌ها: برای تقسیم‌بندی نقطه‌ها در k خوشه یک راه این است که درخت پوشای کمینه‌ی گراف نقطه‌ها را پیدا کنیم و بعد k-1 تا یالی که از همه سنگین‌تر هستند را از درخت حذف کنیم. </li>\n",
    "    <li>حل تقریبی مسائل np-سخت مثل مساله درخت اشتاینر و فروشنده‌ی دوره‌گرد.</li>\n",
    "\n",
    "</div>\n",
    "<hr>"
   ]
  },
  {
   "cell_type": "markdown",
   "metadata": {},
   "source": [
    "<div id=\"section2\" style=\"direction:rtl; font-size: 17px; font-family: 'XB Zar'; line-height: 200%\">\n",
    "<div style=\"font-size: 22px; color: #ff6600; font-weight: bold\">\n",
    "ایده حل\n",
    "</div><br>            \n",
    "راه حل حریصانه‌ای که به ذهن می رسد که این درخت از سبک‌ترین یالهای گراف تشکیل می‌شود، پس یال‌های سبک گراف را نگه‌ می‌داریم و یال‌های سنگین‌تر را در صورتی که گراف بدون آنها هم همبند می‌ماند حذف می‌کنیم. پس یا باید\n",
    "    <ol>\n",
    "    <li> اول همه‌ی یالهای گراف را برداریم و بعد یکی یکی سبک‌ترین یالها را اضافه‌ کنیم و اینقدر یال اضافه کنیم که گراف همبند شود، یا اینکه</li>\n",
    "    <li>باید گراف را همان طوری که هست بگذاریم و یکی یکی سنگین‌ترین یالها را حذف کنیم و اینقدر یال حذف کنیم که دیگر نتوان بدون ناهمبند کردن گراف یال بیشتری حذف کرد.</li>\n",
    "    روش اول اساس الگوریتم کروسکال است.\n",
    "    </ol>\n",
    "<br>\n",
    "<hr>\n",
    "</div>    "
   ]
  },
  {
   "cell_type": "markdown",
   "metadata": {},
   "source": [
    "<div id=\"section3\" style=\"direction:rtl; font-size: 17px; font-family: 'XB Zar'; line-height: 200%\">\n",
    "<div style=\"font-size: 17px; color: #ff6600; font-weight: bold\">\n",
    "الگوریتم کروسکال\n",
    "</div>        \n",
    "الگوریتم کروسکال به صورت زیر عمل می‌کند:\n",
    "    <ol>\n",
    "<li>\tهمه‌ی یالها را از گراف برمی‌داریم و در یک مجموعه قرار می‌دهیم. یال‌ها را در این مجموعه به ترتیب صعودی وزن مرتب می‌کنیم.پس الان یک گراف تهی داریم و یک مجموعه یال..</li>\n",
    "<li>\tحالا سبک‌ترین یال را از مجموعه برمی‌داریم. چک می‌کنیم که اگر این یال را سرجایش بگذاریم در گرافمان دور ایجاد می‌شود یا نه. اگر دور ایجاد نمی‌شود، آن را به گراف اضافه می‌کنیم. و گرنه آن را دور می‌اندازیم.</li>\n",
    "<li>\tاینقدر مرحله‌ی 2 را تکرار می‌کنیم تا $V – 1$ یال در گراف داشته باشیم (که $V$ تعداد رئوس گراف است)</li>\n",
    "    </ol>\n",
    "\n",
    "<hr>\n",
    "</div>"
   ]
  },
  {
   "cell_type": "code",
   "execution_count": null,
   "metadata": {},
   "outputs": [],
   "source": [
    "#include <bits/stdc++.h> \n",
    "using namespace std;"
   ]
  },
  {
   "cell_type": "markdown",
   "metadata": {},
   "source": [
    "<div style=\"direction:rtl; font-size: 17px; font-family: 'XB Zar'; line-height: 200%\">\n",
    "<div style=\"font-size: 17px; color: #ff6600; font-weight: bold\">\n",
    "\n",
    "</div>        \n",
    "برای اینکه گراف را پیاده‌سازی کنیم راه‌های مختلفی وجود دارد. یکی این است که ماتریس مجاورت گراف را ذخیره کنیم. (یعنی برای هر راس، یال‌های آن راس با راس‌های دیگر را نگه داریم. حتی اگر نداشته باشد) یکی این است که گراف را با تعداد راس‌ها و تعداد یال‌ها مشخص کنیم و بعد هر یال را با دو راس آن و وزن آن نگه داریم. اینجا راه دوم را انتخاب می‌کنیم چون یال‌ها را یک بار در اول الگوریتم به ترتیب وزن مرتب می‌کنیم و بعد یکی یکی آنها را از مجموعه‌ی مرتب شده برمی‌داریم و بنابراین نیاز نداریم ماتریس مجاورت داشته باشیم و به اندازه‌ی $O(n^2)$ حافظه بگیریم. \n",
    "\n",
    "<hr>\n",
    "</div>"
   ]
  },
  {
   "cell_type": "code",
   "execution_count": null,
   "metadata": {
    "pycharm": {
     "name": "#%%\n"
    }
   },
   "outputs": [],
   "source": [
    "class Edge \n",
    "{ \n",
    "\tpublic: \n",
    "\tint first, second, weight; \n",
    "}; \n",
    "\n",
    "class Graph \n",
    "{ \n",
    "\tpublic: \n",
    "\tint vertice_num, edge_num; \n",
    "\tEdge* edge; \n",
    "}; \n",
    "\n",
    "Graph* makeGraph(int vertice_num, int edge_num) \n",
    "{ \n",
    "\tGraph* graph = new Graph; \n",
    "\tgraph->vertice_num = vertice_num; \n",
    "\tgraph->edge_num = edge_num; \n",
    "\tgraph->edge = new Edge[edge_num]; \n",
    "\n",
    "\treturn graph; \n",
    "} "
   ]
  },
  {
   "cell_type": "markdown",
   "metadata": {
    "pycharm": {
     "name": "#%% md\n"
    }
   },
   "source": [
    "<div  id=\"section4\" style=\"direction:rtl; font-size: 17px; font-family: 'XB Zar'; line-height: 200%\">\n",
    "<div style=\"font-size: 17px; color: #ff6600; font-weight: bold\">\n",
    "چطور در مرحله‌ی 2 چک کنیم که با اضافه کردن یال به گراف دور ایجاد می‌شود یا نه:\n",
    "</div>            \n",
    "    یک راه این است که مولفه‌های همبندی درختی که داریم می‌سازیم را با مجموعه‌ی راس‌های موجود در آنها نگه داریم. اول که فقط راس‌های گراف را می‌گذاریم و بین هیچ دو راسی هیچ مسیری وجود ندارد، پس هر راس یک مولفه‌ی همبندی است. حال هر وقت یک یال را از مجموعه‌ی مرتب‌شده‌ی یالها برمی‌داریم تا آن را به درخت اضافه کنیم، چک می‌کنیم که راس‌های دو سر این یال، در یک مولفه‌ی همبندی هستند یا نه: (فرض کنیم a و b راس‌های دو سر این یال باشند)\n",
    "    <br>\n",
    "اگر بودند، یعنی طبق تعریف مولفه‌ی همبندی، در گراف فعلی بین a و b یک مسیر وجود دارد. پس اگر آن یال را اضافه کنیم بینشان دو مسیر وجود خواهد داشت که یعنی در گراف دور خواهیم داشت. پس چون می‌خواهیم به یک درخت برسیم یال را اضافه نمی‌کنیم.\n",
    "    <br>\n",
    "اگر هم a و b در یک مولفه‌ی همبندی نباشند، یعنی بینشان مسیر وجود ندارد، پس با اضافه کردن یال فعلی دور ایجاد نمی‌شود، پس اضافه‌اش می‌کنیم. حالا که یال را اضافه کردیم، از طریق این یال بین هر راس موجود در مولفه‌ی همبندی a و هر راس موجود در مولفه‌ی همبندی b یک مسیر وجود دارد. پس الان این دو مولفه‌ی همبندی یکی شده‌اند. پس آنها را از لیست مولفه‌های همبندی برمی‌داریم و به جایش اجتماعشان را در این لیست می‌گذاریم.\n",
    "    <br>\n",
    "    <br>\n",
    "برای پیاده‌سازی، هر کدام از مولفه‌های همبندی را یک مجموعه‌ی مجزا (disjoint set) می‌گیریم. برای اینکه چک کنیم که دو سر یک راس در یک مجموعه‌ی مجزا هستند، از عملیات find در مجموعه‌های مجزا استفاده می‌کنیم. این عملیات، برای هر عضوی در یک مجموعه‌ی مجزا، سرگروه مجموعه مجزایی که آن عضو را شامل می‌شود را برمی‌گرداند (می‌دانیم در هر مجموعه مجزا یک عضو سرگروه داریم که با واسطه یا بی واسطه، پدر سایر اعضا است و مجموعه را می‌توان با آن مشخص کرد.) \n",
    "    <br>\n",
    "    پس اگر a و b سرگروه یکسان داشتند یعنی در یک مجموعه‌ی مجزا هستند، اگر هم سرگروه یکسان نداشتند، یعنی در دو مجموعه‌اند که آنگاه طبق توضیح بالا باید آن دو تا مجموعه را یکی کنیم که این هم با عملیات union در مجموعه‌های مجزا انجام می‌شود.\n",
    "    <br>\n",
    "    راه دیگر برای پیدا کردن دور در گراف، استفاده از روش‌های پیمایش درخت مثل DFS است.\n",
    "<hr>\n",
    "</div>"
   ]
  },
  {
   "cell_type": "code",
   "execution_count": null,
   "metadata": {},
   "outputs": [],
   "source": [
    "class disjoint_set\n",
    "{ \n",
    "\tpublic: \n",
    "\tint parent; \n",
    "\tint count; \n",
    "}; \n",
    "\n",
    "int find(disjoint_set disjoint_sets[], int i) \n",
    "{ \n",
    "\tif (disjoint_sets[i].parent != i) \n",
    "\t\tdisjoint_sets[i].parent = find(disjoint_sets, disjoint_sets[i].parent); \n",
    "\n",
    "\treturn disjoint_sets[i].parent; \n",
    "} \n",
    "\n",
    "void Union(disjoint_set disjoint_sets[], int x, int y) \n",
    "{ \n",
    "\tint xroot = find(disjoint_sets, x); \n",
    "\tint yroot = find(disjoint_sets, y); \n",
    "\n",
    "\tif (disjoint_sets[xroot].count < disjoint_sets[yroot].count) \n",
    "\t\tdisjoint_sets[xroot].parent = yroot; \n",
    "\telse if (disjoint_sets[xroot].count > disjoint_sets[yroot].count) \n",
    "\t\tdisjoint_sets[yroot].parent = xroot; \n",
    " \n",
    "\telse\n",
    "\t{ \n",
    "\t\tdisjoint_sets[yroot].parent = xroot; \n",
    "\t\tdisjoint_sets[xroot].count++; \n",
    "\t} \n",
    "} "
   ]
  },
  {
   "cell_type": "markdown",
   "metadata": {
    "pycharm": {
     "name": "#%% md\n"
    }
   },
   "source": [
    "<div id=\"section5\" style=\"direction:rtl; font-size: 17px; font-family: 'XB Zar'; line-height: 200%\">\n",
    "<div style=\"font-size: 17px; color: #ff6600; font-weight: bold\">\n",
    "پیچیدگی زمانی\n",
    "</div>            \n",
    "اول باید یال‌ها را مرتب کنیم، که چون پیچیدگی مرتب کردن n شیء $O(nlog(n))$ است می‎شود $O(Elog(E))$ که $E$ تعداد یالهاست. بعد به ازای هر یالی در مجموعه، دو بار عملیات find و صفر یا یک بار عملیات union روی مولفه‌های همبندی راس‌های دو سر یال انجام می‌دهیم، بنابراین حداکثر E تا عملیات union-find داریم که هرکدام حداکثر پیچیدگی $O(log(V))$ دارند که $V$ تعداد رئوس است. پس در مجموع پیچیدگی این بخش $O(Elog(V))$ است. پس در مجموع می‌شود $O(Elog(E) + Elog(V))$ که البته چون $E$ حداکثر از $O(V^2)$ است $log(E)$ و $log(V)$ از یک مرتبه‌ی پیچیدگی‌اند.\n",
    "<hr>\n",
    "</div>"
   ]
  },
  {
   "cell_type": "code",
   "execution_count": null,
   "metadata": {
    "pycharm": {
     "name": "#%%\n"
    }
   },
   "outputs": [],
   "source": [
    "int customComp(const void* a, const void* b) \n",
    "{ \n",
    "\tEdge* a2 = (Edge*)a; \n",
    "\tEdge* b2 = (Edge*)b; \n",
    "\treturn a2->weight > b2->weight; \n",
    "} \n",
    "\n",
    "void Kruskal(Graph* graph) \n",
    "{ \n",
    "\tint vertice_num = graph->vertice_num; \n",
    "\tEdge result[vertice_num]; \n",
    "\tint e = 0;\n",
    "\tint i = 0;\n",
    "\n",
    "\tqsort(graph->edge, graph->edge_num, sizeof(graph->edge[0]), customComp); \n",
    "\n",
    "\tdisjoint_set *disjoint_sets = new disjoint_set[( vertice_num * sizeof(disjoint_set) )]; \n",
    " \n",
    "\tfor (int v = 0; v < vertice_num; ++v) \n",
    "\t{ \n",
    "\t\tdisjoint_sets[v].parent = v; \n",
    "\t\tdisjoint_sets[v].count = 0; \n",
    "\t} \n",
    "\n",
    "\twhile (e < vertice_num - 1 && i < graph->edge_num) \n",
    "\t{ \n",
    "\t\tEdge next_edge = graph->edge[i++]; \n",
    "\n",
    "\t\tint x = find(disjoint_sets, next_edge.first); \n",
    "\t\tint y = find(disjoint_sets, next_edge.second); \n",
    "      \n",
    "\t\tif (x != y) \n",
    "\t\t{ \n",
    "\t\t\tresult[e++] = next_edge; \n",
    "\t\t\tUnion(disjoint_sets, x, y); \n",
    "\t\t} \n",
    "\t} \n",
    "  \n",
    "\tfor (i = 0; i < e; ++i) \n",
    "\t\tcout<<result[i].first<<\" to \"<<result[i].second<<\" with weight \"<<result[i].weight<<endl; \n",
    "\treturn; \n",
    "} "
   ]
  },
  {
   "cell_type": "markdown",
   "metadata": {},
   "source": [
    "<div id=\"section6\" style=\"direction:rtl; font-size: 17px; font-family: 'XB Zar'; line-height: 200%\">\n",
    "<div style=\"font-size: 17px; color: #ff6600; font-weight: bold\">\n",
    "اثبات درستی:\n",
    "</div>\n",
    "    <strong>درخت پوشا بودن:</strong><br>\n",
    "فرض کنیم گراف اصلیمان $G$ باشد که همبند و وزن‌دار است. اگر   $Y$ زیرگرافی باشد که الگوریتم کروسکال تولید می‌کند، این زیرگراف نمی‌تواند دور داشته باشد، چون همیشه قبل از این که یالی را اضافه کنیم چک می‌کنیم که با اضافه شدنش دور ایجاد نشود.Y ناهمبند هم نمی‌تواند باشد، چون اگر دو تا مولفه‌ی همبندی جدا داشت وقتی الگوریتم به سبک‌ترین یالی که دو مؤلفه را وصل می‌کند می‌رسید، آن را به گراف اضافه می‌کرد (چون با اضافه شدنش دور تشکیل نمی‌شد) و بنابراین دو تا مولفه‌ی همبندی، یکی می‌شدند. پس چون همه‌ی راس‌های گراف در یک مولفه‌ی همبندی‌اند و دور هم ندارد، درخت پوشاست.\n",
    "    <br>\n",
    "    <strong>\n",
    "کمینه بودن:\n",
    "    </strong><br>\n",
    "اثباتش با استقراست. نشان می دهیم که این گزاره درست است: اگر F مجموعه ای از یال‌های انتخاب‌شده در هر مرحله از الگوریتم باشد ، در آن صورت یک درخت پوشای کمینه وجود دارد که F زیرگراف آن است. (از این به بعد به این گزاره می گوییم گزاره‌ی $P$)\n",
    "    <br>\n",
    "واضح است که گزاره‌ی $P$ در ابتدا ، وقتی $F$ گراف تهی است درست است: همه‌ی درخت‌های پوشای گراف، این گراف تهی را در خود دارند. و حتما یکی وجود دارد زیرا یک گراف همبند وزن دارهمیشه حداقل یک درخت پوششی کمینه را دارد.\n",
    "    <br>\n",
    "حال فرض کنیم که در یک مرحله‌ای قبل از پایان الگوریتم هستیم، که تا الان الگوریتم گراف $F$ را ساخته، و $F$ زیرگراف یک درخت پوشای کمینه‌ای مثل T است.\n",
    "فرض کنیم $e$ یال بعدی‌ای باشد که در ادامه‌ی الگوریتم به $F$ اضافه می‌شود.\n",
    "    <br>\n",
    "اگر $e$ در $T$ باشد ، گزاره‌ی $P$ برای $F + e$ هم درست است.\n",
    "    <br>\n",
    "اگر $e$ در $T$ نباشد ، $T + e$ دارای یک دوراست (اضافه کردن یال به درخت دور ایجاد می‌کند). این دور یالی دارد که در $F$ نیست، چون وقتی $e$ به $F$ اضافه می‌شود، در $F$ دور ایجاد ‌نمی‌شود، اما وقتی $e$ به $T$ اضافه می‌شود، در $T$ دور ایجاد ‌می‌شود. پس فرض کنیم یک یال مانند $e’$ در این دور هست اما در $F + e$ نیست. حالا $e’$ در $T$ است، اما این $e’$ هنوز توسط الگوریتم انتخاب نشده.پس $e’$ باید وزنی بزرگتر یا مساوی $e$ داشته باشد. $T – e’ + e$ یک درخت است ، و وزن آن کمتر یا مساوی وزن $T$  است. \n",
    "پس $T – e’ + e$ یک درخت پوشای کمینه است. و $F + e$ را هم در خود دارد. پس باز هم گزاره‌ی $P$ درست باقی می‌ماند.\n",
    "بنابراین ، با استفاده از اصل استقرا، وقتی الگوریتم به قدری جلو برود که $F$ به یک درخت پوشا تبدیل شود هم $P$ درست است؛ یعنی یک درخت پوشای کمینه‌ای هست که $F$ را شامل می‌شود، که این فقط در صورتی ممکن است که $F$ خودش یک درخت پوشای کمینه شود، پس $F$ یک درخت پوشای کمینه است.\n",
    "\n",
    "<hr>\n",
    "</div>"
   ]
  }
 ],
 "metadata": {
  "kernelspec": {
   "display_name": "Python 3",
   "language": "python",
   "name": "python3"
  },
  "language_info": {
   "codemirror_mode": {
    "name": "ipython",
    "version": 3
   },
   "file_extension": ".py",
   "mimetype": "text/x-python",
   "name": "python",
   "nbconvert_exporter": "python",
   "pygments_lexer": "ipython3",
   "version": "3.7.3"
  },
  "pycharm": {
   "stem_cell": {
    "cell_type": "raw",
    "metadata": {
     "collapsed": false
    },
    "source": []
   }
  }
 },
 "nbformat": 4,
 "nbformat_minor": 1
}
