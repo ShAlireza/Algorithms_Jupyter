{
 "cells": [
  {
   "cell_type": "markdown",
   "metadata": {},
   "source": [
    "<div style=\"direction:rtl;line-height:300%;\"> <font face=\"XB Zar\">\n",
    "<div align=center>\n",
    "    <div style=\"font-size:14px\">\n",
    "    به نام خدا\n",
    "    </div><br>\n",
    "    <strong><div style=\"font-size:50px; color: blue\">\n",
    "    طراحی الگوریتم‌ها\n",
    "    </div></strong>\n",
    "    <br>\n",
    "    <div style=\"font-size:20px; color: #ff6600\">\n",
    "    دانشگاه صنعتی شریف، دانشکده مهندسی کامپیوتر\n",
    "    </div>\n",
    "    <div style=\"font-size:15px; color: black\">\n",
    "        نیم‌سال دوم سال تحصیلی ۹۸-۹۹\n",
    "    </div>\n",
    "    <hr>\n",
    "    <strong><div style=\"font-size:35px; color: red\">\n",
    "        فصل چهارم: گراف\n",
    "    </div></strong><br>\n",
    "    <div style=\"font-size:30px; color: navy\">\n",
    "        بخش اول: درخت پوشای کمینه\n",
    "    </div><br>\n",
    "    <div style=\"font-size:20px; color: black\">\n",
    "       محمد مهدوی، اسرا کاشانی‌نیا، مهدی قربانی، مهرداد کرابی\n",
    "    </div>\n",
    "\n",
    "</div>\n",
    "<hr>"
   ]
  },
  {
   "cell_type": "markdown",
   "metadata": {},
   "source": [
    "<div style=\"direction:rtl; font-size: 17px; font-family: 'XB Zar'; line-height: 200%\">\n",
    "<div style=\"font-size: 22px; color: #ff6600; font-weight: bold\">\n",
    "فهرست محتویات\n",
    "</div>         \n",
    "<ul style=\"margin-right: 0;\">\n",
    "    <li><a href=\"#section1\">مقدمه</a></li>\n",
    "    <li><a href=\"#section2\">الگوریتم Prim</a></li>\n",
    "    <li><a href=\"#section3\">الگوریتم Kruskal</a></li>\n",
    "</ul>\n",
    "</div>"
   ]
  },
  {
   "cell_type": "markdown",
   "metadata": {},
   "source": [
    "<div id=\"section1\" style=\"direction:rtl; font-size: 17px; font-family: 'XB Zar'; line-height: 200%\">\n",
    "<div style=\"font-size: 22px; color: #ff6600; font-weight: bold\">\n",
    "مسئله درخت پوشای کمینه\n",
    "</div><br>\n",
    "    شبکه‌ای از کامپیوترها را در نظر بگیرید که با تعدادی لینک دوطرفه به هم متصل شده باشند. فرض کنید هر لینک هزینه ای برای انتقال پیام داشته باشد. حال ما می‌خواهیم پیامی را از یک کامپیوتر دلخواه با استفاده از تعدادی از لینک‌ها به بقیه کامپیوترها انتقال دهیم. اگر فرض کنیم هزینه این انتقال برابر جمع هزینه لینک‌هایی باشد که استتفاده می‌کنیم و بخواهیم این هزینه را کمینه کنیم، این مسئله به گرافی با یال های وزن‌دار با وزن‌های مثبت مدل می‌شود که می‌خواهیم تعدادی از یال‌های آن را انتخاب کنیم به طوری که جمع وزن آن‌ها کمینه شود و گرافی همبند تشکیل دهند. \n",
    "    <br>\n",
    "می توان دید که چنین زیرگرافی باید حتما یک درخت را تشکیل دهد زیرا اگر دوری داشته باشد با حذف هر یال دور همبند می‌ماند و چون یال‌ها وزن مثبت دارند با حذف آن جمع وزن‌ها کم می‌شود. پس این زیرگراف درختی شامل تمام راس‌های گراف می‌شود که کمترین جمع وزن‌ها را دارد و به آن درخت پوشای کمینه یا Minimum Spanning Tree(MST) می‌گویند. ساختن جاده‌هایی برای وصل کردن تعدادی شهر با کمترین هزینه، طراحی مدارها و ... مثال‌های دیگری از استفاده‌های درخت کمینه پوشا هستند. در مسئله درخت پوشای کمینه می‌خواهیم برای یک گراف درخت پوشای کمینه آن را پیدا کنیم.\n",
    "<br>\n",
    "\n",
    "</div>\n",
    "<hr>"
   ]
  },
  {
   "cell_type": "markdown",
   "metadata": {},
   "source": [
    "<div id=\"section2\" style=\"direction:rtl; font-size: 17px; font-family: 'XB Zar'; line-height: 200%\">\n",
    "<div style=\"font-size: 22px; color: #ff6600; font-weight: bold\">\n",
    "الگوریتم Prim\n",
    "</div><br>            \n",
    "می‌خواهیم الگوریتمی برای یافتن MST در یک گراف همبند پیدا کنیم.<br>\n",
    "    فرض کنید می‌خواهیم یال به یال درخت پوشا را بیابیم. آیا یالی وجود دارد که بتوان گفت حتما در جواب وجود دارد یا ندارد؟\n",
    "<br>\n",
    "     می‌توان دید که درخت پوشای کمینه حتما شامل کم‌وزن‌ترین یال گراف می‌شود؛ اگر این یال در درخت پوشای کمینه نباشد با اضافه کردن آن دوری تشکیل می‌شود که با حذف هر یال دیگر آن باز یک درخت پوشا خواهیم داشت که وزنش کمترمساوی وزن درخت پوشای قبلی می‌شود چون یک یال با یال با کمترین وزن جایگزین شده است پس این درخت حتما یک درخت پوشای کمینه خواهد بود که شامل کم‌وزن‌ترین یال است.\n",
    "    <br>می‌توان با همین استدلال دید که کم‌وزن‌ترین یال متصل به هر راس حتما در یک MST ظاهر می‌شود و با تعمیم آن ویژگی برش را داریم:\n",
    "<br>\n",
    "<strong>\n",
    "ویژگی برش:\n",
    "</strong>\n",
    "     برای هر افراز راس‌های گراف به دو دسته، یال‌های بین این دو دسته را در نظر می‌گیریم. هر یالی که بین این یال‌ها کمترین وزن را داشته باشد حتما در یک MST ظاهر شده‌است.<img src=\"cut-property.png\"> <br> اثبات این ویژگی نیز مانند اثبات آمدن یال کمینه در MST است؛ اگر این یال در یک MST نباشد با اضافه کردن آن دوری تشکیل می‌شود که در این دور یک یال باید از یال‌های بین دو دسته افراز باشد چون مسیر بین دو سر یال اضافه شده در درخت، یک سرش در یک دسته وسر دیگرش در دسته دیگر است. با حذف یال درون درخت و اضافه کردن یال مورد نظر زیرگراف درخت باقی می‌ماند چون یکی از یال‌های دور حذف شده است و وزن درخت نیز بیشتر نمی‌شود، پس این نیز حتما یک MST است. \n",
    "<br>\n",
    " اکثر الگوریتم‌های MST بر پایه ویژگی برش هستند.\n",
    "<br>\n",
    "    با استفاده از همین ویژگی می‌توانیم الگوریتمی برای یافتن MST پیدا کنیم: در هر مرحله یک درخت داریم که یال‌های آن حتما زیرمجموعه یک MST هستند. حال با افراز راس‌های گراف به راس‌های این درخت و بقیه راس‌های گراف ،کمترین یال بین این دو دسته را به به درختمان اضافه می‌کنیم و فرضمان طبق ویژگی برش درست می‌ماند و درخت جدید نیز زیرمجموعه یک MST خواهد بود چون یال اضافه شده عضو MST است. برای شروع الگوریتم نیز می‌توانیم از یک راس تنها شروع کنیم که شرط را دارد. با این کار الگوریتم $Prim$ را به صورت زیر داریم:\n",
    "<br>\n",
    "    در این الگوریتم یک مجموعه رئوس $S$ داریم که در ابتدا شامل یک راس $v$ است و در هر مرحله بین یال‌هایی که یک سرشان در $S$ و یک سرشان خارج از $S$ است یالی که کمترین وزن را دارد را می‌گیریم و آن را به MST و سر خارج از $S$ آن را به $S$ اضافه می‌کنیم. این مراحل را ادامه می‌دهیم تا راسی خارج از $S$ نباشد که در این صورت MST را یافته‌ایم. یک پیاده‌سازی این الگوریتم به صورت زیر است:\n",
    "</div>    "
   ]
  },
  {
   "cell_type": "code",
   "execution_count": 1,
   "metadata": {},
   "outputs": [],
   "source": [
    "#include<bits/stdc++.h>\n",
    "using namespace std;\n",
    "typedef pair<int,int> pii;\n",
    "const int N = 5, INF = 1e9 + 100;"
   ]
  },
  {
   "cell_type": "code",
   "execution_count": 2,
   "metadata": {},
   "outputs": [],
   "source": [
    "int prim(int parent[],int adj[N][N]){\n",
    "    bool inSet[N] = {false};\n",
    "    int bestEdge[N];\n",
    "    for(int i = 0; i < N; i++){\n",
    "        bestEdge[i] = INF;\n",
    "    }\n",
    "    bestEdge[0] = 0;\n",
    "    parent[0] = -1;\n",
    "    int minCost = 0;\n",
    "    for(int i = 0; i < N ; i++){\n",
    "        int v = -1;\n",
    "        for(int j = 0; j < N; j++){\n",
    "            if(!inSet[j] && (v == -1 || bestEdge[v] > bestEdge[j])){\n",
    "                v = j;\n",
    "            }\n",
    "        }\n",
    "        minCost += bestEdge[v];\n",
    "        inSet[v] = true;\n",
    "        for(int u = 0; u < N; u++){\n",
    "            if(adj[v][u]!=0 && !inSet[u] && adj[v][u] < bestEdge[u]){\n",
    "                bestEdge[u] = adj[v][u];\n",
    "                parent[u] = v;\n",
    "            }\n",
    "        }\n",
    "    }\n",
    "    return minCost;\n",
    "}"
   ]
  },
  {
   "cell_type": "code",
   "execution_count": 3,
   "metadata": {},
   "outputs": [
    {
     "name": "stdout",
     "output_type": "stream",
     "text": [
      "11\n",
      "-1 0 1 4 1 \n"
     ]
    }
   ],
   "source": [
    "{\n",
    "    int g[N][N] = {\n",
    "        {0,3,4,0,0},\n",
    "        {3,0,2,0,1},\n",
    "        {4,2,0,9,0},\n",
    "        {0,0,9,0,5},\n",
    "        {0,1,0,5,0},\n",
    "    };\n",
    "    int p[N] = {0};\n",
    "    cout<<prim(p,g)<<endl;\n",
    "    for(int i=0;i<N;i++){\n",
    "        cout<<p[i]<<\" \";\n",
    "    }\n",
    "    cout<<endl;\n",
    "}"
   ]
  },
  {
   "cell_type": "markdown",
   "metadata": {
    "pycharm": {
     "name": "#%% md\n"
    }
   },
   "source": [
    "<div style=\"direction:rtl; font-size: 17px; font-family: 'XB Zar'; line-height: 200%\">\n",
    "<div style=\"font-size: 17px; color: #ff6600; font-weight: bold\">\n",
    "تحلیل زمانی\n",
    "</div>            \n",
    "این پیاده‌سازی از $O(n^2)$\n",
    "زمان می‌برد زیرا حلقه بیرونی $n$ بار اجرا می‌شود و در هر اجرا کمینه یال با یک سر در مجموعه در $O(n)$ پیدا می‌شود و کمترین یال بقیه راس‌ها نیز در $O(n)$ آپدیت می‌شود.<br>\n",
    "    در هر مرحله در این پیاده‌سازی $inSet$ نشان می‌دهد کدام راس‌ها درون $S$ اند و $bestEdge$ برای راس‌های بیرون از $S$ وزن سبک‌تریم یال آن‌ها که سر دیگرش در $S$ است را دارد و برای یافتن سبک ترین یال از $S$ به بیرون آن کمترین $bestEdge$ برای راس‌های خارج از $S$ را می‌گیریم و عملیات گفته شده را انجام می‌دهیم.\n",
    "</div>"
   ]
  },
  {
   "cell_type": "markdown",
   "metadata": {
    "pycharm": {
     "name": "#%% md\n"
    }
   },
   "source": [
    "<div style=\"direction:rtl; font-size: 17px; font-family: 'XB Zar'; line-height: 200%\">\n",
    "اگر به جای ماتریس مجاورت از لیست مجاورت استفاده کنیم و برای یافتن راس با یال کمینه خارج از $S$ از هرم کمینه استفاده کنیم زمان اجرای الگوریتم برابر $O(m logn)$ می‌شود که این پیاده‌سازی نیز در زیر آمده‌است. همچنین اگر در این پیاده‌سازی از هرم فیبوناچی استفاده کنیم، زمان اجرا برابر $O(nlogn + m)$ می‌شود.\n",
    "<hr>\n",
    "</div>"
   ]
  },
  {
   "cell_type": "code",
   "execution_count": 4,
   "metadata": {
    "pycharm": {
     "name": "#%%\n"
    }
   },
   "outputs": [],
   "source": [
    "int prim(int parent[],vector<pii> adj[N]){\n",
    "    priority_queue<pii, vector<pii>, greater<pii>> candidates;\n",
    "    bool inSet[N] = {false};\n",
    "    int bestEdge[N];\n",
    "    for(int i = 0; i < N; i++){\n",
    "        bestEdge[i] = INF;\n",
    "    }\n",
    "    bestEdge[0] = 0;\n",
    "    parent[0] = -1;\n",
    "    int minCost = 0;\n",
    "    candidates.push(make_pair(0,0));\n",
    "    while(!candidates.empty()){\n",
    "        int v = candidates.top().second;\n",
    "        candidates.pop();\n",
    "        if(inSet[v])\n",
    "            continue;\n",
    "        minCost += bestEdge[v];\n",
    "        inSet[v] = true;\n",
    "        for(pii e : adj[v]){\n",
    "            int u = e.first , w = e.second;\n",
    "            if(!inSet[u] && w < bestEdge[u]){\n",
    "                bestEdge[u] = w;\n",
    "                parent[u] = v;\n",
    "                candidates.push(make_pair(bestEdge[u],u));\n",
    "            }\n",
    "        }\n",
    "    }\n",
    "    return minCost;\n",
    "}"
   ]
  },
  {
   "cell_type": "code",
   "execution_count": 5,
   "metadata": {
    "pycharm": {
     "name": "#%%\n"
    }
   },
   "outputs": [
    {
     "name": "stdout",
     "output_type": "stream",
     "text": [
      "11\n",
      "-1 0 1 4 1 \n"
     ]
    }
   ],
   "source": [
    "{\n",
    "    vector<pii> g[N] ={\n",
    "        vector<pii>({{1,3},{2,4}}),\n",
    "        vector<pii>({{0,3},{2,2},{4,1}}),\n",
    "        vector<pii>({{0,4},{1,2},{3,9}}),\n",
    "        vector<pii>({{2,9},{4,5}}),\n",
    "        vector<pii>({{1,1},{3,5}})\n",
    "    };\n",
    "    int p[N] = {0};\n",
    "    cout<<prim(p,g)<<endl;\n",
    "    for(int i=0;i<N;i++){\n",
    "        cout<<p[i]<<\" \";\n",
    "    }\n",
    "    cout<<endl;\n",
    "}"
   ]
  },
  {
   "cell_type": "markdown",
   "metadata": {},
   "source": [
    "<div style=\"direction:rtl; font-size: 17px; font-family: 'XB Zar'; line-height: 200%\">\n",
    "<div style=\"font-size: 17px; color: #ff6600; font-weight: bold\">\n",
    "تحلیل این پیاده‌سازی\n",
    "</div> <br>\n",
    "    در این حالت در هرم کمینه $candidates$ در هر لحظه برای راس‌های بیرون از $S$ کم‌وزن‌ترین یال متصل به آن‌ها را داریم و هر بار سر این هرم را می‌گیریم و آن را به $S$ اضافه می‌کنیم و سپس کم‌وزن‌ترین یال متصل به همسایه‌های خارج از $S$ آن‌را در صورت نیاز تغییر می‌دهیم و آن‌ها را دوباره به $candidates$ اضافه می‌کنیم.\n",
    "    <br>\n",
    "    در این پیاده‌سازی برای هر راس محتویات حلقه یک بار اجرا می‌شود و حداکقر هر همسایه‌اش در آن یک بار به هرم اضافه می‌شود که هر اضافه کردن در $O(logn)$ انجام می‌شود و در مجموع الگوریتم در زمان $O(mlogn)$ اجرا می‌شود.\n",
    "    \n",
    "</div>"
   ]
  },
  {
   "cell_type": "markdown",
   "metadata": {},
   "source": [
    "<div id=\"section3\" style=\"direction:rtl; font-size: 17px; font-family: 'XB Zar'; line-height: 200%\">\n",
    "<div style=\"font-size: 22px; color: #ff6600; font-weight: bold\">\n",
    "الگوریتم Kruskal</div><br>            \n",
    "<hr>\n",
    "<div style=\"font-size: 22px; color: #ff6600; font-weight: bold\">\n",
    "ایده حل\n",
    "</div><br>            \n",
    "راه حل حریصانه‌ای که به ذهن می‌رسد این است که این درخت از سبک‌ترین یال‌های گراف تشکیل می‌شود، پس یال‌های سبک گراف را نگه‌ می‌داریم و یال‌های سنگین‌تر را در صورتی که گراف بدون آن‌ها هم همبند می‌ماند حذف می‌کنیم. در الگوریتم کروسکال اول همه‌ی یال‌های گراف را برمی‌داریم و بعد یکی یکی سبک‌ترین یال‌ها را اضافه‌ می‌کنیم و این کار را تا جایی ادامه می‌دهیم که گراف همبند شود. \n",
    "<br>\n",
    "<hr>\n",
    "    <div id=\"section3\" style=\"direction:rtl; font-size: 17px; font-family: 'XB Zar'; line-height: 200%\">\n",
    "<div style=\"font-size: 17px; color: #ff6600; font-weight: bold\">\n",
    "توضیح الگوریتم\n",
    "</div>        \n",
    "الگوریتم کروسکال به صورت زیر عمل می‌کند:\n",
    "    <ol>\n",
    "<li>\tهمه‌ی یالها را از گراف برمی‌داریم و در یک مجموعه قرار می‌دهیم. یال‌ها را در این مجموعه به ترتیب صعودی وزن مرتب می‌کنیم.پس الان یک گراف تهی داریم و یک مجموعه یال..</li>\n",
    "<li>\tحالا سبک‌ترین یال را از مجموعه برمی‌داریم. چک می‌کنیم که اگر این یال را سرجایش بگذاریم در گرافمان دور ایجاد می‌شود یا نه. اگر دور ایجاد نمی‌شود، آن را به گراف اضافه می‌کنیم. و گرنه آن را دور می‌اندازیم.</li>\n",
    "<li>\tاینقدر مرحله‌ی 2 را تکرار می‌کنیم تا $V – 1$ یال در گراف داشته باشیم (که $V$ تعداد رئوس گراف است)</li>\n",
    "    </ol>\n",
    "\n",
    "<hr>\n",
    "</div>\n",
    "</div>"
   ]
  },
  {
   "cell_type": "markdown",
   "metadata": {},
   "source": [
    "<div style=\"direction:rtl; font-size: 17px; font-family: 'XB Zar'; line-height: 200%\">\n",
    "<div style=\"font-size: 17px; color: #ff6600; font-weight: bold\">\n",
    "\n",
    "</div>        \n",
    "برای اینکه گراف را پیاده‌سازی کنیم راه‌های مختلفی وجود دارد. یکی این است که ماتریس مجاورت گراف را ذخیره کنیم. (یعنی برای هر راس، یال‌های آن راس با راس‌های دیگر را نگه داریم. حتی اگر نداشته باشد) یکی این است که گراف را با تعداد راس‌ها و تعداد یال‌ها مشخص کنیم و بعد هر یال را با دو راس آن و وزن آن نگه داریم. اینجا راه دوم را انتخاب می‌کنیم چون یال‌ها را یک بار در اول الگوریتم به ترتیب وزن مرتب می‌کنیم و بعد یکی یکی آنها را از مجموعه‌ی مرتب شده برمی‌داریم و بنابراین نیاز نداریم ماتریس مجاورت داشته باشیم و به اندازه‌ی $O(n^2)$ حافظه بگیریم. \n",
    "\n",
    "<hr>\n",
    "</div>"
   ]
  },
  {
   "cell_type": "code",
   "execution_count": 6,
   "metadata": {},
   "outputs": [],
   "source": [
    "class Edge \n",
    "{ \n",
    "    public: \n",
    "    int first, second, weight; \n",
    "}; \n",
    "\n",
    "class Graph \n",
    "{ \n",
    "    public: \n",
    "    int vertice_num, edge_num; \n",
    "    Edge* edge; \n",
    "};"
   ]
  },
  {
   "cell_type": "code",
   "execution_count": 7,
   "metadata": {},
   "outputs": [],
   "source": [
    "Graph* makeGraph(int vertice_num, int edge_num) \n",
    "{ \n",
    "    Graph* graph = new Graph; \n",
    "    graph->vertice_num = vertice_num; \n",
    "    graph->edge_num = edge_num; \n",
    "    graph->edge = new Edge[edge_num]; \n",
    "\n",
    "    return graph; \n",
    "} "
   ]
  },
  {
   "cell_type": "markdown",
   "metadata": {},
   "source": [
    "<div  id=\"section4\" style=\"direction:rtl; font-size: 17px; font-family: 'XB Zar'; line-height: 200%\">\n",
    "<div style=\"font-size: 17px; color: #ff6600; font-weight: bold\">\n",
    "چطور در مرحله‌ی دوم چک کنیم که با اضافه کردن یال به گراف دور ایجاد می‌شود یا نه:\n",
    "</div>            \n",
    "    یک راه این است که مولفه‌های همبندی درختی که داریم می‌سازیم را با مجموعه‌ی راس‌های موجود در آنها نگه داریم. اول که فقط راس‌های گراف را می‌گذاریم و بین هیچ دو راسی هیچ مسیری وجود ندارد، پس هر راس یک مولفه‌ی همبندی است. حال هر وقت یک یال را از مجموعه‌ی مرتب‌شده‌ی یالها برمی‌داریم تا آن را به درخت اضافه کنیم، چک می‌کنیم که راس‌های دو سر این یال، در یک مولفه‌ی همبندی هستند یا نه: (فرض کنیم a و b راس‌های دو سر این یال باشند)\n",
    "    <br>\n",
    "اگر بودند، یعنی طبق تعریف مولفه‌ی همبندی، در گراف فعلی بین a و b یک مسیر وجود دارد. پس اگر آن یال را اضافه کنیم بینشان دو مسیر وجود خواهد داشت که یعنی در گراف دور خواهیم داشت. پس چون می‌خواهیم به یک درخت برسیم یال را اضافه نمی‌کنیم.\n",
    "    <br>\n",
    "اگر هم a و b در یک مولفه‌ی همبندی نباشند، یعنی بینشان مسیر وجود ندارد، پس با اضافه کردن یال فعلی دور ایجاد نمی‌شود، پس اضافه‌اش می‌کنیم. حالا که یال را اضافه کردیم، از طریق این یال بین هر راس موجود در مولفه‌ی همبندی a و هر راس موجود در مولفه‌ی همبندی b یک مسیر وجود دارد. پس الان این دو مولفه‌ی همبندی یکی شده‌اند. پس آنها را از لیست مولفه‌های همبندی برمی‌داریم و به جایش اجتماعشان را در این لیست می‌گذاریم.\n",
    "    <br>\n",
    "    <br>\n",
    "برای پیاده‌سازی، هر کدام از مولفه‌های همبندی را یک مجموعه‌ی مجزا (disjoint set) می‌گیریم. برای اینکه چک کنیم که دو سر یک راس در یک مجموعه‌ی مجزا هستند، از عملیات find در مجموعه‌های مجزا استفاده می‌کنیم. این عملیات، برای هر عضوی در یک مجموعه‌ی مجزا، سرگروه مجموعه مجزایی که آن عضو را شامل می‌شود را برمی‌گرداند (می‌دانیم در هر مجموعه مجزا یک عضو سرگروه داریم که با واسطه یا بی واسطه، پدر سایر اعضا است و مجموعه را می‌توان با آن مشخص کرد.) \n",
    "    <br>\n",
    "    پس اگر a و b سرگروه یکسان داشتند یعنی در یک مجموعه‌ی مجزا هستند، اگر هم سرگروه یکسان نداشتند، یعنی در دو مجموعه‌اند که آنگاه طبق توضیح بالا باید آن دو تا مجموعه را یکی کنیم که این هم با عملیات union در مجموعه‌های مجزا انجام می‌شود.\n",
    "    <br>\n",
    "    راه دیگر برای پیدا کردن دور در گراف، استفاده از روش‌های پیمایش درخت مثل DFS است.\n",
    "<hr>\n",
    "</div>"
   ]
  },
  {
   "cell_type": "code",
   "execution_count": 8,
   "metadata": {},
   "outputs": [],
   "source": [
    "class disjoint_set\n",
    "{ \n",
    "    public: \n",
    "    int parent; \n",
    "    int count; \n",
    "}; "
   ]
  },
  {
   "cell_type": "code",
   "execution_count": 9,
   "metadata": {},
   "outputs": [],
   "source": [
    "int find(disjoint_set disjoint_sets[], int i) \n",
    "{ \n",
    "    if (disjoint_sets[i].parent != i) \n",
    "        disjoint_sets[i].parent = find(disjoint_sets, disjoint_sets[i].parent); \n",
    "\n",
    "    return disjoint_sets[i].parent; \n",
    "} "
   ]
  },
  {
   "cell_type": "code",
   "execution_count": 10,
   "metadata": {},
   "outputs": [],
   "source": [
    "void Union(disjoint_set disjoint_sets[], int x, int y) \n",
    "{ \n",
    "    int xroot = find(disjoint_sets, x); \n",
    "    int yroot = find(disjoint_sets, y); \n",
    "\n",
    "    if (disjoint_sets[xroot].count < disjoint_sets[yroot].count) \n",
    "        disjoint_sets[xroot].parent = yroot; \n",
    "    else if (disjoint_sets[xroot].count > disjoint_sets[yroot].count) \n",
    "        disjoint_sets[yroot].parent = xroot; \n",
    " \n",
    "    else\n",
    "    { \n",
    "        disjoint_sets[yroot].parent = xroot; \n",
    "        disjoint_sets[xroot].count++; \n",
    "    } \n",
    "}"
   ]
  },
  {
   "cell_type": "code",
   "execution_count": 11,
   "metadata": {},
   "outputs": [],
   "source": [
    "int customComp(const void* a, const void* b) \n",
    "{ \n",
    "    Edge* a2 = (Edge*)a; \n",
    "    Edge* b2 = (Edge*)b; \n",
    "    return a2->weight > b2->weight; \n",
    "} "
   ]
  },
  {
   "cell_type": "code",
   "execution_count": 12,
   "metadata": {},
   "outputs": [],
   "source": [
    "void Kruskal(Graph* graph) \n",
    "{ \n",
    "    int vertice_num = graph->vertice_num; \n",
    "    Edge result[vertice_num]; \n",
    "    int e = 0;\n",
    "    int i = 0;\n",
    "\n",
    "    qsort(graph->edge, graph->edge_num, sizeof(graph->edge[0]), customComp); \n",
    "\n",
    "    disjoint_set *disjoint_sets = new disjoint_set[( vertice_num * sizeof(disjoint_set) )]; \n",
    " \n",
    "    for (int v = 0; v < vertice_num; ++v) \n",
    "    { \n",
    "        disjoint_sets[v].parent = v; \n",
    "        disjoint_sets[v].count = 0; \n",
    "    } \n",
    "\n",
    "    while (e < vertice_num - 1 && i < graph->edge_num) \n",
    "    { \n",
    "        Edge next_edge = graph->edge[i++]; \n",
    "\n",
    "        int x = find(disjoint_sets, next_edge.first); \n",
    "        int y = find(disjoint_sets, next_edge.second); \n",
    "      \n",
    "        if (x != y) \n",
    "        { \n",
    "            result[e++] = next_edge; \n",
    "            Union(disjoint_sets, x, y); \n",
    "        } \n",
    "    } \n",
    "  \n",
    "    for (i = 0; i < e; ++i) \n",
    "        cout<<result[i].first<<\" to \"<<result[i].second<<\" with weight \"<<result[i].weight<<endl; \n",
    "    return; \n",
    "} "
   ]
  },
  {
   "cell_type": "code",
   "execution_count": 13,
   "metadata": {},
   "outputs": [
    {
     "name": "stdout",
     "output_type": "stream",
     "text": [
      "2 to 3 with weight 4\n",
      "0 to 3 with weight 5\n",
      "0 to 1 with weight 10\n"
     ]
    }
   ],
   "source": [
    "int V = 4;  \n",
    "int E = 5;\n",
    "Graph* graph = makeGraph(V, E);  \n",
    "\n",
    "\n",
    "// add edge 0-1  \n",
    "graph->edge[0].first = 0;  \n",
    "graph->edge[0].second = 1;  \n",
    "graph->edge[0].weight = 10;  \n",
    "\n",
    "// add edge 0-2  \n",
    "graph->edge[1].first = 0;  \n",
    "graph->edge[1].second = 2;  \n",
    "graph->edge[1].weight = 6;  \n",
    "\n",
    "// add edge 0-3  \n",
    "graph->edge[2].first = 0;  \n",
    "graph->edge[2].second = 3;  \n",
    "graph->edge[2].weight = 5;  \n",
    "\n",
    "// add edge 1-3  \n",
    "graph->edge[3].first = 1;  \n",
    "graph->edge[3].second = 3;  \n",
    "graph->edge[3].weight = 15;  \n",
    "\n",
    "// add edge 2-3  \n",
    "graph->edge[4].first = 2;  \n",
    "graph->edge[4].second = 3;  \n",
    "graph->edge[4].weight = 4;  \n",
    "\n",
    "Kruskal(graph);  \n",
    "  "
   ]
  },
  {
   "cell_type": "markdown",
   "metadata": {},
   "source": [
    "<div id=\"section5\" style=\"direction:rtl; font-size: 17px; font-family: 'XB Zar'; line-height: 200%\">\n",
    "<div style=\"font-size: 17px; color: #ff6600; font-weight: bold\">\n",
    "پیچیدگی زمانی\n",
    "</div>            \n",
    "اول باید یال‌ها را مرتب کنیم، که چون پیچیدگی مرتب کردن n شیء $O(nlog(n))$ است می‎شود $O(Elog(E))$ که $E$ تعداد یالهاست. بعد به ازای هر یالی در مجموعه، دو بار عملیات find و صفر یا یک بار عملیات union روی مولفه‌های همبندی راس‌های دو سر یال انجام می‌دهیم، بنابراین حداکثر E تا عملیات union-find داریم که هرکدام حداکثر پیچیدگی $O(log(V))$ دارند که $V$ تعداد رئوس است. پس در مجموع پیچیدگی این بخش $O(Elog(V))$ است. پس در مجموع می‌شود $O(Elog(E) + Elog(V))$ که البته چون $E$ حداکثر از $O(V^2)$ است $log(E)$ و $log(V)$ از یک مرتبه‌ی پیچیدگی‌اند.\n",
    "<hr>\n",
    "</div>"
   ]
  },
  {
   "cell_type": "markdown",
   "metadata": {},
   "source": [
    "<div id=\"section6\" style=\"direction:rtl; font-size: 17px; font-family: 'XB Zar'; line-height: 200%\">\n",
    "<div style=\"font-size: 17px; color: #ff6600; font-weight: bold\">\n",
    "اثبات درستی:\n",
    "</div>\n",
    "    <strong>درخت پوشا بودن:</strong><br>\n",
    "فرض کنیم گراف اصلیمان $G$ باشد که همبند و وزن‌دار است. اگر   $Y$ زیرگرافی باشد که الگوریتم کروسکال تولید می‌کند، این زیرگراف نمی‌تواند دور داشته باشد، چون همیشه قبل از این که یالی را اضافه کنیم چک می‌کنیم که با اضافه شدنش دور ایجاد نشود.Y ناهمبند هم نمی‌تواند باشد، چون اگر دو تا مولفه‌ی همبندی جدا داشت وقتی الگوریتم به سبک‌ترین یالی که دو مؤلفه را وصل می‌کند می‌رسید، آن را به گراف اضافه می‌کرد (چون با اضافه شدنش دور تشکیل نمی‌شد) و بنابراین دو تا مولفه‌ی همبندی، یکی می‌شدند. پس چون همه‌ی راس‌های گراف در یک مولفه‌ی همبندی‌اند و دور هم ندارد، درخت پوشاست.\n",
    "    <br>\n",
    "    <strong>\n",
    "کمینه بودن:\n",
    "    </strong><br>\n",
    "اثباتش با استقراست. نشان می دهیم که این گزاره درست است: اگر F مجموعه ای از یال‌های انتخاب‌شده در هر مرحله از الگوریتم باشد ، در آن صورت یک درخت پوشای کمینه وجود دارد که F زیرگراف آن است. (از این به بعد به این گزاره می گوییم گزاره‌ی $P$)\n",
    "    <br>\n",
    "واضح است که گزاره‌ی $P$ در ابتدا ، وقتی $F$ گراف تهی است درست است: همه‌ی درخت‌های پوشای گراف، این گراف تهی را در خود دارند. و حتما یکی وجود دارد زیرا یک گراف همبند وزن دارهمیشه حداقل یک درخت پوششی کمینه را دارد.\n",
    "    <br>\n",
    "حال فرض کنیم که در یک مرحله‌ای قبل از پایان الگوریتم هستیم، که تا الان الگوریتم گراف $F$ را ساخته، و $F$ زیرگراف یک درخت پوشای کمینه‌ای مثل T است.\n",
    "فرض کنیم $e$ یال بعدی‌ای باشد که در ادامه‌ی الگوریتم به $F$ اضافه می‌شود.\n",
    "    <br>\n",
    "اگر $e$ در $T$ باشد ، گزاره‌ی $P$ برای $F + e$ هم درست است.\n",
    "    <br>\n",
    "اگر $e$ در $T$ نباشد ، $T + e$ دارای یک دوراست (اضافه کردن یال به درخت دور ایجاد می‌کند). این دور یالی دارد که در $F$ نیست، چون وقتی $e$ به $F$ اضافه می‌شود، در $F$ دور ایجاد ‌نمی‌شود، اما وقتی $e$ به $T$ اضافه می‌شود، در $T$ دور ایجاد ‌می‌شود. پس فرض کنیم یک یال مانند $e’$ در این دور هست اما در $F + e$ نیست. حالا $e’$ در $T$ است، اما این $e’$ هنوز توسط الگوریتم انتخاب نشده.پس $e’$ باید وزنی بزرگتر یا مساوی $e$ داشته باشد. $T – e’ + e$ یک درخت است ، و وزن آن کمتر یا مساوی وزن $T$  است. \n",
    "پس $T – e’ + e$ یک درخت پوشای کمینه است. و $F + e$ را هم در خود دارد. پس باز هم گزاره‌ی $P$ درست باقی می‌ماند.\n",
    "بنابراین ، با استفاده از اصل استقرا، وقتی الگوریتم به قدری جلو برود که $F$ به یک درخت پوشا تبدیل شود هم $P$ درست است؛ یعنی یک درخت پوشای کمینه‌ای هست که $F$ را شامل می‌شود، که این فقط در صورتی ممکن است که $F$ خودش یک درخت پوشای کمینه شود، پس $F$ یک درخت پوشای کمینه است.\n",
    "\n",
    "<hr>\n",
    "</div>"
   ]
  }
 ],
 "metadata": {
  "kernelspec": {
   "display_name": "C++11",
   "language": "C++11",
   "name": "xcpp11"
  },
  "language_info": {
   "codemirror_mode": "text/x-c++src",
   "file_extension": ".cpp",
   "mimetype": "text/x-c++src",
   "name": "c++",
   "version": "11"
  }
 },
 "nbformat": 4,
 "nbformat_minor": 4
}
