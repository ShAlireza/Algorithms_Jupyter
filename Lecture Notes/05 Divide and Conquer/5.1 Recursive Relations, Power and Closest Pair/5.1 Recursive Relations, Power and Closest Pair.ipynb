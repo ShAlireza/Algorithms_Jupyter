{
 "cells": [
  {
   "cell_type": "markdown",
   "metadata": {},
   "source": [
    "<div style=\"direction:rtl;line-height:300%;\"> <font face=\"XB Zar\">\n",
    "<div align=center>\n",
    "    <div style=\"font-size:14px\">\n",
    "    به نام خدا\n",
    "    </div><br>\n",
    "    <strong><div style=\"font-size:50px; color: blue\">\n",
    "    طراحی الگوریتم‌ها\n",
    "    </div></strong>\n",
    "    <br>\n",
    "    <div style=\"font-size:20px; color: #ff6600\">\n",
    "    دانشگاه صنعتی شریف، دانشکده مهندسی کامپیوتر\n",
    "    </div>\n",
    "    <div style=\"font-size:15px; color: black\">\n",
    "        نیم‌سال دوم سال تحصیلی ۹۸-۹۹\n",
    "    </div>\n",
    "    <hr>\n",
    "    <strong><div style=\"font-size:35px; color: red\">\n",
    "        فصل پنجم: روش تقسیم و حل \n",
    "    </div></strong><br>\n",
    "    <div style=\"font-size:30px; color: navy\">\n",
    "        بخش اول: «کاربرد روابط بازگشتی»، مسئله‌ی «توان» و مسئله‌ی «نزدیک‌ترین زوج نقاط»\n",
    "    </div><br>\n",
    "    <div style=\"font-size:20px; color: black\">\n",
    "       پارسا اسکندر، اسرا کاشانی‌نیا، محمدهادی ستوده\n",
    "    </div>\n",
    "\n",
    "</div>\n",
    "<hr>"
   ]
  },
  {
   "cell_type": "markdown",
   "metadata": {},
   "source": [
    "<div style=\"direction:rtl; font-size: 17px; font-family: 'XB Zar'; line-height: 200%\">\n",
    "<div style=\"font-size: 22px; color: #ff6600; font-weight: bold\">\n",
    "فهرست محتویات\n",
    "</div>         \n",
    "<ul style=\"margin-right: 0;\">\n",
    "    <li><a href=\"#section0-1\">معرفی روش تقسیم و حل</a></li>\n",
    "    <li><a href=\"#section0-2\">کاربرد روابط بازگشتی در تقسیم و حل</a></li>\n",
    "    <li><a href=\"#section1\">مسئله‌ی توان</a></li>\n",
    "        <ul>\n",
    "            <li><a href=\"#subsection1-1\">روش اولیه</a></li>\n",
    "            <li><a href=\"#subsection1-2\">روش تقسیم و حل</a></li>\n",
    "        </ul>\n",
    "    <li><a href=\"#section3\">مسئله‌ی نزدیک‌ترین زوج نقاط</a>\n",
    "        <ul>\n",
    "            <li><a href=\"#subsection3-1\">روش اولیه</a></li>\n",
    "            <li><a href=\"#subsection3-2\">روش تقسیم و حل</a></li>\n",
    "        </ul>\n",
    "    </li>\n",
    "</ul>\n",
    "</div>"
   ]
  },
  {
   "cell_type": "markdown",
   "metadata": {},
   "source": [
    "<hr>"
   ]
  },
  {
   "cell_type": "markdown",
   "metadata": {},
   "source": [
    "<div id=\"section0-1\" align=\"justify\" style=\"direction:rtl; font-size: 17px; font-family: 'XB Zar'; line-height: 200%\">\n",
    "    <div style=\"font-size: 22px; color: #ff6600; font-weight: bold\">\n",
    "        معرفی روش تقسیم و حل\n",
    "    </div>     \n",
    "    فرایند به دست آوردن پاسخ مسئله به روش تقسیم و حل شامل سه مرحله‌ی اصلی است:\n",
    "    <ul>\n",
    "        <li><b>تقسیم/شکستن:</b>\n",
    "            در این مرحله، مسئله را به چند «زیرمسئله»ی کوچک‌تر با نوع یکسان یا مشابه، تقسیم می‌کنیم. معمولاً این تقسیم، به صورت بازگشتی و تا جایی که دیگر تقسیم کردن ممکن نباشد، ادامه می‌یابد.</li>\n",
    "        <li><b>حل:</b>\n",
    "            در این مرحله، زیرمسئله‌های به دست آمده در پایین‌ترین سطح، حل می‌شوند.</li>\n",
    "        <li><b>ادغام/ترکیب:</b>\n",
    "            برای این که بتوان زیرمسئله‌های سطح بالاتر را حل کرد، لازم است زیرمسئله‌های سطح پایین با هم ترکیب شوند، یعنی پاسخ مسئله‌ی بزرگ‌تر با توجه به پاسخ آن‌ها ساخته شود. این مرحله را تا جایی که به پاسخ مسئله‌ی اصلی برسیم، ادامه می‌دهیم.</li>\n",
    "    </ul>\n",
    "    <br>\n",
    "مسئله‌های زیر، نمونه‌هایی از مسائلی هستند که با روش تقسیم و حل، قابل حل هستند.\n",
    "    <ul>\n",
    "        <li>مرتب‌سازی ادغامی (Merge Sort)</li>\n",
    "        <li>مرتب‌سازی سطلی (Bucket Sort)</li>\n",
    "        <li>ضرب چندجمله‌ای‌ها (Polynomial Multiplication)</li>\n",
    "        <li>مسئله‌ی کاشی‌کاری یا فرش کردن (Tiling Problem)</li>\n",
    "        <li>مسئله‌ی آسمان‌خراش‌ها (Skyline Problem)</li>\n",
    "        <li>مسئله‌ی زمان‌بندی تورنمنت (Tournament Scheduling Problem)</li>\n",
    "        <li>مسئله‌ی آدم مشهور (The Celebrity Problem)</li>\n",
    "    </ul>\n",
    "    تعدادی مسئله‌ی دیگر را می‌توانید <a href=\"https://leetcode.com/tag/divide-and-conquer\">اینجا</a> پیدا کنید.\n",
    "</div>\n",
    "<hr>"
   ]
  },
  {
   "cell_type": "markdown",
   "metadata": {},
   "source": [
    "<div id=\"section0-2\" align=\"justify\" style=\"direction:rtl; font-size: 17px; font-family: 'XB Zar'; line-height: 200%\">\n",
    "    <div style=\"font-size: 22px; color: #ff6600; font-weight: bold\">\n",
    "        کاربرد روابط بازگشتی در تقسیم و حل\n",
    "    </div>\n",
    "    در دروس «ساختمان‌های گسسته» و «ساختمان داده‌ها و الگوریتم‌ها»، با رابطه‌های بازگشتی و روش‌های حل آن‌ها آشنا شدید. برای تحلیل زمانی الگوریتم‌های تقسیم و حل از این روابط استفاده می‌شود. در ادامه، با کاربرد این روابط آشنا می‌شویم.\n",
    "    <br>\n",
    "    مسئله‌ای با اندازه‌ی ورودی $n$ داده شده است. با روش تقسیم و حل، آن را به $a$ زیرمسئله تقسیم می‌کنیم که اندازه‌ی هرکدام، $1/b$ اندازه‌ی ورودی است. هم‌چنین هزینه‌ی مرحله‌ی ادغام، $f(n)$ است. پیچیدگی زمانی این مسئله به کمک رابطه‌ی بازگشتی زیر به دست می‌آید:\n",
    "    \\begin{equation}\n",
    "    T(n) = a T(\\frac{n}{b}) + f(n)\n",
    "    \\end{equation}\n",
    "    روش‌های مختلفی برای حل این رابطه وجود دارد. یکی از آن‌ها استفاده از قضیه‌ی اساسی تحلیل الگوریتم‌ها است.    \n",
    "</div>"
   ]
  },
  {
   "cell_type": "markdown",
   "metadata": {},
   "source": [
    "<div align=\"justify\" style=\"direction:rtl; font-size: 17px; font-family: 'XB Zar'; line-height: 200%\">\n",
    "    <div style=\"font-size: 17px; color: #ff6600; font-weight: bold\">\n",
    "    قضیه‌ی اساسی تحلیل الگوریتم‌ها\n",
    "    </div>\n",
    "    تعریف می‌کنیم:\n",
    "    \\begin{equation}\n",
    "    c_{crit} = \\log_b a\n",
    "    \\end{equation}\n",
    "    طبق قضیه‌ی اساسی:\n",
    "    <ul>\n",
    "        <li><b>حالت 1:</b>\n",
    "            اگر $f(n) = O(n^c)$ و $c < c_{crit}$ باشد، خواهیم داشت: $T(n) = \\Theta(n^{c_{crit}})$\n",
    "        </li>\n",
    "        <li><b>حالت 2:</b>\n",
    "            اگر $f(n) = \\Theta(n^{c_{crit}})$ باشد، خواهیم داشت: $T(n) = \\Theta(n^{c_{crit}} \\log{n})$\n",
    "        </li>\n",
    "        <li><b>حالت 3:</b>\n",
    "            اگر $f(n) = \\Omega(n^c)$ و $c > c_{crit}$ باشد، خواهیم داشت: $T(n) = \\Theta(f(n))$ (البته به شرطی که مقدار $c < 1$ موجود باشد، به طوری که برای تمام مقادیر $n$ که به اندازه‌ی کافی بزرگ هستند، داشته باشیم: $a f(\\frac{n}{b}) \\leq c f(n)$)\n",
    "        </li>\n",
    "    </ul>\n",
    "    <br>\n",
    "    حال که با ایده‌ی کلی روش تقسیم و حل و کاربرد رابطه‌های بازگشتی در آن آشنا شدید، به معرفی و حل مسئله‌هایی که با این روش حل می‌شوند، می‌پردازیم. \n",
    "</div>\n",
    "<hr>"
   ]
  },
  {
   "cell_type": "markdown",
   "metadata": {},
   "source": [
    "<div id=\"section1\" align=\"justify\" style=\"direction:rtl; font-size: 17px; font-family: 'XB Zar'; line-height: 200%\">\n",
    "    <div style=\"font-size: 22px; color: #ff6600; font-weight: bold\">\n",
    "        مسئله‌ی توان\n",
    "    </div>     \n",
    "    دو عدد $n$ و $x$ داده شده‌است مقدار $x$ به توان $n$ را به‌دست آورید.\n",
    "    <br>\n",
    "    <strong>\n",
    "    نکته:\n",
    "    </strong>    \n",
    "    اکیداً توصیه می‌شود قبل از خواندن راه حل، خودتان برای دقایقی به دنبال راه حل این مساله بگردید.\n",
    "</div>\n",
    "<hr>"
   ]
  },
  {
   "cell_type": "markdown",
   "metadata": {},
   "source": [
    "<div id=\"subsection1-1\" align=\"justify\" style=\"direction:rtl; font-size: 17px; font-family: 'XB Zar'; line-height: 200%\">\n",
    "<div style=\"font-size: 22px; color: #ff6600; font-weight: bold\">\n",
    "روش اولیه\n",
    "</div>         \n",
    "اولین راهی که برای حل این مسئله به ذهن می‌رسد، $n$ بار ضرب کردن عدد $x$ در خودش است. می‌توان کد این الگوریتم را در ادامه دید.\n",
    "</div>"
   ]
  },
  {
   "cell_type": "code",
   "execution_count": 1,
   "metadata": {},
   "outputs": [],
   "source": [
    "#include <iostream>\n",
    "#include <climits>\n",
    "#include <cfloat>\n",
    "using namespace std;"
   ]
  },
  {
   "cell_type": "code",
   "execution_count": 2,
   "metadata": {},
   "outputs": [],
   "source": [
    "int naive_algorithm(int x, int n)\n",
    "{\n",
    "    // initialize result by one\n",
    "    int answer = 1;\n",
    "    \n",
    "    for (int i = 0; i < n; i++){\n",
    "        answer = answer * x;\n",
    "    }\n",
    "    return answer;\n",
    "}"
   ]
  },
  {
   "cell_type": "code",
   "execution_count": 3,
   "metadata": {},
   "outputs": [
    {
     "name": "stdout",
     "output_type": "stream",
     "text": [
      "625"
     ]
    }
   ],
   "source": [
    "{\n",
    "    // answer should be 625\n",
    "    cout << naive_algorithm(5, 4);\n",
    "}"
   ]
  },
  {
   "cell_type": "markdown",
   "metadata": {},
   "source": [
    "<div align=\"justify\" style=\"direction:rtl; font-size: 17px; font-family: 'XB Zar'; line-height: 200%\">\n",
    "    <div style=\"font-size: 17px; color: #ff6600; font-weight: bold\">\n",
    "    پیچیدگی زمانی\n",
    "    </div>         \n",
    "در این الگوریتم لازم است عدد $x$ را $n$ بار در خودش ضرب کنیم. با در نظر گرفتن زمان ثابت برای عمل ضرب، زمان اجرا در $O(n)$ است.\n",
    "</div>\n",
    "<hr>"
   ]
  },
  {
   "cell_type": "markdown",
   "metadata": {},
   "source": [
    "<div id=\"subsection1-2\" align=\"justify\" style=\"direction:rtl; font-size: 17px; font-family: 'XB Zar'; line-height: 200%\">\n",
    "    <div style=\"font-size: 22px; color: #ff6600; font-weight: bold\">\n",
    "        روش تقسیم و حل\n",
    "    </div>\n",
    "    حال سعی می‌کنیم الگوریتمی با پیچیدگی زمانی بهتر بسازیم، در راه اول \n",
    "    $ n $ \n",
    "    بار عدد \n",
    "    $ x $ \n",
    "    را در خودش ضرب می‌کردیم و این کار زمان بسیار زیادی از ما می‌گرفت، حال سعی می‌کنیم با استفاده از تقسیم و حل راه‌حلی جدید ارائه دهیم\n",
    "    <br>\n",
    "    در این راه‌حل به‌جای آن که \n",
    "    $ x^{n-1} $ \n",
    "    را محاسبه کنیم و در \n",
    "    $ x $ \n",
    "    ضرب کنیم، مقدار \n",
    "    $ x ^ {\\frac{n}{2}} $\n",
    "    را محاسبه می‌کنیم و در خودش ضرب می‌کنیم تا \n",
    "    $ x ^ n $ \n",
    "    به دست آید\n",
    "    <br>\n",
    "    کد مربوط به این الگوریتم را در ادامه می‌بینید.\n",
    "</div>"
   ]
  },
  {
   "cell_type": "code",
   "execution_count": 5,
   "metadata": {},
   "outputs": [],
   "source": [
    "int divide_and_conquer_algorithm(int x, int n){\n",
    "    int answer;\n",
    "    if (n == 0)\n",
    "        return 1;\n",
    "    answer = divide_and_conquer_algorithm(x, n/2);\n",
    "    if (n % 2 == 0)\n",
    "        return answer * answer;\n",
    "    else\n",
    "        return answer * answer * x;\n",
    "}"
   ]
  },
  {
   "cell_type": "code",
   "execution_count": 6,
   "metadata": {},
   "outputs": [
    {
     "name": "stdout",
     "output_type": "stream",
     "text": [
      "625"
     ]
    }
   ],
   "source": [
    "{\n",
    "    // answer should be 625\n",
    "    cout << divide_and_conquer_algorithm(5, 4);\n",
    "}"
   ]
  },
  {
   "cell_type": "markdown",
   "metadata": {},
   "source": [
    "<div align=\"justify\" style=\"direction:rtl; font-size: 17px; font-family: 'XB Zar'; line-height: 200%\">\n",
    "    <div style=\"font-size: 17px; color: #ff6600; font-weight: bold\">\n",
    "    پیچیدگی زمانی\n",
    "    </div>\n",
    "    در تحلیل زمانی این راه‌حل می‌دانیم برای محاسبه‌ی \n",
    "    $ x ^ n $\n",
    "    میتوان \n",
    "    $ x ^ {n-1} $\n",
    "    را محاسبه کرد و با تعدادی عمل ضرب و یک دستور شرطی مقدار \n",
    "    $ x ^ n $\n",
    "    را محاسبه کرد.\n",
    "    <br>\n",
    "    پس اگر زمان این الگوریتم را برابر \n",
    "    $ \\mathcal{T}(n) $\n",
    "    در نظر بگیریم، می‌دانیم که \n",
    "    $ \\mathcal{T}(n) = \\mathcal{T}(\\frac{n}{2}) + \\mathcal{O}(1) $\n",
    "    که با حل معادله‌ی بازگشتی ، زمان الگوریتم در \n",
    "    $ O(\\log n) $\n",
    "    است.\n",
    "</div>\n",
    "<hr>"
   ]
  },
  {
   "cell_type": "markdown",
   "metadata": {},
   "source": [
    "<div id=\"section3\" align=\"justify\" style=\"direction:rtl; font-size: 17px; font-family: 'XB Zar'; line-height: 200%\">\n",
    "    <div style=\"font-size: 22px; color: #ff6600; font-weight: bold\">\n",
    "        مسئله‌ی نزدیک‌ترین زوج نقاط\n",
    "    </div>\n",
    "    زمانی را در نظر بگیرید که به همراه دوستان خود، مشغول حل کردن تمرین‌های درس طراحی الگوریتم بوده‌اید و کارتان تا پاسی از شب طول کشیده است. هنگام خروج از دانشکده، توجهتان به آسمان صاف بالای سرتان جلب می‌شوید و سعی می‌کنید چند ستاره را که می‌شناسید، پیدا کنید. دوستتان که هنوز در فضای تمرین‌ها قرار دارد، از شما می‌پرسد که «کدام جفت ستاره، دارای کمترین فاصله با هم هستند؟». کار شما نسبتاً آسان است، چون تعداد ستاره‌های قابل مشاهده در آسمان تهران اندک است. اما اگر با دوستتان به منطقه‌ی «سه‌قلعه» سفر کنید و هنگامی که در حال لذت بردن از تماشای آسمان پرستاره هستید، دوستتان این سؤال را از شما بپرسد، چه کار می‌کنید؟!\n",
    "    <br> <br>\n",
    "    <center>\n",
    "        <figure>\n",
    "            <img src=\"Resources/3GhaleSky.gif\", width=\"75%\", style=\"float:center\">\n",
    "            <br>\n",
    "            <caption>آسمان رصدگاه سه‌قلعه</caption>\n",
    "        </figure>\n",
    "    </center>\n",
    "    <br>\n",
    "    برای رفع نیازهای روزمره‌ی ما، رایانه‌ها نیاز دارند تا به سؤالاتی از جنس سؤالات دوستتان پاسخ دهند. البته، تعداد نقاط ورودی داده شده به آن‌ها بسیار بیشتر از ستارگان قابل مشاهده با چشم در یک آسمان تاریک (2000 تا 3000 ستاره) است. هم‌چنین، گاهی لازم است جست‌وجو در فضایی با تعداد ابعاد زیاد انجام شود. بهینه‌سازی زمان اجرای الگوریتم در این فضاها، امری مهم و حیاتی است.\n",
    "    <br>\n",
    "    در مسئله‌ی نزدیک‌ترین زوج نقاط، n نقطه داریم، و می‌خواهیم دو نقطه‌ای را که کمترین فاصله را از هم دارند، پیدا کنیم.\n",
    "    <br>\n",
    "    <center>\n",
    "        <figure>\n",
    "            <img src=\"Resources/03ClosestPair - 1.png\", width=\"45%\", style=\"float:center\">           \n",
    "        </figure>\n",
    "    </center>\n",
    "    این مسئله در حالت کلی و برای فضای $k$ بعدی هم مطرح می‌شود. در اینجا تمرکزمان روی صفحه ($k = 2$) است. فاصله را هم همان فاصله‌ی اقلیدسی در نظر می‌گیریم. یعنی:\n",
    "    $d=\\sqrt{(x_1 - x_2)^2 + (y_1 - y_2)^2}$\n",
    "\n",
    "</div>\n"
   ]
  },
  {
   "cell_type": "code",
   "execution_count": 7,
   "metadata": {},
   "outputs": [],
   "source": [
    "class Point { \n",
    "  \tpublic:\n",
    "\tint x;\n",
    "    int y; \n",
    "}; "
   ]
  },
  {
   "cell_type": "code",
   "execution_count": 9,
   "metadata": {},
   "outputs": [],
   "source": [
    "double distance(Point p1, Point p2) \n",
    "{ \n",
    "\treturn (p1.x - p2.x)*(p1.x - p2.x) + (p1.y - p2.y)*(p1.y - p2.y); \n",
    "}"
   ]
  },
  {
   "cell_type": "markdown",
   "metadata": {},
   "source": [
    "<hr>"
   ]
  },
  {
   "cell_type": "markdown",
   "metadata": {},
   "source": [
    "<div id=\"subsection3-1\" style=\"direction:rtl; font-size: 17px; font-family: 'XB Zar'; line-height: 200%\">\n",
    "<div style=\"font-size: 22px; color: #ff6600; font-weight: bold\">\n",
    "روش اولیه\n",
    "</div>\n",
    "    راه حل ساده این است که فاصله‌ی تمام زوج‌های نقاط را حساب کنیم و سپس بین آن‌ها کمینه را پیدا کنیم. \n",
    "<br>\n",
    "</div>    "
   ]
  },
  {
   "cell_type": "code",
   "execution_count": 10,
   "metadata": {},
   "outputs": [],
   "source": [
    "double bruteForce(Point P[], int n) \n",
    "{ \n",
    "\tdouble min = FLT_MAX; \n",
    "\tfor (int i = 0; i < n; ++i) \n",
    "\t\tfor (int j = i+1; j < n; ++j) \n",
    "\t\t\tif (distance(P[i], P[j]) < min) \n",
    "\t\t\t\tmin = distance(P[i], P[j]); \n",
    "\treturn min; \n",
    "} "
   ]
  },
  {
   "cell_type": "code",
   "execution_count": 20,
   "metadata": {},
   "outputs": [
    {
     "name": "stdout",
     "output_type": "stream",
     "text": [
      "5"
     ]
    }
   ],
   "source": [
    "{\n",
    "    Point p[] = {{1, 2}, {3, 1}, {4, 5}, {3, 4}};\n",
    "    cout << bruteForce(p, 3);\n",
    "}"
   ]
  },
  {
   "cell_type": "markdown",
   "metadata": {},
   "source": [
    "<div align=\"justify\" style=\"direction:rtl; font-size: 17px; font-family: 'XB Zar'; line-height: 200%\">\n",
    "    <div style=\"font-size: 17px; color: #ff6600; font-weight: bold\">\n",
    "    پیچیدگی زمانی\n",
    "    </div>\n",
    "    باید ${n \\choose 2}$تا فاصله حساب کنیم. در نتیجه پیچیدگی زمانی در $O(n^2)$ است. \n",
    "</div>\n",
    "<hr>"
   ]
  },
  {
   "cell_type": "markdown",
   "metadata": {},
   "source": [
    "<div id=\"subsection3-2\" align=\"justify\" style=\"direction:rtl; font-size: 17px; font-family: 'XB Zar'; line-height: 200%\">\n",
    "    <div style=\"font-size: 22px; color: #ff6600; font-weight: bold\">\n",
    "        روش تقسیم و حل\n",
    "    </div>\n",
    "    در روش تقسیم و حل لازم است\n",
    "    <ul>\n",
    "        <li>نقطه‌ها را به دسته‌هایی تقسیم کنیم</li>\n",
    "        <li>بین نقاط هر دسته فاصله‌ها را دو‌به‌دو حساب کنیم تا مقدار کمینه پیدا شود.</li>\n",
    "        <li>بررسی کنیم که آیا با مقایسه‌ی نقاط هر دسته با دسته‌های دیگر، فاصله‌ی کوچک‌تری به دست می‌آید یا خیر.</li>\n",
    "    </ul>\n",
    "    روش تقسیم و حل به شرطی می‌تواند مؤثر باشد که در مرحله‌ی سوم، ناچار به محاسبه‌ی تمامی فاصله‌ها نباشیم. بلکه باید از ابتدا دسته‌بندی به گونه‌ای انجام شود که هر دسته دارای تعدادی نقطه‌ی مرزی باشد و بتوان مرحله‌ی سوم را با محاسبه‌ی فاصله‌ی نقاط مرزی هر دسته با نقاط مرزی دسته‌های دیگر انجام داد. این صرفه‌جویی در محاسبه، باعث بهبود مرتبه‌ی زمانی می‌شود.\n",
    "</div>"
   ]
  },
  {
   "cell_type": "markdown",
   "metadata": {},
   "source": [
    "<div align=\"justify\" style=\"direction:rtl; font-size: 17px; font-family: 'XB Zar'; line-height: 200%\">\n",
    "    <div style=\"font-size: 17px; color: #ff6600; font-weight: bold\">\n",
    "    پیش‌پردازش\n",
    "    </div>\n",
    "    ابتدا نقاط را بر اساس مؤلفه‌ی $x$ آن‌ها مرتب می‌کنیم. مرتب کردنشان $O(nlogn)$ هزینه می‌برد. (در واقع داریم نقطه‌هایی که $x$ آن‌ها به هم نزدیک‌تر است را در یک دسته قرار می دهیم.)\n",
    "</div>"
   ]
  },
  {
   "cell_type": "code",
   "execution_count": 12,
   "metadata": {
    "pycharm": {
     "name": "#%%\n"
    }
   },
   "outputs": [],
   "source": [
    "int compareByX(const void* p1, const void* p2) \n",
    "{ \n",
    "\tPoint *p11 = (Point *)p1;\n",
    "    Point *p22 = (Point *)p2; \n",
    "\treturn (p11->x - p22->x); \n",
    "} \n"
   ]
  },
  {
   "cell_type": "code",
   "execution_count": 13,
   "metadata": {},
   "outputs": [],
   "source": [
    "void preprocess(Point P[], int n) \n",
    "{ \n",
    "\tqsort(P, n, sizeof(Point), compareByX); \n",
    "}\n"
   ]
  },
  {
   "cell_type": "markdown",
   "metadata": {
    "pycharm": {
     "name": "#%% md\n"
    }
   },
   "source": [
    "<br>\n",
    "<div align=\"justify\" style=\"direction:rtl; font-size: 17px; font-family: 'XB Zar'; line-height: 200%\">\n",
    "<div style=\"font-size: 17px; color: #ff6600; font-weight: bold\">\n",
    "مراحل حل: تلاش اول\n",
    "</div>    \n",
    "    <ol>\n",
    "<li>یک مقدار مرزی انتخاب می‌کنیم و نقطه‌هایی که $x$ آن‌ها بیشتر از آن بود در یک ناحیه و سایر نقاط را در ناحیه‌ای دیگر قرار می‌دهیم. مثلا می‌توانیم $x$ نقطه‌ی  $\\frac{n}{2}$اُم را به عنوان مقدار مرزی انتخاب کنیم. معادله‌ی خط جداکننده‌ی ناحیه‌ها به شکل زیر می‌شود:\n",
    " <center>\n",
    " $x = P[\\frac{n}{2}]\\rightarrow x$\n",
    " </center>\n",
    "</li>\n",
    "    <br>\n",
    "<li>بر اساس نقطه‌ی مرزی، آرایه‌ی نقاط را به دو نیمه تقسیم می‌کنیم. طبیعتاً نصف نقاط در نیمه اول و نصف دیگر در نیمه‌ی دوم قرار می‌گیرند.</li>\n",
    "    <br>\n",
    "<li>به طور بازگشتی مرحله‌ی 1 و 2 را روی هر کدام از ناحیه‌ها انجام می‌دهیم. اگر به مرحله‌ای رسیدیم که در یک ناحیه فقط دو یا سه نقطه داشتیم، فواصل دو‌به‌دوی آن‌ها را حساب می‌کنیم و فاصله‌ی کمینه را به دست می‌آوریم.</li>\n",
    "    <br>\n",
    "    <center>\n",
    "        <figure>\n",
    "            <img src=\"Resources/ClosestPair1.png\", width=\"45%\", style=\"float:center\">           \n",
    "        </figure>\n",
    "    </center>\n",
    "    <br>\n",
    "<li>فرض کنید در یک مرحله، فاصله‌ی کمینه را برای نواحی سمت چپ و سمت راست یک نقطه‌ی مرزی ($L$) پیدا کرده‌ایم ($d_L$ و $d_R$). بین این دو مقدار کمینه، مقدار کوچک‌تر را $d$ می‌نامیم. این مقدار، حد بالایی برای پاسخ مسئله است</li>\n",
    "    <br>\n",
    "<li> حال، دو ناحیه را ادغام می‌کنیم. باید مطمئن شویم که هیچ دو نقطه‌ای پیدا نمی‌شوند که در نواحی متفاوت بوده و فاصله‌ی آن‌ها کمتر از $d$ باشد. نقاطی که فاصله‌ی‌شان از خط وسط، بیشتر از $d$ است ممکن نیست چنین شرایطی داشته باشند. تمام نقاطی که این ویژگی را ندارند، در آرایه‌ای به نام $border$ می‌ریزیم\n",
    "</li>\n",
    "<br>\n",
    "<li>با محاسبه‌ی فواصل دوبه‌دو بین نقاط موجود در $border$، کمترین مقدار را حساب می‌کنیم ($d'$). کمترین فاصله‌ی ممکن بین نقاط دو دسته $min(d, d')$ است.</li>\n",
    "    </ol>\n",
    "</div>"
   ]
  },
  {
   "cell_type": "markdown",
   "metadata": {},
   "source": [
    "<br>\n",
    "<div align=\"justify\" style=\"direction:rtl; font-size: 17px; font-family: 'XB Zar'; line-height: 200%\">\n",
    "    <div style=\"font-size: 17px; color: #ff6600; font-weight: bold\">\n",
    "    پیچیدگی زمانی\n",
    "    </div>\n",
    "    ممکن است در هر مرحله تعداد زیادی از نقاط عضو آرایه‌ی $border$ شوند. در بدترین حالت، همه‌ی نقاط عضو $border$ می‌شوند و پیچیدگی زمانی الگوریتم در $O(n^2)$ خواهد شد.\n",
    "</div>"
   ]
  },
  {
   "cell_type": "markdown",
   "metadata": {},
   "source": [
    "<br>\n",
    "<div align=\"justify\" style=\"direction:rtl; font-size: 17px; font-family: 'XB Zar'; line-height: 200%\">\n",
    "<div style=\"font-size: 17px; color: #ff6600; font-weight: bold\">\n",
    "مراحل حل: تلاش دوم\n",
    "</div>\n",
    "    نقاط موجود در آرایه‌ی $border$ را به ترتیب $y$مرتب می‌کنیم. با استفاده از هندسه اثبات می‌شود که در این صورت برای هر نقطه، محاسبه‌ی فاصله‌ی آن با 15 نقطه بعد از آن کافیست.\n",
    "    در کد زیر شرط گذاشته‌ایم که تنها در صورتی اختلاف دو نقطه‌ی مرزی را حساب کنیم که اختلاف $y$هایشان کمتر از $d$ باشد. این شرط معادل این است که برای هر نقطه حداکثر فاصله‌اش با 15 نقطه بعد از آن را پیدا کنیم. در این صورت پیچیدگی زمانی الگوریتم از $O(n^2)$ به $O(nlogn) + O(15n)$  یا همان $O(nlogn)$ کاهش می‌یابد. برای اثبات می‌توانید\n",
    "    <a href=\"https://www.cs.cmu.edu/~ckingsf/bioinfo-lectures/closepoints.pdf\">اینجا</a>\n",
    "    را ببینید.\n",
    "    <br>\n",
    "    این قضیه را برای ۶ نقطه (از مجموعه‌ی دیگر) هم می‌توان اثبات کرد؛ یعنی با مرتب کردن نقاط به ترتیب $y$، به جای اینکه فاصله‌ی هر دو نقطه را پیدا کنیم، به ازای هر نقطه فاصله‌اش با ۶ نقطه‌ی دیگر از مجموعه‌ی دیگر را حساب می‌کنیم. \n",
    "</div>"
   ]
  },
  {
   "cell_type": "code",
   "execution_count": 14,
   "metadata": {},
   "outputs": [],
   "source": [
    "int compareByY(const void* p1, const void* p2) \n",
    "{ \n",
    "\tPoint *p11 = (Point *)p1;\n",
    "    Point *p22 = (Point *)p2; \n",
    "\treturn (p11->y - p22->y); \n",
    "} "
   ]
  },
  {
   "cell_type": "code",
   "execution_count": 15,
   "metadata": {},
   "outputs": [],
   "source": [
    "double checkBorder(Point border[], int size, double d) \n",
    "{ \n",
    "\tdouble min = d;  \n",
    "\tqsort(border, size, sizeof(Point), compareByY); \n",
    " \n",
    "\tfor (int i = 0; i < size; i++) \n",
    "\t\tfor (int j = i+1; j < size && (border[j].y - border[i].y) < min; j++) \n",
    "\t\t\tif (distance(border[i],border[j]) < min) \n",
    "\t\t\t\tmin = distance(border[i], border[j]);\n",
    "  \n",
    "\treturn min; \n",
    "} \n"
   ]
  },
  {
   "cell_type": "code",
   "execution_count": 16,
   "metadata": {},
   "outputs": [],
   "source": [
    "double min(double d1, double d2) \n",
    "{ \n",
    "\tif (d1 <= d2){\n",
    "      return d1;\n",
    "    } \n",
    "  \treturn d2;\n",
    "} \n"
   ]
  },
  {
   "cell_type": "code",
   "execution_count": 17,
   "metadata": {},
   "outputs": [],
   "source": [
    "double divideAndConquer(Point P[], int n) \n",
    "{ \n",
    "\tif (n <= 3) {\n",
    "\t\treturn bruteForce(P, n); \n",
    "    }\n",
    "\n",
    "    int middle = n/2; \n",
    "\tPoint midPoint = P[middle]; \n",
    " \n",
    "\tdouble dl = divideAndConquer(P, middle); \n",
    "\tdouble dr = divideAndConquer(P + middle, n - middle); \n",
    "\tdouble d = min(dl, dr); \n",
    "\n",
    "\tPoint *border = new Point[n]; \n",
    "\tint j = 0; \n",
    "\tfor (int i = 0; i < n; i++) \n",
    "\t\tif (abs(P[i].x - midPoint.x) < d) \n",
    "\t\t\tborder[j] = P[i];\n",
    "  \t\t\tj++; \n",
    "\n",
    "\treturn min(d, checkBorder(border, j, d)); \n",
    "} "
   ]
  },
  {
   "cell_type": "code",
   "execution_count": 18,
   "metadata": {},
   "outputs": [],
   "source": [
    "double findClosestPair(Point P[], int n) \n",
    "{ \n",
    "\tpreprocess(P, n); \n",
    "\treturn sqrt(divideAndConquer(P, n)); \n",
    "} "
   ]
  },
  {
   "cell_type": "code",
   "execution_count": 21,
   "metadata": {},
   "outputs": [
    {
     "name": "stdout",
     "output_type": "stream",
     "text": [
      "2.23607"
     ]
    }
   ],
   "source": [
    "{\n",
    "    Point p[] = {{1, 2}, {3, 1}, {4, 5}, {3, 4}};\n",
    "    cout << findClosestPair(p, 3);\n",
    "}"
   ]
  },
  {
   "cell_type": "markdown",
   "metadata": {},
   "source": [
    "<br>\n",
    "<div align=\"justify\" style=\"direction:rtl; font-size: 17px; font-family: 'XB Zar'; line-height: 200%\">\n",
    "    <div style=\"font-size: 17px; color: #ff6600; font-weight: bold\">\n",
    "    پیچیدگی زمانی\n",
    "    </div>\n",
    "    فرض کنیم که پیچیدگی زمانی الگوریتم برای n داده، $T(n)$ باشد. و فرض کنیم که از یک الگوریتم مرتب‌سازی با پیچیدگی $O(nlog(n))$ استفاده می‌کنیم (اینجا از Quick Sort استفاده کردیم که برای حجم داده‌های کمتر، عملکرد بهتری دارد. اما در تعداد داده‌های زیاد، این الگوریتم پیچیدگی زمانی ‌$O(n^2)$ دارد و در آن شرایط بهتر است از Merge Sort استفاده کنیم). الگوریتم نقطه‌ها را به دو مجموعه تقسیم می‌کند و بعد، در زمان $O(n)$ آرایه‌ی border را درست  می‌کند، آن را در زمان $O(nlog(n))$ مرتب می‌کند و سپس نزدیکترین زوج نقاط موجود در آرایه‌ی border را در زمان $O(n)$ پیدا می‌کند. بنابراین رابطه بازگشتی T به این صورت می‌شود:\n",
    "    <br> <br>\n",
    "    \\begin{equation}\n",
    "    T(n) = 2T(\\frac{n}{2}) + O(nlog(n))\n",
    "    \\end{equation}\n",
    "    \\begin{equation}\n",
    "    T(n) = O({n}\\times{ log(n)}\\times { log(n)})\n",
    "    \\end{equation}\n",
    "    <br>\n",
    "    حال اگر از اول یک کپی از آرایه بگیریم و نقاط آن را بر حسب $y$ مرتب کنبم و در هر بار که نقاط را به دو مجموعه تقسیم می‌کنیم، اعضای دو مجموعه را از روی این مجموعه‌ی مرتب شده بر حسب $y$ مرتب کنیم، زمان مرتب‌سازی از $O(nlog(n))$ به $O(n)$ کاهش پیدا می‌کند و بنابراین رابطه بازگشتی بالا به این شکل تغییر می‌کند:\n",
    "    <br> <br>\n",
    "    \\begin{equation}\n",
    "    T(n) = 2T(\\frac{n}{2}) + O(n)\n",
    "    \\end{equation}\n",
    "    \\begin{equation}\n",
    "    T(n) = O({n}{ log(n)})\n",
    "    \\end{equation}\n",
    "</div>"
   ]
  },
  {
   "cell_type": "markdown",
   "metadata": {},
   "source": [
    "<hr>"
   ]
  }
 ],
 "metadata": {
  "kernelspec": {
   "display_name": "C++11",
   "language": "C++11",
   "name": "xcpp11"
  },
  "language_info": {
   "codemirror_mode": "text/x-c++src",
   "file_extension": ".cpp",
   "mimetype": "text/x-c++src",
   "name": "c++",
   "version": "11"
  },
  "pycharm": {
   "stem_cell": {
    "cell_type": "raw",
    "metadata": {
     "collapsed": false
    },
    "source": []
   }
  }
 },
 "nbformat": 4,
 "nbformat_minor": 1
}
