{
 "cells": [
  {
   "cell_type": "markdown",
   "metadata": {},
   "source": [
    "<div style=\"direction:rtl; font-size: 17px; font-family: 'XB Zar'; line-height: 200%\">\n",
    "<div style=\"font-size: 22px; color: #ff6600; font-weight: bold\">\n",
    "فهرست محتویات\n",
    "</div>         \n",
    "<ul style=\"margin-right: 0;\">\n",
    "    <li><a href=\"#section2\"> بحث اول: بازگشتی </a></li>\n",
    "    <li><a href=\"#section1\">مسئله‌ی اول: محاسبه‌ی توان</a></li>\n",
    "    \n",
    "</ul>\n",
    "</div>"
   ]
  },
  {
   "cell_type": "markdown",
   "metadata": {},
   "source": [
    "<div id=\"section2\" style=\"direction:rtl; font-size: 17px; font-family: 'XB Zar'; line-height: 200%\">\n",
    "<div style=\"font-size: 22px; color: #ff6600; font-weight: bold\">\n",
    " بحث اول: بازگشتی\n",
    "</div><br> \n",
    "    در بحث طراحی الگوریتم‌ها الگوریتم‌هایی ارائه می‌شوند تا بتوان مسائل را در زمان بهتر، یا با استفاده از میزان حافظه‌ی کمتری حل کرد. \n",
    "    <br>\n",
    "    الگوریتم بهینه‌ی بعضی از این مسائل با استفاده از روش‌های بازگشتی به‌دست می‌آیند و یکی از روش‌های مهم بحث بازگشتی، روش تقسیم و حل است.\n",
    "    <br>\n",
    "    برای نمونه برای مرتب نمودن اعداد،‌روش‌هایی وجود دارد که یکی از بهترین این الگوریتم‌ها الگوریتم \n",
    "    merge sort\n",
    "    است که\n",
    "   .با استفاده از روش‌ها بازگشتی و تقسیم و حل به‌دست می‌آید \n",
    "    <br>\n",
    "    یکی دیگر از این مسائل مساله‌ی ضرب ماتریس‌هاست و یکی از روش‌های قابل استفاده در این مورد الگوریتم \n",
    "    Strassen\n",
    "    است که در مباحث تقسیم و حل به‌طور کامل بررسی می‌شود.\n",
    "    <hr>\n",
    "</div>    "
   ]
  },
  {
   "cell_type": "markdown",
   "metadata": {},
   "source": [
    "<div id=\"section1\" style=\"direction:rtl; font-size: 17px; font-family: 'XB Zar'; line-height: 200%\">\n",
    "<div style=\"font-size: 22px; color: #ff6600; font-weight: bold\">\n",
    "مسئله‌ی اول: محاسبه‌ی توان\n",
    "</div><br>            \n",
    "دو عدد n و x داده شده‌است مقدار x به توان n را به‌دست آورید.\n",
    "<br>\n",
    "<strong>\n",
    "نکته:\n",
    "</strong>    \n",
    "اکیدا توصیه می‌شود قبل از خواندن راه حل دقایقی خودتان به دنبال راه حل این مساله بگردید.\n",
    "<hr>\n",
    "</div>    "
   ]
  },
  {
   "cell_type": "markdown",
   "metadata": {},
   "source": [
    "<div style=\"direction:rtl; font-size: 17px; font-family: 'XB Zar'; line-height: 200%\">\n",
    "<div style=\"font-size: 17px; color: #ff6600; font-weight: bold\">\n",
    "نخستین راه حل\n",
    "</div>         \n",
    "اولین راهی که برای حل این مسئله به ذهن می‌رسد، n بار ضرب کردن عدد x در خود است، میتوان کد این الگوریتم را در زیر دید .\n",
    "<hr>\n",
    "</div>"
   ]
  },
  {
   "cell_type": "code",
   "execution_count": 1,
   "metadata": {},
   "outputs": [],
   "source": [
    "#include <iostream>\n",
    "#include <climits>\n",
    "using namespace std;"
   ]
  },
  {
   "cell_type": "code",
   "execution_count": 2,
   "metadata": {
    "pycharm": {
     "name": "#%%\n"
    },
    "scrolled": true
   },
   "outputs": [],
   "source": [
    "int naive_algorithm(int x, int n)\n",
    "{\n",
    "    // initialize result by one\n",
    "    int answer = 1;\n",
    "    \n",
    "    for (int i = 0; i < n; i++){\n",
    "        answer = answer * x;\n",
    "    }\n",
    "    return answer;\n",
    "}"
   ]
  },
  {
   "cell_type": "code",
   "execution_count": 3,
   "metadata": {},
   "outputs": [
    {
     "name": "stdout",
     "output_type": "stream",
     "text": [
      "625"
     ]
    }
   ],
   "source": [
    "{\n",
    "    // answer should be 625\n",
    "    cout << naive_algorithm(5, 4);\n",
    "}"
   ]
  },
  {
   "cell_type": "markdown",
   "metadata": {
    "pycharm": {
     "name": "#%% md\n"
    }
   },
   "source": [
    "# <div style=\"direction:rtl; font-size: 17px; font-family: 'XB Zar'; line-height: 200%\">\n",
    "<div style=\"font-size: 17px; color: #ff6600; font-weight: bold\">\n",
    "تحلیل زمانی\n",
    "</div>         \n",
    "در این الگوریتم لازم است عدد\n",
    "$ x $\n",
    "    را\n",
    "     $ n $\n",
    "     بار در خودش ضرب کرد، که با در نظر گرفتن زمان ثابت برای عمل ضرب ، زمان اجرای این الگوریتم در \n",
    "    $ \\mathcal{O}(n) $\n",
    "    است\n",
    "\n",
    "<hr>\n",
    "</div>"
   ]
  },
  {
   "cell_type": "markdown",
   "metadata": {
    "pycharm": {
     "name": "#%% md\n"
    }
   },
   "source": [
    "<div style=\"direction:rtl; font-size: 17px; font-family: 'XB Zar'; line-height: 200%\">\n",
    "<div style=\"font-size: 17px; color: #ff6600; font-weight: bold\">\n",
    "راه حل دوم\n",
    "</div>            \n",
    "    حال سعی می‌کنیم الگوریتمی با پیچیدگی زمانی بهتر بسازیم، در راه اول \n",
    "    $ n $ \n",
    "    بار عدد \n",
    "    $ x $ \n",
    "    را در خودش ضرب میکردیم و اینکار زمان بسیار زیادی از می میگرفت، حال سعی میکنیم با استفاده از تقسیم و حل راه‌حلی جدید ارائه دهیم\n",
    "    <br>\n",
    "    در این راه‌حل به‌جای آنکه \n",
    "    $ x^{n-1} $ \n",
    "    را محاسبه کنیم و در \n",
    "    $ x $ \n",
    "    ضرب کنیم، مقدار \n",
    "    $ x ^ {\\frac{n}{2}} $\n",
    "    را محاسبه می‌کنیم و در خودش ضرب می‌کنیم تا \n",
    "    $ x ^ n $ \n",
    "    به‌دست آید\n",
    "    <br>\n",
    "    کد مربوط به این الگوریتم را در زیر می‌بینید\n",
    "</div>"
   ]
  },
  {
   "cell_type": "code",
   "execution_count": 4,
   "metadata": {
    "pycharm": {
     "name": "#%%\n"
    }
   },
   "outputs": [],
   "source": [
    "int divide_and_conquer_algorithm(int x, int n){\n",
    "    int answer;\n",
    "    if (n == 0)\n",
    "        return 1;\n",
    "    answer = divide_and_conquer_algorithm(x, n/2);\n",
    "    if (n % 2 == 0)\n",
    "        return answer * answer;\n",
    "    else\n",
    "        return answer * answer * x;\n",
    "}"
   ]
  },
  {
   "cell_type": "code",
   "execution_count": 5,
   "metadata": {},
   "outputs": [
    {
     "name": "stdout",
     "output_type": "stream",
     "text": [
      "25"
     ]
    }
   ],
   "source": [
    "{\n",
    "    // answer should be 625\n",
    "    cout << divide_and_conquer_algorithm(5, 2);\n",
    "}"
   ]
  },
  {
   "cell_type": "markdown",
   "metadata": {},
   "source": [
    "<div style=\"direction:rtl; font-size: 17px; font-family: 'XB Zar'; line-height: 200%\">\n",
    "<div style=\"font-size: 17px; color: #ff6600; font-weight: bold\">\n",
    "تحلیل زمانی این راه حل\n",
    "</div>            \n",
    "    در تحلیل زمانی این راه‌حل می‌دانیم برای محاسبه‌ی \n",
    "    $ x ^ n $\n",
    "    میتوان \n",
    "    $ x ^ {n-1} $\n",
    "    را محاسبه کرد و با تعدادی عمل ضرب و یک دستور شرطی مقدار \n",
    "    $ x ^ n $\n",
    "    را محاسبه کرد.\n",
    "    <br>\n",
    "    پس اگر زمان این الگوریتم را برابر \n",
    "    $ \\mathcal{T}(n) $\n",
    "    در نظر بگیریم، می‌دانیم که \n",
    "    $ \\mathcal{T}(n) = \\mathcal{T}(\\frac{n}{2}) + \\mathcal{O}(1) $\n",
    "    که با حل معادله‌ی بازگشتی ، زمان الگوریتم در \n",
    "    $ \\mathcal{O}(\\log n) $\n",
    "    است\n",
    "<hr>\n",
    "</div>"
   ]
  }
 ],
 "metadata": {
  "kernelspec": {
   "display_name": "C++11",
   "language": "C++11",
   "name": "xcpp11"
  },
  "language_info": {
   "codemirror_mode": "text/x-c++src",
   "file_extension": ".cpp",
   "mimetype": "text/x-c++src",
   "name": "c++",
   "version": "11"
  },
  "pycharm": {
   "stem_cell": {
    "cell_type": "raw",
    "metadata": {
     "collapsed": false
    },
    "source": []
   }
  }
 },
 "nbformat": 4,
 "nbformat_minor": 1
}
