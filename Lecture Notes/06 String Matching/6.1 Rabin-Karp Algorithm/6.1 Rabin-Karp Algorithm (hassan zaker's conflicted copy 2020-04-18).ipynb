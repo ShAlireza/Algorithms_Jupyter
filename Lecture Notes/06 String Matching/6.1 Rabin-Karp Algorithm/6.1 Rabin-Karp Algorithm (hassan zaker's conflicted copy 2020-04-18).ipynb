{
 "cells": [
  {
   "cell_type": "markdown",
   "metadata": {},
   "source": [
    "<div style=\"direction:rtl;line-height:300%;\"> <font face=\"XB Zar\">\n",
    "<div align=center>\n",
    "    <div style=\"font-size:14px\">\n",
    "    به نام خدا\n",
    "    </div><br>\n",
    "    <strong><div style=\"font-size:50px; color: blue\">\n",
    "    طراحی الگوریتم‌ها\n",
    "    </div></strong>\n",
    "    <br>\n",
    "    <div style=\"font-size:20px; color: #ff6600\">\n",
    "    دانشگاه صنعتی شریف، دانشکده مهندسی کامپیوتر\n",
    "    </div>\n",
    "    <div style=\"font-size:15px; color: black\">\n",
    "        نیم‌سال دوم سال تحصیلی ۹۸-۹۹\n",
    "    </div>\n",
    "    <hr>\n",
    "    <strong><div style=\"font-size:35px; color: red\">\n",
    "        فصل ششم: تطابق رشته\n",
    "    </div></strong><br>\n",
    "    <div style=\"font-size:30px; color: navy\">\n",
    "        بخش اول: اثر انگشت و الگوریتم رابین-کارپ\n",
    "    </div><br>\n",
    "    <div style=\"font-size:20px; color: black\">\n",
    "        مهدی عرفانیان، حسن ذاکر\n",
    "    </div>\n",
    "\n",
    "</div>\n",
    "<hr>"
   ]
  },
  {
   "cell_type": "markdown",
   "metadata": {},
   "source": [
    "<div id=\"section3\" style=\"direction:rtl; font-size: 17px; font-family: 'XB Zar'; line-height: 200%\">\n",
    "<div style=\"font-size: 22px; color: #ff6600; font-weight: bold\">\n",
    "الگوریتم رابین-کارپ\n",
    "</div><br>            \n",
    "\n",
    "<hr>\n",
    "</div>"
   ]
  },
  {
   "cell_type": "markdown",
   "metadata": {},
   "source": [
    "<div style=\"direction:rtl; font-size: 17px; font-family: 'XB Zar'; line-height: 200%\">\n",
    "مسالهٔ اصلی در این درس‌نامه پیدا کردن یک الگو در یک رشته است؛ این که در ورودی دو رشتهٔ s و\n",
    "t \n",
    "داریم که \n",
    "$len(t) >> len(s)$.\n",
    "و می‌خواهیم بدانیم که آیا رشتهٔ s در t تکرار شده است یا نه.\n",
    "روش‌های مختلفی برای این کار ارائه شده و در ادامه به روش رابین‌-کارپ که روشی مبتنی بر هش است خواهیم پرداخت. \n",
    " <div style=\"direction:rtl;font-size: 18px; color: #ff6600; font-weight: bold\">\n",
    "        راه حل اولیه\n",
    "    </div>\n",
    "<div>\n",
    "   ابتدا برای متمرکز شدن بر روی هدف اصلی الگوریتم سعی می‌کنیم تا مساله را با راحت‌ترین روشی که به ذهن می‌رسد حل کنیم. سپس مشکلات این روش را بررسی کرده و به روش رابین-کارپ برسیم. <br>\n",
    "    روشی که به صورت خیلی ساده مساله را حل می‌کند چک کردن هر زیررشتهٔ t به صورت حرف به حرف با حروف رشتهٔ s است. در صورتی که بخواهیم شبه‌کد این الگوریتم را بنویسیم به کد زیر می‌رسیم. هم‌چنین تصویر زیر این الگوریتم را شرح می‌دهد.\n",
    "   </div>\n",
    "    \n"
   ]
  },
  {
   "cell_type": "markdown",
   "metadata": {},
   "source": [
    "<div style=\"direction:rtl; font-size: 17px; font-family: 'XB Zar'; line-height: 200%\">\n",
    "<figure>\n",
    "<img src=\"naive_alg.jpg\" width=\"50%\">\n",
    "<center>\n",
    "<figcaption>الگوریتم brute force</figcaption>\n",
    "</center>\n",
    "</figure>"
   ]
  },
  {
   "cell_type": "code",
   "execution_count": 1,
   "metadata": {},
   "outputs": [],
   "source": [
    "#include <iostream>\n",
    "#include <string.h>\n",
    "\n",
    "using namespace std;"
   ]
  },
  {
   "cell_type": "code",
   "execution_count": 2,
   "metadata": {},
   "outputs": [],
   "source": [
    "bool simpleAlgorithm(string t, string s){\n",
    "    for (int i = 0; i < t.size() - s.size(); i++) {\n",
    "        if (s == t.substr(i,  s.size())){\n",
    "            return true;\n",
    "        }\n",
    "    }\n",
    "    return false;\n",
    "}"
   ]
  },
  {
   "cell_type": "markdown",
   "metadata": {},
   "source": [
    "<div style=\"direction:rtl; font-size: 17px; font-family: 'XB Zar'; line-height: 200%\">\n",
    " <div style=\"direction:rtl;font-size: 18px; color: #ff6600; font-weight: bold\">\n",
    "        تحلیل زمانی الگوریتم ساده\n",
    "    </div>\n",
    "برای تحلیل زمانی این الگوریتم باید توجه کنیم که به اندازهٔ\n",
    "$len(t - s) $\n",
    "بار دو زیر رشته \n",
    "با هم مقایسه می‌شوند و هر مقایسه حرف به حرف \n",
    "$len(s)$\n",
    "هزینه دارد. پس داریم:\n",
    "<center>\n",
    "$ T(simple\\_algorithm) = \\theta (\\mid s \\mid * (\\mid t \\mid - \\mid s \\mid))$\n",
    "</center>\n",
    "بدیهتا در صورتی که طول رشتهٔ الگو زیاد باشد این الگوریتم بسیار نابهینه عمل می‌کند و می‌تواند از \n",
    "$\\theta (n^2)$\n",
    "باشد. همچنین می‌توانیم حد پایین \n",
    "$\\theta(\\mid s \\mid + \\mid t \\mid)$ \n",
    "را برای حل این مساله متصور شویم چون حداقل یک‌بار باید دو رشته را از ورودی بخوانیم. پس بهترین الگوریتمی که می‌تواند داشته باشیم در زمان خطی نسبت به s و t مساله را حل می‌کند. روش‌های مختلفی \n",
    "برای حل این مساله در این زمان وجود دارند و روش رابین-کارپ نیز در average-caseیکی از آن‌هاست. در ادامه این روش را بررسی خواهیم کرد.\n",
    "</div>"
   ]
  },
  {
   "cell_type": "markdown",
   "metadata": {},
   "source": [
    " <div style=\"direction:rtl; font-size: 17px; font-family: 'XB Zar'; line-height: 200%\">\n",
    " <div style=\"direction:rtl;font-size: 20px; color: #ff6600; font-weight: bold\">\n",
    "        رابین-کارپ\n",
    "    </div>\n",
    "    <br><div>\n",
    "    می‌دانیم که هر رشته متنی را می‌توان با الگوریتم‌های مختلف درهم‌سازی (هش) به یک عدد نظیر کرد، یکی از راه‌حل‌هایی که می‌توانیم برای تطابق رشته داشته باشیم این است که به جای این که دو رشته را به صورت حرف به حرف با هم مقایسه کنیم مقدار هش آن‌ها را با هم مقایسه کنیم، در صورتی که به هر شکلی (مثلا پیش‌پردازش) در زمان \n",
    "    ثابت به مقدار هش هر زیررشته دسترسی داشته باشیم می‌توانیم در زمان ثابت زیررشتهٔ انتخابی از t را با \n",
    "    رشتهٔ s مقایسه کنیم \n",
    "     و در این صورت مساله را می‌توانیم در زمان خطی که مطلوب ماست حل کنیم. \n",
    "     </div><br>\n",
    "     <figure>\n",
    "          <img src=\"hash_function.png\">\n",
    "          <center>\n",
    "          <figcaption>عملکرد تابع‌های درهم‌سازی به صورت انتزاعی </figcaption></center>\n",
    "     </figure>\n",
    "<div>\n",
    "     داده‌ساختار فرضی‌ را در نظر بگیرید که بتواند در \n",
    "     O(1) \n",
    "     مقدار هش یک رشته را بدهد، حرفی به انتهای آن رشته اضافه کند و هش رشتهٔ جدید را محاسبه کند یا این که حرف اول رشته را حذف کرده و مقدار هش جدید را نیز محاسبه کند، در صورتی که چنین داده‌ساختاری داشته باشیم می‌توانیم مساله تطابق رشته را با شبه‌کد زیر حل کنیم. \n",
    "     </div>"
   ]
  },
  {
   "cell_type": "code",
   "execution_count": null,
   "metadata": {},
   "outputs": [],
   "source": [
    "int hash_function1(string s){\n",
    "    int hash = 0;\n",
    "    int P = 1;\n",
    "    for (int i=0; i<s.size(); i++){\n",
    "        i += s[i] * P;\n",
    "        P = P * 31;\n",
    "    }\n",
    "}"
   ]
  },
  {
   "cell_type": "markdown",
   "metadata": {},
   "source": [
    "```python\n",
    "# suppose s is the pattern that we are looking for in t\n",
    "# rs and rt respectively are rolling hash functions of s and t\n",
    "# rs() gives the hash value, rs.skip(c) removes char c from first of rs\n",
    "# rs.append(c) concatenates char c to the end of string\n",
    "\n",
    "def rabin_karp_abstraction()\n",
    "    for c in s: # computes the hash of s, rs is an empty string\n",
    "        rs.append(c)\n",
    "    \n",
    "    for c in t[:len(s)]: # after this loop, rt would be rolling hash of first s characters of t; \n",
    "        rt.append(c)\n",
    "        \n",
    "    if(rs() == rt()):\n",
    "        return True \n",
    "        \n",
    "    for i in range(len(s), len(t): \n",
    "        rt.skip(t[i - len(s)]) \n",
    "        rt.append(t[i])\n",
    "        if(rt() == rs()):\n",
    "            return True \n",
    "            \n",
    "    return False \n",
    "```"
   ]
  },
  {
   "cell_type": "markdown",
   "metadata": {},
   "source": [
    " <div style=\"direction:rtl; font-size: 17px; font-family: 'XB Zar'; line-height: 200%\">\n",
    "<div>\n",
    " الگوریتم فوق در صورتی که هیچ‌گاه مقدار هش دو رشتهٔ متفاوت هیچ‌گاه دو مقدار یکسان نشوند درست عمل می‌کند اما می‌توانیم برای مطمئن شدن از درستی الگوریتم وقتی مقدار هش \n",
    " $rs()$ و $rt()$\n",
    " برابر شدند حرف به حرف دو رشته را چک کنیم.\n",
    " این الگوریتم در زمان خطی نسبت به ورودی‌ها مسالهٔ ما را حل می‌کند،‌کلیت الگوریتم رابین-کارپ نیز به همین شکل کار می‌کند ولی مساله نهایی این است که چطور می‌توان داده‌ساختار فرض شده را پیاده‌سازی کرد. \n",
    " </div>\n"
   ]
  },
  {
   "cell_type": "markdown",
   "metadata": {},
   "source": [
    " <div style=\"direction:rtl; font-size: 17px; font-family: 'XB Zar'; line-height: 200%\">\n",
    " <div style=\"direction:rtl;font-size: 18px; color: #ff6600; font-weight: bold\">\n",
    "      پیاده‌سازی\n",
    "    </div>\n",
    "    <div>\n",
    "    اولین سوال در این قسمت این است که چطور یک رشتهٔ متنی را به یک عدد تبدیل کنیم تا پس از آن با یک تابع درهم‌سازی آن را\n",
    "    هش کنیم. شاید مجموع اعداد اسکی حروف رشته به ذهن خطور کند اما باید توجه داشت که این  نمایش رشته به صورت عدد \n",
    "    ترتیب کاراکترها را در نظر نمی ‌گیرد و غلط است. در نمایش دیگری می‌توانیم هر کاراکتر را یک عدد در مبنای کل حروف الفبا در نظر\n",
    "    بگیریم. این نظیرسازی یک‌به‌یک و برگشت‌پذیر است و انتخابی ایده‌آل برای تبدیل رشته به عدد محسوب می شود، پس از این پس \n",
    "    هر رشته را یک عدد در مبنای تعداد حروف الفبا می‌بینیم. \n",
    "    \n",
    "<br>\n",
    "حال باید این عدد متناظر با رشته را هش کنیم؛ یکی از ساده‌ترین تابع‌های درهم‌سازی تابع گرفتن باقی‌مانده بر یک عدد اول بزرگ است؛ برای یادآوری از مبحث هش، هر تابع درهم سازی تابعی‌ست که یک عدد ورودی که در فضای بزرگ N قرار\n",
    "دارد را ورودی می‌گیرد و آن را به یک عدد در فضای کوچک‌تر \n",
    "M\n",
    "نظیر می‌کند، N .\n",
    "<br>\n",
    " می‌دانیم که می‌توانیم باقی‌ماندهٔ یک عدد را بر دیگری در زمان ثابت به دست بیاوریم، پس اضافه کردن دو قابلیت اصلی حذف حرف c از اول رشته و \n",
    " اضافه کردن حرف c به انتهای رشته\n",
    " برای پیاده‌سازی الگوریتم بالا می‌ماند. اگر دوباره به تعبیر عددی خود از یک رشتهٔ متنی برگردیم، می‌بینیم که اضافه کردن یک عدد به اتنهای یک رشته معادل با یک بار شیفت چپ تمامی رقم‌های قبلی و جمع کردن عدد جدید با عدد جدید است.\n",
    "که معادل با ضرب عدد فعلی در مبنا و جمع با عدد جدید است. اگر مقدار قبلی هش را u و عدد مبنا را a و عدد حرف جدید در مبنای a را c در نظر بگیریم داریم.\n",
    " <center>\n",
    " $append(c):\n",
    " u = u.a + c \n",
    " $\n",
    " </center>\n",
    " هم‌چنین می‌دانیم که مقدار باقی‌ماندهٔ عدد هش اولیه نسبت به m با مقدار این باقی‌مانده \n",
    " نسبت به m تفاوتی ندارد. \n",
    " \n",
    " <br>\n",
    " برای حذف یک حرف از اول رشته می‌توانیم تصور کنیم که msb را باید حذف کنیم، پس باید عدد \n",
    " فعلی را از $c * a ^ {\\mid u \\mid - 1}$ کم کنیم. \n",
    " \n",
    "  <center>\n",
    " $skip(c):\n",
    " u = u - c * a ^ {\\mid u \\mid - 1}\n",
    " $\n",
    " </center> \n",
    " کد زیر این الگوریتم را با توجه به نکات گفته‌شده پیاده‌سازی کرده است. \n",
    "<div>"
   ]
  },
  {
   "cell_type": "code",
   "execution_count": 3,
   "metadata": {},
   "outputs": [],
   "source": [
    "bool rabinKarp(string t, string s, int q){\n",
    "    // q is a prime number\n",
    "    int tHash = 0;\n",
    "    int sHash = 0;\n",
    "    int h = 1;\n",
    "\n",
    "    for (int i = 0; i < s.size() - 1; i++) {\n",
    "        h = (h * 26) % q;\n",
    "    }\n",
    "\n",
    "\n",
    "    for (int i = 0; i < s.size() ; i++) {\n",
    "        sHash = (26 * sHash + s[i]) % q;\n",
    "        tHash = (26 * tHash + t[i]) % q;\n",
    "    }\n",
    "\n",
    "    for (int i = 0; i <= t.size() - s.size(); i++) {\n",
    "        if (sHash == tHash){\n",
    "            if (s == t.substr(i,  s.size())){\n",
    "                return true;\n",
    "            }\n",
    "        }\n",
    "\n",
    "            tHash = (26*(tHash - t[i]*h) + t[i+s.size()])%q;\n",
    "\n",
    "            if (tHash < 0)\n",
    "                tHash = (tHash + q);\n",
    "\n",
    "    }\n",
    "\n",
    "    return false;\n",
    "    \n",
    "}"
   ]
  },
  {
   "cell_type": "code",
   "execution_count": 4,
   "metadata": {},
   "outputs": [
    {
     "name": "stdout",
     "output_type": "stream",
     "text": [
      "1"
     ]
    }
   ],
   "source": [
    "{\n",
    "    string t = \"salam bar aqa daqiq\";\n",
    "    string s = \"daqiq\";\n",
    "    cout<<rabinKarp(t, s, 157);\n",
    "\n",
    "}"
   ]
  },
  {
   "cell_type": "markdown",
   "metadata": {},
   "source": [
    " <div style=\"direction:rtl; font-size: 17px; font-family: 'XB Zar'; line-height: 200%\">\n",
    " <div style=\"direction:rtl;font-size: 18px; color: #ff6600; font-weight: bold\">\n",
    "    تحلیل زمانی و جمع‌بندی\n",
    "    </div>\n",
    "    "
   ]
  },
  {
   "cell_type": "markdown",
   "metadata": {},
   "source": [
    " <div style=\"direction:rtl; font-size: 17px; font-family: 'XB Zar'; line-height: 200%\">\n",
    " یک‌بار دیگر اتفاقات افتاده در الگوریتم را خلاصتا مرور می‌کنیم. \n",
    " <ol>\n",
    " <li> دو رشته s , t را ورودی می‌گیریم، عدد q را به عنوان یک عدد اول بزرگ برای هش کردن نیز در نظر می‌گیریم. </li>\n",
    " <li> مقدار هش رشته s را محاسبه می‌کنیم. </li>\n",
    " <li> مقدار هش s کاراکتر اول t را محاسبه می‌کنیم.</li>\n",
    " <li> در صورتی که مقدار هش دو رشته یکی بودند حرف به حرف چک می‌کنیم و در صورت برابر بودن جواب را برمی‌گردانیم.</li>\n",
    " <li> در غیر این صورت حرف اول را از مقدار هش rt اسکیپ کرده و حرف جدید بعدی را به آن اضافه می‌کنیم.</li>\n",
    " <li> تا به انتهای رشته t نرسیده‌ایم به مرحلهٔ ۴ برمی‌گردیم. </li>\n",
    " </ol>\n",
    " هم‌چنین برای اضافه کردن حرف به انتهای رشته و حذف حرف از ابتدای آن از نکات گفته‌شده در قسمت پیاده‌سازی استفاده می‌کنیم. <br>\n",
    " در تحلیل زمانی اگر از double check رشته استفاده نکنیم و اگر مقدار هش دو رشته یکی بود مقدار True را برگردانیم \n",
    " الگوریتم از سری الگوریتم‌های مونت‌کارلو خواهد بود و ممکن است در شرایطی پاسخ صحیح را برنگرداند اما در اردر زمانی\n",
    " $o(|s| + |t|)$ \n",
    " پاسخ را پیدا می‌کند. اما اگر double check کنیم در شرایطی می‌توان نشان داد که در average-case الگوریتم در اردر\n",
    " $o(|s| + |t|)$ \n",
    " جواب می‌دهد. پیشنهاد می‌کنم برای آشنایی بیشتر با این الگوریتم \n",
    "<a href=\"https://ocw.mit.edu/courses/electrical-engineering-and-computer-science/6-006-introduction-to-algorithms-fall-2011/lecture-videos/lecture-9-table-doubling-karp-rabin/\">این لینک</a>\n",
    "را نیز ببینید. \n",
    "</div>"
   ]
  },
  {
   "cell_type": "code",
   "execution_count": 39,
   "metadata": {},
   "outputs": [],
   "source": [
    "void rabinCarp19(string t, string s){\n",
    "    cout << \"Salam\" << '\\n';\n",
    "    if (s.size() > t.size()){\n",
    "        return;\n",
    "    }\n",
    "    \n",
    "    long long mod = 1e9 + 7;\n",
    "    \n",
    "    long long p = 2;\n",
    "    vector <long long> powers;\n",
    "    powers.push_back(1);\n",
    "    \n",
    "    for (int i=1; i<=t.size(); i++)\n",
    "        powers.push_back((powers.back() * p) % mod);\n",
    "    \n",
    "    vector<long long> tHash;\n",
    "    \n",
    "    long long sHash = 0;\n",
    "    \n",
    "    for (int i=0; i<t.size(); i++){\n",
    "        long long last = 0;\n",
    "        if (i)\n",
    "            last = tHash.back();\n",
    "        tHash.push_back (last + (t[i] - 'a' + 1) * powers[t.size() - i] % mod);\n",
    "    \n",
    "        if (i < s.size())\n",
    "            sHash = (sHash + (s[i] - 'a' + 1) * powers[t.size() - i] % mod);\n",
    "    }\n",
    "    \n",
    "    for (int i=0; i<t.size(); i++)\n",
    "        cout << tHash[i] << ' ';\n",
    "    \n",
    "    cout << (sHash) << \"\\n\";\n",
    "    \n",
    "    for (int i=0; i + s.size() - 1 <t.size(); i++){\n",
    "        long long substr_hash = (tHash[i + s.size() - 1] - (i ? tHash[i-1] : 0) + mod)%mod * powers[i] % mod;\n",
    "        cout << substr_hash << \" \";\n",
    "        if (substr_hash == sHash){\n",
    "            cout << \"Found an occurrence at index \" << i << '\\n';\n",
    "        }\n",
    "    }\n",
    "}"
   ]
  },
  {
   "cell_type": "code",
   "execution_count": 42,
   "metadata": {},
   "outputs": [
    {
     "name": "stdout",
     "output_type": "stream",
     "text": [
      "Salam\n",
      "1024 1536 1792 1920 1984 2016 2032 2040 2044 2046 1024\n",
      "1024 Found an occurrence at index 0\n",
      "1024 Found an occurrence at index 1\n",
      "1024 Found an occurrence at index 2\n",
      "1024 Found an occurrence at index 3\n",
      "1024 Found an occurrence at index 4\n",
      "1024 Found an occurrence at index 5\n",
      "1024 Found an occurrence at index 6\n",
      "1024 Found an occurrence at index 7\n",
      "1024 Found an occurrence at index 8\n",
      "1024 Found an occurrence at index 9\n"
     ]
    }
   ],
   "source": [
    "rabinCarp19(\"aaaaaaaaaa\", \"a\");"
   ]
  },
  {
   "cell_type": "code",
   "execution_count": 37,
   "metadata": {},
   "outputs": [
    {
     "data": {
      "text/plain": [
       "19"
      ]
     },
     "execution_count": 37,
     "metadata": {},
     "output_type": "execute_result"
    }
   ],
   "source": [
    "'s' - 'a' + 1"
   ]
  },
  {
   "cell_type": "markdown",
   "metadata": {},
   "source": []
  }
 ],
 "metadata": {
  "kernelspec": {
   "display_name": "Python 3",
   "language": "python",
   "name": "python3"
  },
  "language_info": {
   "codemirror_mode": {
    "name": "ipython",
    "version": 3
   },
   "file_extension": ".py",
   "mimetype": "text/x-python",
   "name": "python",
   "nbconvert_exporter": "python",
   "pygments_lexer": "ipython3",
   "version": "3.7.3"
  }
 },
 "nbformat": 4,
 "nbformat_minor": 2
}
