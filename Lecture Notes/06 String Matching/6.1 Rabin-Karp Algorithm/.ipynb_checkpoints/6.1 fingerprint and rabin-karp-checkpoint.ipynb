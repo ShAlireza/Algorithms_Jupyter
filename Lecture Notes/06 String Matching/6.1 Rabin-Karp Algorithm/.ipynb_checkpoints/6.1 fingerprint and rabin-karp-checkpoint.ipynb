{
 "cells": [
  {
   "cell_type": "markdown",
   "metadata": {},
   "source": [
    "<div style=\"direction:rtl;line-height:300%;\"> <font face=\"XB Zar\">\n",
    "<div align=center>\n",
    "    <div style=\"font-size:14px\">\n",
    "    به نام خدا\n",
    "    </div><br>\n",
    "    <strong><div style=\"font-size:50px; color: blue\">\n",
    "    طراحی الگوریتم‌ها\n",
    "    </div></strong>\n",
    "    <br>\n",
    "    <div style=\"font-size:20px; color: #ff6600\">\n",
    "    دانشگاه صنعتی شریف، دانشکده مهندسی کامپیوتر\n",
    "    </div>\n",
    "    <div style=\"font-size:15px; color: black\">\n",
    "        نیم‌سال دوم سال تحصیلی ۹۸-۹۹\n",
    "    </div>\n",
    "    <hr>\n",
    "    <strong><div style=\"font-size:35px; color: red\">\n",
    "        فصل ششم: تطابق رشته\n",
    "    </div></strong><br>\n",
    "    <div style=\"font-size:30px; color: navy\">\n",
    "        بخش اول: اثر انگشت و الگوریتم رابین-کارپ\n",
    "    </div><br>\n",
    "    <div style=\"font-size:20px; color: black\">\n",
    "        مهدی عرفانیان، حسن ذاکر\n",
    "    </div>\n",
    "\n",
    "</div>\n",
    "<hr>"
   ]
  },
  {
   "cell_type": "markdown",
   "metadata": {},
   "source": [
    "<div style=\"direction:rtl; font-size: 17px; font-family: 'XB Zar'; line-height: 200%\">\n",
    "<div style=\"font-size: 22px; color: #ff6600; font-weight: bold\">\n",
    "فهرست محتویات\n",
    "</div>         \n",
    "<ul style=\"margin-right: 0;\">\n",
    "    <li><a href=\"#section1\">مقدمه</a></li>\n",
    "    <li><a href=\"#section2\"></a>بخش اول: اثر انگشت</li>\n",
    "    <li><a href=\"#section3\"></a>بخش دوم: الگوریتم رابین-کارپ</li>\n",
    "</ul>\n",
    "</div>"
   ]
  },
  {
   "cell_type": "markdown",
   "metadata": {},
   "source": [
    "<div id=\"section1\" style=\"direction:rtl; font-size: 17px; font-family: 'XB Zar'; line-height: 200%\">\n",
    "<div style=\"font-size: 22px; color: #ff6600; font-weight: bold\">\n",
    "مقدمه\n",
    "</div><br>\n",
    "</div>\n",
    "<hr>"
   ]
  },
  {
   "cell_type": "markdown",
   "metadata": {},
   "source": [
    "<div id=\"section2\" style=\"direction:rtl; font-size: 17px; font-family: 'XB Zar'; line-height: 200%\">\n",
    "<div style=\"font-size: 22px; color: #ff6600; font-weight: bold\">\n",
    "بخش اول: اثر انگشت\n",
    "</div><br>            \n",
    "\n",
    "<hr>\n",
    "</div>    "
   ]
  },
  {
   "cell_type": "markdown",
   "metadata": {},
   "source": [
    "<div id=\"section3\" style=\"direction:rtl; font-size: 17px; font-family: 'XB Zar'; line-height: 200%\">\n",
    "<div style=\"font-size: 22px; color: #ff6600; font-weight: bold\">\n",
    "بخش دوم: الگوریتم رابین-کارپ\n",
    "</div><br>            \n",
    "\n",
    "<hr>\n",
    "</div>"
   ]
  },
  {
   "cell_type": "markdown",
   "metadata": {},
   "source": [
    "<div style=\"direction:rtl; font-size: 17px; font-family: 'XB Zar'; line-height: 200%\">\n",
    "مسالهٔ اصلی در این درس‌نامه پیدا کردن یک الگو در یک رشته است؛ این که در ورودی دو رشتهٔ s و\n",
    "t \n",
    "داریم که \n",
    "$len(t) >> len(s)$.\n",
    "و می‌خواهیم بدانیم که آیا رشتهٔ s در t تکرار شده است یا نه.\n",
    "روش‌های مختلفی برای این کار ارائه شده و در این درس‌نامه تا این‌جا مفصلا به بررسی روش اثر انگشت پرداخته‌ایم. در ادامه به روش رابین‌-کارپ که روشی مبتنی بر هش است خواهیم پرداخت. \n",
    " <div style=\"direction:rtl;font-size: 18px; color: #ff6600; font-weight: bold\">\n",
    "        راه حل اولیه\n",
    "    </div>\n",
    "<div>\n",
    "   ابتدا برای متمرکز شدن بر روی هدف اصلی الگوریتم سعی می‌کنیم تا مساله را با راحت‌ترین روشی که به ذهن می‌رسد حل کنیم. سپس مشکلات این روش را بررسی کرده و به روش رابین-کارپ برسیم. <br>\n",
    "    روشی که به صورت خیلی ساده مساله را حل می‌کند چک کردن هر زیررشتهٔ t به صورت حرف به حرف با حروف رشتهٔ s است. در صورتی که بخواهیم شبه‌کد این الگوریتم را بنویسیم به کد زیر می‌رسیم. \n",
    "   </div>\n",
    "    \n"
   ]
  },
  {
   "cell_type": "markdown",
   "metadata": {},
   "source": [
    "```python\n",
    "simple_algorithm(s, t):\n",
    "for i in range(len(t) - len(s)): \n",
    "    if(s == t[i : i + len(s)]\n",
    "        return true\n",
    "return false\n",
    "\n",
    "```"
   ]
  },
  {
   "cell_type": "markdown",
   "metadata": {},
   "source": [
    "<div style=\"direction:rtl; font-size: 17px; font-family: 'XB Zar'; line-height: 200%\">\n",
    "برای تحلیل زمانی این الگوریتم باید توجه کنیم که به اندازهٔ\n",
    "$len(t - s) $\n",
    "بار دو زیر رشته \n",
    "با هم مقایسه می‌شوند و هر مقایسه حرف به حرف \n",
    "$len(s)$\n",
    "هزینه دارد. پس داریم:\n",
    "<center>\n",
    "$ T(simple\\_algorithm) = \\theta (\\mid s \\mid * (\\mid t \\mid - \\mid s \\mid))$\n",
    "</center>\n",
    "بدیهتا در صورتی که طول رشتهٔ الگو زیاد باشد این الگوریتم بسیار نابهینه عمل می‌کند و می‌تواند از \n",
    "$\\theta (n^2)$\n",
    "باشد. همچنین می‌توانیم حد پایین \n",
    "$\\theta(\\mid s \\mid + \\mid t \\mid)$ \n",
    "را برای حل این مساله متصور شویم چون حداقل یک‌بار باید دو رشته را از ورودی بخوانیم. پس بهترین الگوریتمی که می‌تواند داشته باشیم در زمان خطی نسبت به s و t مساله را حل می‌کند. روش‌های مختلفی \n",
    "برای حل این مساله در این زمان وجود دارند و روش رابین-کارپ نیز یکی از آن‌هاست. در ادامه این روش را بررسی خواهیم کرد.\n",
    "</div>"
   ]
  },
  {
   "cell_type": "markdown",
   "metadata": {},
   "source": [
    " <div style=\"direction:rtl; font-size: 17px; font-family: 'XB Zar'; line-height: 200%\">\n",
    " <div style=\"direction:rtl;font-size: 18px; color: #ff6600; font-weight: bold\">\n",
    "        رابین-کارپ\n",
    "    </div>\n",
    "    می‌دانیم که هر رشته متنی را می‌توان با الگوریتم‌های مختلف درهم‌سازی (هش) به یک عدد نظیر کرد، یکی از راه‌حل‌هایی که می‌توانیم برای تطابق رشته داشته باشیم این است که به جای این که دو رشته را به صورت حرف به حرف با هم مقایسه کنیم مقدار هش آن‌ها را با هم مقایسه کنیم، در صورتی که به هر شکلی (مثلا پیش‌پردازش) در زمان \n",
    "    ثابت به مقدار هش هر زیررشته دسترسی داشته باشیم می‌توانیم در زمان ثابت زیررشتهٔ انتخابی از t را با \n",
    "    رشتهٔ s مقایسه کنیم \n",
    "     و در این صورت مساله را می‌توانیم در زمان خطی که مطلوب ماست حل کنیم. \n",
    "     <br>\n",
    "     داده‌ساختار فرضی‌ را در نظر بگیرید که بتواند در \n",
    "     O(1) \n",
    "     مقدار هش یک رشته را بدهد، حرفی به انتهای آن رشته اضافه کند و هش رشتهٔ جدید را محاسبه کند یا این که حرف اول رشته را حذف کرده و مقدار هش جدید را نیز محاسبه کند، در صورتی که چنین داده‌ساختاری داشته باشیم می‌توانیم مساله تطابق رشته را با شبه‌کد زیر حل کنیم. \n",
    "     </div>"
   ]
  },
  {
   "cell_type": "markdown",
   "metadata": {},
   "source": [
    "```python\n",
    "# rt is rolling hash obejct for string s,\n",
    "# rt() returns hash value,\n",
    "# rt.append(c) appends char c to the end of string\n",
    "# rt.skip(c) removes char c from the string. \n",
    "\n",
    "rolling_hash_algorithm(s,t):\n",
    "for c in s : rs.append(c)\n",
    "for c in t[:len(s):\n",
    "    rt.append(c)\n",
    "\n",
    "if rs.() == rt():\n",
    "    return true\n",
    "    \n",
    "for i in range(len(s), len(t)):\n",
    "    rt.skip(t[i - len(s)]\n",
    "    rt.append(t[i])\n",
    "    if rs.() == rt():\n",
    "        return true\n",
    "return false\n",
    "\n",
    "```\n"
   ]
  },
  {
   "cell_type": "markdown",
   "metadata": {},
   "source": [
    " <div style=\"direction:rtl; font-size: 17px; font-family: 'XB Zar'; line-height: 200%\">\n",
    "<div>\n",
    " الگوریتم فوق در صورتی که هیچ‌گاه مقدار هش دو رشتهٔ متفاوت هیچ‌گاه دو مقدار یکسان نشوند درست عمل می‌کند اما می‌توانیم برای مطمئن شدن از درستی الگوریتم وقتی مقدار هش \n",
    " $rs()$ و $rt()$\n",
    " برابر شدند حرف به حرف دو رشته را چک کنیم.\n",
    " این الگوریتم در زمان خطی نسبت به ورودی‌ها مسالهٔ ما را حل می‌کند،‌کلیت الگوریتم رابین-کارپ نیز به همین شکل کار می‌کند ولی مساله نهایی این است که چطور می‌توان داده‌ساختار فرض شده را پیاده‌سازی کرد. \n",
    " </div>\n"
   ]
  },
  {
   "cell_type": "markdown",
   "metadata": {},
   "source": [
    " <div style=\"direction:rtl; font-size: 17px; font-family: 'XB Zar'; line-height: 200%\">\n",
    " <div style=\"direction:rtl;font-size: 18px; color: #ff6600; font-weight: bold\">\n",
    "      پیاده‌سازی\n",
    "    </div>\n",
    "    <div>\n",
    "    اولین سوال در این قسمت این است که چطور یک رشتهٔ متنی را به یک عدد تبدیل کنیم تا پس از آن با یک تابع درهم‌سازی آن را\n",
    "    هش کنیم. شاید مجموع اعداد اسکی حروف رشته به ذهن خطور کند اما باید توجه داشت که این  نمایش رشته به صورت عدد \n",
    "    ترتیب کاراکترها را در نظر نمی ‌گیرد و غلط است. در نمایش دیگری می‌توانیم هر کاراکتر را یک عدد در مبنای کل حروف الفبا در نظر\n",
    "    بگیریم. این نظیرسازی یک‌به‌یک و برگشت‌پذیر است و انتخابی ایده‌آل برای تبدیل رشته به عدد محسوب می شود، پس از این پس \n",
    "    هر رشته را یک عدد در مبنای تعداد حروف الفبا می‌بینیم. \n",
    "    \n",
    "<br>\n",
    "حال باید این عدد متناظر با رشته را هش کنیم؛ یکی از ساده‌ترین تابع‌های درهم‌سازی تابع گرفتن باقی‌مانده بر یک عدد اول بزرگ است؛ برای یادآوری از مبحث هش، هر تابع درهم سازی تابعی‌ست که یک عدد ورودی که در فضای بزرگ N قرار\n",
    "دارد را ورودی می‌گیرد و آن را به یک عدد در فضای کوچک‌تر \n",
    "M\n",
    "نظیر می‌کند، N .\n",
    "<br>\n",
    " می‌دانیم که می‌توانیم باقی‌ماندهٔ یک عدد را بر دیگری در زمان ثابت به دست بیاوریم، پس اضافه کردن دو قابلیت اصلی حذف حرف c از اول رشته و \n",
    " اضافه کردن حرف c به انتهای رشته\n",
    " برای پیاده‌سازی الگوریتم بالا می‌ماند. اگر دوباره به تعبیر عددی خود از یک رشتهٔ متنی برگردیم، می‌بینیم که اضافه کردن یک عدد به اتنهای یک رشته معادل با یک بار شیفت چپ تمامی رقم‌های قبلی و جمع کردن عدد جدید با عدد جدید است.\n",
    "که معادل با ضرب عدد فعلی در مبنا و جمع با عدد جدید است. اگر مقدار قبلی هش را u و عدد مبنا را a و عدد حرف جدید در مبنای a را c در نظر بگیریم داریم.\n",
    " <center>\n",
    " $append(c):\n",
    " u = u.a + c \n",
    " $\n",
    " </center>\n",
    " هم‌چنین می‌دانیم که مقدار باقی‌ماندهٔ عدد هش اولیه نسبت به m با مقدار این باقی‌مانده \n",
    " نسبت به m تفاوتی ندارد. \n",
    " \n",
    " <br>\n",
    " برای حذف یک حرف از اول رشته می‌توانیم تصور کنیم که msb را باید حذف کنیم، پس باید عدد \n",
    " فعلی را از $c * a ^ {\\mid u \\mid - 1}$ کم کنیم. \n",
    " \n",
    "  <center>\n",
    " $skip(c):\n",
    " u = u - c * a ^ {\\mid u \\mid - 1}\n",
    " $\n",
    " </center>\n",
    "<div>"
   ]
  },
  {
   "cell_type": "code",
   "execution_count": null,
   "metadata": {},
   "outputs": [],
   "source": []
  }
 ],
 "metadata": {
  "kernelspec": {
   "display_name": "Python 3",
   "language": "python",
   "name": "python3"
  },
  "language_info": {
   "codemirror_mode": {
    "name": "ipython",
    "version": 3
   },
   "file_extension": ".py",
   "mimetype": "text/x-python",
   "name": "python",
   "nbconvert_exporter": "python",
   "pygments_lexer": "ipython3",
   "version": "3.7.3"
  }
 },
 "nbformat": 4,
 "nbformat_minor": 2
}
