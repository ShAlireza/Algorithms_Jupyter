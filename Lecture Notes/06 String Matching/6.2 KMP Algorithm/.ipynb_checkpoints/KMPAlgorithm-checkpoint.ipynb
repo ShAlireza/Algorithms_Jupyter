{
 "cells": [
  {
   "cell_type": "markdown",
   "metadata": {},
   "source": [
    " <div style=\"direction:rtl;line-height:300%;\"> <font face=\"XB Zar\">\n",
    "<div align=center>\n",
    "    <div style=\"font-size:14px\">\n",
    "    به نام خدا\n",
    "    </div><br>\n",
    "    <strong><div style=\"font-size:50px; color: blue\">\n",
    "    طراحی الگوریتم‌ها\n",
    "    </div></strong>\n",
    "    <br>\n",
    "    <div style=\"font-size:20px; color: #ff6600\">\n",
    "    دانشگاه صنعتی شریف، دانشکده مهندسی کامپیوتر\n",
    "    </div>\n",
    "    <div style=\"font-size:15px; color: black\">\n",
    "        نیم‌سال دوم سال تحصیلی ۹۸-۹۹\n",
    "    </div>\n",
    "    <hr>\n",
    "    <strong><div style=\"font-size:35px; color: red\">\n",
    "        فصل شش: تطابق رشته ها\n",
    "    </div></strong><br>\n",
    "    <div style=\"font-size:30px; color: navy\">\n",
    "        تطابق رشته‌ها:الگوریتم kmp\n",
    "    </div><br>\n",
    "    <div style=\"font-size:20px; color: black\">\n",
    "        محمد صانعیان، علیرضا دقیق\n",
    "    </div>\n",
    "\n",
    "</div>\n",
    "<hr>"
   ]
  },
  {
   "cell_type": "markdown",
   "metadata": {},
   "source": [
    "<div style=\"direction:rtl; font-size: 17px; font-family: 'XB Zar'; line-height: 200%\">\n",
    "<div style=\"font-size: 22px; color: #ff6600; font-weight: bold\">\n",
    "فهرست محتویات\n",
    "</div>         \n",
    "<ul style=\"margin-right: 0;\">\n",
    "    <li><a href=\"#section1\">مقدمه</a></li>\n",
    "    <li><a href=\"#section2\">تابع پیشوند برای یک الگو</a></li>\n",
    "    <li><a href=\"#section3\">مراجل الگوریتم و پیاده سازی</a></li>   \n",
    "\n",
    "</ul>\n",
    "</div>"
   ]
  },
  {
   "cell_type": "markdown",
   "metadata": {},
   "source": [
    "<div id=\"section1\" style=\"direction:rtl; font-size: 17px; font-family: 'XB Zar'; line-height: 200%\">\n",
    "<div style=\"font-size: 22px; color: #ff6600; font-weight: bold\">\n",
    "مقدمه\n",
    "</div>\n",
    "    <br>\n",
    "    تا کنون الگوریتم‌های مختلفی را برای تطابق رشته دیده‌اید.\n",
    " الگوریتم kmp  هم  یک الگوریتم تطابق رشته است که مبنای آن محاسبه و استفاده از یک تابع پیشوندی π روی الگویی است که به دنبال آن هستیم (π کاری به رشته اصلی ندارد).\n",
    "<br>\n",
    "    فرض کنید می‌خواهیم رشته Pattern[1..m] را در رشته S[1..n] پیدا کنیم. \n",
    "به صورت شهودی می‌خواهیم از چپ به راست حرکت کنیم و هر بار بدانیم که چه‌مقدار از Pattern  را دیدیم.\n",
    "    الگوریتم بدیهی را در نظر بگیرید، برای هر جای رشته تا جایی که با الگو مطابقت دارد جلو می‌رویم و اگر کل رشته الگو تطابق داشت یک match رخ داده است. \n",
    "  از نظر زمانی این روش $O(n \\times m)$ هزینه دارد که برای رشته‌های طولانی نابهینه است. \n",
    "    \n",
    "</div>\n",
    "<hr>"
   ]
  },
  {
   "cell_type": "markdown",
   "metadata": {},
   "source": [
    "<div id=\"section2\" style=\"direction:rtl; font-size: 17px; font-family: 'XB Zar'; line-height: 200%\">\n",
    "<div style=\"font-size: 22px; color: #ff6600; font-weight: bold\">\n",
    "تابع پیشوند برای یک الگو\n",
    "</div><br>\n",
    " فرض کنیم دنبال یافتن aab هستیم. وقتی روی کاراکتر‌های S حرکت می‌کنیم تا زمانی که a نبینیم اتفاق خاصی نیفتاده. بعد از اولین a اگر یک a دیگر هم باشد به یافتن الگو نزدیک می‌شویم و اگر نباشد مثل حالت اولیه است که هیج تطابق نسبی ای پیدا نکردیم. اگر الان در وضعیت aa باشیم بر حسب حرف بعدی در چه حالتی قرار می‌گیریم؟ آیا می‌توانید برای رشته‌های طولانی تر این تغییر حالت را بسط دهید؟   \n",
    "<br>\n",
    "<br>\n",
    "    تابع پیشوند برای یک الگو، اطلاعاتی را در مورد اینکه الگو چگونه با  جابجایی هایی از خود مطابقت می‌یابد ذخیره می‌کند.\n",
    "    <br>\n",
    "برای همین مفید است جواب  سوال زیر را بدانیم:\n",
    "    با دانستن اینکه کارکتر های P[1..q] در الگو باکارکتر های S[s+1..s+q] در متن مطابقت دارند کوچکترین جابجایی s'>s به طوری که P[1..k] = S[s'+1..s'+k] که در آن s' + k = s + q باشد چیست؟ <br>\n",
    "به طور مثال فرض کنید یک زیر رشته به طول 5 از Pattern با یک زیررشته به طول 5 از رشته اصلی مطابقت دارد.اگر کارکتر ششم با حرف بعدی S  مطابقت داشت که جلو می‌رویم در غیر این صورت به کمک تابع π می‌فهمیم که به چه پیشوند کوتاه‌تری از Pattern بازگردیم که بلندترین باشد و همچنان آخر متنمان با آن مساوی است! \n",
    "\n",
    "</div>\n",
    "<hr>"
   ]
  },
  {
   "cell_type": "markdown",
   "metadata": {},
   "source": [
    "<div id=\"section3\" style=\"direction:rtl; font-size: 17px; font-family: 'XB Zar'; line-height: 200%\">\n",
    "    <div style=\"font-size: 22px; color: #ff6600; font-weight: bold\">\n",
    "مراحل الگوریتم\n",
    "</div><br>\n",
    "فرض کنید می‌خواهیم رخدادهای t در s را پیدا کنیم. زیررشته‌ی متوالی حروف i تا j یک رشته مانند a را با a[i..j] نشان می‌دهیم. فرض کنید F(i) بلندترین پیشوند از t باشد که پسوند t[0..i−1] نیز هست اما با آن برابر نیست. برای i=0، فرض می‌کنیم F(0)=−1 و F(1)=0. برای مثال:<br>"
   ]
  },
  {
   "cell_type": "raw",
   "metadata": {},
   "source": [
    "i \t    0 \t1 \t2 \t3 \t4 \t5 \t6   7\n",
    "W[i] \tA \tB \tC \tD \tA \tB \tD   -\n",
    "F[i] \t-1 \t0 \t0 \t0 \t0 \t1 \t2   0"
   ]
  },
  {
   "cell_type": "markdown",
   "metadata": {},
   "source": [
    "<div id=\"section2\" style=\"direction:rtl; font-size: 17px; font-family: 'XB Zar'; line-height: 200%\">\n",
    "فرض کنید بتوانیم این تابع را در O(m) برای t محاسبه کنیم. الگوریتم KMP با استفاده از این تابع می‌تواند در O(n+m) مسئله‌ی یافتن رخدادها را حل کند. برای این‌کار الگوریتم روی حروف s حرکت می‌کند و با اضافه شدن هر حرف، عدد len را به روزرسانی می‌کند طوری که عدد len بعد از اضافه شدن حرف i برابر با طول بلندترین پیشوند t باشد که پسوند s[0..i] است.<br>\n",
    "    برای این‌کار کافی است به این نکته توجه شود که در هر لحظه s[i−len+1..i]=t[0..len−1] و به ازای هر y>len ، s[i−y+1..i]≠t[0..y−1]. بنابراین اگر s[i−z+1..i+1]=t[0..z−1] داریم z<=len+1. بنابراین در محاسبه‌ی len پس از اضافه شدن حرف i+1 ام تنها زیررشته‌ی s[i−x+1..i+1] موثر است. براساس همین استدلال می‌توان به صورت استقرایی نتیجه گرفت که برای محاسبه‌ی len بعدی می‌توان از تکه‌کد زیر استفاده کرد:\n",
    "    <br>\n",
    "در واقع محاسبه خود تابع پیشوندی هم از روشی مشابه استفاده می‌کند انگار دنبال پیدا کردن pattern در خودش هستیم صرفا نمی‌خواهیم کامل آن را پیدا کنیم. با دقت به نوع تغییرات در متغیر‌های cur و len می‌توانید ببینید چرا الگوریتم خطی است!\n"
   ]
  },
  {
   "cell_type": "raw",
   "metadata": {},
   "source": [
    "while(len && s[i] != pat[len])\n",
    "        len = f[len];\n",
    "        if(s[i] == pat[len])\n",
    "            len++;"
   ]
  },
  {
   "cell_type": "code",
   "execution_count": 5,
   "metadata": {},
   "outputs": [
    {
     "name": "stdout",
     "output_type": "stream",
     "text": [
      "test is: ABABABAC\n",
      "pat is: ABABAC\n",
      "Pi function\n",
      "\n",
      "F[1] = 0\n",
      "F[2] = 0\n",
      "F[3] = 1\n",
      "F[4] = 2\n",
      "F[5] = 3\n",
      "F[6] = 0\n",
      "\n",
      "Going over S to find pat\n",
      "1 2 3 4 5 4 5 6 [a match found at 7]\n"
     ]
    }
   ],
   "source": [
    "#include <iostream>\n",
    "using namespace std;\n",
    "\n",
    "{\n",
    "    int f[100];\n",
    "    string s = \"ABABABAC\";\n",
    "    string pat = \"ABABAC\";\n",
    "    bool input = false; // Change it to true and give your own input!\n",
    "    \n",
    "    if(input){\n",
    "        cin >> s >> pat;\n",
    "    }\n",
    "    \n",
    "    // F: Pi function, largest suffix of prefix with length i, which is a prefix of pattern\n",
    "    f[1] = 0;\n",
    "    int cur = 0;\n",
    "    for(int i=1; i<pat.size(); i++){\n",
    "        while(cur && pat[i] != pat[cur])\n",
    "            cur = f[cur];\n",
    "        if(pat[i] == pat[cur])\n",
    "            cur++;\n",
    "        f[i + 1] = cur;\n",
    "        \n",
    "    }\n",
    "    cout << \"test is: \" << s << endl;\n",
    "    cout << \"pat is: \" << pat << endl;\n",
    "    cout << \"Pi function\\n\" << endl;\n",
    "    for(int i=1; i<=pat.size(); i++)\n",
    "        cout << \"F\" << \"[\" << i << \"] = \" << f[i] << endl; \n",
    "    \n",
    "    // Finding matches\n",
    "    cout << \"\\nGoing over S to find pat\" << endl;\n",
    "    int len = 0;\n",
    "    for(int i=0; i<s.size(); i++){\n",
    "        while(len && s[i] != pat[len])\n",
    "            len = f[len];\n",
    "        if(s[i] == pat[len])\n",
    "            len++;\n",
    "        cout << len << \" \";\n",
    "        if(len == pat.size()){\n",
    "            cout << \"[a match found at \" << i <<\"]\" << endl;\n",
    "            len = f[len];\n",
    "        }\n",
    "    }\n",
    "}"
   ]
  },
  {
   "cell_type": "code",
   "execution_count": null,
   "metadata": {},
   "outputs": [],
   "source": []
  }
 ],
 "metadata": {
  "kernelspec": {
   "display_name": "C++11",
   "language": "C++11",
   "name": "xcpp11"
  },
  "language_info": {
   "codemirror_mode": "text/x-c++src",
   "file_extension": ".cpp",
   "mimetype": "text/x-c++src",
   "name": "c++",
   "version": "11"
  }
 },
 "nbformat": 4,
 "nbformat_minor": 2
}
