{
 "cells": [
  {
   "cell_type": "markdown",
   "metadata": {},
   "source": [
    "<div style=\"direction:rtl; font-size: 17px; font-family: 'XB Zar'; line-height: 200%\">\n",
    "<div style=\"font-size: 22px; color: #ff6600; font-weight: bold\">\n",
    "فهرست محتویات\n",
    "</div>         \n",
    "<ul style=\"margin-right: 0;\">\n",
    "    <li><a href=\"#section1\">مسئله‌ی اول: زمان بندی بازه‌ها</a></li>\n",
    "</ul>\n",
    "</div> "
   ]
  },
  {
   "cell_type": "markdown",
   "metadata": {},
   "source": [
    "<div id=\"section1\" style=\"direction:rtl; font-size: 17px; font-family: 'XB Zar'; line-height: 200%\">\n",
    "<div style=\"font-size: 22px; color: #ff6600; font-weight: bold\">\n",
    "مسئله‌ی اول: زمان بندی بازه‌ها\n",
    "</div><br>            \n",
    "$ N $\n",
    "بازه به صورت \n",
    "  $ (Start_i, End_i, Profit_i) $ \n",
    "    که \n",
    "    $ i $\n",
    "    اعداد بین ۱ تا\n",
    "    $ N $\n",
    "    هستند داده شده است، \n",
    "    که به ترتیب نقاط شروع و پایان و سود حاصل از آن بازه را نشان مي‌دهند.\n",
    "    <br>\n",
    "    بیشترین مقدار سود را در برداشتن تعدادی بازه که همپوشانی ندارند را به‌دست آورید!\n",
    "    <br>\n",
    "    به طور مثال برای بازه‌های \n",
    "    $ I_1 = ( 1, 2, 50 ) $ \n",
    "    و\n",
    "     $ I_2 = ( 3, 5, 20 ) $\n",
    "    و\n",
    "     $ I_3 = ( 6, 19, 100 ) $ \n",
    "     و\n",
    "     $ I_4 = ( 2, 100, 200 ) $ \n",
    "    بیشترین مقدار سود ممکن برابر ۲۵۰ است که با انتخاب بازه‌های ۱ و ۴ به‌دست می‌آید.\n",
    "    <br>\n",
    "<strong>\n",
    "نکته:\n",
    "</strong>    \n",
    "اکیدا توصیه می‌شود قبل از خواندن راه حل دقایقی خودتان به دنبال راه حل این مساله بگردید.\n",
    "<hr>\n",
    "</div>    "
   ]
  },
  {
   "cell_type": "markdown",
   "metadata": {},
   "source": [
    "<div style=\"direction:rtl; font-size: 17px; font-family: 'XB Zar'; line-height: 200%\">\n",
    "<div style=\"font-size: 17px; color: #ff6600; font-weight: bold\">\n",
    "نخستین ایده\n",
    "</div>         \n",
    "اولین راهی که برای حل این مسئله به ذهن می‌رسد\n",
    "       انتخاب بیشترین نسبت سود به طول بازه در بین بازه‌هایی است که می‌توان انتخاب کرد، اما با کمی تفکر متوجه می‌شویم که این روش گاهی جواب بهینه را نمی‌دهد مثلا در مثال بالا طبق این روش ابتدا بازه‌ی  \n",
    " $ I_1 $\n",
    "    و سپس \n",
    "    $ I_3 $\n",
    "    انتخاب می‌شود که می‌دانیم جواب بهینه نیست!\n",
    "</div>"
   ]
  },
  {
   "cell_type": "markdown",
   "metadata": {
    "pycharm": {
     "name": "#%% md\n"
    }
   },
   "source": [
    "<div style=\"direction:rtl; font-size: 17px; font-family: 'XB Zar'; line-height: 200%\">\n",
    "<div style=\"font-size: 17px; color: #ff6600; font-weight: bold\">\n",
    "راه حل اول\n",
    "</div>            \n",
    "    ایده‌ی این راه‌حل مرتب کردن صعودی بازه‌ها بر اساس نقطه‌ی انتهایی آن‌ها و سپس حل سوال به صورت بازگشتی است، برای هر بازه دو احتمال وجود دارد :\n",
    "   <br>\n",
    "  ۱ - بازه‌ی مد نظر انتخاب شود و مساله را برای بقیه‌ی بازه‌های غیر مشترک با این بازه حل کنیم ( چونکه بازه‌ها مرتب شده هستند می‌توان اولین بازه‌ی غیر مشترک را با باینری سرچ به‌دست آورد. )\n",
    "    <br>\n",
    "    ۲ - بازه‌ی مد نظر انتخاب نشود، که در این صورت مساله را با حذف این بازه برای بقیه‌ی بازه‌ها حل می‌کنیم.\n",
    "    <br>\n",
    "    نحوه‌ی پیاده‌سازی این الگوریتم را در زیر می‌بینید.\n",
    "</div>"
   ]
  },
  {
   "cell_type": "code",
   "execution_count": 1,
   "metadata": {},
   "outputs": [],
   "source": [
    "#include <iostream>\n",
    "#include <vector>\n",
    "#include <algorithm>\n",
    "using namespace std;\n",
    "\n",
    "struct Job {\n",
    "    int start, finish, profit;\n",
    "};"
   ]
  },
  {
   "cell_type": "code",
   "execution_count": 2,
   "metadata": {
    "pycharm": {
     "name": "#%%\n"
    }
   },
   "outputs": [],
   "source": [
    "int findLastNonConflictingJob(vector<Job> jobs, int n)\n",
    "{\n",
    "    // search space\n",
    "    int low = 0;\n",
    "    int high = n;\n",
    "\n",
    "    // iterate till search space is not exhausted\n",
    "    while (low <= high)\n",
    "    {\n",
    "        int mid = (low + high) / 2;\n",
    "        if (jobs[mid].finish <= jobs[n].start)\n",
    "        {\n",
    "            if (jobs[mid + 1].finish <= jobs[n].start)\n",
    "                low = mid + 1;\n",
    "            else\n",
    "                return mid;\n",
    "        }\n",
    "        else {\n",
    "            high = mid - 1;\n",
    "        }\n",
    "    }\n",
    "\n",
    "    // return negative index if no non-conflicting job is found\n",
    "    return -1;\n",
    "}"
   ]
  },
  {
   "cell_type": "code",
   "execution_count": 3,
   "metadata": {},
   "outputs": [],
   "source": [
    "int maxProfit(vector<Job> &jobs, int n)\n",
    "{\n",
    "    // base case\n",
    "    if (n < 0)\n",
    "        return 0;\n",
    "\n",
    "    // return if only one item is remaining\n",
    "    if (n == 0)\n",
    "        return jobs[0].profit;\n",
    "\n",
    "    // find the index of last non-conflicting job with current job\n",
    "    int index = findLastNonConflictingJob(jobs, n);\n",
    "\n",
    "    // include the current job and recur for non-conflicting jobs [0, index]\n",
    "    int incl = jobs[n].profit + maxProfit(jobs, index);\n",
    "\n",
    "    // exclude the current job and recur for remaining items [0, n-1]\n",
    "    int excl = maxProfit(jobs, n-1);\n",
    "\n",
    "    // return the maximum profit by including or excluding current job\n",
    "    return max(incl, excl);\n",
    "}"
   ]
  },
  {
   "cell_type": "code",
   "execution_count": 4,
   "metadata": {},
   "outputs": [
    {
     "name": "stdout",
     "output_type": "stream",
     "text": [
      "The maximum profit is 250"
     ]
    }
   ],
   "source": [
    "{\n",
    "    vector<Job> jobs {\n",
    "        { 1, 2, 50 },\n",
    "        { 3, 5, 20 },\n",
    "        { 6, 19, 100 },\n",
    "        { 2, 100, 200 }\n",
    "    };\n",
    "\n",
    "    // sort jobs in increasing order of their finish times\n",
    "    sort(jobs.begin(),\n",
    "        jobs.end(),\n",
    "        [](Job &x, Job &y) {\n",
    "            return x.finish < y.finish;\n",
    "        });\n",
    "\n",
    "    cout << \"The maximum profit is \" << maxProfit(jobs, jobs.size() - 1);\n",
    "\n",
    "}"
   ]
  },
  {
   "cell_type": "markdown",
   "metadata": {},
   "source": [
    "<div style=\"direction:rtl; font-size: 17px; font-family: 'XB Zar'; line-height: 200%\">\n",
    "<div style=\"font-size: 17px; color: #ff6600; font-weight: bold\">\n",
    "تحلیل زمانی این راه حل\n",
    "</div>  \n",
    "    در این الگوریتم هر دو حالت گفته‌شده برای هر بازه چک می‌شود، پس زمان اجرای این الگوریتم نمایی است و مقدار حافظه‌ی استفاده شده توسط آن برابر \n",
    "    $ \\mathcal{O}(N) $\n",
    "    است.\n",
    "<hr>\n",
    "</div>"
   ]
  },
  {
   "cell_type": "markdown",
   "metadata": {},
   "source": [
    "<div style=\"direction:rtl; font-size: 17px; font-family: 'XB Zar'; line-height: 200%\">\n",
    "<div style=\"font-size: 17px; color: #ff6600; font-weight: bold\">\n",
    "راه حل دوم\n",
    "</div>            \n",
    "    با استفاده از ایده‌ی برنامه‌نویسی پویا می‌توان مساله‌ی اصلی را با حل تعدادی مساله‌ی کوچکتر، حل کرد. با ایجاد یک جدول که مقادیر بیشترین سود را برای مساله‌های کوچکتر ذخیره می‌کند این مساله‌ را حل می‌کنیم.\n",
    "    <br>\n",
    "    نحوه‌ی پیاده‌سازی این الگوریتم را در زیر می‌بینید.\n",
    "</div>"
   ]
  },
  {
   "cell_type": "code",
   "execution_count": 5,
   "metadata": {},
   "outputs": [],
   "source": [
    "int max_profit_dp(vector<Job> &jobs)\n",
    "{\n",
    "    // sort jobs in increasing order of their finish times\n",
    "    sort(jobs.begin(),\n",
    "        jobs.end(),\n",
    "        [](Job &x, Job &y) {\n",
    "            return x.finish < y.finish;\n",
    "        });\n",
    "\n",
    "    // get number of jobs\n",
    "    int n = jobs.size();\n",
    "\n",
    "    // construct a lookup table where the i'th index stores the maximum profit\n",
    "    // for first i jobs\n",
    "    int maxProfit[n];\n",
    "    \n",
    "    // maximum profit gained by including the first job\n",
    "    maxProfit[0] = jobs[0].profit;\n",
    "\n",
    "    // fill maxProfit[] table in bottom-up manner from the second index\n",
    "    for (int i = 1; i < n; i++)\n",
    "    {\n",
    "        // find the index of last non-conflicting job with current job\n",
    "        int index = findLastNonConflictingJob(jobs, i);\n",
    "    \n",
    "        // include the current job with its non-conflicting jobs\n",
    "        int incl = jobs[i].profit;\n",
    "        if (index != -1)\n",
    "            incl += maxProfit[index];\n",
    "\n",
    "        // store the maximum profit by including or excluding current job\n",
    "        maxProfit[i] = max(incl, maxProfit[i-1]);\n",
    "    }\n",
    "\n",
    "    // return maximum profit\n",
    "    return maxProfit[n-1];\n",
    "}"
   ]
  },
  {
   "cell_type": "code",
   "execution_count": 6,
   "metadata": {},
   "outputs": [
    {
     "name": "stdout",
     "output_type": "stream",
     "text": [
      "The maximum profit is 250"
     ]
    }
   ],
   "source": [
    "{\n",
    "    vector<Job> jobs {\n",
    "        { 1, 2, 50 },\n",
    "        { 3, 5, 20 },\n",
    "        { 6, 19, 100 },\n",
    "        { 2, 100, 200 }\n",
    "    };\n",
    "\n",
    "    // sort jobs in increasing order of their finish times\n",
    "    sort(jobs.begin(),\n",
    "        jobs.end(),\n",
    "        [](Job &x, Job &y) {\n",
    "            return x.finish < y.finish;\n",
    "        });\n",
    "\n",
    "    cout << \"The maximum profit is \" << max_profit_dp(jobs);\n",
    "\n",
    "}"
   ]
  },
  {
   "cell_type": "markdown",
   "metadata": {},
   "source": [
    "<div style=\"direction:rtl; font-size: 17px; font-family: 'XB Zar'; line-height: 200%\">\n",
    "<div style=\"font-size: 17px; color: #ff6600; font-weight: bold\">\n",
    "تحلیل زمانی این راه حل\n",
    "</div>  \n",
    " در این الگوریتم زمان \n",
    "    $ \\mathcal{O}(N \\log N) $\n",
    "    زمان برای مرتب سازی بر اساس پایان بازه در \n",
    "    $ \\mathcal{O}(N \\log N) $ \n",
    "    است و زمان لازم برای به‌دست آوردن تمامی زیرمساله‌های موجود برابر \n",
    "    $ \\mathcal{O}(N) $\n",
    "    است که زمان اجرای الگوریتم برابر جمع این دو، یعنی برابر \n",
    "    $ \\mathcal{O}(N \\log N) $\n",
    "    است.\n",
    "<hr>\n",
    "</div>"
   ]
  }
 ],
 "metadata": {
  "kernelspec": {
   "display_name": "Python 3",
   "language": "python",
   "name": "python3"
  },
  "language_info": {
   "codemirror_mode": {
    "name": "ipython",
    "version": 3
   },
   "file_extension": ".py",
   "mimetype": "text/x-python",
   "name": "python",
   "nbconvert_exporter": "python",
   "pygments_lexer": "ipython3",
   "version": "3.8.1"
  },
  "pycharm": {
   "stem_cell": {
    "cell_type": "raw",
    "metadata": {
     "collapsed": false
    },
    "source": []
   }
  }
 },
 "nbformat": 4,
 "nbformat_minor": 1
}
