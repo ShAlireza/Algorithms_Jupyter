{
 "cells": [
  {
   "cell_type": "markdown",
   "metadata": {},
   "source": [
    " <div style=\"direction:rtl;line-height:300%;\"> <font face=\"XB Zar\">\n",
    "<div align=center>\n",
    "    <div style=\"font-size:14px\">\n",
    "    به نام خدا\n",
    "    </div><br>\n",
    "    <strong><div style=\"font-size:50px; color: blue\">\n",
    "    طراحی الگوریتم‌ها\n",
    "    </div></strong>\n",
    "    <br>\n",
    "    <div style=\"font-size:20px; color: #ff6600\">\n",
    "    دانشگاه صنعتی شریف، دانشکده مهندسی کامپیوتر\n",
    "    </div>\n",
    "    <div style=\"font-size:15px; color: black\">\n",
    "        نیم‌سال دوم سال تحصیلی ۹۸-۹۹\n",
    "    </div>\n",
    "    <hr>\n",
    "    <strong><div style=\"font-size:35px; color: red\">\n",
    "        فصل دوم: برنامه‌نویسی پویا\n",
    "    </div></strong><br>\n",
    "    <div style=\"font-size:30px; color: navy\">\n",
    "        اعداد فیبوناچی، زمان‌بندی بازه‌ها و خردکردن پول\n",
    "    </div><br>\n",
    "    <div style=\"font-size:20px; color: black\">\n",
    "        پارسا اسکندر، محمد صانعیان، مهدی قربانی\n",
    "    </div>\n",
    "\n",
    "</div>\n",
    "<hr>"
   ]
  },
  {
   "cell_type": "markdown",
   "metadata": {},
   "source": [
    "<div style=\"direction:rtl; font-size: 17px; font-family: 'XB Zar'; line-height: 200%\">\n",
    "<div style=\"font-size: 22px; color: #ff6600; font-weight: bold\">\n",
    "فهرست محتویات\n",
    "</div>         \n",
    "<ul style=\"margin-right: 0;\">\n",
    "    <li><a href=\"#section1\">مقدمه</a></li>\n",
    "    <li><a href=\"#section2\">اعداد فیبوناچی</a></li>\n",
    "    <li><a href=\"#sectioninterval\">زمان بندی بازه‌ها</a></li>   \n",
    "    <li><a href=\"#sectionhaha\">خرد کردن پول</a></li> \n",
    "</ul>\n",
    "</div>"
   ]
  },
  {
   "cell_type": "markdown",
   "metadata": {},
   "source": [
    "<div id=\"section1\" style=\"direction:rtl; font-size: 17px; font-family: 'XB Zar'; line-height: 200%\">\n",
    "<div style=\"font-size: 22px; color: #ff6600; font-weight: bold\">\n",
    "مقدمه\n",
    "</div>\n",
    "    <br>\n",
    "   برنامه‌نویسی پویا از روش‌های بسیار پرکاربرد در طراحی الگوریتم‌هاست. اولین بار در سال ۱۹۵۰ توسط ریچارد بلمن ابداع شد و در بسیاری از زمینه‌های علمی به خصوص ریاضیات و علوم کامپیوتر کاربرد دارد. ایده‌ی پشت این دسته از الگوریتم‌ها این است که یک مسئله‌ی سخت را به مسائل مشابه و کوچکتر که حل آن‌ها راحت‌تر است تقسیم کند و با حل آن‌ها مسئله‌ی اصلی را حل کند. در واقع شباهتی هم به استقرا دارد که شما برای اثبات یک حکم، ابتدا برای مثال‌های کوچک آن اثبات می‌کنید و سپس آن را تعمیم می‌دهید.\n",
    "<br>\n",
    "     \n",
    "    \n",
    "</div>\n",
    "<hr>"
   ]
  },
  {
   "cell_type": "markdown",
   "metadata": {},
   "source": [
    "<div id=\"section2\" style=\"direction:rtl; font-size: 17px; font-family: 'XB Zar'; line-height: 200%\">\n",
    "<div style=\"font-size: 22px; color: #ff6600; font-weight: bold\">\n",
    "اعداد فیبوناچی\n",
    "</div><br>\n",
    "به عنوان اولین مثال فرض کنید می‌خواهیم برنامه‌ای داشته باشیم که با ورودی گرفتن $n$، در خروجی عدد فیبوناچی $n$ ام را برگرداند. به یاد بیاوید که اعداد فیبوناچی به این شکل تعریف می‌شدند.\n",
    "    $$f_{۰} = ۰$$\n",
    "    $$f_{۱} = ۱$$\n",
    "    $$f_{n} = f_{n-۱} + f_{n-۲}$$\n",
    "<br>\n",
    "\n",
    "<hr>"
   ]
  },
  {
   "cell_type": "code",
   "execution_count": 1,
   "metadata": {},
   "outputs": [],
   "source": [
    "#include <iostream>\n",
    "using namespace std;"
   ]
  },
  {
   "cell_type": "code",
   "execution_count": 2,
   "metadata": {},
   "outputs": [],
   "source": [
    "int f_naive(int n){\n",
    "    if(n < 2)\n",
    "        return n;\n",
    "    return f_naive(n-1) + f_naive(n - 2);\n",
    "}\n"
   ]
  },
  {
   "cell_type": "code",
   "execution_count": 4,
   "metadata": {},
   "outputs": [
    {
     "name": "stdout",
     "output_type": "stream",
     "text": [
      "20\n",
      "6765\n"
     ]
    }
   ],
   "source": [
    "{\n",
    "    // Give input and evaluate running time!\n",
    "    int n;\n",
    "    cin >> n;\n",
    "    cout << f_naive(n) << endl;\n",
    "}"
   ]
  },
  {
   "cell_type": "markdown",
   "metadata": {},
   "source": [
    "<div id=\"section3\" style=\"direction:rtl; font-size: 17px; font-family: 'XB Zar'; line-height: 200%\">\n",
    "<div style=\"font-size: 22px; color: #ff6600; font-weight: bold\">\n",
    "کد با تابع بازگشتی\n",
    "</div>\n",
    "    <br>\n",
    "   در بالا یک کد طبق همان تعریف اعداد فیبوناچی با استفاده از تابع بازگشتی پیاده‌سازی شده است. زمان اجرای این کد چقدر است؟\n",
    "    چگونه می‌توان آن را بهبود داد؟\n",
    "<br>\n",
    "     \n",
    "    \n",
    "</div>\n",
    "<hr>"
   ]
  },
  {
   "cell_type": "markdown",
   "metadata": {},
   "source": [
    "<div id=\"section4\" style=\"direction:rtl; font-size: 17px; font-family: 'XB Zar'; line-height: 200%\">\n",
    "<div style=\"font-size: 22px; color: #ff6600; font-weight: bold\">\n",
    "کد بهینه تر\n",
    "</div><br>\n",
    "برای اینکه زمان اجرا بهتر شود آرایه‌ای نگه می‌داریم که عنصر $i$ ام آن همان $f_{i}$ باشد. با یک حلقه می‌توان در $O(n)$ ، $f_n$ را محاسبه کرد. بعدا می‌بینید که می‌توان این مسئله را در زمان $O(lg(n))$ هم حل کرد! \n",
    "<br>\n",
    "\n",
    "<hr>"
   ]
  },
  {
   "cell_type": "code",
   "execution_count": 5,
   "metadata": {},
   "outputs": [
    {
     "name": "stdout",
     "output_type": "stream",
     "text": [
      "100\n",
      "3736710778780434371\n"
     ]
    }
   ],
   "source": [
    "{\n",
    "    long f[1000];\n",
    "    long n;\n",
    "    cin >> n;\n",
    "    f[0] = 0;\n",
    "    f[1] = 1;\n",
    "    for(int i=2; i<=n; i++)\n",
    "        f[i] = f[i - 1] + f[i - 2];\n",
    "    cout << f[n] << endl;\n",
    "}"
   ]
  },
  {
   "cell_type": "markdown",
   "metadata": {},
   "source": [
    "<div id=\"sectioninterval\" style=\"direction:rtl; font-size: 17px; font-family: 'XB Zar'; line-height: 200%\">\n",
    "<div style=\"font-size: 22px; color: #ff6600; font-weight: bold\">\n",
    " زمان بندی بازه‌ها\n",
    "</div><br>            \n",
    "$ N $\n",
    "بازه به صورت \n",
    "  $ (Start_i, End_i, Profit_i) $ \n",
    "    که \n",
    "    $ i $\n",
    "    اعداد بین ۱ تا\n",
    "    $ N $\n",
    "    هستند داده شده است، \n",
    "    که به ترتیب نقاط شروع و پایان و سود حاصل از آن بازه را نشان مي‌دهند.\n",
    "    <br>\n",
    "    بیشترین مقدار سود را با انتخاب کردن تعدادی بازه که همپوشانی ندارند به‌دست آورید!\n",
    "    <br>\n",
    "    به طور مثال برای بازه‌های \n",
    "    $ I_۱ = ( 1, 2, 50 ) $ \n",
    "    و\n",
    "     $ I_۲ = ( 3, 5, 20 ) $\n",
    "    و\n",
    "     $ I_۳ = ( 6, 19, 100 ) $ \n",
    "     و\n",
    "     $ I_۴ = ( 2, 100, 200 ) $ \n",
    "    بیشترین مقدار سود ممکن برابر ۲۵۰ است که با انتخاب بازه‌های ۱ و ۴ به‌دست می‌آید.\n",
    "    <br>\n",
    "<strong>\n",
    "نکته:\n",
    "</strong>    \n",
    "اکیدا توصیه می‌شود قبل از خواندن راه حل دقایقی خودتان به دنبال راه حل این مساله بگردید.\n",
    "<hr>\n",
    "</div>    "
   ]
  },
  {
   "cell_type": "markdown",
   "metadata": {},
   "source": [
    "<div style=\"direction:rtl; font-size: 17px; font-family: 'XB Zar'; line-height: 200%\">\n",
    "<div style=\"font-size: 17px; color: #ff6600; font-weight: bold\">\n",
    "نخستین ایده\n",
    "</div>         \n",
    "اولین راهی که برای حل این مسئله به ذهن می‌رسد\n",
    "       انتخاب بیشترین نسبت سود به طول بازه در بین بازه‌هایی است که می‌توان انتخاب کرد، اما با کمی تفکر متوجه می‌شویم که این روش گاهی جواب بهینه را نمی‌دهد مثلا در مثال بالا طبق این روش ابتدا بازه‌ی  \n",
    " $ I_۱ $\n",
    "    و سپس \n",
    "    $ I_۳ $\n",
    "    انتخاب می‌شود که می‌دانیم جواب بهینه نیست!\n",
    "</div>"
   ]
  },
  {
   "cell_type": "markdown",
   "metadata": {
    "pycharm": {
     "name": "#%% md\n"
    }
   },
   "source": [
    "<div style=\"direction:rtl; font-size: 17px; font-family: 'XB Zar'; line-height: 200%\">\n",
    "<div style=\"font-size: 17px; color: #ff6600; font-weight: bold\">\n",
    "راه حل اول\n",
    "</div>            \n",
    "    ایده‌ی این راه‌حل مرتب کردن صعودی بازه‌ها بر اساس نقطه‌ی انتهایی آن‌ها و سپس حل سوال به صورت بازگشتی است، برای هر بازه دو حالت وجود دارد:\n",
    "   <br>\n",
    "  ۱ - بازه‌ی مد نظر انتخاب شود و مساله را برای بقیه‌ی بازه‌های غیر مشترک با این بازه حل کنیم (چون که بازه‌ها مرتب شده هستند می‌توان اولین بازه‌ی غیر مشترک را با باینری سرچ به‌دست آورد).\n",
    "    <br>\n",
    "    ۲ - بازه‌ی مد نظر انتخاب نشود، که در این صورت مساله را با حذف این بازه برای بقیه‌ی بازه‌ها حل می‌کنیم.\n",
    "    <br>\n",
    "    نحوه‌ی پیاده‌سازی این الگوریتم را در زیر می‌بینید.\n",
    "</div>"
   ]
  },
  {
   "cell_type": "code",
   "execution_count": null,
   "metadata": {},
   "outputs": [],
   "source": [
    "#include <iostream>\n",
    "#include <vector>\n",
    "#include <algorithm>\n",
    "using namespace std;\n",
    "\n",
    "struct Job {\n",
    "    int start, finish, profit;\n",
    "};"
   ]
  },
  {
   "cell_type": "code",
   "execution_count": null,
   "metadata": {
    "pycharm": {
     "name": "#%%\n"
    }
   },
   "outputs": [],
   "source": [
    "int findLastNonConflictingJob(vector<Job> jobs, int n)\n",
    "{\n",
    "    // search space\n",
    "    int low = 0;\n",
    "    int high = n;\n",
    "\n",
    "    // iterate till search space is not exhausted\n",
    "    while (low <= high)\n",
    "    {\n",
    "        int mid = (low + high) / 2;\n",
    "        if (jobs[mid].finish <= jobs[n].start)\n",
    "        {\n",
    "            if (jobs[mid + 1].finish <= jobs[n].start)\n",
    "                low = mid + 1;\n",
    "            else\n",
    "                return mid;\n",
    "        }\n",
    "        else {\n",
    "            high = mid - 1;\n",
    "        }\n",
    "    }\n",
    "\n",
    "    // return negative index if no non-conflicting job is found\n",
    "    return -1;\n",
    "}"
   ]
  },
  {
   "cell_type": "code",
   "execution_count": null,
   "metadata": {},
   "outputs": [],
   "source": [
    "int maxProfit(vector<Job> &jobs, int n)\n",
    "{\n",
    "    // base case\n",
    "    if (n < 0)\n",
    "        return 0;\n",
    "\n",
    "    // return if only one item is remaining\n",
    "    if (n == 0)\n",
    "        return jobs[0].profit;\n",
    "\n",
    "    // find the index of last non-conflicting job with current job\n",
    "    int index = findLastNonConflictingJob(jobs, n);\n",
    "\n",
    "    // include the current job and recur for non-conflicting jobs [0, index]\n",
    "    int incl = jobs[n].profit + maxProfit(jobs, index);\n",
    "\n",
    "    // exclude the current job and recur for remaining items [0, n-1]\n",
    "    int excl = maxProfit(jobs, n-1);\n",
    "\n",
    "    // return the maximum profit by including or excluding current job\n",
    "    return max(incl, excl);\n",
    "}"
   ]
  },
  {
   "cell_type": "code",
   "execution_count": null,
   "metadata": {},
   "outputs": [],
   "source": [
    "{\n",
    "    vector<Job> jobs {\n",
    "        { 1, 2, 50 },\n",
    "        { 3, 5, 20 },\n",
    "        { 6, 19, 100 },\n",
    "        { 2, 100, 200 }\n",
    "    };\n",
    "\n",
    "    // sort jobs in increasing order of their finish times\n",
    "    sort(jobs.begin(),\n",
    "        jobs.end(),\n",
    "        [](Job &x, Job &y) {\n",
    "            return x.finish < y.finish;\n",
    "        });\n",
    "\n",
    "    cout << \"The maximum profit is \" << maxProfit(jobs, jobs.size() - 1);\n",
    "\n",
    "}"
   ]
  },
  {
   "cell_type": "markdown",
   "metadata": {},
   "source": [
    "<div style=\"direction:rtl; font-size: 17px; font-family: 'XB Zar'; line-height: 200%\">\n",
    "<div style=\"font-size: 17px; color: #ff6600; font-weight: bold\">\n",
    "تحلیل زمانی این راه حل\n",
    "</div>  \n",
    "    در این الگوریتم هر دو حالت گفته‌شده برای هر بازه چک می‌شود، پس زمان اجرای این الگوریتم نمایی است و مقدار حافظه‌ی استفاده شده توسط آن برابر \n",
    "    $ \\mathcal{O}(N) $\n",
    "    است.\n",
    "<hr>\n",
    "</div>"
   ]
  },
  {
   "cell_type": "markdown",
   "metadata": {},
   "source": [
    "<div style=\"direction:rtl; font-size: 17px; font-family: 'XB Zar'; line-height: 200%\">\n",
    "<div style=\"font-size: 17px; color: #ff6600; font-weight: bold\">\n",
    "راه حل دوم\n",
    "</div>            \n",
    "    با استفاده از ایده‌ی برنامه‌نویسی پویا می‌توان مساله‌ی اصلی را با حل تعدادی مساله‌ی کوچکتر، حل کرد. با ایجاد یک جدول که مقادیر بیشترین سود را برای مساله‌های کوچکتر ذخیره می‌کند این مساله‌ را حل می‌کنیم.\n",
    "    <br>\n",
    "    در این راه‌حل نیز با شروع از اولین بازه، استفاده کردن یا نکردن از این بازه را در نظر می‌گیریم، و مقدار به‌دست آمده را در \n",
    "    $ maxProfit[i] $\n",
    "    برای بازه‌ی \n",
    "    $ i $ \n",
    "    ام ذخیره می‌کنیم\n",
    "   .\n",
    "    هم‌چنین برای به‌دست آوردن بازه‌ی بعدی غیرمشترک از جست‌وجوی دودویی استفاده می‌کنیم.\n",
    "    <br>\n",
    "    نحوه‌ی پیاده‌سازی این الگوریتم را در زیر می‌بینید.\n",
    "</div>"
   ]
  },
  {
   "cell_type": "code",
   "execution_count": null,
   "metadata": {},
   "outputs": [],
   "source": [
    "int max_profit_dp(vector<Job> &jobs)\n",
    "{\n",
    "    // sort jobs in increasing order of their finish times\n",
    "    sort(jobs.begin(),\n",
    "        jobs.end(),\n",
    "        [](Job &x, Job &y) {\n",
    "            return x.finish < y.finish;\n",
    "        });\n",
    "\n",
    "    // get number of jobs\n",
    "    int n = jobs.size();\n",
    "\n",
    "    // construct a lookup table where the i'th index stores the maximum profit\n",
    "    // for first i jobs\n",
    "    int maxProfit[n];\n",
    "    \n",
    "    // maximum profit gained by including the first job\n",
    "    maxProfit[0] = jobs[0].profit;\n",
    "\n",
    "    // fill maxProfit[] table in bottom-up manner from the second index\n",
    "    for (int i = 1; i < n; i++)\n",
    "    {\n",
    "        // find the index of last non-conflicting job with current job\n",
    "        int index = findLastNonConflictingJob(jobs, i);\n",
    "    \n",
    "        // include the current job with its non-conflicting jobs\n",
    "        int incl = jobs[i].profit;\n",
    "        if (index != -1)\n",
    "            incl += maxProfit[index];\n",
    "\n",
    "        // store the maximum profit by including or excluding current job\n",
    "        maxProfit[i] = max(incl, maxProfit[i-1]);\n",
    "    }\n",
    "\n",
    "    // return maximum profit\n",
    "    return maxProfit[n-1];\n",
    "}"
   ]
  },
  {
   "cell_type": "code",
   "execution_count": null,
   "metadata": {},
   "outputs": [],
   "source": [
    "{\n",
    "    vector<Job> jobs {\n",
    "        { 1, 2, 50 },\n",
    "        { 3, 5, 20 },\n",
    "        { 6, 19, 100 },\n",
    "        { 2, 100, 200 }\n",
    "    };\n",
    "\n",
    "    // sort jobs in increasing order of their finish times\n",
    "    sort(jobs.begin(),\n",
    "        jobs.end(),\n",
    "        [](Job &x, Job &y) {\n",
    "            return x.finish < y.finish;\n",
    "        });\n",
    "\n",
    "    cout << \"The maximum profit is \" << max_profit_dp(jobs);\n",
    "\n",
    "}"
   ]
  },
  {
   "cell_type": "markdown",
   "metadata": {},
   "source": [
    "<div style=\"direction:rtl; font-size: 17px; font-family: 'XB Zar'; line-height: 200%\">\n",
    "<div style=\"font-size: 17px; color: #ff6600; font-weight: bold\">\n",
    "تحلیل زمانی این راه حل\n",
    "</div>  \n",
    " در این الگوریتم زمان \n",
    "    $ \\mathcal{O}(N \\log N) $\n",
    "    زمان برای مرتب سازی بر اساس پایان بازه در \n",
    "    $ \\mathcal{O}(N \\log N) $ \n",
    "    است و زمان لازم برای به‌دست آوردن تمامی زیرمساله‌های موجود برابر \n",
    "    $ \\mathcal{O}(N) $\n",
    "    است که زمان اجرای الگوریتم برابر جمع این دو، یعنی برابر \n",
    "    $ \\mathcal{O}(N \\log N) $\n",
    "    است.\n",
    "<hr>\n",
    "</div>"
   ]
  },
  {
   "cell_type": "markdown",
   "metadata": {},
   "source": [
    "<div id=\"sectionhaha\" style=\"direction:rtl; font-size: 17px; font-family: 'XB Zar'; line-height: 200%\">\n",
    "<div style=\"font-size: 17px; color: #ff6600; font-weight: bold\">\n",
    "خرد کردن پول\n",
    "</div>  \n",
    "  یکی از مسئله‌های کلاسیک دیگر که در زندگی واقعی هم با آن مواجه بوده‌ایم مسئله خرد کردن پول است. فرض کنید بخواهیم مقدار مشخص $c$ را با تعدادی دلخواه از سکه‌های $a_1$, $a_2$, ... , $a_n$ پرداخت کنیم. \n",
    "<hr>\n",
    "</div>"
   ]
  },
  {
   "cell_type": "markdown",
   "metadata": {},
   "source": [
    "<div style=\"direction:rtl; font-size: 17px; font-family: 'XB Zar'; line-height: 200%\">\n",
    "<div style=\"font-size: 17px; color: #ff6600; font-weight: bold\">\n",
    "اولین ایده\n",
    "</div>  \n",
    "  ایده‌ی اول و طبیعی که به ذهن می‌رسد این است که حریصانه عمل کنیم. یعنی سعی کنیم تا جای ممکن سکه‌های با قیمت بالا را برداریم و از مقدار مورد نیاز بالاتر نرویم. برای اینکه حتما مبلغ قابل خرد کردن باشد فرض ساده کننده $a_1 = 1$ را می‌گذاریم. این روش حتما بهترین جواب را پیدا نمی‌کند برای مثال:  \n",
    "<hr>\n",
    "</div>"
   ]
  },
  {
   "cell_type": "markdown",
   "metadata": {},
   "source": [
    "C = 10\n",
    "\n",
    "coins = [1, 5, 6]\n",
    "\n",
    "10 = 6 + 1 + 1 + 1 + 1  (Greedy = 5)   \n",
    "10 = 5 + 5              (Optimal = 2)"
   ]
  },
  {
   "cell_type": "code",
   "execution_count": null,
   "metadata": {},
   "outputs": [],
   "source": [
    "{\n",
    "    int a[100];\n",
    "    int n;\n",
    "    cin >> n;\n",
    "    for(int i=0; i<n; i++)\n",
    "        cin >> a[i];\n",
    "    sort(a, a + n);\n",
    "    int answer = 0;\n",
    "    int C;\n",
    "    cin >> C;\n",
    "    for(int i=n-1; i>=0; i--){ // going through coins from most valuable to least valueable\n",
    "        int num = C / a[i];\n",
    "        C -= a[i] * num;\n",
    "        answer += num; // take most number of a[i] not going over remaining need\n",
    "    }\n",
    "    \n",
    "    cout << \"Greedy answer: \" << answer << endl; \n",
    "}"
   ]
  },
  {
   "cell_type": "markdown",
   "metadata": {},
   "source": [
    "<div style=\"direction:rtl; font-size: 17px; font-family: 'XB Zar'; line-height: 200%\">\n",
    "<div style=\"font-size: 17px; color: #ff6600; font-weight: bold\">\n",
    "روش پیدا کردن جواب بهینه\n",
    "</div>  \n",
    "  قبل از خواندن این بخش سعی کنید ببینید چطور می‌توان روشی طراحی کرد که جواب بهینه را پیدا کند.\n",
    "    <br>\n",
    "    برای اینکار از برنامه نویسی پویا استفاده می‌کنیم. فرض کنیم opt[i] برابر کمترین تعداد سکه برای پرداخت مقدار $i$\n",
    "    باشد.\n",
    "    <br>\n",
    "       به این ترتیب جواب مسئله می‌شود opt[C].\n",
    "<hr>\n",
    "</div>"
   ]
  },
  {
   "cell_type": "code",
   "execution_count": null,
   "metadata": {},
   "outputs": [],
   "source": [
    "{\n",
    "    int w[100];\n",
    "    int opt[1001]; // assuming max C is 1000\n",
    "    int N;\n",
    "    cin >> N;\n",
    "    for(int i=0; i<N; i++)\n",
    "        cin >> w[i];\n",
    "    int answer = 0;\n",
    "    int c;\n",
    "    cin >> c;\n",
    "    memset(opt, 63, sizeof opt); // setting \n",
    "    opt[0] = 0;\n",
    "    \n",
    "    for(int i=1; i<=c; i++){\n",
    "        for(int j=0; j<N; j++){\n",
    "            if(w[j] <= i)\n",
    "                opt[i] = min(opt[i], opt[i - w[j]] + 1);\n",
    "        }\n",
    "    } \n",
    "    cout << \"Optimal answer: \" << opt[c] << endl;\n",
    "}"
   ]
  },
  {
   "cell_type": "markdown",
   "metadata": {},
   "source": [
    "<div style=\"direction:rtl; font-size: 17px; font-family: 'XB Zar'; line-height: 200%\">\n",
    "<div style=\"font-size: 17px; color: #ff6600; font-weight: bold\">\n",
    "تحلیل زمانی\n",
    "</div>  \n",
    "    برای update کردن هر خانه آرایه opt هزینه $O(n)$ پرداخت می‌کنیم. و در کل زمان اجرا می‌شود $O(NC)$. زمان اجرای الگوریتم حریصانه $O(n)$ است اما لزوما جواب بهینه را پیدا نمی‌کند. البته که تا حدی منطقی است و ممکن است از آن استفاده شود. \n",
    "<hr>\n",
    "</div>"
   ]
  }
 ],
 "metadata": {
  "kernelspec": {
   "display_name": "C++11",
   "language": "C++11",
   "name": "xcpp11"
  },
  "language_info": {
   "codemirror_mode": "text/x-c++src",
   "file_extension": ".cpp",
   "mimetype": "text/x-c++src",
   "name": "c++",
   "version": "-std=c++11"
  },
  "pycharm": {
   "stem_cell": {
    "cell_type": "raw",
    "metadata": {
     "collapsed": false
    },
    "source": []
   }
  }
 },
 "nbformat": 4,
 "nbformat_minor": 1
}
