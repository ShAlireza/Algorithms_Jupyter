{
 "cells": [
  {
   "cell_type": "markdown",
   "metadata": {},
   "source": [
    "<div style=\"direction:rtl; font-size: 17px; font-family: 'XB Zar'; line-height: 200%\">\n",
    "<div style=\"font-size: 22px; color: #ff6600; font-weight: bold\">\n",
    "فهرست محتویات\n",
    "</div>         \n",
    "<ul style=\"margin-right: 0;\">\n",
    "    <li><a href=\"#section1\">مقدمه</a></li>\n",
    "    <li><a href=\"#section2\">مسئله</a></li>\n",
    "    <li><a href=\"#section3\">مساله‌ی دوم: سه-مجموع</a></li>\n",
    "</ul>\n",
    "</div>"
   ]
  },
  {
   "cell_type": "markdown",
   "metadata": {},
   "source": [
    "<div id=\"section1\" style=\"direction:rtl; font-size: 17px; font-family: 'XB Zar'; line-height: 200%\">\n",
    "<div style=\"font-size: 22px; color: #ff6600; font-weight: bold\">\n",
    "مقدمه\n",
    "</div><br>\n",
    "فرض کنید یک توالی از ماتریس ها به ما داده شده است و می‌خواهیم مناسب‌ترین راه را برای ضرب این ماتریس‌ها پیدا کنیم. <br>\n",
    "در واقع مساله ما این نیست که حاصل‌ضرب ماتریس‌ها را محاسبه کنیم بلکه این است که تصمیم بگیریم به چه ترتیبی آن‌ها را در یکدیگر ضرب کنیم.<br> \n",
    "   کاری که قرار است ما برای حل این مساله انجام دهیم در واقع یک نحوه پرانتزگذاری می‌باشد یعنی اهمیتی ندارد که کدام زوج ماتریس کنار هم اول در هم ضرب شوند و کدام یک آخر در نهایت جواب یکسان خواهدبود.<br>\n",
    "    \n",
    "</div>\n",
    "<hr>"
   ]
  },
  {
   "cell_type": "code",
   "execution_count": null,
   "metadata": {},
   "outputs": [],
   "source": []
  },
  {
   "cell_type": "markdown",
   "metadata": {},
   "source": [
    "<div style=\"direction:rtl; font-size: 17px; font-family: 'XB Zar'; line-height: 200%\">\n",
    "    نکته‌ای که باید بدان توجه شود برابربودن در جواب نهایی به معنای برابر بودن در تعداد کارها نیست. در واقع نحوه پرانتزگذاری ما روی تعداد عمل‌های ریاضی ساده‌ای که برای حاصل ضرب دو ماتریس انجام می‌شود تاثیر می‌گذارد.<br>\n",
    "    به عنوان مثال فرض کنید که ماتریس A یک ماتریس  30*10,  ماتریس B یک ماتریس 5*30 و ماتریس C یک ماتریس 60*5 می‌باشد.\n",
    "    \n",
    "    \n",
    "    "
   ]
  },
  {
   "cell_type": "raw",
   "metadata": {},
   "source": [
    "ABCD = A(BC)D = ((AB)C)D = A(B(CD)) = ..."
   ]
  },
  {
   "cell_type": "raw",
   "metadata": {},
   "source": [
    "    (AB)C = (10×30×5) + (10×5×60) = 1500 + 3000 = 4500 operations\n",
    "    A(BC) = (30×5×60) + (10×30×60) = 9000 + 18000 = 27000 operations."
   ]
  },
  {
   "cell_type": "markdown",
   "metadata": {},
   "source": [
    "<div id=\"section2\" style=\"direction:rtl; font-size: 17px; font-family: 'XB Zar'; line-height: 200%\">\n",
    "<div style=\"font-size: 22px; color: #ff6600; font-weight: bold\">\n",
    "مساله\n",
    "</div><br>\n",
    "فرض کنید یک آرایه p[] به ما داده شده است که حاوی تعدادی عدد است  و هر دوعدد متوالی بیانگر بعد یک ماتریس است. <br>\n",
    "    به عنوان مثال p[] = {10, 20, 30, 40, 30}که تعریف کننده 4 ماتریس به ابعاد 20*10 و 30*20 و 40*30و30*40 می‌باشد.حال میخواهیم روی یک ماتریس  p  به مانند این کمترین تعداد عمل را حساب کنیم.\n",
    "</div>\n",
    "<hr>"
   ]
  },
  {
   "cell_type": "markdown",
   "metadata": {},
   "source": [
    "<div style=\"direction:rtl; font-size: 17px; font-family: 'XB Zar'; line-height: 200%\">\n",
    "به عنوان یک روش ساده برای حل این مساله می‌توانیم تمام حالات مختلف پرانتزگذاری را اعمال کنیم; تعداد عمل‌ها را محاسبه کنیم و در نهایت کمترین مقدار را برگردانیم .در یک زنجیره‌ماتریسی به سایز n  ما می‌توانیم اولین مجموعه پرانتز را در n-1 حالت مختلف قرار دهیم.<br>\n",
    "    بعد از اینکه ما این‌کار را انجام دادیم, در واقع مساله را به دو زیر مساله کوچکتر تقسیم کرده‌ایم.بنابراین می‌توان مساله را به سادگی به روش بازگشتی حل‌کرد.<br>\n",
    "    قطعه کد زیر پیاده‌سازی روش بالا را نشان می‌دهد.\n"
   ]
  },
  {
   "cell_type": "code",
   "execution_count": 3,
   "metadata": {},
   "outputs": [
    {
     "ename": "SyntaxError",
     "evalue": "invalid syntax (<ipython-input-3-1d8964d53ad5>, line 2)",
     "output_type": "error",
     "traceback": [
      "\u001b[1;36m  File \u001b[1;32m\"<ipython-input-3-1d8964d53ad5>\"\u001b[1;36m, line \u001b[1;32m2\u001b[0m\n\u001b[1;33m    using namespace std;\u001b[0m\n\u001b[1;37m                  ^\u001b[0m\n\u001b[1;31mSyntaxError\u001b[0m\u001b[1;31m:\u001b[0m invalid syntax\n"
     ]
    }
   ],
   "source": [
    "#include<bits/stdc++.h> \n",
    "using namespace std; \n",
    " \n",
    "int MatrixChainOrder(int p[], int i, int j) \n",
    "{ \n",
    "    if(i == j) \n",
    "        return 0; \n",
    "    int k; \n",
    "    int min = INT_MAX; \n",
    "    int count;  \n",
    "    for (k = i; k < j; k++) \n",
    "    { \n",
    "        count = MatrixChainOrder(p, i, k) + \n",
    "                MatrixChainOrder(p, k + 1, j) + \n",
    "                p[i - 1] * p[k] * p[j]; \n",
    "  \n",
    "        if (count < min) \n",
    "            min = count; \n",
    "    } \n",
    "  \n",
    "    return min; \n",
    "} \n",
    "  \n",
    "int main() \n",
    "{ \n",
    "    int arr[] = {1, 2, 3, 4, 3}; \n",
    "    int n = sizeof(arr)/sizeof(arr[0]); \n",
    "  \n",
    "    cout << \"Minimum number of multiplications is \"\n",
    "         << MatrixChainOrder(arr, 1, n - 1); \n",
    "} "
   ]
  },
  {
   "cell_type": "markdown",
   "metadata": {},
   "source": [
    "<div style=\"direction:rtl; font-size: 17px; font-family: 'XB Zar'; line-height: 200%\">\n",
    "  پیچیدگی زمانی روش بازگشتی بالا نمایی خواهد بود. باید توجه داشته باشیم که تعداد زیادی از زیرمساله ها بارها و بارها در حال تکرار شدن هستند.به درخت زیر توجه کنید.این درخت برای یک زنجیره ماتریس با سایز 4 است. در این مثال تابع  MatrixChainOrder(p, 3, 4) دوبار صدا زده شده‌است.  "
   ]
  },
  {
   "cell_type": "markdown",
   "metadata": {},
   "source": [
    "<img src=\"figs/matrixchainmultiplication.png\" style=\"float:center; width:50%\"/>"
   ]
  },
  {
   "cell_type": "markdown",
   "metadata": {},
   "source": [
    "<div style=\"direction:rtl; font-size: 17px; font-family: 'XB Zar'; line-height: 200%\">\n",
    "از آنجایی که زیر مساله های مشابه بارها و بارها تکرار می‌شوند و همپوشانی دارند پس شرایط استفاده از dynamic programming فراهم است.<br>\n",
    "    به قطعه کد زیر توجه شود."
   ]
  },
  {
   "cell_type": "code",
   "execution_count": 4,
   "metadata": {},
   "outputs": [
    {
     "ename": "SyntaxError",
     "evalue": "invalid syntax (<ipython-input-4-06f0411e45ec>, line 2)",
     "output_type": "error",
     "traceback": [
      "\u001b[1;36m  File \u001b[1;32m\"<ipython-input-4-06f0411e45ec>\"\u001b[1;36m, line \u001b[1;32m2\u001b[0m\n\u001b[1;33m    using namespace std;\u001b[0m\n\u001b[1;37m                  ^\u001b[0m\n\u001b[1;31mSyntaxError\u001b[0m\u001b[1;31m:\u001b[0m invalid syntax\n"
     ]
    }
   ],
   "source": [
    "#include<bits/stdc++.h> \n",
    "using namespace std; \n",
    "\n",
    "int MatrixChainOrder(int p[], int n) \n",
    "{ \n",
    "  \n",
    "  \n",
    "    int i, j, k, L, q; \n",
    "  \n",
    "  \n",
    "    for (i = 1; i < n; i++) \n",
    "        m[i][i] = 0; \n",
    "  \n",
    "    for (L = 2; L < n; L++) \n",
    "    { \n",
    "        for (i = 1; i < n - L + 1; i++) \n",
    "        { \n",
    "            j = i + L - 1; \n",
    "            m[i][j] = INT_MAX; \n",
    "            for (k = i; k <= j - 1; k++) \n",
    "            { \n",
    "                q = m[i][k] + m[k + 1][j] +  \n",
    "                    p[i - 1] * p[k] * p[j]; \n",
    "                if (q < m[i][j]) \n",
    "                    m[i][j] = q; \n",
    "            } \n",
    "        } \n",
    "    } \n",
    "  \n",
    "    return m[1][n - 1]; \n",
    "} \n",
    "  \n",
    "// Driver Code \n",
    "int main() \n",
    "{ \n",
    "    int arr[] = {1, 2, 3, 4}; \n",
    "    int size = sizeof(arr) / sizeof(arr[0]); \n",
    "  \n",
    "    cout << \"Minimum number of multiplications is \"\n",
    "         << MatrixChainOrder(arr, size); \n",
    "  \n",
    "    getchar(); \n",
    "    return 0; \n",
    "} "
   ]
  },
  {
   "cell_type": "code",
   "execution_count": null,
   "metadata": {},
   "outputs": [],
   "source": []
  }
 ],
 "metadata": {
  "kernelspec": {
   "display_name": "Python 3",
   "language": "python",
   "name": "python3"
  },
  "language_info": {
   "codemirror_mode": {
    "name": "ipython",
    "version": 3
   },
   "file_extension": ".py",
   "mimetype": "text/x-python",
   "name": "python",
   "nbconvert_exporter": "python",
   "pygments_lexer": "ipython3",
   "version": "3.7.0"
  }
 },
 "nbformat": 4,
 "nbformat_minor": 2
}
