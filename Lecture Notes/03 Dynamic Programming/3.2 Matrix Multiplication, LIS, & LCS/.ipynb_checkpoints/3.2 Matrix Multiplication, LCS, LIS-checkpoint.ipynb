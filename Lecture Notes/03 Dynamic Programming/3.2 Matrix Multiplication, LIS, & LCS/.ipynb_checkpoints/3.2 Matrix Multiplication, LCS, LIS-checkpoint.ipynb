{
 "cells": [
  {
   "cell_type": "markdown",
   "metadata": {},
   "source": [
    "<div style=\"direction:rtl;line-height:300%;\"> <font face=\"XB Zar\">\n",
    "<div align=center>\n",
    "    <div style=\"font-size:14px\">\n",
    "    به نام خدا\n",
    "    </div><br>\n",
    "    <strong><div style=\"font-size:50px; color: blue\">\n",
    "    طراحی الگوریتم‌ها\n",
    "    </div></strong>\n",
    "    <br>\n",
    "    <div style=\"font-size:20px; color: #ff6600\">\n",
    "    دانشگاه صنعتی شریف، دانشکده مهندسی کامپیوتر\n",
    "    </div>\n",
    "    <div style=\"font-size:15px; color: black\">\n",
    "        نیم‌سال دوم سال تحصیلی ۹۸-۹۹\n",
    "    </div>\n",
    "    <hr>\n",
    "    <strong><div style=\"font-size:35px; color: red\">\n",
    "        فصل دوم: برنامه‌نویسی پویا\n",
    "    </div></strong><br>\n",
    "    <div style=\"font-size:30px; color: navy\">\n",
    "        بخش دوم: ضرب ماتریس‌ها، کوله‌پشتی، LCS، LIS\n",
    "    </div><br>\n",
    "    <div style=\"font-size:20px; color: black\">\n",
    "        علیرضا دقیق، کیارش گل‌زاده\n",
    "    </div>\n",
    "\n",
    "</div>\n",
    "<hr>"
   ]
  },
  {
   "cell_type": "markdown",
   "metadata": {},
   "source": [
    "<div style=\"direction:rtl; font-size: 17px; font-family: 'XB Zar'; line-height: 200%\">\n",
    "<div style=\"font-size: 22px; color: #ff6600; font-weight: bold\">\n",
    "فهرست محتویات\n",
    "</div>         \n",
    "<ul style=\"margin-right: 0;\">\n",
    "    <li><a href=\"#section1\">مقدمه</a></li>\n",
    "    <li><a href=\"#section2\">مسئله‌ی اول: ضرب ماتریس‌ها</a></li>\n",
    "    <li><a href=\"#section3\">مساله‌ی دوم: کوله‌پشتی</a></li>\n",
    "    <li><a href=\"#section4\">مساله‌ی سوم: بلند‌ترین زیردنباله‌ی مشترک (Longest Common Subsequence یا LCS)\n",
    "    <li><a href=\"#section5\">مساله‌ی چهارم: تراز دنباله‌ها (Sequence Alignment)</a></li>\n",
    "    <li><a href=\"#section6\">مساله‌ی پنجم: بلند‌ترین زیردنباله‌ی صعودی (Longest Increasing Subsequence یا LIS)</a></li>\n",
    "\n",
    "</a></li>\n",
    "</ul>\n",
    "</div>"
   ]
  },
  {
   "cell_type": "markdown",
   "metadata": {},
   "source": [
    "<div id=\"section1\" style=\"direction:rtl; font-size: 17px; font-family: 'XB Zar'; line-height: 200%\">\n",
    "<div style=\"font-size: 22px; color: #ff6600; font-weight: bold\">\n",
    "مقدمه\n",
    "</div><br>\n",
    "در این بخش، قصد داریم چند مثال دیگر از مسائلی که به کمک برنامه‌نویسی پویا (Dynamic Programming) حل می‌شوند را با هم بررسی کنیم.\n",
    "</div>\n",
    "<hr>"
   ]
  },
  {
   "cell_type": "markdown",
   "metadata": {},
   "source": [
    "<div id=\"section2\" style=\"direction:rtl; font-size: 17px; font-family: 'XB Zar'; line-height: 200%\">\n",
    "<div style=\"font-size: 22px; color: #ff6600; font-weight: bold\">\n",
    "مسئله‌ی اول: ضرب ماتریس‌ها\n",
    "</div><br>\n",
    "    <strong>سوال:</strong>\n",
    "فرض کنید یک دنباله از ماتریس‌ها به صورت $\\langle A_1, A_2, ..., A_n\\rangle $ به ما داده شده است و می‌خواهیم مناسب‌ترین راه را برای ضرب این ماتریس‌ها پیدا کنیم. <br>\n",
    "در واقع مسئله ما این نیست که حاصل‌ضرب ماتریس‌ها را محاسبه کنیم بلکه این است که تصمیم بگیریم به چه ترتیبی آن‌ها را در یکدیگر ضرب کنیم.<br> \n",
    "   کاری که قرار است ما برای حل این مسئله انجام دهیم در واقع یک نحوه پرانتزگذاری می‌باشد یعنی اهمیتی ندارد که کدام زوج ماتریس کنار هم اول در هم ضرب شوند و کدام یک آخر؛ در نهایت جواب یکسان خواهد بود.<br>\n",
    "    $$ABCD = A(BC)D = ((AB)C)D = A(B(CD)) =\\ ...$$\n",
    "نکته‌ای که باید بدان توجه شود این است که برابر بودن در جواب نهایی به معنای برابر بودن در تعداد عمل‌ها نیست. در واقع نحوه پرانتزگذاری ما روی تعداد عمل‌های ریاضی ساده‌ای که برای حاصل‌ضرب دو ماتریس انجام می‌شود تاثیر می‌گذارد.<br>\n",
    "    می‌دانیم دو ماتریس $A$ و $B$ در هم قابل‌ضرب هستند اگر و تنها اگر تعداد ستون‌های ماتریس $A$ با تعداد سطرهای ماتریس $B$ برابر باشد. اگر بخواهیم ماتریس $A_{p\\times q}$ را در ماتریس $B_{q\\times r}$ ضرب کنیم، تعداد عملیات‌های ضرب اسکالری که باید انجام دهیم، برابر $pqr$ است. این مقدار را هزینه‌ی ضرب ماتریس $A$ در $B$ تعریف می‌کنیم.<br/>\n",
    "    به طور خلاصه، می‌خواهیم یک پرانتزگذاری برای انجام عملیات ضرب انتخاب کنیم، به طوری که تعداد کل عمل‌های ضرب‌مان کمینه شود.<br/>\n",
    "    به عنوان مثال فرض کنید که ماتریس $A$ یک ماتریس ۳۰×۱۰،  ماتریس $B$ یک ماتریس ۵×۳۰ و ماتریس $C$ یک ماتریس ۶۰×۵ باشد.\n",
    "    <br/>\n",
    "</div>    "
   ]
  },
  {
   "cell_type": "markdown",
   "metadata": {},
   "source": [
    "$ (AB)C = (10×30×5) + (10×5×60) = 1500 + 3000 = 4500\\ operations$<br/>\n",
    "$ A(BC) = (30×5×60) + (10×30×60) = 9000 + 18000 = 27000\\ operations$<br/>\n",
    "<div style=\"direction:rtl; font-size: 17px; font-family: 'XB Zar'; line-height: 200%\">\n",
    "    مشخص است که پرانتزگذاری اول، هزینه‌ی کمتری دارد. <hr/>\n",
    "    فرض کنید یک آرایه $P$ به ما داده شده است که حاوی تعدادی عدد است  و هر دو عدد متوالی بیانگر ابعاد یک ماتریس است. <br>\n",
    "    به عنوان مثال $P = \\{10, 20, 30, 40, 30\\}$، تعریف کننده ۴ ماتریس به ابعاد ۲۰×۱۰، ۳۰×۲۰، ۴۰×۳۰ و ۳۰×۴۰ می‌باشد. حال می‌خواهیم برای ضرب این دنباله ماتریس‌ها، کمترین هزینه کل را محاسبه کنیم.\n",
    "\n",
    "</div>"
   ]
  },
  {
   "cell_type": "markdown",
   "metadata": {},
   "source": [
    "<div style=\"direction:rtl; font-size: 17px; font-family: 'XB Zar'; line-height: 200%\">\n",
    "<div style=\"font-size: 17px; color: #ff6600; font-weight: bold\">\n",
    "راه‌حل اول\n",
    "</div>         \n",
    "به عنوان یک روش ساده برای حل این مسئله، می‌توانیم تمام حالات مختلف پرانتزگذاری را اعمال کنیم؛ تعداد عمل‌ها را محاسبه کنیم و در نهایت کمترین مقدار را برگردانیم. برای این کار، از یک تابع بازگشتی استفاده می‌کنیم. این تابع، روی آخرین ضربِ انجام شده در این زنجیره، حالت‌بندی می‌کند. در یک زنجیره ماتریسی به سایز $n$، ما می‌توانیم اولین مجموعه پرانتز (که نشان‌دهنده آخرین ضربی است که انجام می‌شود) را در $n-1$ حالت مختلف قرار دهیم.<br>\n",
    "    بعد از اینکه ما این‌کار را انجام دادیم، در واقع مساله را به دو زیرمسئله کوچکتر تقسیم کرده‌ایم.بنابراین می‌توان مسئله را به سادگی به روش بازگشتی حل کرد.<br>\n",
    "    قطعه کد زیر پیاده‌سازی روش بالا را نشان می‌دهد.\n",
    "<hr>\n",
    "</div>"
   ]
  },
  {
   "cell_type": "code",
   "execution_count": 1,
   "metadata": {},
   "outputs": [],
   "source": [
    "#include <iostream>\n",
    "#include <climits>\n",
    "#include <algorithm>\n",
    "#include <string>\n",
    "\n",
    "using namespace std;"
   ]
  },
  {
   "cell_type": "code",
   "execution_count": 2,
   "metadata": {
    "pycharm": {
     "name": "#%%\n"
    }
   },
   "outputs": [],
   "source": [
    "int recursive_matrix_chain(int p[], int i, int j) \n",
    "{ \n",
    "    if(i == j) \n",
    "        return 0;\n",
    "    \n",
    "    int ans = INT_MAX, operations;  \n",
    "    for (int k = i; k < j; k++) \n",
    "    { \n",
    "        operations = recursive_matrix_chain(p, i, k) + recursive_matrix_chain(p, k + 1, j) + p[i - 1] * p[k] * p[j]; \n",
    "  \n",
    "        ans = min(ans, operations);\n",
    "    } \n",
    "  \n",
    "    return ans; \n",
    "}"
   ]
  },
  {
   "cell_type": "code",
   "execution_count": 3,
   "metadata": {},
   "outputs": [
    {
     "name": "stdout",
     "output_type": "stream",
     "text": [
      "15125"
     ]
    }
   ],
   "source": [
    "{ \n",
    "    int arr[] = {30, 35, 15, 5, 10, 20, 25}; \n",
    "    int n = 7; \n",
    "  \n",
    "    cout << recursive_matrix_chain(arr, 1, n - 1); \n",
    "} "
   ]
  },
  {
   "cell_type": "markdown",
   "metadata": {
    "pycharm": {
     "name": "#%% md\n"
    }
   },
   "source": [
    "<div style=\"direction:rtl; font-size: 17px; font-family: 'XB Zar'; line-height: 200%\">\n",
    "<div style=\"font-size: 17px; color: #ff6600; font-weight: bold\">\n",
    "تحلیل زمانی\n",
    "</div>            \n",
    "پیچیدگی زمانی روش بازگشتی بالا نمایی خواهد بود. باید توجه داشته باشیم که تعداد زیادی از زیرمسئله‌ها بارها و بارها در حال تکرار شدن هستند. به درخت زیر توجه کنید. این درخت برای یک زنجیره ماتریس با سایز ۴ است. در این مثال تابع recursive_matrix_chain(p, 3, 4) دوبار صدا زده شده‌است.\n",
    "<img src=\"figs/matrixchainmultiplication.png\" style=\"float:center; width:50%\"/>\n",
    "<hr>\n",
    "</div>"
   ]
  },
  {
   "cell_type": "markdown",
   "metadata": {
    "pycharm": {
     "name": "#%% md\n"
    }
   },
   "source": [
    "<div style=\"direction:rtl; font-size: 17px; font-family: 'XB Zar'; line-height: 200%\">\n",
    "<div style=\"font-size: 17px; color: #ff6600; font-weight: bold\">\n",
    "راه حل دوم\n",
    "</div>            \n",
    "از آنجایی که زیر مساله های مشابه بارها و بارها تکرار می‌شوند و همپوشانی دارند پس شرایط استفاده از برنامه‌نویسی پویا فراهم است.<br>\n",
    "    می‌توانیم خیلی ساده تابع بازگشتی بالا را با استفاده از تکنیک memoization، به dp تبدیل کنیم. اما در این‌جا، قصد داریم با استفاده از روش جدولی bottom up، این سوال را حل کنیم. <br/>\n",
    "در این سوال، $dp$ را به این صورت تعریف می‌کنیم:<br/>\n",
    "    $dp[i][j]$: کمترین تعداد ضرب‌های مورد نیاز برای محاسبه ماتریس $A_{i..j}=A_iA_{i+1}...A_j$ <br/>\n",
    "    حالت‌های پایه، حالت‌هایی هستند که $i=j$ باشد. در این حالت، هزینه مورد نیاز برابر با صفر است. (لازم نیست ضربی انجام دهیم.)<br/>\n",
    "    حال فرض کنید پرانتزگذاری بهینه برای محاسبه $A_{i..j}$، دنباله‌ی $A_iA_{i+1}...A_j$ را بین $A_k$ و $A_{k+1}$ قسمت می‌کند، که در آن $i\\le k \\lt j$.\n",
    "    در این صورت $dp[i][j]$ برابر خواهد بود با کمترین هزینه محاسبه $A_{i..k}$ و $A_{k+1..j}$، به علاوه هزینه ضرب این دو ماتریس در یک‌دیگر. از آن‌جایی که ابعاد ماتریس $A_i$ برابر $p[i-1]\\times p[i]$ است، می‌توان گفت که هزینه‌ی ضرب دو ماتریس $A_{i..k}$ و $A_{k+1..j}$ برابر است با $p[i-1].p[k].p[j]$. بنابراین می‌توان گفت:\n",
    "$$dp[i][j] = \\begin{cases}\n",
    "0 &\\text{$i = j$}\\\\\n",
    "\\min\\limits_{i\\le k\\lt j}\\{dp[i][k]+dp[k+1][j]+p[i-1].p[k].p[j]\\} &\\text{$i \\lt j$}\n",
    "\\end{cases}$$\n",
    "پاسخ مسئله‌ی اصلی در $dp[1][n]$ قرار دارد. حال برای آپدیت کردن خانه‌های $dp$، با کمی دقت، متوجه می‎شویم که محاسبه $dp[i][j]$ تنها به خانه‌هایی از $dp$ مانند $dp[i'][j']$ نیازمند است که $j'-i'\\lt j-i$. پس اگر این آرایه را به گونه‌ای پر کنیم که $dp$ بر حسب طول بازه‌ها به طور صعودی پر شود (یعنی ابتدا $dp$ بازه‌هایی به طول ۱، سپس $dp$ بازه‌هایی به طول ۲، و الی آخر) پر شوند، می‌توان مطمئن شد که خانه‌های $dp$ به درستی محاسبه می‌شوند.\n",
    "\n",
    "<hr>\n",
    "</div>"
   ]
  },
  {
   "cell_type": "code",
   "execution_count": 4,
   "metadata": {},
   "outputs": [],
   "source": [
    "constexpr int MATRIX_COUNT = 200;\n",
    "int dp_matrix[MATRIX_COUNT + 1][MATRIX_COUNT + 1];"
   ]
  },
  {
   "cell_type": "code",
   "execution_count": 5,
   "metadata": {
    "pycharm": {
     "name": "#%%\n"
    }
   },
   "outputs": [],
   "source": [
    "int matrix_chain_order(int p[], int n) \n",
    "{ \n",
    "    for (int i = 1; i <= n; i++) \n",
    "        dp_matrix[i][i] = 0; \n",
    "  \n",
    "    for (int l = 2; l <= n; l++) // l is the chain length\n",
    "    { \n",
    "        for (int i = 1; i <= n - l + 1; i++) \n",
    "        { \n",
    "            int j = i + l - 1; \n",
    "            dp_matrix[i][j] = INT_MAX; \n",
    "            for (int k = i; k <= j - 1; k++) \n",
    "                dp_matrix[i][j] = min(dp_matrix[i][j], dp_matrix[i][k] + dp_matrix[k + 1][j] + p[i - 1] * p[k] * p[j]); \n",
    "        } \n",
    "    } \n",
    "  \n",
    "    return dp_matrix[1][n]; \n",
    "} "
   ]
  },
  {
   "cell_type": "code",
   "execution_count": 6,
   "metadata": {},
   "outputs": [
    {
     "name": "stdout",
     "output_type": "stream",
     "text": [
      "15125"
     ]
    }
   ],
   "source": [
    "{\n",
    "    int p[] = {30, 35, 15, 5, 10, 20, 25}; \n",
    "    \n",
    "    cout << matrix_chain_order(p, 6);\n",
    "}"
   ]
  },
  {
   "cell_type": "markdown",
   "metadata": {},
   "source": [
    "<div style=\"direction:rtl; font-size: 17px; font-family: 'XB Zar'; line-height: 200%\">\n",
    "<div style=\"font-size: 17px; color: #ff6600; font-weight: bold\">\n",
    "تحلیل زمانی این راه حل\n",
    "</div>            \n",
    "این الگوریتم، تمام خانه‌های $dp[i][j]$ که $i\\le j$ باشد را محاسبه می‌کند (یعنی $O(n^2)$ خانه). و محاسبه‌ی مقدار هر خانه، عملیاتی از $O(n)$ است (یک حلقه که در آن مینیمم گرفته می‌شود)؛ پس در کل، مرتبه زمانی الگوریتم از $O(n^3)$ است. <br/>\n",
    "    <strong>تمرین:</strong> آیا می‌توانید برنامه‎ی بالا را به گونه‌ای تغییر دهید که روشِ ضرب کردن ماتریس‌ها (نحوه‌ی پرانتزگذاری) را نیز خروجی دهد؟🤔\n",
    "<hr>\n",
    "</div>"
   ]
  },
  {
   "cell_type": "markdown",
   "metadata": {},
   "source": [
    "<div id=\"section3\" style=\"direction:rtl; font-size: 17px; font-family: 'XB Zar'; line-height: 200%\">\n",
    "<div style=\"font-size: 22px; color: #ff6600; font-weight: bold\">\n",
    "مساله‌ی دوم: کوله‌پشتی\n",
    "</div><br>            \n",
    "یک کوله پشتی با گنجایش $V$ واحد حجم داریم. همچنین تعدادی جنس داریم که هر کدام ارزش (value) و حجم (volume) مشخصی دارند. می‌خواهیم تعدادی از این اجناس را داخل کوله‌پشتی قرار دهیم، به طوری که مجموع ارزش اجناس داخل کوله‌پشتی، بیشینه شود. واضح است که مجموع حجم اجناس داخل کوله‌پشتی، نباید از گنجایش آن ($V$) بیشتر باشد.<br>\n",
    "<strong>\n",
    "نکته:\n",
    "</strong>    \n",
    "اکیدا توصیه می‌شود قبل از خواندن راه حل دقایقی خودتان به دنبال راه حل این مساله بگردید.\n",
    "<hr>\n",
    "این مسئله، نسخه‌های مختلفی دارد. برای مثال، در یک نسخه از این مسئله، می‌توان قسمتی از هر جنس را برداشت و داخل کوله‌پشتی گذاشت. که این نسخه به کمک برنامه‌نویسی حریصانه حل می‌شود. اما قصد داریم نسخه‌ی مطرح شده در بالا را به کمک برنامه‌نویسی پویا حل کنیم. \n",
    "</div>"
   ]
  },
  {
   "cell_type": "markdown",
   "metadata": {},
   "source": [
    "<div style=\"direction:rtl; font-size: 17px; font-family: 'XB Zar'; line-height: 200%\">\n",
    "<div style=\"font-size: 17px; color: #ff6600; font-weight: bold\">\n",
    "راه حل اول\n",
    "</div>            \n",
    "اولین راه‌حلی که به ذهن می‌رسد، این است که تمام حالت‌هایی که می‌توان اجناس را انتخاب کرد، به طوری که مجموع حجم آن‌ها از گنجایش کوله‌پشتی بیشتر نشود را پیدا کنیم، و میان آن‌ها، حالتی که مجموع ارزش‌شان بیشینه است را چاپ کنیم. <br/><hr>\n",
    "</div>"
   ]
  },
  {
   "cell_type": "code",
   "execution_count": 7,
   "metadata": {},
   "outputs": [],
   "source": [
    "int knapsack_naive(int n, int V, int volume[], int value[], int i = 0, int occupied = 0, int value_sum = 0)\n",
    "{\n",
    "    if (i == n)\n",
    "        return value_sum;\n",
    "    \n",
    "    int ans = INT_MIN;\n",
    "    if (occupied + volume[i] <= V)\n",
    "        ans = max(ans, knapsack_naive(n, V, volume, value, i + 1, occupied + volume[i], value_sum + value[i]));\n",
    "    \n",
    "    ans = max(ans, knapsack_naive(n, V, volume, value, i + 1, occupied, value_sum));\n",
    "    \n",
    "    return ans;\n",
    "}"
   ]
  },
  {
   "cell_type": "code",
   "execution_count": 8,
   "metadata": {
    "pycharm": {
     "name": "#%%\n"
    }
   },
   "outputs": [
    {
     "name": "stdout",
     "output_type": "stream",
     "text": [
      "70"
     ]
    }
   ],
   "source": [
    "{\n",
    "    int n = 4, V = 13;\n",
    "    int volume[] = {5, 6, 7, 2};\n",
    "    int value[] = {10, 20, 30, 40};\n",
    "    \n",
    "    cout << knapsack_naive(n, V, volume, value);\n",
    "}"
   ]
  },
  {
   "cell_type": "markdown",
   "metadata": {
    "pycharm": {
     "name": "#%% md\n"
    }
   },
   "source": [
    "<div style=\"direction:rtl; font-size: 17px; font-family: 'XB Zar'; line-height: 200%\">\n",
    "<div style=\"font-size: 17px; color: #ff6600; font-weight: bold\">\n",
    "تحلیل زمانی این راه حل\n",
    "</div>            \n",
    "واضح است که در این راه حل، در بدترین حالت، مجبور می‌شویم تمام زیرمجموعه‌های اجناس را پیدا کنیم (که تعداد آن‌ها از $O(2^n)$ و نمایی است). حال سعی داریم الگوریتمی با زمان اجرایی بهتر از نمایی برای این مسئله طراحی کنیم.\n",
    "<br/>\n",
    "<hr>\n",
    "</div>"
   ]
  },
  {
   "cell_type": "markdown",
   "metadata": {},
   "source": [
    "<div style=\"direction:rtl; font-size: 17px; font-family: 'XB Zar'; line-height: 200%\">\n",
    "<div style=\"font-size: 17px; color: #ff6600; font-weight: bold\">\n",
    "راه حل دوم\n",
    "</div>            \n",
    "شاید به ذهن‌تان برسد که الگوریتمی حریصانه برای این مسئله ارائه دهید. اما به احتمال خوبی، راه‌حل حریصانه‌ی شما مثال نقض دارد!\n",
    "<br/>\n",
    "    اگر بیشتر دقت کنیم، می‎توانیم تابع بازگشتی‌مان را کمی بهینه‌تر کنیم. مثلاً جنس $n$ ام را در نظر بگیرید؛ این جنس، یا در جواب بهینه، در کوله‌پشتی ظاهر می‌شود یا خیر.\n",
    "    اگر جنس $n$ ام در جواب بهینه ظاهر شود، یعنی انگار باید بین $n-1$ جنس دیگر، تعدادی جنس با بیشترین مجموع ارزش را در یک کوله پشتی با حجم خالی $V - volume[n]$ قرار دهیم. و جواب محاسبه شده از این زیرمسئله را با ارزش جنس $n$ ام (که آن را در کوله‌پشتی قرار دادیم) جمع کنیم.\n",
    "    و اگر هم جنس $n$ ام در جواب بهینه نباشد، مانند این است که از بین $n-1$ جنس دیگر، باید تعدادی را در کوله‌پشتی با حجم خالیِ $V$ قرار دهیم.\n",
    "    <br/>\n",
    "    بیایید $dp$ مان را این‌گونه تعریف کنیم:\n",
    "    <br/>\n",
    "    $dp[i][w]$: بیشترین ارزشی که می‌توان با استفاده از $i$ جنس اول در کوله‌ای با حجم خالیِ $w$ قرار داد.\n",
    "    <br/>\n",
    "    همان‌طور که در بالا گفتیم، می‌توانیم این $dp$ را به شکل زیر محاسبه کنیم:\n",
    "    <br/>\n",
    "    $$dp[i][w] = \\max(dp[i-1][w], dp[i-1][w - volume[i]] + value[i])$$\n",
    "    حالت پایه‌مان به شکل زیر است:\n",
    "    $$\\forall w: dp[0][w]=0$$\n",
    "    و پاسخ مسئله در $dp[n][V]$ است.\n",
    "    <br/>\n",
    "    در زیر، کدِ این برنامه با استفاده از تکنیک memoization آمده است.\n",
    "    می‌توانید به عنوان تمرین، آرایه dp را به صورت bottom-up نیز محاسبه کنید.\n",
    "    <hr>\n",
    "</div>"
   ]
  },
  {
   "cell_type": "code",
   "execution_count": 9,
   "metadata": {},
   "outputs": [],
   "source": [
    "constexpr int MAX_V = 2000, MAX_N = 1000;\n",
    "int dp_knapsack[MAX_N][MAX_V];"
   ]
  },
  {
   "cell_type": "code",
   "execution_count": 10,
   "metadata": {
    "pycharm": {
     "name": "#%%\n"
    }
   },
   "outputs": [],
   "source": [
    "int knapsack_memoize(int n, int w, int volume[], int value[])\n",
    "{\n",
    "    if (n < 0) // Because our code is 0-based\n",
    "        return 0;\n",
    "    \n",
    "    if (dp_knapsack[n][w] != -1)\n",
    "        return dp_knapsack[n][w];\n",
    "    \n",
    "    int ans = knapsack_memoize(n - 1, w, volume, value);\n",
    "    if (w - volume[n] >= 0)\n",
    "        ans = max(ans, value[n] + knapsack_memoize(n - 1, w - volume[n], volume, value));\n",
    "    \n",
    "    return dp_knapsack[n][w] = ans;\n",
    "}"
   ]
  },
  {
   "cell_type": "code",
   "execution_count": 11,
   "metadata": {
    "scrolled": false
   },
   "outputs": [
    {
     "name": "stdout",
     "output_type": "stream",
     "text": [
      "70"
     ]
    }
   ],
   "source": [
    "{\n",
    "    memset(dp_knapsack, -1, sizeof(dp_knapsack));   //  We fill the cells of \"dp\" which are not calculated yet with -1\n",
    "\n",
    "    int n = 4, V = 13;\n",
    "    int volume[] = {5, 6, 7, 2};\n",
    "    int value[] = {10, 20, 30, 40};\n",
    "    \n",
    "    cout << knapsack_memoize(n - 1, V, volume, value);\n",
    "}"
   ]
  },
  {
   "cell_type": "markdown",
   "metadata": {
    "pycharm": {
     "name": "#%% md\n"
    }
   },
   "source": [
    "<div style=\"direction:rtl; font-size: 17px; font-family: 'XB Zar'; line-height: 200%\">\n",
    "<div style=\"font-size: 17px; color: #ff6600; font-weight: bold\">\n",
    "تحلیل زمانی این راه حل\n",
    "</div>            \n",
    "برای محاسبه پاسخ مسئله، در بدترین حالت باید تمام خانه‌های آرایه dp را پر کنیم. و هر خانه از این آرایه، حداکثر یک بار محاسبه می‌شود (و در دفعات بعد، از مقداری که قبلاً محاسبه شده استفاده می‌شود). پس می‌توان گفت مرتبه زمانی این الگوریتم از $O(nV)$ است. <br/>\n",
    "از آن‌جایی که مرتبه زمانی الگوریتم، تنها به تعداد اعداد ورودی بستگی ندارد (و به مقادیر آن‌ها یعنی $V$) بستگی دارد، می‌گوییم این الگوریتم در اصل <strong>شبه چندجمله‌ای</strong> است.\n",
    "    <hr>\n",
    "</div>"
   ]
  },
  {
   "cell_type": "markdown",
   "metadata": {},
   "source": [
    "<div id=\"section4\" style=\"direction:rtl; font-size: 17px; font-family: 'XB Zar'; line-height: 200%\">\n",
    "<div style=\"font-size: 22px; color: #ff6600; font-weight: bold\">\n",
    "مساله‌ی سوم: بلند‌ترین زیردنباله‌ی مشترک (Longest Common Subsequence یا LCS)\n",
    "</div><br>            \n",
    "<strong>سوال: </strong>دو رشته $x=\\langle x_1x_2...x_n\\rangle $ و $y=\\langle y_1y_2...y_m\\rangle $ داده شده است. می‌خواهیم بلند‌ترین زیردنباله (غیرمتوالی) مشترک این دو رشته را پیدا کنیم. <br/>\n",
    "به عنوان مثال، LCS دو رشته‌ی ABCDGH و AEDFHR برابر با ADH است.\n",
    "<hr/>\n",
    "این مسئله، در آنالیز رشته‌های DNA کاربرد زیادی دارد. به طور مثال، فرض کنید دو رشته‌ی DNA، متشکل از کاراکترهای G ،C ،A و T داشته باشیم. در بسیاری از مواقع، می‌خواهیم مشخص کنیم که دو رشته‌ی DNA، چقدر شبیه به هم هستند. می‌توان معیارهای مختلفی برای این میزان «شباهت» تعریف کرد. یکی از این معیارها، می‌تواند این باشد که رشته‌ی نسبتاً بلندی مانند $z$ یافت شود که زیردنباله‌ی هر دو رشته‌ی مورد آزمایش باشد. برای پیدا کردن این رشته‌ی $z$ و یافتن شباهت میان دو رشته، نیاز داریم تا مسئله‌ی LCS را حل کنیم.\n",
    "<br/>\n",
    "<strong>\n",
    "نکته:\n",
    "</strong>    \n",
    "اکیدا توصیه می‌شود قبل از خواندن راه حل دقایقی خودتان به دنبال راه حل این مساله بگردید.\n",
    "<hr>\n",
    "</div>"
   ]
  },
  {
   "cell_type": "markdown",
   "metadata": {},
   "source": [
    "<div style=\"direction:rtl; font-size: 17px; font-family: 'XB Zar'; line-height: 200%\">\n",
    "<div style=\"font-size: 17px; color: #ff6600; font-weight: bold\">\n",
    "راه حل اول (غیرهوشمندانه)\n",
    "</div>            \n",
    "اولین راه حلی که به ذهن می‌رسد، ای است که تمام زیردنباله‌های رشته‌ی اول را پیدا کنیم، و به ازای هر کدام از آن‌ها، چک کنیم که زیردنباله‌ی رشته‌ی دوم نیز باشد، و بین تمام زیردنباله‌های مشترک، زیردنباله با بیشترین طول را پیدا کنیم.\n",
    "<br/>\n",
    "در این راه‌حل، باید تمام زیردنباله‌های رشته اول را پیدا کنیم، که تعداد آن‌ها از $O(2^n)$ است. و سپس به ازای هر زیردنباله، مشخص کنیم که زیردنباله‌ی رشته‌ی دوم هست یا نه. این عملیات نیز مرتبه زمانی از $O(m)$ دارد. پس مرتبه زمانی کلّی این الگوریتمِ غیرهوشمندانه، از $O(2^n.m)$ و نمایی است. حال سعی می‌کنیم این زمان اجرای این الگوریتم را به چندجمله‌ای کاهش دهیم. \n",
    "<hr>\n",
    "</div>"
   ]
  },
  {
   "cell_type": "markdown",
   "metadata": {},
   "source": [
    "<div style=\"direction:rtl; font-size: 17px; font-family: 'XB Zar'; line-height: 200%\">\n",
    "<div style=\"font-size: 17px; color: #ff6600; font-weight: bold\">\n",
    "راه حل دوم\n",
    "</div>            \n",
    "همچنان از تفکر بازگشتی بهره می‌گیریم!😄<br/>\n",
    "در این مسئله، می‌خواهیم طول LCS دو رشته‌ی $x=\\langle x_1x_2...x_n\\rangle $ و $y=\\langle y_1y_2...y_m\\rangle $ را پیدا کنیم. دو کاراکتر $x_n$ و $y_m$ را در نظر بگیرید. اگر $x_n = y_m$ باشد، می‌توان این کاراکتر را به عنوان آخرین عنصرِ LCS، در انتهای بزرگترین زیردنباله مشترک رشته‌های $x=\\langle x_1x_2...x_{n-1}\\rangle $ و $y=\\langle y_1y_2...y_{m-1}\\rangle $ قرار داد.  $(*)$<br/> پس $LCS(x, y)$ برابر است با: $$LCS(\\langle x_1x_2...x_{n-1} \\rangle, \\langle y_1y_2...y_{m-1} \\rangle )+1$$<br/>\n",
    "اما اگر $x_n \\neq y_m$، مشخص است که نمی‌توانیم عضوی را در LCS به نمایندگی از هر دویِ این کاراکترها قرار دهیم! پس باید یکی از آن‌ها را کنار بگذاریم و LCS را برای بقیه‌ی رشته محاسبه کنیم. یعنی $LCS(x, y)$ برابر است با: $$\\max(LCS(\\langle x_1x_2...x_{n} \\rangle, \\langle y_1y_2...y_{m-1} \\rangle ), LCS(\\langle x_1x_2...x_{n-1} \\rangle, \\langle y_1y_2...y_{m} \\rangle )\\ \\ (*)$$ <br/>\n",
    "<strong>تمرین: </strong> گزاره های مشخص شده با ستاره را به عنوان تمرین ثابت کنید. <br/>\n",
    "    حال این‌جاست که DP وارد می‌شود! فرض کنید $dp[i][j]$: طول بزرگترین زیردنباله متوالی $x[1:i]=\\langle x_1x_2...x_i\\rangle $ و $y[1:j]=\\langle y_1y_2...y_j\\rangle $ <br/>\n",
    "طبق سخنان بالا، این DP به صورت زیر آپدیت می‌شود:\n",
    "$$dp[i][j] = \\begin{cases}\n",
    "0 &\\text{$i = 0$ or $j = 0$}\\\\\n",
    "dp[i-1][j-1] + 1 &\\text{$x_i = y_j$}\\\\\n",
    "\\max(dp[i][j-1], dp[i-1][j]) &\\text{$x_i \\neq y_j$}\n",
    "\\end{cases}$$\n",
    "در زیر، کدِ این سوال را می‌توانید مشاهده کنید.\n",
    "</div>"
   ]
  },
  {
   "cell_type": "code",
   "execution_count": 12,
   "metadata": {},
   "outputs": [
    {
     "name": "stdout",
     "output_type": "stream",
     "text": [
      "3"
     ]
    }
   ],
   "source": [
    "{  \n",
    "    string x = \"ABCDGH\";\n",
    "    string y = \"AEDFHR\";\n",
    "    int dp_lcs[MAX_N + 1][MAX_N + 1];\n",
    "    memset(dp_lcs, 0, sizeof(dp_lcs));\n",
    "    \n",
    "    for (size_t i = 1; i <= x.length(); i++)\n",
    "        for (size_t j = 1; j <= y.length(); j++)\n",
    "            if (x[i - 1] == y[j - 1])\n",
    "                dp_lcs[i][j] = dp_lcs[i - 1][j - 1] + 1;\n",
    "            else\n",
    "                dp_lcs[i][j] = max(dp_lcs[i][j - 1], dp_lcs[i - 1][j]);\n",
    "    \n",
    "    cout << dp_lcs[x.length()][y.length()];\n",
    "}"
   ]
  },
  {
   "cell_type": "markdown",
   "metadata": {},
   "source": [
    "<div style=\"direction:rtl; font-size: 17px; font-family: 'XB Zar'; line-height: 200%\">\n",
    "<div style=\"font-size: 17px; color: #ff6600; font-weight: bold\">\n",
    "تحلیل زمانی این راه حل\n",
    "</div>\n",
    "    تعداد خانه‌هایی از آرایه dp_lcs که پر می‌شود، از $O(n\\times m)$ است، و همچنین آپدیت کردن هر خانه از این آرایه، از $O(1)$ طول می‌کشد. پس مرتبه زمانی کلّی برنامه، از $O(nm)$ است (اگر طول رشته‌های ورودی برابر باشد، از $O(n^2)$ است).\n",
    "<br/>\n",
    "</div>"
   ]
  },
  {
   "cell_type": "markdown",
   "metadata": {},
   "source": [
    "<div style=\"direction:rtl; font-size: 17px; font-family: 'XB Zar'; line-height: 200%\">\n",
    "<strong>تمرین: </strong>آیا می‌توانیم حافظه مصرفی برنامه بالا را کاهش دهیم؟ <br/>\n",
    "<strong>تمرین: </strong>برنامه‌ی بالا را به گونه‌ای تغییر دهید که بتوانیم خودِ رشته‌ی LCS را نیز پیدا کنیم.<br/>\n",
    "<hr/>\n",
    "</div>"
   ]
  },
  {
   "cell_type": "markdown",
   "metadata": {},
   "source": [
    "<div id=\"section5\" style=\"direction:rtl; font-size: 17px; font-family: 'XB Zar'; line-height: 200%\">\n",
    "<div style=\"font-size: 22px; color: #ff6600; font-weight: bold\">\n",
    "مساله‌ی چهارم: تراز دنباله‌ها (Sequence Alignment)\n",
    "</div><br>"
   ]
  },
  {
   "cell_type": "markdown",
   "metadata": {},
   "source": [
    "  \n",
    "<div style=\"direction:rtl; font-size: 17px; font-family: 'XB Zar'; line-height: 200%\">\n",
    "    <strong>سوال:</strong>       \n",
    "دو رشته‌ی $X=\\langle x_1x_2\\dots x_n\\rangle$ و $Y=\\langle y_1y_2\\dots y_m\\rangle$ متشکل از کاراکترهایی به ما داده شده‌است. می‌خواهیم تعدادی فاصله (gap) در رشته‌ها اضافه کنیم، تا به ازای هر کاراکتر از $x$ مانند $x_i$، تناظری یک‌به‌یک بین آن و کاراکتر $i$-ام از $y$ ($y_i$) ایجاد شود. به ازای هر فاصله‌ی ایجاد شده در رشته ها، هزینه‌ی $\\delta$ را متحمل می‌شویم، و به ازای هر تناظر بین کاراکترهای $p$ و $q$، هزینه‌ای برابر با $\\alpha_{pq}$ دارد. (مشخصاْ $\\alpha_{pp}$ برابر با صفر است.) حال می‌خواهیم فاصله‌ها را به گونه‌ای انتخاب کنیم که هزینه‌ی کلی، کمینه شود.\n",
    "\n",
    "<br/>\n",
    "<strong>\n",
    "نکته:\n",
    "</strong>    \n",
    "اکیدا توصیه می‌شود قبل از خواندن راه حل دقایقی خودتان به دنبال راه حل این مساله بگردید.\n",
    "<hr>\n",
    "کاربرد این مسئله، مانند مسئله‌ی قبل، در پیدا کردن میزان مشابهت بین دو رشته است. مثلا فرض کنید می‌خواهید رشته‌ای را در یک نرم‌افزار فرهنگ لغت جستجو کنید. اگر کلمه‌ی مورد جستجو، در فرهنگ لغت موجود نباشد (به طول مثال ocurrance) این نرم‌افزار از شما می‌پرسد که آیا منظور شما occurrence بوده است؟ این نرم‌افزار چگونه شباهت میان این دو رشته را متوجه می‌شود؟ <br/>\n",
    "به طول کلی، مسئله به این تبدیل می‌شود که باید معیاری برای شباهت میان دو رشته پیدا کنیم. به طور مثال، می‌توان رشته‌ی ocurrance را با اضافه کردن یک کاراکتر c به آن و تغییر کاراکتر a به e، به رشته‌ی دوم تبدیل کرد. <br>\n",
    "به تعبیری دیگر، می‌توان این دو رشته را به این صورت، زیر هم ردیف کرد:<br>\n",
    "<center>\n",
    "<pre>\n",
    "o-currance\n",
    "occurrence\n",
    "</pre>\n",
    "</center>\n",
    "هر فاصله، به این معنی است که در این محل، باید کاراکتری اضافه شود. و همچنین، بعضی از کاراکترها با کاراکتر متناظر، یکسان نیستند. در این مثال، میزان تفاوت دو رشته از روی فاصله‌های اضافه شده و کاراکترهایی که با حرف متناظر خود متفاوت هستند محاسبه می‌شود. مثلاْ در این حالت، یک فاصله اضافه شده و یک عدم تطابق داریم. در روشی دیگر، می‌توان رشته‌ها را به این صورت با هم متناظر کرد:<br>\n",
    "<center>\n",
    "<pre>\n",
    "o-curr-ance\n",
    "occurre-nce\n",
    "</pre>\n",
    "</center>\n",
    "در این حالت، سه فاصله اضافه شده است و هیچ عدم تطابقی نداریم. حال بسته به هزینه‌ی هر کدام از این موارد، می‌توان مشخص کرد که کدام تطابق بهتر است. <br>\n",
    "همچنین، مانند مثال قبل، پیدا کردن میزان مشابهت بین دو رشته می‌تواند در مسائل زیست‌شناسی نیز به کار گرفته شود.\n",
    "<hr/>\n",
    "برای حل این سوال، می‌توان راهکارهایی ساده با زمان نمایی پیشنهاد داد، که خیلی بهینه نیستند. برای حل این سوال با زمان چندجمله‌ای، از برنامه‌نویسی پویا کمک می‌گیریم. <br>\n",
    "هر تناظر بین کاراکترهای دو رشته را می‌توان به صورت مجموعه‌ای از زوج مرتب‌ها نمایش داد، که مؤلفه‌های زوج مرتب ‌ها، نشان‌دهنده‌ی اندیسی از هر رشته هستند که با هم تناظر داده شده‌اند. برای مثال در تناظر <br>\n",
    "<center>\n",
    "<pre>\n",
    "-stop\n",
    "tops-\n",
    "</pre>\n",
    "</center>\n",
    "می‌توان این تناظر را با مجموعه‌ی $M = \\{(2, 1), (3, 2), (4, 3)\\}$ نیز نمایش داد. می‌توان نشان داد که در مجموعه‌ی زوج‌مرتب های مربوط به یک تناظر، هیچ دو زوج‌مرتبی با هم تقاطع ندارند؛ به ازای $(i,j), (i', j')\\in M$، اگر $i<i'$، آن‌گاه $j<j'$.<br>\n",
    "<strong>لم. </strong> اگر در یک تناظر $M$ بین دو رشته‌ی $X$ به طول $n$ و $Y$ به طول $m$، اگر $(n, m)\\notin M$، آن‌گاه یا کاراکتر $n$-ام از $X$ در تناظر، رو‌به‌روی فاصله قرار گرفته‌است، و یا کاراکتر $m$-ام از $Y$ روبه‌روی فاصله قرار گرفته‌است.<br>\n",
    "این لم را به عنوان تمرین اثبات کنید. <hr>\n",
    "با استفاده از لم بالا، می‌توان نتیجه گرفت که در تناظر بهینه (تناظر با کمترین هزینه) $M$، حداقل یکی از گزاره‌های زیر اتفاق می‌افتد:<br>\n",
    "۱- کاراکتر $n$-ام از $X$ با کاراکتر $m$-ام از $Y$ تطابق می‌یابد.<br>\n",
    "۲- کاراکتر $n$-ام از $X$ با فاصله تطابق می‌یابد.<br>\n",
    "۳-کاراکتر  $m$-ام از $Y$ با فاصله تطابق می‌یابد.<br>\n",
    "حال $dp[i][j]$ را به صورت زیر تعریف می‌کنیم:<br>\n",
    "$dp[i][j]$: کمترین هزینه برای متناظر کردن دو رشته‌ی $X_i=\\langle x_1x_2\\dots x_i\\rangle$ و $Y_j=\\langle y_1y_2\\dots y_j\\rangle$<br>\n",
    "با استفاده از سه حالت تطابق بین دو کاراکتر آخر رشته‌ها، می‌توان رابطه‌ی زیر را برای محاسبه $dp[i][j]$ نوشت:\n",
    "$$dp[i][j]=\\min(\\alpha_{x_i,y_j}+dp[i-1][j-1], \\delta+dp[i-1][j], \\delta + dp[i, j-1])$$\n",
    "لازم به ذکر است که حالت پایه‌ی ما، $dp[i][0]=dp[0][i]=i\\delta$ است؛ زیرا تنها راه تناظر یک رشته به طول $i$ و یک رشته به طول صفر، افزودن $i$ کاراکتر فاصله به رشته‌ی به طول صفر است.<br>\n",
    "می‌توان کد این الگوریتم را به صورت top-down (و با استفاده از تکنیک memoization) و یا به صورت bottom-up پیاده‌سازی کرد. در زیر، کد آن به روش bottom-up آمده است.\n",
    "</div>"
   ]
  },
  {
   "cell_type": "code",
   "execution_count": 13,
   "metadata": {},
   "outputs": [
    {
     "name": "stdout",
     "output_type": "stream",
     "text": [
      "5\n"
     ]
    }
   ],
   "source": [
    "{\n",
    "    // Initialization\n",
    "    constexpr int MAX_CHAR = 255;\n",
    "    int dp_seq[MAX_N + 1][MAX_N + 1];\n",
    "    memset(dp_seq, 0, sizeof(dp_seq));\n",
    "    string x = \"AGGGCT\";\n",
    "    string y = \"AGGCA\";\n",
    "    int alpha[MAX_CHAR + 1][MAX_CHAR + 1];\n",
    "    for (int i = 0; i <= MAX_CHAR; i++)\n",
    "        for (int j = 0; j <= MAX_CHAR; j++)\n",
    "            alpha[i][j] = (i == j ? 0 : 2);\n",
    "    int delta = 3;\n",
    "    \n",
    "    // Calculate dp\n",
    "    for (int i = 0; i < x.length(); i++)\n",
    "        dp_seq[i][0] = i * delta;\n",
    "    for (int i = 0; i < y.length(); i++)\n",
    "        dp_seq[0][i] = i * delta;\n",
    "    \n",
    "    for (int i = 1; i <= x.length(); i++)\n",
    "        for (int j = 1; j <= y.length(); j++)\n",
    "            dp_seq[i][j] = min(alpha[x[i]][y[j]] + dp_seq[i - 1][j - 1], min(delta + dp_seq[i - 1][j],\n",
    "                                                                             delta + dp_seq[i][j - 1]));\n",
    "    \n",
    "    cout << dp_seq[x.length()][y.length()] << endl;\n",
    "}"
   ]
  },
  {
   "cell_type": "markdown",
   "metadata": {},
   "source": [
    "<div id=\"section6\" style=\"direction:rtl; font-size: 17px; font-family: 'XB Zar'; line-height: 200%\">\n",
    "<div style=\"font-size: 22px; color: #ff6600; font-weight: bold\">\n",
    "مساله‌ی پنجم: بلند‌ترین زیردنباله‌ی صعودی (Longest Increasing Subsequence یا LIS)\n",
    "</div><br>"
   ]
  },
  {
   "cell_type": "markdown",
   "metadata": {},
   "source": [
    "<img src=\"figs/longest-increasing-subsequence.png\" style=\"float:center; width:50%\"/>\n"
   ]
  },
  {
   "cell_type": "raw",
   "metadata": {},
   "source": [
    "arr = [1,3,2,3,5,6,7]\n",
    "LIS = [1,2,3,5,6,7]"
   ]
  },
  {
   "cell_type": "markdown",
   "metadata": {},
   "source": [
    "<div style=\"direction:rtl; font-size: 17px; font-family: 'XB Zar'; line-height: 200%\">\n",
    "فرض کنید به ما آرایه $arr[0..n-1]$ داده شده‌است و می‌خواهیم بلندترین توالی صعودی را پیدا کنیم.<br>\n",
    "    به عنوان یک روش کاربردی میتوان مراحل زیر طی  کنید.\n",
    "    <ul>\n",
    "        <li>فرض می‌کنیم $L(i)$ طول lis ای است که به در آن $a[i]$ آخرین عضو است.</li>\n",
    "        <li>حال می‌توانیم $L(i)$ را به صورت بازگشتی به صورت زیر بدست آوریم</li>\n",
    "    </ul>\n",
    "</div>\n"
   ]
  },
  {
   "cell_type": "raw",
   "metadata": {},
   "source": [
    "L(i) = 1 + max( L(j) ) where 0 < j < i and arr[j] < arr[i]; or\n",
    "L(i) = 1, if no such j exists."
   ]
  },
  {
   "cell_type": "markdown",
   "metadata": {},
   "source": [
    "<div style=\"direction:rtl; font-size: 17px; font-family: 'XB Zar'; line-height: 200%\">\n",
    "برای جواب نهایی ما می‌آییم $max(L(i))$ را بدست می‌آوریم:"
   ]
  },
  {
   "cell_type": "code",
   "execution_count": 15,
   "metadata": {},
   "outputs": [],
   "source": [
    "int _lis( int arr[], int n, int *max_ref) \n",
    "{ \n",
    "    /* Base case */\n",
    "    if (n == 1) \n",
    "        return 1; \n",
    "      int res, max_ending_here = 1;  \n",
    "  \n",
    "    for (int i = 1; i < n; i++) \n",
    "    { \n",
    "        res = _lis(arr, i, max_ref); \n",
    "        if (arr[i-1] < arr[n-1] && res + 1 > max_ending_here) \n",
    "            max_ending_here = res + 1; \n",
    "    } \n",
    " \n",
    "    if (*max_ref < max_ending_here) \n",
    "       *max_ref = max_ending_here; \n",
    "  \n",
    "    return max_ending_here; \n",
    "} \n"
   ]
  },
  {
   "cell_type": "code",
   "execution_count": 16,
   "metadata": {},
   "outputs": [],
   "source": [
    "int lis(int arr[], int n) \n",
    "{ \n",
    "    int max = 1; \n",
    "    _lis( arr, n, &max ); \n",
    "    \n",
    "      return max; \n",
    "} "
   ]
  },
  {
   "cell_type": "code",
   "execution_count": 17,
   "metadata": {
    "scrolled": true
   },
   "outputs": [
    {
     "name": "stdout",
     "output_type": "stream",
     "text": [
      "Length of LIS is 5\n"
     ]
    }
   ],
   "source": [
    "{ \n",
    "    int arr[] = {10, 22, 9, 33, 21, 50, 41, 60}; \n",
    "    int n = sizeof(arr)/sizeof(arr[0]); \n",
    "    cout << \"Length of LIS is \" << lis( arr, n ) << endl; \n",
    "} "
   ]
  },
  {
   "cell_type": "markdown",
   "metadata": {},
   "source": [
    "<div style=\"direction:rtl; font-size: 17px; font-family: 'XB Zar'; line-height: 200%\">\n",
    " فرض کنید می‌خواهیم الگوریتم بالا روی  یک آرایه با اندازه 4 محاسبه کنیم. "
   ]
  },
  {
   "cell_type": "raw",
   "metadata": {},
   "source": [
    "              lis(4)\n",
    "        /        |     \n",
    "      lis(3)    lis(2)   lis(1)\n",
    "     /           /\n",
    "   lis(2) lis(1) lis(1)\n",
    "   /\n",
    "lis(1)"
   ]
  },
  {
   "cell_type": "markdown",
   "metadata": {},
   "source": [
    "<div style=\"direction:rtl; font-size: 17px; font-family: 'XB Zar'; line-height: 200%\">\n",
    "با توجه به درخت بالا مشاهده می‌شود که بعضی از اعضای آرایه بارها و بارها محاسبه می‌شوند . بنابراین بهتر است که از رویکرد dp استفاده کرد. به قطعه کد زیر  توجه شود."
   ]
  },
  {
   "cell_type": "code",
   "execution_count": 18,
   "metadata": {},
   "outputs": [],
   "source": [
    "int lis2( int arr[], int n )  \n",
    "{  \n",
    "    int lis[n]; \n",
    "   \n",
    "    lis[0] = 1;    \n",
    "  \n",
    "    for (int i = 1; i < n; i++ )  \n",
    "    { \n",
    "        lis[i] = 1; \n",
    "        for (int j = 0; j < i; j++ )   \n",
    "            if ( arr[i] > arr[j] && lis[i] < lis[j] + 1)  \n",
    "                lis[i] = lis[j] + 1;  \n",
    "    } \n",
    "  \n",
    "    return *max_element(lis, lis+n); \n",
    "}  \n"
   ]
  },
  {
   "cell_type": "code",
   "execution_count": 19,
   "metadata": {},
   "outputs": [
    {
     "name": "stdout",
     "output_type": "stream",
     "text": [
      "Length of LIS is 5\n"
     ]
    }
   ],
   "source": [
    "{  \n",
    "    int arr[] = { 10, 22, 9, 33, 21, 50, 41, 60 };  \n",
    "    int n = sizeof(arr)/sizeof(arr[0]);\n",
    "    \n",
    "    cout << \"Length of LIS is \" << lis2( arr, n ) << endl;;  \n",
    "}"
   ]
  },
  {
   "cell_type": "markdown",
   "metadata": {},
   "source": [
    "<div style=\"direction:rtl; font-size: 17px; font-family: 'XB Zar'; line-height: 200%\">\n",
    "پیچیدگی زمانی الگوریتم بالا $O(n^2)$ می‌باشد.حال می‌خواهیم الگوریتمی از مرتبه زمانی $O(n\\lg n)$ برای پیدا کردن LIS ارائه دهیم."
   ]
  },
  {
   "cell_type": "markdown",
   "metadata": {},
   "source": [
    "<div style=\"direction:rtl; font-size: 17px; font-family: 'XB Zar'; line-height: 200%\">\n",
    "ایده اصلی که در این الگوریتم وجود دارد این‌است که ما همه توالی‌های فعال را نگه داریم و  براساس عدد جدید این توالی‌ها را بروز رسانی کنیم.به مثال زیر توجه شود."
   ]
  },
  {
   "cell_type": "raw",
   "metadata": {},
   "source": [
    "َA = [2,8,7]\n",
    "subseq1 = [2,7],\n",
    "subseq2 = [2,8]"
   ]
  },
  {
   "cell_type": "markdown",
   "metadata": {},
   "source": [
    "<div style=\"direction:rtl; font-size: 17px; font-family: 'XB Zar'; line-height: 200%\">\n",
    "حال اگر عدد 11 را به آرایه $A$ اضافه کنیم چه اتفاقی می‌افتد؟"
   ]
  },
  {
   "cell_type": "raw",
   "metadata": {},
   "source": [
    "A = [2,8,7,11]\n",
    "subseq1 = [2,7,11],\n",
    "subseq2 = [2,8,11]"
   ]
  },
  {
   "cell_type": "markdown",
   "metadata": {},
   "source": [
    "<div style=\"direction:rtl; font-size: 17px; font-family: 'XB Zar'; line-height: 200%\">\n",
    "حال اگر عدد 9 را به آرایه $A$ اضافه کنیم چه اتفاقی می‌افتد؟"
   ]
  },
  {
   "cell_type": "raw",
   "metadata": {},
   "source": [
    "A = [2,8,7,11,9]\n",
    "subseq1 = [2,7,9],\n",
    "subseq2 = [2,8,9]"
   ]
  },
  {
   "cell_type": "markdown",
   "metadata": {},
   "source": [
    "<div style=\"direction:rtl; font-size: 17px; font-family: 'XB Zar'; line-height: 200%\">\n",
    "در واقع تصمیم‌گیری ما براساس این‌است که باید ببینیم که با اضافه کردن 9 آیا می‌توان توالی 3 تایی را حفظ کرد یا ارتقا بخشید یا بهتر است که با یازده ادامه داد؟<br>\n",
    "    علت انتخاب ما این بود که درصورت اضافه شدن عدد 10 توالی طولانی‌تری خواهیم داشت."
   ]
  },
  {
   "cell_type": "markdown",
   "metadata": {},
   "source": [
    "<div style=\"direction:rtl; font-size: 17px; font-family: 'XB Zar'; line-height: 200%\">\n",
    "حال سوال اینجاست که تصمیم گیری ما پیرامون اینکه آیا عدد جدید را قرار دهیم یا جایگزین کنیم یا با همان اعداد قبلی ادامه دهیم چگونه خواهد بود؟<br>\n",
    " ما می‌توانیم عدد $A[i]$ را به یک توالی موجود اضافه کنیم اگر یک عدد $A[j]$ که ($i \\lt j$) وجود داشته‌باشد به طوری که: "
   ]
  },
  {
   "cell_type": "raw",
   "metadata": {},
   "source": [
    "E < A[i] < A[j] or (E > A[i] < A[j] : for replace)"
   ]
  },
  {
   "cell_type": "markdown",
   "metadata": {},
   "source": [
    "<div style=\"direction:rtl; font-size: 17px; font-family: 'XB Zar'; line-height: 200%\">\n",
    "به طوری‌که E آخرین عضو توالی است.<br>\n",
    "     در مثال بالا :<br>\n",
    "    E = 11, A[i] = 9 و A[j] = 10."
   ]
  },
  {
   "cell_type": "code",
   "execution_count": 20,
   "metadata": {},
   "outputs": [],
   "source": [
    "int CeilIndex(vector<int>& v, int l, int r, int key) \n",
    "{ \n",
    "    while (r - l > 1) { \n",
    "        int m = l + (r - l) / 2; \n",
    "        if (v[m] >= key) \n",
    "            r = m; \n",
    "        else\n",
    "            l = m; \n",
    "    } \n",
    "  \n",
    "    return r; \n",
    "} \n"
   ]
  },
  {
   "cell_type": "code",
   "execution_count": 21,
   "metadata": {},
   "outputs": [],
   "source": [
    "int lis3(vector<int>& v) \n",
    "{ \n",
    "    if (v.size() == 0) \n",
    "        return 0; \n",
    "  \n",
    "    vector<int> tail(v.size(), 0); \n",
    "    int length = 1;  \n",
    "  \n",
    "    tail[0] = v[0]; \n",
    "    for (size_t i = 1; i < v.size(); i++) { \n",
    "  \n",
    "        if (v[i] < tail[0]) \n",
    "            tail[0] = v[i]; \n",
    "  \n",
    "        else if (v[i] > tail[length - 1]) \n",
    "            tail[length++] = v[i]; \n",
    "   \n",
    "        else\n",
    "            tail[CeilIndex(tail, -1, length - 1, v[i])] = v[i]; \n",
    "    } \n",
    "  \n",
    "    return length; \n",
    "} "
   ]
  },
  {
   "cell_type": "code",
   "execution_count": 22,
   "metadata": {},
   "outputs": [
    {
     "name": "stdout",
     "output_type": "stream",
     "text": [
      "Length of LIS is 5\n"
     ]
    },
    {
     "data": {
      "text/plain": [
       "0"
      ]
     },
     "execution_count": 22,
     "metadata": {},
     "output_type": "execute_result"
    }
   ],
   "source": [
    "{ \n",
    "    vector<int> v = {10, 22, 9, 33, 21, 50, 41, 60}; \n",
    "\n",
    "    cout << \"Length of LIS is \" << lis3(v) << endl; \n",
    "} "
   ]
  }
 ],
 "metadata": {
  "kernelspec": {
   "display_name": "C++11",
   "language": "C++11",
   "name": "xcpp11"
  },
  "language_info": {
   "codemirror_mode": "text/x-c++src",
   "file_extension": ".cpp",
   "mimetype": "text/x-c++src",
   "name": "c++",
   "version": "11"
  },
  "pycharm": {
   "stem_cell": {
    "cell_type": "raw",
    "metadata": {
     "collapsed": false
    },
    "source": []
   }
  }
 },
 "nbformat": 4,
 "nbformat_minor": 1
}
