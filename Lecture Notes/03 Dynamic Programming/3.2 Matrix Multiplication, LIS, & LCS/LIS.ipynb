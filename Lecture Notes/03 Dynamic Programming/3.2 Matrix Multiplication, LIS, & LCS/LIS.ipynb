{
 "cells": [
  {
   "cell_type": "markdown",
   "metadata": {},
   "source": [
    "    <div style=\"direction:rtl;line-height:300%;\"> <font face=\"XB Zar\">\n",
    "<div align=center>\n",
    "    <div style=\"font-size:14px\">\n",
    "    به نام خدا\n",
    "    </div><br>\n",
    "    <strong><div style=\"font-size:50px; color: blue\">\n",
    "    طراحی الگوریتم‌ها\n",
    "    </div></strong>\n",
    "    <br>\n",
    "    <div style=\"font-size:20px; color: #ff6600\">\n",
    "    دانشگاه صنعتی شریف، دانشکده مهندسی کامپیوتر\n",
    "    </div>\n",
    "    <div style=\"font-size:15px; color: black\">\n",
    "        نیم‌سال دوم سال تحصیلی ۹۸-۹۹\n",
    "    </div>\n",
    "    <hr>\n",
    "    <strong><div style=\"font-size:35px; color: red\">\n",
    "        فصل دوم: برنامه‌نویسی پویا\n",
    "    </div></strong><br>\n",
    "    <div style=\"font-size:30px; color: navy\">\n",
    "        بخش دوم: ضرب ماتریس‌ها، کوله‌پشتی، LCS، LIS\n",
    "    </div><br>\n",
    "    <div style=\"font-size:20px; color: black\">\n",
    "        علیرضا دقیق، کیارش گل‌زاده\n",
    "    </div>\n",
    "\n",
    "</div>\n",
    "<hr>"
   ]
  },
  {
   "cell_type": "markdown",
   "metadata": {},
   "source": [
    "<div style=\"direction:rtl; font-size: 17px; font-family: 'XB Zar'; line-height: 200%\">\n",
    "<div style=\"font-size: 22px; color: #ff6600; font-weight: bold\">\n",
    "فهرست محتویات\n",
    "</div>         \n",
    "<ul style=\"margin-right: 0;\">\n",
    "    <li><a href=\"#section1\">مقدمه</a></li>\n",
    "    <li><a href=\"#section2\">مسئله‌ی اول: ضرب ماتریس‌ها</a></li>\n",
    "    <li><a href=\"#section3\">مساله‌ی دوم: کوله‌پشنی</a></li>\n",
    "</ul>\n",
    "</div>"
   ]
  },
  {
   "cell_type": "markdown",
   "metadata": {},
   "source": [
    "<div id=\"section1\" style=\"direction:rtl; font-size: 17px; font-family: 'XB Zar'; line-height: 200%\">\n",
    "<div style=\"font-size: 22px; color: #ff6600; font-weight: bold\">\n",
    "مقدمه\n",
    "</div><br>\n",
    "در این بخش، قصد داریم چند مثال دیگر از مسائلی که به کمک برنامه‌نویسی پویا (Dynamic Programming) حل می‌شوند را با هم بررسی کنیم.\n",
    "</div>\n",
    "<hr>"
   ]
  },
  {
   "cell_type": "markdown",
   "metadata": {},
   "source": [
    "<div id=\"section2\" style=\"direction:rtl; font-size: 17px; font-family: 'XB Zar'; line-height: 200%\">\n",
    "<div style=\"font-size: 22px; color: #ff6600; font-weight: bold\">\n",
    "مسئله‌ی اول: ضرب ماتریس‌ها\n",
    "</div><br>            \n",
    "فرض کنید یک توالی از ماتریس ها به ما داده شده است و می‌خواهیم مناسب‌ترین راه را برای ضرب این ماتریس‌ها پیدا کنیم. <br>\n",
    "در واقع مساله ما این نیست که حاصل‌ضرب ماتریس‌ها را محاسبه کنیم بلکه این است که تصمیم بگیریم به چه ترتیبی آن‌ها را در یکدیگر ضرب کنیم.<br> \n",
    "   کاری که قرار است ما برای حل این مساله انجام دهیم در واقع یک نحوه پرانتزگذاری می‌باشد یعنی اهمیتی ندارد که کدام زوج ماتریس کنار هم اول در هم ضرب شوند و کدام یک آخر در نهایت جواب یکسان خواهدبود.<br>\n",
    "\n",
    "<hr>\n",
    "</div>    "
   ]
  },
  {
   "cell_type": "markdown",
   "metadata": {},
   "source": [
    "<div style=\"direction:rtl; font-size: 17px; font-family: 'XB Zar'; line-height: 200%\">\n",
    "<div style=\"font-size: 17px; color: #ff6600; font-weight: bold\">\n",
    "نخستین راه حل\n",
    "</div>         \n",
    "اولین راهی که برای حل این مسئله به ذهن می‌رسد، این است که همه‌ی زیردنباله‌های ممکن را درنظر بگیریم و اعضای آن را جمع بزنیم و آن زیردنباله‌ای که جمع آن بیشینه بود را به عنوان خروجی اعلام کنیم. می‌توانید کد این الگوریتم را در زیر ببینید.\n",
    "<hr>\n",
    "</div>"
   ]
  },
  {
   "cell_type": "code",
   "execution_count": 1,
   "metadata": {},
   "outputs": [],
   "source": [
    "#include <iostream>\n",
    "#include <climits>\n",
    "using namespace std;"
   ]
  },
  {
   "cell_type": "code",
   "execution_count": 2,
   "metadata": {
    "pycharm": {
     "name": "#%%\n"
    }
   },
   "outputs": [
    {
     "name": "stdout",
     "output_type": "stream",
     "text": [
      "94"
     ]
    }
   ],
   "source": [
    "{\n",
    "    int n = 10;\n",
    "    int arr[10] = {1, 2, 31, -3, 51, 12, -102, 1, 31, 1};\n",
    "    int maxSum = INT_MIN;\n",
    "    \n",
    "    for(int i = 0; i < n; i++) {\n",
    "        for(int j = i; j < n; j++) {\n",
    "            int sum = 0;\n",
    "            for(int k = i; k <= j; k++)\n",
    "                sum += arr[k];\n",
    "            if(sum > maxSum)\n",
    "                maxSum = sum;\n",
    "        }\n",
    "    }\n",
    "    cout << maxSum;\n",
    "}"
   ]
  },
  {
   "cell_type": "markdown",
   "metadata": {
    "pycharm": {
     "name": "#%% md\n"
    }
   },
   "source": [
    "<div style=\"direction:rtl; font-size: 17px; font-family: 'XB Zar'; line-height: 200%\">\n",
    "<div style=\"font-size: 17px; color: #ff6600; font-weight: bold\">\n",
    "تحلیل زمانی\n",
    "</div>            \n",
    "اگر این الگوریتم را تحلیل زمانی کنیم می‌بینیم که از \n",
    "$O(n^۳)$\n",
    "زمان می‌برد چرا که انتخاب دو اندیس برای ابتدا و انتهای این زیردنباله \n",
    "$\\frac{n \\times (n+۱)}{۲}$\n",
    " عملیات نیاز دارد و پیمایش کردن عناصر بین این دو اندیس و جمع زدن آن‌ها هم از به تعداد طول آن عملیات نیاز دارد که از \n",
    " $O(n)$\n",
    " عملیات مصرف می‌کند. پس نهایتا این الگوریتم از \n",
    "$O(n^۳)$\n",
    "زمان می‌برد. آیا راهی سریع‌تر برای حل این مسئله وجود دارد؟\n",
    "<hr>\n",
    "</div>"
   ]
  },
  {
   "cell_type": "markdown",
   "metadata": {
    "pycharm": {
     "name": "#%% md\n"
    }
   },
   "source": [
    "<div style=\"direction:rtl; font-size: 17px; font-family: 'XB Zar'; line-height: 200%\">\n",
    "<div style=\"font-size: 17px; color: #ff6600; font-weight: bold\">\n",
    "راه حل دوم\n",
    "</div>            \n",
    "حال سعی می‌کنیم که راه حلی سریع‌تر ارائه دهیم. در راه حل اول، هر بار مجموع را مجددا از اول محاسبه می‌کردیم و چنین کاری زمان زیادی از ما می‌گرفت. وقتی که می‌خواهیم جمع اعضای آرایه از اندیس \n",
    "$i$\n",
    "ام تا \n",
    "$j$\n",
    "ام را محاسبه کنیم، به جای جمع زدن همه‌ی این اعضا از اول، می‌توان به مجموع اعضای \n",
    "$i$\n",
    "ام تا \n",
    "$j - ۱$\n",
    "ام، عضو \n",
    "$j$\n",
    "ام را اضافه کرد.\n",
    "پس برای حل مسئله، اندیس پایان را همیشه بعد از اندیس شروع در نظر می‌گیریم. حال هم‌زمان با پیمایش اندیس پایان روی اعضای آرایه، مجموع را نیز محاسبه کرده و با مقدار بیشینه‌ای که تا الآن به دست آمده مقایسه می‌کنیم و اگر مقدار حاصل بیشتر از مقدار قبل بود، مقدار جدید را جایگزین آن می‌کنیم.\n",
    "<br/>\n",
    "می‌توانید کد این الگوریتم را در زیر ببینید.\n",
    "<hr>\n",
    "</div>"
   ]
  },
  {
   "cell_type": "code",
   "execution_count": 3,
   "metadata": {
    "pycharm": {
     "name": "#%%\n"
    }
   },
   "outputs": [
    {
     "name": "stdout",
     "output_type": "stream",
     "text": [
      "94"
     ]
    }
   ],
   "source": [
    "{\n",
    "    int n = 10;\n",
    "    int arr[10] = {1, 2, 31, -3, 51, 12, -102, 1, 31, 1};\n",
    "    int maxSum = INT_MIN;\n",
    "\n",
    "    for(int i = 0; i < n; i++) {\n",
    "        int sum = 0;\n",
    "        for(int j = i; j < n; j++) {\n",
    "            sum += arr[j];\n",
    "            if(sum > maxSum)\n",
    "                maxSum = sum;\n",
    "        }\n",
    "    }\n",
    "    std::cout << maxSum;\n",
    "}"
   ]
  },
  {
   "cell_type": "markdown",
   "metadata": {},
   "source": [
    "<div style=\"direction:rtl; font-size: 17px; font-family: 'XB Zar'; line-height: 200%\">\n",
    "<div style=\"font-size: 17px; color: #ff6600; font-weight: bold\">\n",
    "تحلیل زمانی این راه حل\n",
    "</div>            \n",
    "اگر این الگوریتم را تحلیل زمانی کنیم می‌بینیم که از \n",
    "$O(n^۲)$\n",
    "زمان می‌برد چرا که انتخاب دو اندیس برای ابتدا و انتهای این زیردنباله \n",
    "$\\frac{n \\times (n+۱)}{۲}$\n",
    " عملیات نیاز دارد و از آن‌جایی که جمع زدن اعضا الآن از \n",
    " $O(۱)$\n",
    " زمان می‌برد، پس نهایتا این الگوریتم از\n",
    "$O(n^۲)$\n",
    "زمان می‌برد. آیا باز هم می‌توان الگوریتم سریع‌تری برای حل این مسئله ارائه کرد؟ \n",
    "<hr>\n",
    "</div>"
   ]
  },
  {
   "cell_type": "markdown",
   "metadata": {},
   "source": [
    "<div style=\"direction:rtl; font-size: 17px; font-family: 'XB Zar'; line-height: 200%\">\n",
    "<div style=\"font-size: 17px; color: #ff6600; font-weight: bold\">\n",
    "راه حل سوم\n",
    "</div>            \n",
    "از ابتدا شروع به پیمایش اعضای آرایه می‌کنیم. یک متغیر برای ذخیره‌سازی حاصل جمع در نظر می‌گیریم. به هر عضو جدید که می‌رسیم، مقدار این متغیر را با عضو جدید جمع زده و در همان متغیر قرار می‌دهیم. حال اگر مقدار متغیر مثبت بود، آن را با متغیر دیگری که حاصل جمع بیشینه تا الآن در آن نگهداری شده بود مقایسه می‌کنیم و اگر بیشتر از آن بود، مقدار آن متغیر را به روز رسانی می‌کنیم. اگر مقدار این متغیر منفی بود، آن‌گاه مقدار متغیر را ۰ کرده و به سراغ عضو بعدی آرایه می‌رویم. همین روند را تا پیمایش کامل اعضای آرایه طی می‌کنیم. نهایتا مقدار عدد نوشته شده در متغیر دارای حاصل جمع بیشینه، جواب مسئله خواهد بود.\n",
    "می‌توانید کد این الگوریتم را در زیر ببینید.\n",
    "<hr>\n",
    "</div>"
   ]
  },
  {
   "cell_type": "code",
   "execution_count": 4,
   "metadata": {
    "pycharm": {
     "name": "#%%\n"
    }
   },
   "outputs": [
    {
     "name": "stdout",
     "output_type": "stream",
     "text": [
      "94"
     ]
    }
   ],
   "source": [
    "{\n",
    "    int n = 10;\n",
    "    int arr[10] = {1, 2, 31, -3, 51, 12, -102, 1, 31, 1};\n",
    "    int maxSum = INT_MIN;\n",
    "\n",
    "    int sum = 0;\n",
    "    for(int i = 0; i < n; i++) {\n",
    "        if(sum < 0)\n",
    "            sum = 0;\n",
    "        sum += arr[i];\n",
    "        if(sum > maxSum)\n",
    "            maxSum = sum;\n",
    "    }\n",
    "    cout << maxSum;\n",
    "}"
   ]
  },
  {
   "cell_type": "markdown",
   "metadata": {},
   "source": [
    "<div style=\"direction:rtl; font-size: 17px; font-family: 'XB Zar'; line-height: 200%\">\n",
    "<div style=\"font-size: 17px; color: #ff6600; font-weight: bold\">\n",
    "تحلیل زمانی این راه حل\n",
    "</div>            \n",
    "اگر این الگوریتم را تحلیل زمانی کنیم می‌بینیم که از \n",
    "$O(n)$\n",
    "زمان می‌برد چرا که کافی است فقط یک مرتبه تمام اعضای آرایه پیمایش شوند و در حین پیمایش تعدادی عملیات جمع و مقایسه و مقداردهی کردن که از \n",
    "$O(۱)$\n",
    "زمان می‌برند انجام می‌شود. پس نهایتا الگوریتم از \n",
    "$O(n)$\n",
    "خواهد بود.\n",
    "بنابراین اکنون مساله‌ای را حل کردیم که در نگاه اول به نظر می‌رسید راه‌حلش از \n",
    "$O(n^3)$\n",
    "است ولی با مقداری بررسی بیشتر موفق شدیم به راه‌حلی خطی برسیم که به مراتب بهتر از راه‌حل اولیه بود.\n",
    "<hr>\n",
    "</div>"
   ]
  },
  {
   "cell_type": "markdown",
   "metadata": {},
   "source": [
    "<div id=\"section3\" style=\"direction:rtl; font-size: 17px; font-family: 'XB Zar'; line-height: 200%\">\n",
    "<div style=\"font-size: 22px; color: #ff6600; font-weight: bold\">\n",
    "مساله‌ی دوم: کوله‌پشتی\n",
    "</div><br>            \n",
    "یک کوله پشتی با گنجایش $V$ واحد حجم داریم. همچنین تعدادی جنس داریم که هر کدام ارزش (value) و حجم (volume) مشخصی دارند. می‌خواهیم تعدادی از این اجناس را داخل کوله‌پشتی قرار دهیم، به طوری که مجموع ارزش اجناس داخل کوله‌پشتی، بیشینه شود. واضح است که مجموع حجم اجناس داخل کوله‌پشتی، نباید از گنجایش آن ($V$) بیشتر باشد.<br>\n",
    "<strong>\n",
    "نکته:\n",
    "</strong>    \n",
    "اکیدا توصیه می‌شود قبل از خواندن راه حل دقایقی خودتان به دنبال راه حل این مساله بگردید.\n",
    "<hr>\n",
    "این مسئله، نسخه‌های مختلفی دارد. برای مثال، در یک نسخه از این مسئله، می‌توان قسمتی از هر جنس را برداشت و داخل کوله‌پشتی گذاشت. که این نسخه به کمک برنامه‌نویسی حریصانه حل می‌شود. اما قصد داریم نسخه‌ی مطرح شده در بالا را به کمک برنامه‌نویسی پویا حل کنیم. \n",
    "</div>"
   ]
  },
  {
   "cell_type": "markdown",
   "metadata": {},
   "source": [
    "<div style=\"direction:rtl; font-size: 17px; font-family: 'XB Zar'; line-height: 200%\">\n",
    "<div style=\"font-size: 17px; color: #ff6600; font-weight: bold\">\n",
    "راه حل اول\n",
    "</div>            \n",
    "اولین راه‌حلی که به ذهن می‌رسد، این است که تمام حالت‌هایی که می‌توان اجناس را انتخاب کرد، به طوری که مجموع حجم آن‌ها از گنجایش کوله‌پشتی بیشتر نشود را پیدا کنیم، و میان آن‌ها، حالتی که مجموع ارزش‌شان بیشینه است را چاپ کنیم. <br/><hr>\n",
    "</div>"
   ]
  },
  {
   "cell_type": "code",
   "execution_count": 5,
   "metadata": {},
   "outputs": [],
   "source": [
    "int knapsack_naive(int n, int V, int volume[], int value[], int i = 0, int occupied = 0, int value_sum = 0)\n",
    "{\n",
    "    if (i == n)\n",
    "        return value_sum;\n",
    "    \n",
    "    int ans = INT_MIN;\n",
    "    if (occupied + volume[i] <= V)\n",
    "        ans = max(ans, knapsack_naive(n, V, volume, value, i + 1, occupied + volume[i], value_sum + value[i]));\n",
    "    \n",
    "    ans = max(ans, knapsack_naive(n, V, volume, value, i + 1, occupied, value_sum));\n",
    "    \n",
    "    return ans;\n",
    "}"
   ]
  },
  {
   "cell_type": "code",
   "execution_count": 6,
   "metadata": {
    "pycharm": {
     "name": "#%%\n"
    }
   },
   "outputs": [
    {
     "name": "stdout",
     "output_type": "stream",
     "text": [
      "70"
     ]
    }
   ],
   "source": [
    "{\n",
    "    int n = 4, V = 13;\n",
    "    int volume[] = {5, 6, 7, 2};\n",
    "    int value[] = {10, 20, 30, 40};\n",
    "    \n",
    "    cout << knapsack_naive(n, V, volume, value);\n",
    "}"
   ]
  },
  {
   "cell_type": "markdown",
   "metadata": {
    "pycharm": {
     "name": "#%% md\n"
    }
   },
   "source": [
    "<div style=\"direction:rtl; font-size: 17px; font-family: 'XB Zar'; line-height: 200%\">\n",
    "<div style=\"font-size: 17px; color: #ff6600; font-weight: bold\">\n",
    "تحلیل زمانی این راه حل\n",
    "</div>            \n",
    "واضح است که در این راه حل، در بدترین حالت، مجبور می‌شویم تمام زیرمجموعه‌های اجناس را پیدا کنیم (که تعداد آن‌ها از $O(2^n)$ و نمایی است). حال سعی داریم الگوریتمی با زمان اجرایی بهتر از نمایی برای این مسئله طراحی کنیم.\n",
    "<br/>\n",
    "    \n",
    "\n",
    "<hr>\n",
    "</div>"
   ]
  },
  {
   "cell_type": "markdown",
   "metadata": {},
   "source": [
    "<div style=\"direction:rtl; font-size: 17px; font-family: 'XB Zar'; line-height: 200%\">\n",
    "<div style=\"font-size: 17px; color: #ff6600; font-weight: bold\">\n",
    "راه حل دوم\n",
    "</div>            \n",
    "شاید به ذهن‌تان برسد که الگوریتمی حریصانه برای این مسئله ارائه دهید. اما به احتمال خوبی، راه‌حل حریصانه‌ی شما مثال نقض دارد!\n",
    "<br/>\n",
    "    اگر بیشتر دقت کنیم، می‎توانیم تابع بازگشتی‌مان را کمی بهینه‌تر کنیم. مثلاً جنس $n$ ام را در نظر بگیرید؛ این جنس، یا در جواب بهینه، در کوله‌پشتی ظاهر می‌شود یا خیر.\n",
    "    اگر جنس $n$ ام در جواب بهینه ظاهر شود، یعنی انگار باید بین $n-1$ جنس دیگر، تعدادی جنس با بیشترین مجموع ارزش را در یک کوله پشتی با حجم خالی $V - volume[n]$ قرار دهیم. و جواب محاسبه شده از این زیرمسئله را با ارزش جنس $n$ ام (که آن را در کوله‌پشتی قرار دادیم) جمع کنیم.\n",
    "    و اگر هم جنس $n$ ام در جواب بهینه نباشد، مانند این است که از بین $n-1$ جنس دیگر، باید تعدادی را در کوله‌پشتی با حجم خالیِ $V$ قرار دهیم.\n",
    "    <br/>\n",
    "    بیایید $dp$ مان را این‌گونه تعریف کنیم:\n",
    "    <br/>\n",
    "    $dp[i][w]$: بیشترین ارزشی که می‌توان با استفاده از $i$ جنس اول در کوله‌ای با حجم خالیِ $w$ قرار داد.\n",
    "    <br/>\n",
    "    همان‌طور که در بالا گفتیم، می‌توانیم این $dp$ را به شکل زیر محاسبه کنیم:\n",
    "    <br/>\n",
    "    $$dp[i][w] = \\max(dp[i-1][w], dp[i-1][w - volume[i]] + value[i])$$\n",
    "    حالت پایه‌مان به شکل زیر است:\n",
    "    $$\\forall w: dp[0][w]=0$$\n",
    "    و پاسخ مسئله در $dp[n][V]$ است.\n",
    "    <br/>\n",
    "    در زیر، کدِ این برنامه با استفاده از تکنیک memoization آمده است.\n",
    "    می‌توانید به عنوان تمرین، آرایه dp را به صورت bottom-up نیز محاسبه کنید.\n",
    "    <hr>\n",
    "</div>"
   ]
  },
  {
   "cell_type": "code",
   "execution_count": 7,
   "metadata": {},
   "outputs": [],
   "source": [
    "constexpr int MAX_V = 2000, MAX_N = 1000;\n",
    "int dp[MAX_N][MAX_V];"
   ]
  },
  {
   "cell_type": "code",
   "execution_count": 8,
   "metadata": {
    "pycharm": {
     "name": "#%%\n"
    }
   },
   "outputs": [],
   "source": [
    "int knapsack_memoize(int n, int w, int volume[], int value[])\n",
    "{\n",
    "    if (dp[n][w] != -1)\n",
    "        return dp[n][w];\n",
    "    \n",
    "    if (n == 0)\n",
    "        return dp[n][w] = 0;\n",
    "    \n",
    "    int ans = knapsack_memoize(n - 1, w, volume, value);\n",
    "    if (w - volume[n] >= 0)\n",
    "        ans = max(ans, value[n] + knapsack_memoize(n - 1, w - volume[n], volume, value));\n",
    "    \n",
    "    return dp[n][w] = ans;\n",
    "}"
   ]
  },
  {
   "cell_type": "code",
   "execution_count": 15,
   "metadata": {
    "scrolled": false
   },
   "outputs": [
    {
     "name": "stdout",
     "output_type": "stream",
     "text": [
      "70"
     ]
    }
   ],
   "source": [
    "{\n",
    "    memset(dp, -1, sizeof(dp));         //  We fill the cells of \"dp\" which are not calculated yet with -1\n",
    "\n",
    "    int n = 4, V = 13;\n",
    "    int volume[] = {0, 5, 6, 7, 2};     // We fill the first cell with 0, because our algorithm is 1-based\n",
    "    int value[] = {0, 10, 20, 30, 40};  // We fill the first cell with 0, because our algorithm is 1-based\n",
    "    \n",
    "    cout << knapsack_memoize(n, V, volume, value);\n",
    "}"
   ]
  },
  {
   "cell_type": "markdown",
   "metadata": {
    "pycharm": {
     "name": "#%% md\n"
    }
   },
   "source": [
    "<div style=\"direction:rtl; font-size: 17px; font-family: 'XB Zar'; line-height: 200%\">\n",
    "<div style=\"font-size: 17px; color: #ff6600; font-weight: bold\">\n",
    "تحلیل زمانی این راه حل\n",
    "</div>            \n",
    "برای محاسبه پاسخ مسئله، در بدترین حالت باید تمام خانه‌های آرایه dp را پر کنیم. و هر خانه از این آرایه، حداکثر یک بار محاسبه می‌شود (و در دفعات بعد، از مقداری که قبلاً محاسبه شده استفاده می‌شود). پس می‌توان گفت مرتبه زمانی این الگوریتم از $O(nV)$ است. <br/>\n",
    "از آن‌جایی که مرتبه زمانی الگوریتم، تنها به تعداد اعداد ورودی بستگی ندارد (و به مقادیر آن‌ها یعنی $V$) بستگی دارد، می‌گوییم این الگوریتم در اصل <strong>شبه چندجمله‌ای</strong> است.\n",
    "    <hr>\n",
    "</div>"
   ]
  },
  {
   "cell_type": "markdown",
   "metadata": {},
   "source": [
    "<div id=\"section3\" style=\"direction:rtl; font-size: 17px; font-family: 'XB Zar'; line-height: 200%\">\n",
    "<div style=\"font-size: 22px; color: #ff6600; font-weight: bold\">\n",
    "مساله‌ی سوم: بلند‌ترین زیردنباله‌ی مشترک (Longest Common Subsequence یا LCS)\n",
    "</div><br>            \n",
    "دو رشته $x=\\langle x_1x_2...x_n\\rangle $ و $y=\\langle y_1y_2...y_m\\rangle $ داده شده است. می‌خواهیم بلند‌ترین زیردنباله (غیرمتوالی) مشترک این دو رشته را پیدا کنیم.\n",
    "<br/>\n",
    "این مسئله، در آنالیز رشته‌های DNA کاربرد زیادی دارد. به طور مثال، فرض کنید دو رشته‌ی DNA، متشکل از کاراکترهای A، C، G، و T داشته باشیم. در بسیاری از مواقع، می‌خواهیم مشخص کنیم که دو رشته‌ی DNA، چقدر شبیه به هم هستند. می‌توان معیارهای مختلفی برای این میزان «شباهت» تعریف کرد. یکی از این معیارها، می‌تواند این باشد که رشته‌ی نسبتاً بلندی مانند $z$ یافت شود که زیردنباله‌ی هر دو رشته‌ی مورد آزمایش باشد. برای پیدا کردن این رشته‌ی $z$ و یافتن شباهت میان دو رشته، نیاز داریم تا مسئله‌ی LCS را حل کنیم.\n",
    "<br/>\n",
    "<strong>\n",
    "نکته:\n",
    "</strong>    \n",
    "اکیدا توصیه می‌شود قبل از خواندن راه حل دقایقی خودتان به دنبال راه حل این مساله بگردید.\n",
    "<hr>\n",
    "</div>"
   ]
  },
  {
   "cell_type": "markdown",
   "metadata": {},
   "source": [
    "<div style=\"direction:rtl; font-size: 17px; font-family: 'XB Zar'; line-height: 200%\">\n",
    "<div style=\"font-size: 17px; color: #ff6600; font-weight: bold\">\n",
    "راه حل اول (کورکورانه)\n",
    "</div>            \n",
    "اولین راه حلی که به ذهن می‌رسد، ای است که تمام زیردنباله‌های رشته‌ی اول را پیدا کنیم، و به ازای هر کدام از آن‌ها، چک کنیم که زیردنباله‌ی رشته‌ی دوم نیز باشد، و بین تمام زیردنباله‌های مشترک، زیردنباله با بیشترین طول را پیدا کنیم.\n",
    "<br/>\n",
    "در این راه‌حل، باید تمام زیردنباله‌های رشته اول را پیدا کنیم، که تعداد آن‌ها از $O(2^n)$ است. و سپس به ازای هر زیردنباله، مشخص کنیم که زیردنباله‌ی رشته‌ی دوم هست یا نه. این عملیات نیز مرتبه زمانی از $O(m)$ دارد. پس مرتبه زمانی کلّی این الگوریتمِ غیرهوشمندانه، از $O(2^n.m)$ است. \n",
    "<hr>\n",
    "</div>"
   ]
  },
  {
   "cell_type": "markdown",
   "metadata": {},
   "source": [
    "<div style=\"direction:rtl; font-size: 17px; font-family: 'XB Zar'; line-height: 200%\">\n",
    "    می‌خواهیم در مورد مساله بزرگترین زیردنباله‌صعودی بحث کنیم.که می‌توانیم این مساله را با dynamic programmin حل کنیم.به مثال زیر توجه شود "
   ]
  },
  {
   "cell_type": "raw",
   "metadata": {},
   "source": [
    "arr = [1,3,2,3,5,6,7]\n",
    "LIS = [1,2,3,5,6,7]"
   ]
  },
  {
   "cell_type": "markdown",
   "metadata": {},
   "source": [
    "<div style=\"direction:rtl; font-size: 17px; font-family: 'XB Zar'; line-height: 200%\">\n",
    "فرض کنید به ما آرایه arr[0..n-1] داده شده‌است و می‌خواهیم بزگترین توالی صعودی را پیدا کنیم.<br>\n",
    "    به عنوان یک روش کاربردی میتوان مراحل زیر طی  کنید.\n",
    "    <ul>\n",
    "        <li>فرض می‌کنیم L(i) طول lisای است که به در آن a[i] آخرین عضو است.</li>\n",
    "        <li>حال می‌توانیم L(i) را به صورت بازگشتی به صورت زیر بدست آوریم</li>\n",
    "    </ul>\n",
    "</div>\n"
   ]
  },
  {
   "cell_type": "raw",
   "metadata": {},
   "source": [
    "L(i) = 1 + max( L(j) ) where 0 < j < i and arr[j] < arr[i]; or\n",
    "L(i) = 1, if no such j exists."
   ]
  },
  {
   "cell_type": "markdown",
   "metadata": {},
   "source": [
    "<div style=\"direction:rtl; font-size: 17px; font-family: 'XB Zar'; line-height: 200%\">\n",
    "برای جواب نهایی ما می‌آییم max(L(i)) را بدست می‌آوریم"
   ]
  },
  {
   "cell_type": "code",
   "execution_count": null,
   "metadata": {},
   "outputs": [],
   "source": [
    "/* A Naive C/C++ recursive implementation of LIS problem */\n",
    "#include<stdio.h> \n",
    "#include<stdlib.h> \n",
    "\n",
    "int _lis( int arr[], int n, int *max_ref) \n",
    "{ \n",
    "    /* Base case */\n",
    "    if (n == 1) \n",
    "        return 1; \n",
    "      int res, max_ending_here = 1;  \n",
    "  \n",
    "    for (int i = 1; i < n; i++) \n",
    "    { \n",
    "        res = _lis(arr, i, max_ref); \n",
    "        if (arr[i-1] < arr[n-1] && res + 1 > max_ending_here) \n",
    "            max_ending_here = res + 1; \n",
    "    } \n",
    " \n",
    "    if (*max_ref < max_ending_here) \n",
    "       *max_ref = max_ending_here; \n",
    "  \n",
    "    return max_ending_here; \n",
    "} \n",
    "  \n",
    "int lis(int arr[], int n) \n",
    "{ \n",
    "    int max = 1; \n",
    "    _lis( arr, n, &max ); \n",
    "      return max; \n",
    "} \n",
    "  int main() \n",
    "{ \n",
    "    int arr[] = { 10, 22, 9, 33, 21, 50, 41, 60 }; \n",
    "    int n = sizeof(arr)/sizeof(arr[0]); \n",
    "    printf(\"Length of lis is %dn\", \n",
    "           lis( arr, n )); \n",
    "    return 0; \n",
    "} "
   ]
  },
  {
   "cell_type": "markdown",
   "metadata": {},
   "source": [
    "<div style=\"direction:rtl; font-size: 17px; font-family: 'XB Zar'; line-height: 200%\">\n",
    " فرض کنید می‌خواهیم الگوریتم بالا روی  یک آرایه با اندازه 4 محاسبه کنیم. "
   ]
  },
  {
   "cell_type": "raw",
   "metadata": {},
   "source": [
    "              lis(4)\n",
    "        /        |     \n",
    "      lis(3)    lis(2)   lis(1)\n",
    "     /           /\n",
    "   lis(2) lis(1) lis(1)\n",
    "   /\n",
    "lis(1)"
   ]
  },
  {
   "cell_type": "markdown",
   "metadata": {},
   "source": [
    "<div style=\"direction:rtl; font-size: 17px; font-family: 'XB Zar'; line-height: 200%\">\n",
    "با توجه به درخت بالا مشاهده می‌شود که بعضی از اعضای آرایه بارها و بارها محاسبه می‌شوند . بنابراین بهتر است که از رویکرد dp استفاده کرد. به قطعه کد زیر  توجه شود."
   ]
  },
  {
   "cell_type": "code",
   "execution_count": null,
   "metadata": {},
   "outputs": [],
   "source": [
    "\n",
    "#include<bits/stdc++.h>  \n",
    "using namespace std; \n",
    "    \n",
    "\n",
    "int lis( int arr[], int n )  \n",
    "{  \n",
    "    int lis[n]; \n",
    "   \n",
    "    lis[0] = 1;    \n",
    "  \n",
    "    for (int i = 1; i < n; i++ )  \n",
    "    { \n",
    "        lis[i] = 1; \n",
    "        for (int j = 0; j < i; j++ )   \n",
    "            if ( arr[i] > arr[j] && lis[i] < lis[j] + 1)  \n",
    "                lis[i] = lis[j] + 1;  \n",
    "    } \n",
    "  \n",
    "    return *max_element(lis, lis+n); \n",
    "}  \n",
    "    \n",
    "int main()  \n",
    "{  \n",
    "    int arr[] = { 10, 22, 9, 33, 21, 50, 41, 60 };  \n",
    "    int n = sizeof(arr)/sizeof(arr[0]);  \n",
    "    printf(\"Length of lis is %d\\n\", lis( arr, n ) );  \n",
    "    return 0;  \n",
    "}"
   ]
  },
  {
   "cell_type": "markdown",
   "metadata": {},
   "source": [
    "<div style=\"direction:rtl; font-size: 17px; font-family: 'XB Zar'; line-height: 200%\">\n",
    "پیچیدگی زمانی الگوریتم بالا o(n^2) می‌باشد."
   ]
  },
  {
   "cell_type": "code",
   "execution_count": null,
   "metadata": {},
   "outputs": [],
   "source": []
  }
 ],
 "metadata": {
  "kernelspec": {
   "display_name": "C++11",
   "language": "C++11",
   "name": "xcpp11"
  },
  "language_info": {
   "codemirror_mode": "text/x-c++src",
   "file_extension": ".cpp",
   "mimetype": "text/x-c++src",
   "name": "c++",
   "version": "11"
  },
  "pycharm": {
   "stem_cell": {
    "cell_type": "raw",
    "metadata": {
     "collapsed": false
    },
    "source": []
   }
  }
 },
 "nbformat": 4,
 "nbformat_minor": 1
}
