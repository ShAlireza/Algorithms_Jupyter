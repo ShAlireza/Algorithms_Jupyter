{
 "cells": [
  {
   "cell_type": "markdown",
   "metadata": {},
   "source": [
    "<div style=\"direction:rtl;line-height:300%;\"> <font face=\"XB Zar\">\n",
    "<div align=center>\n",
    "    <div style=\"font-size:14px\">\n",
    "    به نام خدا\n",
    "    </div><br>\n",
    "    <strong><div style=\"font-size:50px; color: blue\">\n",
    "    طراحی الگوریتم‌ها\n",
    "    </div></strong>\n",
    "    <br>\n",
    "    <div style=\"font-size:20px; color: #ff6600\">\n",
    "    دانشگاه صنعتی شریف، دانشکده مهندسی کامپیوتر\n",
    "    </div>\n",
    "    <div style=\"font-size:15px; color: black\">\n",
    "        نیم‌سال دوم سال تحصیلی ۹۸-۹۹\n",
    "    </div>\n",
    "    <hr>\n",
    "    <strong><div style=\"font-size:35px; color: red\">\n",
    "        فصل سوم: برنامه‌نویسی پویا\n",
    "    </div></strong><br>\n",
    "    <div style=\"font-size:30px; color: navy\">\n",
    "        بخش دوم: مجموعه مستقل در درخت\n",
    "    </div><br>\n",
    "    <div style=\"font-size:20px; color: black\">\n",
    "        محمد جوانشاه، رسول اخوان مهدوی\n",
    "    </div>\n",
    "\n",
    "</div>\n",
    "<hr>"
   ]
  },
  {
   "cell_type": "markdown",
   "metadata": {},
   "source": [
    "<div style=\"direction:rtl; font-size: 17px; font-family: 'XB Zar'; line-height: 200%\">\n",
    "<div style=\"font-size: 22px; color: #ff6600; font-weight: bold\">\n",
    "فهرست محتویات\n",
    "</div>         \n",
    "<ul style=\"margin-right: 0;\">\n",
    "    <li><a href=\"#section1\">مجموعه مستقل بیشینه در درخت</a>\n",
    "        <ul>\n",
    "            <li>کلیت راه‌حل</li>\n",
    "            <li>تلاش اول: بازگشتی</li>\n",
    "            <li>تلاش دوم: برنامه‌نویسی پویا</li>\n",
    "        </ul>\n",
    "    </li>\n",
    "    <li><a href=\"#section2\">درخت دودویی بهینه</a></li>\n",
    "</ul>\n",
    "</div>"
   ]
  },
  {
   "cell_type": "code",
   "execution_count": 1,
   "metadata": {},
   "outputs": [],
   "source": [
    "#include <iostream>\n",
    "using namespace std;"
   ]
  },
  {
   "cell_type": "code",
   "execution_count": 2,
   "metadata": {},
   "outputs": [],
   "source": [
    "// Run this cell only once\n",
    "int max(int x, int y) { return (x > y)? x: y; }  "
   ]
  },
  {
   "cell_type": "markdown",
   "metadata": {},
   "source": [
    "<div id=\"section1\" style=\"direction:rtl; font-size: 17px; font-family: 'XB Zar'; line-height: 200%\">\n",
    "<!-- <div style=\"font-size: 22px; color: #ff6600; font-weight: bold\">\n",
    "مجموعه مستقل در درخت</div><br>           -->\n",
    "    <h1 style=\"color: #ff6600;\">\n",
    "مجموعه مستقل در درخت        \n",
    "    </h1> <br>\n",
    "در این بخش می‌خواهیم به بررسی مجموعه‌های مستقل در گراف‌ها بپردازیم، و مسئله‌ای درباره پیدا کردن بزرگ‌ترین مجموعه مستقل در یک درخت را حل کنیم. برای شروع اول نیاز به تعریف یک مفهوم مهم داریم:\n",
    "<ul style=\"margin-right: 0;\">\n",
    "    <li><strong>مجموعه مستقل:</strong> به مجموعه‌ای رئوس گراف می‌گوییم که هیچ یالی بین اعضای این مجموعه وجود نداشته باشد.</li>\n",
    "</ul>\n",
    "حال با دانستن این تعریف، مسئله روشن است: اندازه بزرگ‌ترین مجموعه مستقل برای یک درخت مانند\n",
    "    $T$ \n",
    "    چند است؟\n",
    "<hr>\n",
    "    \n",
    "</div>"
   ]
  },
  {
   "cell_type": "markdown",
   "metadata": {},
   "source": [
    "<div id=\"section1\" style=\"direction:rtl; font-size: 17px; font-family: 'XB Zar'; line-height: 200%\">\n",
    "\n",
    "<h2 style=\"color: #ff6600;\">\n",
    "    کلیت راه‌حل    \n",
    "    </h2>\n",
    "    بیاید بررسی کنیم ببینیم جواب این مسئله چه شرایطی ممکن است داشته باشد. یک راس مانند\n",
    "    $v$\n",
    "    را در نظر بگیرید.\n",
    "    این راس از طریق یال‌ها به تعدادی راس دیگر وصل است که می‌دانیم به دلیل درخت بودن گراف، با در نظر نگرفتن این راس و یال‌های متصل به آن، این گراف به چندین مولفه همبندی تقسیم می‌شود.\n",
    "    مثلا در شکل زیر، راس $v$ با سه یال به سه مولفه همبندی متصل است.\n",
    "    <img src=\"pic1.png\">\n",
    "    این راس یا در جواب نهایی قرار دارد یا ندارد. اگر به گونه‌ای بدانیم که این راس در جواب نهایی قرار ندارد، مطابق شکل زیر، مسئله به ۳ زیر مسئله کوچک‌تر تقسیم می‌شود\n",
    "    (مطابق شکل زیر)\n",
    "    که در هر یک از این مسائل باید جواب بهینه را به صورت بازگشتی پیدا کنیم.\n",
    "    <img src=\"pic2.png\">\n",
    "    اما اگر در جواب نهایی قرار نداشته باشد چطور؟ خب در این صورت می‌دانیم که چون این راس در جواب قرار دارد، همسایگآن این راس در جواب قرار ندارند.\n",
    "    اما همانند حالت قبل، همسایگان همسایگان راس\n",
    "    $v$\n",
    "    به چندین مولفه همبندی تقسیم می‌شوند و نیاز دارید که مسئله را در این زیر مسئله‌ها به صورت بازگشتی حل کنیم.\n",
    "    <img src=\"pic3.png\">\n",
    "    خب تا به اینجا دیدیم که اگر بدانیم یک راس مانند\n",
    "    $v$\n",
    "    قرار دارد یا ندارد، مسئله را می‌توانیم به زیر مسائلی تقسیم کنیم. اما سوال اصلی همچنان مانده: \n",
    "    $v$\n",
    "    در جواب نهایی قرار دارد یا ندارد؟\n",
    "    از آنجایی که نمی‌توانیم از قبل جواب این سوال را بفهمیم، مسئله را در هر دو حالت حل می‌کنیم، و بینشان بیشینه را انتخاب می‌کنیم.<br>\n",
    "    پس به عبارتی، جواب این مسئله به این ترتیب خواهد بود: <br>\n",
    "    <center> $\\}$\n",
    "    1 +\n",
    "    مجموع جواب زیرمسائل با v ,\n",
    "        مجموع جواب زیرمسائل بدون v\n",
    "    $\\max\\{$\n",
    "     = جواب\n",
    "    </center>\n",
    "    در ادامه برای آنکه راحت‌تر بتوانیم مسئله را حل کنیم، نمایش ریشه‌دار درخت را با راس $r$ در نظر می‌گیریم.\n",
    "    با این نمایش همه رئوس بچه یا نوادگان راس $r$ خواهند بود.\n",
    "    برای هر راس مانند\n",
    "    $u$ \n",
    "    این گراف در این نمایش، زیر مسئله\n",
    "    $LIS(u)$\n",
    "    را برابر اندازه بزرگ‌ترین زیرمجموعه مستقل در زیرگرافی که\n",
    "    $u$\n",
    "    ریشه آن است می‌نامیم. جواب مسئله اصلی هم برابر خواهد بود با \n",
    "    $LIS(r)$.\n",
    "    همچنین طبق آنچه در بالا گفتیم، برای هر $v$ رابطه زیر برقرار خواهد بود:\n",
    "    $$\n",
    "    LIS(v) = \\max\\{ \\Sigma_{u \\in children(v)}LIS(u), 1 + \\Sigma_{u \\in grandchildren(v)}LIS(u)\\}\n",
    "    $$\n",
    "</div>    "
   ]
  },
  {
   "cell_type": "markdown",
   "metadata": {},
   "source": [
    "<div id=\"section2\" style=\"direction:rtl; font-size: 17px; font-family: 'XB Zar'; line-height: 200%\">\n",
    "    <h2 style=\"color: #ff6600;\">\n",
    "        تلاش اول: بازگشتی    \n",
    "    </h2>\n",
    "    طبق فرمولی که در ریزبخش قبل به دست آوردیم، به نظر می‌آید به صورت بازگشتی می‌توان مسئله را حل کرد.\n",
    "    برای سادگی، فرض می‌کنیم درخت مورد نظر، یک درخت ریشه‌دار دودویی هست (هر راس حداکثر دو فرزند دارد).\n",
    "    حل مسئله به صورت مشابه برای حالت کلی به خواننده واگذار می‌شود.\n",
    "    برای این منظور کلاسی برای نگه‌داری رئوس گراف تعریف می‌کنیم:\n",
    "</div>    "
   ]
  },
  {
   "cell_type": "code",
   "execution_count": 3,
   "metadata": {},
   "outputs": [],
   "source": [
    "// Run this cell only once\n",
    "class Node{  \n",
    "    public: \n",
    "    int data;  \n",
    "    Node *left, *right;\n",
    "    \n",
    "    Node(int input_data){\n",
    "        \n",
    "        data = input_data;  \n",
    "        left = NULL;\n",
    "        right = NULL;\n",
    "    }\n",
    "};"
   ]
  },
  {
   "cell_type": "markdown",
   "metadata": {},
   "source": [
    "<div style=\"direction:rtl; font-size: 17px; font-family: 'XB Zar'; line-height: 200%\">\n",
    "    حال کافیست تابع بازگشتی برای محاسبه جواب را به شکل زیر پیاده‌سازی کنیم:\n",
    "</div>    "
   ]
  },
  {
   "cell_type": "code",
   "execution_count": 4,
   "metadata": {},
   "outputs": [],
   "source": [
    "// Run this cell only once\n",
    "int LIS_recursive(Node *root)  \n",
    "{  \n",
    "    if (root == NULL)  \n",
    "    return 0;  \n",
    "  \n",
    "    // Calculate size excluding the current node  \n",
    "    int size_excl = LIS_recursive(root->left) +  \n",
    "                    LIS_recursive(root->right);  \n",
    "  \n",
    "    // Calculate size including the current node  \n",
    "    int size_incl = 1;  \n",
    "    if (root->left)  \n",
    "        size_incl += LIS_recursive(root->left->left) + \n",
    "                     LIS_recursive(root->left->right);  \n",
    "    if (root->right)  \n",
    "        size_incl += LIS_recursive(root->right->left) +  \n",
    "                     LIS_recursive(root->right->right);  \n",
    "  \n",
    "    // Return the maximum of two sizes  \n",
    "    return max(size_incl, size_excl);  \n",
    "}"
   ]
  },
  {
   "cell_type": "markdown",
   "metadata": {},
   "source": [
    "<div id=\"section1\" style=\"direction:rtl; font-size: 17px; font-family: 'XB Zar'; line-height: 200%\">\n",
    "حال می‌توانیم جواب را برای یک درخت دودویی دلخواه به دست آوریم. به عنوان مثال برای درخت زیر مسئله را حل می‌کنیم:\n",
    "<img src=\"pic4.png\" style=\"width:40%\">\n",
    "</div>"
   ]
  },
  {
   "cell_type": "code",
   "execution_count": 5,
   "metadata": {},
   "outputs": [],
   "source": [
    "// Run this cell only once\n",
    "Node *root;"
   ]
  },
  {
   "cell_type": "code",
   "execution_count": 6,
   "metadata": {},
   "outputs": [
    {
     "name": "stdout",
     "output_type": "stream",
     "text": [
      "Size of the Largest Independent Set is 5"
     ]
    }
   ],
   "source": [
    "// Let us construct the tree given in the above diagram  \n",
    "root = new Node(10);  \n",
    "root->left = new Node(20);  \n",
    "root->left->left = new Node(40);  \n",
    "root->left->right = new Node(50);  \n",
    "root->left->right->left = new Node(70);  \n",
    "root->left->right->right = new Node(80);  \n",
    "root->right = new Node(30);  \n",
    "root->right->right = new Node(60);  \n",
    "\n",
    "cout << \"Size of the Largest Independent Set is \" << LIS_recursive(root);  "
   ]
  },
  {
   "cell_type": "markdown",
   "metadata": {},
   "source": [
    "<div style=\"direction:rtl; font-size: 17px; font-family: 'XB Zar'; line-height: 200%\">\n",
    "    <strong style=\"color: #ff6600;\">\n",
    "        تمرین: \n",
    "    </strong>\n",
    "    پیچیدگی زمانی این روش را محاسبه کنید. <br>\n",
    "    جواب کوتاه: نمایی\n",
    "</div>    "
   ]
  },
  {
   "cell_type": "markdown",
   "metadata": {},
   "source": [
    "<div id=\"section1\" style=\"direction:rtl; font-size: 17px; font-family: 'XB Zar'; line-height: 200%\">\n",
    "    <h2 style=\"color: #ff6600;\">\n",
    "        تلاش دوم: برنامه‌نویسی پویا    \n",
    "    </h2>\n",
    "    برای برطرف کردن مشکلات راه‌حل قبلی، نگه‌داری جواب زیر‌مسائلی هست که به صورت بازگشتی حل می‌شود، به عبارتی همان برنامه‌نویسی پویا.\n",
    "    برای این منظور کد قسمت قبل را به شکل زیر تغییر می‌دهیم تا جواب‌های زیرمسئله‌ها را ذخیره کنیم:\n",
    "</div>    "
   ]
  },
  {
   "cell_type": "code",
   "execution_count": 7,
   "metadata": {},
   "outputs": [],
   "source": [
    "class Node_DP{  \n",
    "    public: \n",
    "    int data;  \n",
    "    Node_DP *left, *right;\n",
    "    // Answer to LIS subproblem\n",
    "    int lis = 0;\n",
    "    \n",
    "    Node_DP(int input_data){\n",
    "        \n",
    "        data = input_data;  \n",
    "        left = NULL;\n",
    "        right = NULL;  \n",
    "    }\n",
    "};"
   ]
  },
  {
   "cell_type": "markdown",
   "metadata": {},
   "source": [
    "<div style=\"direction:rtl; font-size: 17px; font-family: 'XB Zar'; line-height: 200%\">\n",
    "جواب مسئله را هم برای یک راس خاص به این ترتیب می‌توانیم به دست آوردیم (به خط هفتم توجه کنید):\n",
    "</div>    "
   ]
  },
  {
   "cell_type": "code",
   "execution_count": 8,
   "metadata": {},
   "outputs": [],
   "source": [
    "int LIS_DP(Node_DP *root)  \n",
    "{  \n",
    "    if (root == NULL)  \n",
    "        return 0;  \n",
    "  \n",
    "    // If the answer is calculated, use it\n",
    "    if (root->lis)  \n",
    "        return root->lis;  \n",
    "  \n",
    "    if (root->left == NULL && root->right == NULL)  \n",
    "        return (root->lis = 1);  \n",
    "  \n",
    "    // Calculate size excluding the current node  \n",
    "    int lis_excl = LIS_DP(root->left) + LIS_DP(root->right);  \n",
    "  \n",
    "    // Calculate size including the current node  \n",
    "    int lis_incl = 1;  \n",
    "    if (root->left)  \n",
    "        lis_incl += LIS_DP(root->left->left) + LIS_DP(root->left->right);  \n",
    "    if (root->right)  \n",
    "        lis_incl += LIS_DP(root->right->left) + LIS_DP(root->right->right);  \n",
    "  \n",
    "    // Maximum of two sizes is LIS, store it for future uses.  \n",
    "    root->lis = max(lis_incl, lis_excl);  \n",
    "  \n",
    "    return root->lis;  \n",
    "\n",
    "}"
   ]
  },
  {
   "cell_type": "markdown",
   "metadata": {},
   "source": [
    "<div style=\"direction:rtl; font-size: 17px; font-family: 'XB Zar'; line-height: 200%\">\n",
    "برای همان مثال قبل، جواب را به صوت زیر محاسبه می‌کنیم:\n",
    "</div>    "
   ]
  },
  {
   "cell_type": "code",
   "execution_count": 9,
   "metadata": {},
   "outputs": [],
   "source": [
    "Node_DP *root_dp;"
   ]
  },
  {
   "cell_type": "code",
   "execution_count": 10,
   "metadata": {},
   "outputs": [
    {
     "name": "stdout",
     "output_type": "stream",
     "text": [
      "Size of the Largest Independent Set is 5"
     ]
    }
   ],
   "source": [
    "// Let us construct the tree given in the above diagram  \n",
    "root_dp = new Node_DP(10);  \n",
    "root_dp->left = new Node_DP(20);  \n",
    "root_dp->left->left = new Node_DP(40);  \n",
    "root_dp->left->right = new Node_DP(50);  \n",
    "root_dp->left->right->left = new Node_DP(70);  \n",
    "root_dp->left->right->right = new Node_DP(80);  \n",
    "root_dp->right = new Node_DP(30);  \n",
    "root_dp->right->right = new Node_DP(60);  \n",
    "\n",
    "cout << \"Size of the Largest Independent Set is \" << LIS_DP(root_dp);  "
   ]
  },
  {
   "cell_type": "code",
   "execution_count": null,
   "metadata": {},
   "outputs": [],
   "source": [
    "#include <vector>\n",
    "#include <algorithm>\n",
    "#include <iostream>\n",
    "using namespace std;\n",
    "\n",
    "class Node {\n",
    "public:\n",
    "    vector <Node *> children;\n",
    "    int number, D, Dp;\n",
    "    Node(int number) {\n",
    "      this->number = number;\n",
    "      D = 0;\n",
    "      Dp = 0;\n",
    "    };\n",
    "};\n",
    "\n",
    "void DP(Node *v){\n",
    "  v->D++;\n",
    "  for (int i = 0; i < v->children.size(); i++) {\n",
    "    DP(v->children[i]);\n",
    "    v->D += v->children[i]->Dp;\n",
    "    v->Dp += max(v->children[i]->D, v->children[i]->Dp);\n",
    "  }\n",
    "  cout << v->number << \" \" << v->D << \" \" << v->Dp << endl;\n",
    "}\n",
    "\n",
    "\n",
    "int main(int argc, char ** argv) {\n",
    "  Node v1(1), v2(2), v3(3), v4(4), v5(5), v6(6), v7(7), v8(8), v9(9), v10(10), v11(11), v12(12), v13(13), v14(14), v15(15);\n",
    "  v5.children.push_back(&v10);\n",
    "  v1.children.push_back(&v4);\n",
    "  v1.children.push_back(&v5);\n",
    "  v1.children.push_back(&v6);\n",
    "  v8.children.push_back(&v11);\n",
    "  v8.children.push_back(&v12);\n",
    "  v9.children.push_back(&v13);\n",
    "  v9.children.push_back(&v14);\n",
    "  v9.children.push_back(&v15);\n",
    "  v3.children.push_back(&v7);\n",
    "  v3.children.push_back(&v8);\n",
    "  v3.children.push_back(&v9);\n",
    "  root.children.push_back(&v1);\n",
    "  root.children.push_back(&v2);\n",
    "  root.children.push_back(&v3);\n",
    "  DP(& root);\n",
    "  cout << max(root.D, root.Dp) << endl;\n",
    "  return 0;\n",
    "}\n"
   ]
  },
  {
   "cell_type": "markdown",
   "metadata": {},
   "source": [
    "<div style=\"direction:rtl; font-size: 17px; font-family: 'XB Zar'; line-height: 200%\">\n",
    "    اما پیچیدگی زمانی این الگوریتم چگونه است؟<br>\n",
    "    می‌دانیم که جواب مسئله به ازای هر راس یک بار محاسبه می‌شود و از آنجایی که هر راس حداکثر ۲ فرزند و ۴ نوه دارد، با دانستن جواب زیر مسئله برای فرزندان و نوادگان، جواب برای هر راس با تعداد ثابتی عمل به دست می‌آید. پس تعداد عملیات مورد استفاده ضریبی از تعداد رئوس است. پس پیچیدگی زمانی الگوریتم از\n",
    "    $O(n)$\n",
    "    است.\n",
    "</div>   "
   ]
  },
  {
   "cell_type": "markdown",
   "metadata": {},
   "source": [
    "<div style=\"direction:rtl; font-size: 17px; font-family: 'XB Zar'; line-height: 200%\">\n",
    "    <strong style=\"color: #ff6600;\"> تمرین: </strong>\n",
    "    مسئله را در حالتی که درخت دودویی نباشد حل کنید و پیچیدگی زمانی‌اش را محاسبه کنید. <br>\n",
    "    راهنمایی: تعداد فرزندان و نودگان هر راس دیگر ثابت نیست، پس تحلیل قبلی درست نیست.\n",
    "</div>   "
   ]
  },
  {
   "cell_type": "markdown",
   "metadata": {},
   "source": [
    "<div style=\"direction:rtl; font-size: 17px; font-family: 'XB Zar'; line-height: 200%\">\n",
    "    <strong style=\"color: #ff6600;\"> منابع: </strong>\n",
    "        کدهای استفاده شده در این بخش با تغییر از\n",
    "        <a href=\"https://www.geeksforgeeks.org/largest-independent-set-problem-dp-26/\">این سایت</a>\n",
    "        برداشته شده است.\n",
    "</div>    "
   ]
  }
 ],
 "metadata": {
  "kernelspec": {
   "display_name": "C++11",
   "language": "C++11",
   "name": "xcpp11"
  },
  "language_info": {
   "codemirror_mode": "text/x-c++src",
   "file_extension": ".cpp",
   "mimetype": "text/x-c++src",
   "name": "c++",
   "version": "11"
  }
 },
 "nbformat": 4,
 "nbformat_minor": 4
}
