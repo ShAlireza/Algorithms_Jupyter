{
 "cells": [
  {
   "cell_type": "markdown",
   "metadata": {},
   "source": [
    "<div style=\"direction:rtl;line-height:300%;\"><font face=\"XB Zar\" size=5>\n",
    "<div align=center>\n",
    "    <font size=30>\n",
    "    <p></p>\n",
    "    به نام خدا\n",
    "    </font>\n",
    "    <br>\n",
    "    <br>\n",
    "    <br><br>\n",
    "    <font face=\"IranNastaliq\" size=190 color=blue>\n",
    "    الگوریتم‌های‌تقریبی\n",
    "    </font>\n",
    "    <br><br>\n",
    "    <font face=\"Niloofar\" color=#FF7500>\n",
    "    دانشگاه صنعتی شریف - دانشکده مهندسی کامپیوتر\n",
    "    </font>\n",
    "\n",
    "    ترم دوم سال تحصیلی ۱۳۹۹-۱۳۹۸\n",
    "</div>\n"
   ]
  },
  {
   "cell_type": "code",
   "execution_count": null,
   "metadata": {},
   "outputs": [],
   "source": []
  }
 ],
 "metadata": {
  "kernelspec": {
   "display_name": "Python 3",
   "language": "python",
   "name": "python3"
  },
  "language_info": {
   "codemirror_mode": {
    "name": "ipython",
    "version": 3
   },
   "file_extension": ".py",
   "mimetype": "text/x-python",
   "name": "python",
   "nbconvert_exporter": "python",
   "pygments_lexer": "ipython3",
   "version": "3.8.1"
  }
 },
 "nbformat": 4,
 "nbformat_minor": 4
}
