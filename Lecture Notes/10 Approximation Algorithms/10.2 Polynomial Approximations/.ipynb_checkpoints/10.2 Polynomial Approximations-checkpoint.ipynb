{
 "cells": [
  {
   "cell_type": "markdown",
   "metadata": {},
   "source": [
    "<div style=\"direction:rtl;line-height:300%;\"> <font face=\"XB Zar\">\n",
    "<div align=center>\n",
    "    <div style=\"font-size:14px\">\n",
    "    به نام خدا\n",
    "    </div><br>\n",
    "    <strong><div style=\"font-size:50px; color: blue\">\n",
    "    طراحی الگوریتم‌ها\n",
    "    </div></strong>\n",
    "    <br>\n",
    "    <div style=\"font-size:20px; color: #ff6600\">\n",
    "    دانشگاه صنعتی شریف، دانشکده مهندسی کامپیوتر\n",
    "    </div>\n",
    "    <div style=\"font-size:15px; color: black\">\n",
    "        نیم‌سال دوم سال تحصیلی ۹۸-۹۹\n",
    "    </div>\n",
    "    <hr>\n",
    "    <strong><div style=\"font-size:35px; color: red\">\n",
    "        فصل دهم: الگوریتم‌های‌تقریبی\n",
    "    </div></strong><br>\n",
    "    <div style=\"font-size:30px; color: navy\">\n",
    "        بخش دوم: طرح‌های تقریبی چندجمله‌ای، کوله‌پشتی\n",
    "    </div><br>\n",
    "    <div style=\"font-size:20px; color: black\">\n",
    "      حمیدرضا کامکاری، علی پورقاسمی\n",
    "    </div>\n",
    "\n",
    "</div>\n",
    "<hr>"
   ]
  },
  {
   "cell_type": "markdown",
   "metadata": {},
   "source": [
    "<div style=\"direction:rtl; font-size: 17px; font-family: 'XB Zar'; line-height: 200%\">\n",
    "<div style=\"font-size: 22px; color: #ff6600; font-weight: bold\">\n",
    "فهرست محتویات\n",
    "</div>         \n",
    "<ul style=\"margin-right: 0;\">\n",
    "    <li><a href=\"#section1\">PTAS FPTAS</a></li>\n",
    "    <li><a href=\"#section2\">مسئله کوله‌پشتی</a></li>\n",
    "    <li><a href=\"#section3\">FPTAS مسئله کوله‌پشتی</a></li>\n",
    "\n",
    "</ul>\n",
    "</div>"
   ]
  },
  {
   "cell_type": "markdown",
   "metadata": {},
   "source": [
    "<div id=\"section1\" style=\"direction:rtl; font-size: 17px; font-family: 'XB Zar'; line-height: 200%\">\n",
    "<div style=\"font-size: 22px; color: #ff6600; font-weight: bold\">\n",
    "PTAS FPTAS\n",
    "</div>\n",
    "    در بخش قبلی سعی می‌کردیم الگوریتم‌ها با ضرایب تقریب متفاوت ارائه کنیم. اما بعضاً ممکن است بخواهیم دقت الگوریتم را خودمان تعیین کنیم. برای مثال فرض کنید سیستمی قوی داریم و می‌توانیم هزینه بیشتری از نظر زمانی بدهیم و در عوض دقت بیشتری بگیریم. و یا بالعکس.\n",
    "    بنابراین می‌خواهیم پارامتری تحت عنوان دقت را به صورت یک **متغیر** ارائه دهیم.\n",
    "    در این بخش با چنین الگوریتم‌هایی سر و کار داریم.\n",
    "    <br>\n",
    "    تعریف: طرح‌های تقریبی چند‌جمله‌ای خانواده‌ای از الگوریتم‌ها مثل $A_{\\epsilon}$\n",
    "    است.\n",
    "    به طوریکه به‌ازای هر ضریب \n",
    "    $\\epsilon > 0$\n",
    "    الگوریتم چندجمله‌ای \n",
    "    $(1+\\epsilon)-approx$\n",
    "    است (برای مسائل کمینه‌سازی)\n",
    "    و \n",
    "    $(1-\\epsilon)-approx$\n",
    "    است (برای مسائل بیشینه‌سازی)\n",
    "    <br>\n",
    "    توجه کنید ممکن است زمان الگوریتم ما وابسته به این $\\epsilon$ باشد.\n",
    "    برای مثال ممکن است الگوریتمی با \n",
    "    $O(n^{\\frac{1}{\\epsilon}})$\n",
    "    داشته‌باشیم. در اینصورت اگر مقدار \n",
    "    $\\epsilon$\n",
    "    خیلی کم باشد (یعنی الگوریتمی با دقت زیاد داشته‌باشیم) آن وقت زمان الگوریتم بیشتر شود.\n",
    "    این الگوریتم بر حسب $n$ چند جمله‌ای است ولی برحسب\n",
    "    $\\frac{1}{\\epsilon}$\n",
    "    چندجمله‌ای نیست!\n",
    "    <br>\n",
    "    تعریف: طرح‌های تقریبی کاملا چندجمله‌ای یا FPTAS دسته‌ای از الگوریتم‌های PTAS هستند که هم بر اساس اندازه ورودی و هم بر اساس پارامتر دقت یعنی\n",
    "    $\\epsilon$\n",
    "    چند‌جمله‌ای است.\n",
    "    <br>\n",
    "    معمولاً پیدا کردن FPTAS در مسائل بسیار خوشحال کننده‌است.\n",
    "    \n",
    "<hr>"
   ]
  },
  {
   "cell_type": "code",
   "execution_count": null,
   "metadata": {},
   "outputs": [],
   "source": []
  }
 ],
 "metadata": {
  "kernelspec": {
   "display_name": "Python 3",
   "language": "python",
   "name": "python3"
  },
  "language_info": {
   "codemirror_mode": {
    "name": "ipython",
    "version": 3
   },
   "file_extension": ".py",
   "mimetype": "text/x-python",
   "name": "python",
   "nbconvert_exporter": "python",
   "pygments_lexer": "ipython3",
   "version": "3.7.4"
  }
 },
 "nbformat": 4,
 "nbformat_minor": 4
}
