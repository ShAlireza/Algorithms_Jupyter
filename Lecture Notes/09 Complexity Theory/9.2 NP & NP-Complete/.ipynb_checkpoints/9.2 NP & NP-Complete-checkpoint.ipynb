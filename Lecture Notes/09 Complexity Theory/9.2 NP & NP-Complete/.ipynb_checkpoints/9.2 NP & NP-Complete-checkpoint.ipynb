{
 "cells": [
  {
   "cell_type": "markdown",
   "metadata": {},
   "source": [
    "#### <div style=\"direction:rtl;line-height:300%;\"><font face=\"XB Zar\" size=5>\n",
    "<div style=\"direction:rtl;line-height:300%;\"><font face=\"XB Zar\" size=5>\n",
    "<div align=center>\n",
    "<font face=\"IranNastaliq\" size=30>\n",
    "<p></p>\n",
    "به نام خدا\n",
    "</font>\n",
    "<br>\n",
    "<font color=#FF7500>\n",
    "دانشگاه صنعتی شریف - دانشکده مهندسی کامپیوتر\n",
    "</font>\n",
    "<br>\n",
    "<font color=blue>\n",
    "طراحی الگوریتم‌ها\n",
    "</font>\n",
    "<br>\n",
    "    ترم دوم سال تحصیلی ۱۳۹۹-۱۳۹۸\n",
    "</div>\n",
    "<hr/>\n",
    "<font color=red size=6>\n",
    "<p></p>\n",
    "\n",
    "<div align=center>فصل نهم: NP و NP-Complete</div>\n",
    "</font>\n",
    "<div align=center>\n",
    "نیما جمالی، محمد کاظم فقیه خراسانی</div>\n",
    "<hr>\n",
    "</font></div>\n",
    "\n",
    "\n",
    "<style type=\"text/css\" scoped>\n",
    "p{\n",
    "border: 1px solid #a2a9b1;background-color: #f8f9fa;display: inline-block;\n",
    "};\n",
    "</style>\n",
    "<div style=\"direction:rtl; font-size: 17px; font-family: 'XB Zar'; line-height: 200%\">\n",
    "<div style=\"font-size: 22px; color: #ff6600; font-weight: bold\">\n",
    "فهرست محتویات\n",
    "</div>\n",
    "\n",
    "<ul style=\"margin-right: 0;\">\n",
    "    <li><a href=\"#section0\">مقدمه</a></li>\n",
    "    <li><a href=\"#section1\">NP</a></li>\n",
    "    <li><a href=\"#section2\">P در مقابل NP</a></li>\n",
    "    <li><a href=\"#section3\">NP-Complete</a></li>\n",
    "    <li><a href=\"#section4\">اولین مسئله NP-Complete</a></li>\n",
    "<!--     <li><a href=\"#section5\">مثال: NP-Complete بودن $3-SAT$</a></li> -->\n",
    "</ul>\n",
    "</div>"
   ]
  },
  {
   "cell_type": "markdown",
   "metadata": {},
   "source": [
    "\n",
    "<div class=\"persian\" id=\"section0\">\n",
    "<div style=\"direction:rtl; font-size: 17px; font-family: 'XB Zar'; line-height: 200%\">\n",
    "<div style=\"font-size: 22px; color: #ff6600; font-weight: bold\">\n",
    "مقدمه\n",
    "</div>\n",
    "در بخش قبل با مسئله‌ی تصمیم آشنا شدیم و دانستیم که مجموعه مسائل چندجمله‌ای ($P$) به دسته‌ای از مسائل تصمیم گفته‌می‌شود که الگوریتمی چندجمله‌ای برای حل آن‌ها وجود دارد. مثلا تشخیص اول بودن یک عدد یا وجود یک مسیر بین دو راس مشخص از گراف از این دسته مسائل محسوب می‌شوند. در این قسمت با مجموعه‌ی بزرگ‌تری از مسائل موسوم به $NP$ آشنا می‌شویم و مجموعه مسائل $NP-complete$ را معرفی می‌کنیم.\n",
    "</div>\n",
    "</font></div>\n"
   ]
  },
  {
   "cell_type": "markdown",
   "metadata": {},
   "source": [
    "<div style=\"direction:rtl; font-size: 17px; font-family: 'XB Zar'; line-height: 200%\">\n",
    "<div style=\"font-size: 22px; color: #ff6600; font-weight: bold\">\n",
    "NP\n",
    "</div>\n",
    "مجموعه‌ای از مسائل تصمیم هستند که برای هر نمونه‌ای ($instance$) از مسئله‌ی تصمیم که خروجی آن \"بله\" باشد، یک تصدیق‌کننده از مرتبه زمانی چندجمله‌ای وجود داشته باشد.\n",
    "<br/>\n",
    "تعریف فوق کمی گنگ به نظر می‌رسد! در نتیجه با مثالی آن را روشن می‌کنیم. مسئله‌ی یافتن مسیر همیلتونی در یک گراف $n$ راسی را در نظر بگیرید. این مسئله وجود مسیری را در گراف بررسی می‌کند که از تمامی راس‌ها دقیقا یک بار عبور کرده باشد. حال گراف $n$ راسی داده شده به عنوان نمونه ($instance$) در این مسئله مطرح است. حال یک گواهی ($certificate$) برای این نمونه، دنباله‌ای متشکل از $n$ راس است که ادعا شده یک مسیر همیلتونی را تشکیل می‌دهند. و تصدیق‌کننده ($verifier$) در این مسئله می‌تواند الگوریتمی باشد که بررسی کند هر راس فقط یک بار در دنباله آمده باشد و بین هر دو راس متوالی از دنباله یال موجود باشد.\n",
    "<br/>\n",
    "در شکل زیر یک نمونه و گواهی ارائه شده برای آن نمونه را می‌توانید مشاهده کنید. (یال‌های قرمز مسیر ارائه شده به عنوان گواهی را نشان می‌دهند)\n",
    "</font></div>"
   ]
  },
  {
   "cell_type": "markdown",
   "metadata": {},
   "source": [
    "<img src=\"figs/HAM-PATH.jpg\" style=\"float:center; width:50%\"/>"
   ]
  },
  {
   "cell_type": "markdown",
   "metadata": {},
   "source": [
    "<div style=\"direction:rtl; font-size: 17px; font-family: 'XB Zar'; line-height: 200%\">\n",
    "<div style=\"font-size: 22px; color: #ff6600; font-weight: bold\">\n",
    "P در مقابل NP\n",
    "</div>\n",
    "با تعریف دسته مسائل $P$ و دسته مسائل NP آشنا شدیم. حال می‌خواهیم بررسی کنیم بین این دو مجموعه چه ارتباطی برقرار است. آیا این دو مجموعه با هم برابرند؟\n",
    "<br/>\n",
    "می‌توان نشان داد که $P \\subseteq NP$ زیرا برای هر مسئله‌ای مانند $X$ که $X \\in P$ می‌توان الگوریتم حل مسئله را که از مرتبه زمانی چندجمله‌ای است به عنوان تصدیق‌کننده ارائه داد. پس نتیجه می‌گیریم $X \\subseteq NP$. اما برعکس این رابطه هم صادق است؟ یعنی می‌توان نتیجه گرفت $NP \\subseteq P$ و در نتیجه $P = NP$ ؟ تا کنون اثباتی قابل قبول برای درست بودن یا نبودن این حکم مطرح نشده است. یعنی هنوز معلوم نیست که اگر مسئله‌ای جزو مسائل $NP$ باشد، لزوما الگوریتمی از مرتبه زمانی چندجمله‌ای برای حل آن وجود دارد یا نه. برای اثبات درست بودن یا نبودن این رابطه، جایزه میلیون دلاری در نظر گرفته شده است! برای اطلاعات بیشتر می‌توانید\n",
    "<a href = \"https://en.wikipedia.org/wiki/Millennium_Prize_Problems#P_versus_NP\">اینجا</a> را ببینید.\n",
    "</font></div>"
   ]
  },
  {
   "cell_type": "markdown",
   "metadata": {},
   "source": [
    "<div style=\"direction:rtl; font-size: 17px; font-family: 'XB Zar'; line-height: 200%\">\n",
    "در شکل زیر، دو وضعیت گفته شده برای دو مجموعه $P$ و $NP$ را مشاهده می‌کنید.\n",
    "</font></div>"
   ]
  },
  {
   "cell_type": "markdown",
   "metadata": {},
   "source": [
    "<img src=\"figs/P_VS_NP.jpg\" style=\"float:center; width:50%\"/>"
   ]
  },
  {
   "cell_type": "markdown",
   "metadata": {},
   "source": [
    "<div style=\"direction:rtl; font-size: 17px; font-family: 'XB Zar'; line-height: 200%\">\n",
    "<div style=\"font-size: 22px; color: #ff6600; font-weight: bold\">\n",
    "NP-complete\n",
    "</div>\n",
    "مسئله $Y \\in NP$ یک مسئله NP-complete است هر گاه به ازای هر مسئله $X \\in NP$، مسئله $X$ قابل کاهش به مسئله $Y$ باشد. ($X \\leqslant _{P} Y$)\n",
    "<br/>\n",
    "تعریف فوق نشان می‌دهد که برای اثبات این که یک مسئله $NP-complete$ است باید ابتدا نشان دهیم که مسئله $NP$ است و در مرحله‌ی بعد باید نشان دهیم که $NP-hard$ نیز هست.\n",
    "<br/>\n",
    "تعریف: مسئله $Y$ یک مسئله‌ی NP-hard است هر گاه به ازای هر مسئله $X \\in NP$، $X$ در زمان چندجمله‌ای قابل کاهش به $Y$ باشد.\n",
    "<br/>\n",
    "توجه کنید که یک مسئله می‌تواند $NP-hard$ باشد ولی $NP$ نباشد. زیرا ممکن است یک تصدیق‌کننده از مرتبه زمانی چندجمله‌ای برای آن موجود نباشد. برعکس، یک مسئله $NP$ ممکن است $NP-hard$ نباشد، گرچه که برای قبول یا رد آن هنوز اثباتی نداریم. در واقع مشخص نیست که مسائل $NP$ زیر مجموعه مسائل $NP-hard$ هستند یا نه. اما چیزی که می‌دانیم آن است که این دو مجموعه اشتراک دارند و اشتراک آن‌ها مسائل $NP-complete$ هستند. حال اگر $NP \\subseteq NP-hard$ می‌توان نتیجه گرفت مسائل $NP$ و $NP-complete$ یکی هستند. اما همان گونه که گفته شد اثباتی برای تایید یا رد این موضوع نداریم.\n",
    "</font></div>"
   ]
  },
  {
   "cell_type": "markdown",
   "metadata": {},
   "source": [
    "<div style=\"direction:rtl; font-size: 17px; font-family: 'XB Zar'; line-height: 200%\">\n",
    "در شکل زیر یکی از حالت‌های مفروض برای مجموعه مسائل نام برده شده را مشاهده می‌کنید. همان طور که ذکر شد حالت‌های دیگری برای این مجموعه‌ها می‌تواند مفروض باشد.\n",
    "</font></div>"
   ]
  },
  {
   "cell_type": "markdown",
   "metadata": {},
   "source": [
    "<img src=\"figs/sets.png\" style=\"float:center; width:50%\"/>"
   ]
  },
  {
   "cell_type": "markdown",
   "metadata": {},
   "source": [
    "<div style=\"direction:rtl; font-size: 17px; font-family: 'XB Zar'; line-height: 200%\">\n",
    "<div style=\"font-size: 22px; color: #ff6600; font-weight: bold\">\n",
    "اولین مسئله NP-complete\n",
    "</div>\n",
    "قضیه: اگر $X$ یک مسئله $NP-complete$ و $Y$ یک مسئله $NP$ باشند، به گونه‌ای که $X \\leqslant _{P} Y$، آنگاه $Y$ نیز یک مسئله $NP-complete$ است.\n",
    "<br/>\n",
    "اثبات: فرض کنید $L$ یک مسئله $NP$ دلخواه باشد. از آنجا که مسئله $X$ یک  مسئله $NP-complete$ است، باید $NP-hard$ هم باشد و در این صورت $L \\leqslant _{P} X$. حال با توجه به این رابطه و $X \\leqslant _{P} Y$ و بنا به خاصیت تعدی در کاهش‌پذیری می‌توان نتیجه گرفت  $L \\leqslant _{P} Y$. و این نشان می‌دهد که مسئله $Y$ باید $NP-hard$ باشد و با توجه به $NP$ بودن $Y$ در فرض مسئله، حکم ثابت می‌گردد.\n",
    "<br/>\n",
    "بنا بر قضیه فوق، کافی است برای اثبات $NP-complete$ بودن مسئله $Y$ نشان دهیم که $Y \\in NP$ و برای یک مسئله دلخواه مانند $X$ که می‌دانیم $NP-complete$ است، داشته باشیم $X \\leqslant _{P} Y$. پس کافی است یک مسئله را به عنوان اولین مسئله $NP-complete$ اثبات کنیم و باقی با توجه به نکته‌ی فوق قابل اثبات هستند.\n",
    "<br/>\n",
    "از مسئله $SAT$ به عنوان اولین مسئله $NP-complete$ یاد می‌شود. این مسئله بررسی می‌کند که آیا در یک عبارت متشکل از عملگرهای $and$، $or$ و $not$ و متغیرهای $x_{1}$ تا $x_{n}$، می‌توان این متغیرها را به گونه‌ای مقداردهی کرد که خروجی عبارت $true$ باشد یا نه. اثبات $NP-complete$ بودن این مسئله نخستین بار در سال $1971$ و توسط <a href=\"https://en.wikipedia.org/wiki/Stephen_Cook\">استفن کوک</a> ثابت گردید. حال برای اثبات $NP-complete$ بودن سایر مسائل می‌توانیم از قضیه مطرح شده در ابتدای بخش و این نکته که مسئله $SAT$ یک مسئله $NP-complete$ است، استفاده کنیم. توجه کنید که هر مسئله‌ای که $NP-complete$ بودن آن را ثابت می‌کنیم می‌توانند برای اثبات مسائل دیگر مورد استفاده قرار بگیرند.\n",
    "<br/>\n",
    "(اثبات $NP-complete$ بودن مسئله $SAT$ را به عنوان مطالعه بیشتر می‌توانید در\n",
    "<a href=\"https://en.wikipedia.org/wiki/Cook%E2%80%93Levin_theorem#Proof\">اینجا</a> مشاهده کنید)\n",
    "</font></div>"
   ]
  },
  {
   "cell_type": "markdown",
   "metadata": {},
   "source": [
    "<div style=\"direction:rtl; font-size: 17px; font-family: 'XB Zar'; line-height: 200%\">\n",
    "<div style=\"font-size: 17px; color: #ff6600; font-weight: bold\">\n",
    "مثال: NP-Complete بودن $3-SAT$\n",
    "</div>\n",
    "برای حل و اثبات این مسئله از قضیه بیان شده در بالا استفاده می‌کنیم. فرض کنید که صرفا می‌دانیم مسئله \n",
    "    $SAT$\n",
    "یک مسئله \n",
    "$NP-complete$\n",
    "می‌باشد و از طرفی نیز می‌دانیم که \n",
    "$3-SAT \\in NP$\n",
    "(چرا؟)، \n",
    "بنابراین صرفا باید بررسی کنیم که که مسئله\n",
    "$SAT$\n",
    "قابل تبدیل کردن و کاهش دادن به مسئله \n",
    "$3-SAT$\n",
    "می‌باشد یا نه.\n",
    "اگر بتوانیم \n",
    "$SAT$ \n",
    "را به \n",
    "$3-SAT$\n",
    "کاهش دهیم، با توجه به قضیه بالا،\n",
    "$NP-complete$\n",
    "بودن\n",
    "$3-SAT$\n",
    "را اثبات کرده‌ایم.\n",
    "<br>\n",
    "مسئله $SAT$ \n",
    "را به شکل\n",
    "$and$ \n",
    "یک سری عبارت که صرفا شامل $or$ و $not$\n",
    "هستند ببینید.\n",
    "یک عبارت دلخواه را به شکل \n",
    "$l_1 \\vee \\dots \\vee l_m$\n",
    "در نظر بگیرید. برای اینکه چنین عبارتی را به \n",
    "$3-SAT$\n",
    "تبدیل کنیم عبارت بالا را به\n",
    "$m-2$ عبارت به شکل زیر تبدیل می‌کنیم.\n",
    "$$\n",
    "(l_1 \\vee l_2 \\vee x_1) \\wedge (\\neg x_1 \\vee l_2 \\vee x_2) \\wedge (\\neg x_2 \\vee l_3 \\vee x_3) \\wedge \\dots \\wedge (\\neg x_{m-4} \\vee l_{m-2} \\vee x_{m-3}) \n",
    "\\wedge (\\neg x_{m-3} \\vee l_{m-1} \\vee l_m)\n",
    "$$\n",
    "در عبارت بالا \n",
    "$x_1, \\dots, x_{n-3}$\n",
    "خود متغیر‌های بولی جدیدی هستند که در جای دیگری تکرار نشده‌اند.\n",
    "می‌توان دید که اگر عبارت بالا جواب داشته باشد عبارت\n",
    "$l_1 \\vee \\dots \\vee l_m$\n",
    "نیز پاسخی خواهد داشت و به عبارتی این دو مسئله معادلند.\n",
    "از طرفی مسئله \n",
    "$3-SAT$\n",
    "بالا در زمان چندجمله‌ای نسبت به متغیر‌های بولی ما قابل تولید می‌باشد.\n",
    "بنابراین اگر همین کار را برای تمام عبارت‌های شامل صرفا $or$ و $not$\n",
    "میان\n",
    "$and$ها\n",
    "انجام دهیم، مسئله \n",
    "$SAT$\n",
    "در زمان چندجمله‌ای به مسئله\n",
    "$3-SAT$\n",
    "کاهش می‌یابد.\n",
    "</font></div>"
   ]
  }
 ],
 "metadata": {
  "kernelspec": {
   "display_name": "Python 3",
   "language": "python",
   "name": "python3"
  },
  "language_info": {
   "codemirror_mode": {
    "name": "ipython",
    "version": 3
   },
   "file_extension": ".py",
   "mimetype": "text/x-python",
   "name": "python",
   "nbconvert_exporter": "python",
   "pygments_lexer": "ipython3",
   "version": "3.7.4"
  }
 },
 "nbformat": 4,
 "nbformat_minor": 2
}
