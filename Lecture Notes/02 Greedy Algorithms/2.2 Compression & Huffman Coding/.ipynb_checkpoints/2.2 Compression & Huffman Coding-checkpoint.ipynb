{
 "cells": [
  {
   "cell_type": "markdown",
   "metadata": {},
   "source": [
    "<div style=\"direction:rtl;line-height:300%;\"> <font face=\"XB Zar\">\n",
    "<div align=center>\n",
    "    <div style=\"font-size:14px\">\n",
    "    به نام خدا\n",
    "    </div><br>\n",
    "    <strong><div style=\"font-size:50px; color: blue\">\n",
    "    طراحی الگوریتم‌ها\n",
    "    </div></strong>\n",
    "    <br>\n",
    "    <div style=\"font-size:20px; color: #ff6600\">\n",
    "    دانشگاه صنعتی شریف، دانشکده مهندسی کامپیوتر\n",
    "    </div>\n",
    "    <div style=\"font-size:15px; color: black\">\n",
    "        نیم‌سال دوم سال تحصیلی ۹۸-۹۹\n",
    "    </div>\n",
    "    <hr>\n",
    "    <strong><div style=\"font-size:35px; color: red\">\n",
    "        فصل دوم: الگوریتمهای حریصانه\n",
    "    </div></strong><br>\n",
    "    <div style=\"font-size:30px; color: navy\">\n",
    "        بخش دوم: فشرده سازی و کد هافمن\n",
    "    </div><br>\n",
    "    <div style=\"font-size:20px; color: black\">\n",
    "        کیوان شبانی، امیرحسین قبادی\n",
    "    </div>\n",
    "\n",
    "</div>\n",
    "<hr>"
   ]
  },
  {
   "cell_type": "markdown",
   "metadata": {},
   "source": [
    "<div style=\"direction:rtl; font-size: 17px; font-family: 'XB Zar'; line-height: 200%\">\n",
    "<div style=\"font-size: 22px; color: #ff6600; font-weight: bold\">\n",
    "فهرست محتویات\n",
    "</div>         \n",
    "<ul style=\"margin-right: 0;\">\n",
    "    <li><a href=\"#section1\">مقدمه</a></li>\n",
    "    <li><a href=\"#section2\">کد هافمن</a></li>\n",
    "    <li><a href=\"#section3\">دیکدینگ</a></li>\n",
    "    <li><a href=\"#section4\">پیاده سازی کد هافمن</a></li>\n",
    "    <li><a href=\"#section5\">استفاده از کد هافمن در دنیای امروزی</a></li>\n",
    "</ul>\n",
    "</div>"
   ]
  },
  {
   "cell_type": "markdown",
   "metadata": {},
   "source": [
    "<div id=\"section1\" style=\"direction:rtl; font-size: 17px; font-family: 'XB Zar'; line-height: 200%\">\n",
    "<div style=\"font-size: 22px; color: #ff6600; font-weight: bold\">\n",
    "مقدمه\n",
    "</div><br>\n",
    "</div>\n"
   ]
  },
  {
   "cell_type": "markdown",
   "metadata": {},
   "source": [
    "<div style=\"direction:rtl; font-size: 17px; font-family: 'XB Zar'; line-height: 200%\">\n",
    "<div style=\"font-size: 17px; color: #ff6600; font-weight: bold\">\n",
    "کد کردن فایلها\n",
    "</div>            \n",
    "می دانیم کامپیوترها از در حالت کلی از پردازش زبان های طبیعی عاجزند هرچند در حال حاضر پیشرفت های خوبی در این زمینه صورت گرفته است اما هنوز هم زبان اصلی مورد فهم کامپیوتر ها زبان صفر و یک است به همین علت ذخیره سازی فایل های متنی به این صورت انجام می پذیرد یعنی هر کاراکتر موجود در هر رشته به صورت یک کد (با طول دلخواه) از صفر و یک انکد می شود و پردازش به روی ان انجام می شود و پس از ان با یک دیکدینگ ساده به حالت اول خود باز می گردد.\n",
    "<hr>\n",
    "</div>"
   ]
  },
  {
   "cell_type": "markdown",
   "metadata": {},
   "source": [
    "<div style=\"direction:rtl; font-size: 17px; font-family: 'XB Zar'; line-height: 200%\">\n",
    "<div style=\"font-size: 17px; color: #ff6600; font-weight: bold\">\n",
    "کد کردن با طول ثابت\n",
    "</div>            \n",
    "در الفبای انگلیسی 26 حرف داریم بنابراین با 5 بیت می توانیم همه ی اعداد را کد کنیم به این صورت که کاراکتر ‘a’ به رشته ی باینری 00000 انکد می شود ،کاراکتر’b’ به رشته ی باینری 00001 ، ... و کاراکتر ‘z’ به رشته ی باینری 11010 انکد می شود می بینیم همه ی کاراکتر ها به رشته های باینری با طول 5 انکد شده اند به این نوع کد کردن فایل کد کردن با طول ثابت می گویند.\n",
    "<br>\n",
    "برای خواندن رشته ی دلخواه 0000000001  چه کاری انجام می دهید؟\n",
    "<br>\n",
    "از انجا که کد گذاری با طول ثابت است پنج تا پنج تا جدا می کنیم و اقدام به دیکد کردن می کنیم پنج حرف اول کاراکتر ‘a’ و پنج حرف دوم کاراکتر ‘b’ می باشد پس رشته ی ما ‘ab’ بوده است.\n",
    "<hr>\n",
    "</div>"
   ]
  },
  {
   "cell_type": "markdown",
   "metadata": {},
   "source": [
    "<div style=\"direction:rtl; font-size: 17px; font-family: 'XB Zar'; line-height: 200%\">\n",
    "<div style=\"font-size: 17px; color: #ff6600; font-weight: bold\">\n",
    "کد کردن با طول متغیر\n",
    "</div>            \n",
    "پس از مدتی معلوم شد حجم بسیاری زیادی برای کد کردن با طول ثابت به هدر می رود  برای مثال کاراکتر ‘a’ می تواند تنها با یک 0 انکود و کاراکتر ‘c’ با 10 انکد شود اما این کار ابهاماتی برای دیکد کردن به وجود می آورد اما الگوریتم هایی برای حل این مشکل و همچنین انکد کردن کاراکترها با طول متغیر خلق شد که در ادامه به آن ها می پردازیم.\n",
    "<hr>\n",
    "</div>"
   ]
  },
  {
   "cell_type": "markdown",
   "metadata": {},
   "source": [
    "<div id=\"section2\" style=\"direction:rtl; font-size: 17px; font-family: 'XB Zar'; line-height: 200%\">\n",
    "<div style=\"font-size: 22px; color: #ff6600; font-weight: bold\">\n",
    "کد هافمن\n",
    "</div><br>\n",
    "کد هافمن یک الگوریتم فشرده سازی داده است که برای تحقق این امر از الگوریتم حریصانه استفاده می کند.اساس کار الگوریتم بر اساس تعداد تکرار هر کاراکتر در سند ماست.\n",
    "<br>\n",
    "می دانیم محتویات هر فایل متنی با یک کد باینری ذخیره می شود و هر کاراکتر فایل به یک کاراکتر باینری متصل می شود،معمولا این کدهای کاراکتری با طول ثابت برای هر کاراکتر ذخیره می شود.\n",
    "<br>\n",
    "برای مثال ما به کاراکتر \"a\" سه حرف باینری “000” را اختصاص می دهیم و به کاراکتر “b” سه حرف باینری \"001\" اختصاص می دهیم و می بینیم هر دو کاراکتر ما به یک عدد باینری به طول ثابت سه کد شده اند:\n",
    "</div>\n"
   ]
  },
  {
   "cell_type": "markdown",
   "metadata": {},
   "source": [
    "<img src=\"media/graph1.png\">\n",
    "<hr>"
   ]
  },
  {
   "cell_type": "markdown",
   "metadata": {},
   "source": [
    "<div style=\"direction:rtl; font-size: 17px; font-family: 'XB Zar'; line-height: 200%\">\n",
    "بر خلاف الگوریتم های کدگذاری متن معمولی الگوریتم هافمن از کدگذاری با طول ثابت استفاده نمی کند.الگوریتم با استفاده از فرکانس تکرار کاراکترها ،به هر کاراکتر یک کد باینری می دهد به گونه ای که کاراکتر با بیشترین تکرار کوتاه ترین طول کد باینری را دارد و کمترین فرکانس تکرار بیشترین طول عدد کد شده ی باینری را داراست:         \n",
    "</div>"
   ]
  },
  {
   "cell_type": "markdown",
   "metadata": {},
   "source": [
    "<img src=\"media/graph2.png\">"
   ]
  },
  {
   "cell_type": "markdown",
   "metadata": {},
   "source": [
    "<div style=\"direction:rtl; font-size: 17px; font-family: 'XB Zar'; line-height: 200%\">\n",
    "از آنجا که کاراکتر ها با فرکانس تکرار بیشتر طول کمتری دارند ذخیره ی آن ها حافظه ی کمتری را می خواهد.\n",
    "</div>\n",
    "<hr>"
   ]
  },
  {
   "cell_type": "markdown",
   "metadata": {},
   "source": [
    "<div style=\"direction:rtl; font-size: 17px; font-family: 'XB Zar'; line-height: 200%\">\n",
    "<div style=\"font-size: 17px; color: #ff6600; font-weight: bold\">\n",
    "مثال\n",
    "</div>            \n",
    "به مثال زیر توجه کنید:\n",
    "</div>"
   ]
  },
  {
   "cell_type": "markdown",
   "metadata": {},
   "source": [
    "<img src=\"media/graph3.png\">"
   ]
  },
  {
   "cell_type": "markdown",
   "metadata": {},
   "source": [
    "<div style=\"direction:rtl; font-size: 17px; font-family: 'XB Zar'; line-height: 200%\">\n",
    "در این مثال کاراکتر \"a\"  پنجاه و یک بار در صد کاراکتر تکرار شده است و بیشترین فرکانس را داراست،کاراکتر \"c\" کمترین فرکانس تکرار را در بین کاراکتر ها دارد، همانطور که می بینیم طول کد کاراکتر \"a\" که بیشترین تکرار را دارد برابر یک و طول کد کاراکتر \"c\"  که کمترین فرکانس را داراست برابر چهار می باشد.\n",
    "<br>\n",
    "حال با مقادیر فوق مقدار حافظه را محاسبه می کنیم:\n",
    "<br>\n",
    "در کد فیکس به ازای هر کاراکتر سه بیت برای ذخیره سازی نیاز داریم پس:\n",
    "$\n",
    "100*3=300 bits\n",
    "$\n",
    "<br>\n",
    "می بینیم برای ذخیره ی یک متن صد کاراکتری به سیصد بیت نیاز داریم.\n",
    "<br>\n",
    "در الگوریتم کد هافمن برای هر کاراکتر به میزان متغیر بیت نیاز داریم پس داریم:\n",
    "<br>\n",
    "$$51*1+20*3+2*4+3*4+9*3+15*3=203 bits$$\n",
    "<br>\n",
    "می بینیم کد کردن همان متن صد کاراکتری با الگوریتم هافمن به جای کد طول ثابت به دویست و سه بیت نیاز دارد پس استفاده از کد هافمن به جای الگوریتم طول ثابت در این متن به 32% کاهش فضای حافظه منجر می شود.\n",
    "<br>\n",
    "الگوریتم هافمن یک الگوریتم فشرده سازی بدون از دست دادن اطلاعات است،می بینیم در مثال فوق هیچ اطلاعاتی از دست نرفته است و فقط از روش دیگری برای نمایش اطلاعات استفاده کرده ایم.\n",
    "<br>\n",
    "سوالی که به وجود می آید این است که بیشینه طول کاراکتر کد شده کد با طول ثابت برابر سه است اما این مقدار در الگوریتم هافمن برابر چهار است!؟ آیا نمی توانیم  با سه بیت کد کنیم تا مقدار کمتری فضا اشغال شود؟ \n",
    "<br>\n",
    "جواب خیر است طول کد های هر کاراکتر از درخت پیشوندی که در ادامه درباره ی آن صحبت می کنیم به دست می آید و این عمل برای حل مشکل دیکدینگ است.\n",
    "<hr>\n",
    "</div>"
   ]
  },
  {
   "cell_type": "markdown",
   "metadata": {},
   "source": [
    "<div id=\"section3\" style=\"direction:rtl; font-size: 17px; font-family: 'XB Zar'; line-height: 200%\">\n",
    "<div style=\"font-size: 22px; color: #ff6600; font-weight: bold\">\n",
    "دیکدینگ\n",
    "</div><br>\n",
    "در متن های کد شده اطلاعات به صورت یک توالی از بیت ها دیده می شود برای مثال رشته ی \"abc\" به صورت \n",
    "00.001.010 کد می شود و برای دیکد کردن به این صورت دیکد می شود که از ابتدا سه بیت سه بیت جدا می کنیم و با استفاده از جدول کدگذاری خود دیکد می کنیم.\n",
    "\n",
    "</div>"
   ]
  },
  {
   "cell_type": "markdown",
   "metadata": {},
   "source": [
    "<img src=\"media/graph4.png\">"
   ]
  },
  {
   "cell_type": "markdown",
   "metadata": {},
   "source": [
    "<div style=\"direction:rtl; font-size: 17px; font-family: 'XB Zar'; line-height: 200%\">\n",
    "اما این روش با الگوریتم هافمن به مشکل می خورد کاراکتر های ما دارای طول متغیر هستند و این روش برای الگوریتم هافمن جواب نمی دهد برای حل این مشکل از کدپیشوندی استفاده می کنیم.\n",
    "</div>\n",
    "<hr>"
   ]
  },
  {
   "cell_type": "markdown",
   "metadata": {},
   "source": [
    "<div style=\"direction:rtl; font-size: 17px; font-family: 'XB Zar'; line-height: 200%\">\n",
    "<div style=\"font-size: 17px; color: #ff6600; font-weight: bold\">\n",
    "کد پیشوندی\n",
    "</div>            \n",
    "در این کد مقادیر هر کاراکتر کد شده به کاراکترهای دیگر بستگی دارد. \n",
    "</div>"
   ]
  },
  {
   "cell_type": "markdown",
   "metadata": {},
   "source": [
    "<div style=\"direction:rtl; font-size: 17px; font-family: 'XB Zar'; line-height: 200%\">\n",
    "<div style=\"font-size: 17px; color: #ff6600; font-weight: bold\">\n",
    "مثال\n",
    "</div>            \n",
    "از 0 و1 و01 و 10 برای نمایش a و b و c وd استفاده می کنیم(صفر پیشوند 01 و یک پیشوند10 است) بنابراین رشته ی 00101 می تواند به رشته های:aabab,acc,aadb,acab,aabc دیکد شود و این مشکل محل ابهام واقع می شود و برای حل این ابهام از کد پیشوندی استفاده می کنیم در مثال بالا داریم 0,111,110  برای کد کردن کاراکترهای a,b,c  استفاده می شوند می بینیم هیچ کدی پیشوند کد دیگر نیستند بنابر این در دیکد کردن هیچ ابهامی به وجود نمی اید.\n",
    "<br>\n",
    "رشته ی 0111110 را در نظر بگیرید این رشته به صورت یکتا به abc ترجمه می شود.\n",
    "<hr>\n",
    "</div>"
   ]
  },
  {
   "cell_type": "markdown",
   "metadata": {},
   "source": [
    "<div id=\"section4\" style=\"direction:rtl; font-size: 17px; font-family: 'XB Zar'; line-height: 200%\">\n",
    "<div style=\"font-size: 22px; color: #ff6600; font-weight: bold\">\n",
    "پیاده سازی کد هافمن\n",
    "</div><br>            \n",
    "درخت زیر را در نظر بگیرید:\n",
    "</div>"
   ]
  },
  {
   "cell_type": "markdown",
   "metadata": {},
   "source": [
    "<img src=\"media/graph5.png\">"
   ]
  },
  {
   "cell_type": "markdown",
   "metadata": {},
   "source": [
    "<div style=\"direction:rtl; font-size: 17px; font-family: 'XB Zar'; line-height: 200%\">\n",
    "اولین برداشت از درخت این است که برگ های درخت کاراکتر ها و فرکانس های تکرار است با حرکت به سمت چپ هر نود عدد یک و با حرکت به سمت چپ هر نو عدد یک تولید می شود پس حرکت از سمت ریشه به هر برگ که یک کاراکتر است کد هافمن آن کاراکتر را تولید می کند.\n",
    "<br>\n",
    "رشته ی 0111110  را در نظر بگیرید برای دیکد کردن رشته از ریشه شروع می کنیم:\n",
    "<br>\n",
    "<img src=\"media/graph6.png\">\n",
    "<br>\n",
    "به برگی می رسیم که کاراکتر a در ان قرار دارد پس اولین کاراکتر رشته a است.\n",
    "<br>\n",
    "سپس باز از ریشه شروع می کنیم و ادامه ی رشته را دیکد می کنیم:\n",
    "<br>\n",
    "<img src=\"media/graph7.png\">\n",
    "<br>\n",
    "به همان صورت قبلی کاراکتر دوم b است.\n",
    "<br>\n",
    "باز هم به ریشه می رویم و عملیات را روی ادامه ی رشته انجام می دهیم.\n",
    "<br>\n",
    "<img src=\"media/graph8.png\">\n",
    "<br>\n",
    "<br>\n",
    "دیدیم رشته به این صورت دیکد می شود اما برای ساخت درخت پیشوندی چه کاری باید انجام شود؟\n",
    "<hr>\n",
    "</div>"
   ]
  },
  {
   "cell_type": "markdown",
   "metadata": {},
   "source": [
    "<div style=\"direction:rtl; font-size: 17px; font-family: 'XB Zar'; line-height: 200%\">\n",
    "<div style=\"font-size: 17px; color: #ff6600; font-weight: bold\">\n",
    "انکود با درخت\n",
    "</div>            \n",
    "برای انکود درخت به صورت زیر عمل می کنیم:\n",
    "<br>\n",
    "۱.\tنود هایی شامل کاراکتر و فرکانس می سازیم و ان ها را به صورت صعودی مرتب می کنیم:\n",
    "<br>\n",
    "<img src=\"media/graph9.png\">\n",
    "<br>\n",
    "۲.\tپس از آن به صورت حریصانه از چپ دو نود را با هم مرج می کنیم و در والد ان ها جمع دو فرکانس برگ را می نویسیم و درخت حاصل را به مجموعه¬ی اول برده و دوباره مرتب می کنیم:\n",
    "<br>\n",
    "<img src=\"media/graph10.png\">\n",
    "<br>\n",
    "۳.\tباز هم به صورت حریصانه دو نود سمت چپ را با هم مرج کرده و به مجموعه ی اول می بریم:\n",
    "<br>\n",
    "<img src=\"media/graph11.png\">\n",
    "<br>\n",
    "۴.\tعملیات را تا جایی تا به یک درخت واحد برسیم ادامه می دهیم:\n",
    "<br>\n",
    "<img src=\"media/graph12.png\">\n",
    "<br>\n",
    "<img src=\"media/graph13.png\">\n",
    "<br>\n",
    "<img src=\"media/graph14.png\">\n",
    "<br>\n",
    "می بینیم در نهایت به یک درخت اپتیمال می رسیم که عمق ان حداکثر تعداد بیت هرکاراکتر است و تعداد بیت لازم برای کد کردن:\n",
    "<br>\n",
    "$$Total bits=∑di∗i.freq$$\n",
    "<br>\n",
    "مراحل ساخت را میتوانید در $gif$ زیر مشاهده کنید:\n",
    "<br>\n",
    "<img src=\"media/huffman.gif\">\n",
    "<hr>\n",
    "</div>"
   ]
  },
  {
   "cell_type": "markdown",
   "metadata": {},
   "source": [
    "<div style=\"direction:rtl; font-size: 17px; font-family: 'XB Zar'; line-height: 200%\">\n",
    "<div style=\"font-size: 17px; color: #ff6600; font-weight: bold\">\n",
    "کد ساخت درخت هافمن\n",
    "</div>            \n",
    "</div>"
   ]
  },
  {
   "cell_type": "code",
   "execution_count": 1,
   "metadata": {},
   "outputs": [],
   "source": [
    "#include <iostream> \n",
    "#include <cstdlib> \n",
    "using namespace std; "
   ]
  },
  {
   "cell_type": "code",
   "execution_count": 2,
   "metadata": {},
   "outputs": [],
   "source": [
    "\n",
    "// This constant can be avoided by explicitly \n",
    "// calculating height of Huffman Tree \n",
    "#define MAX_TREE_HT 100 \n",
    "  \n",
    "// A Huffman tree node \n",
    "struct MinHeapNode { \n",
    "  \n",
    "    // One of the input characters \n",
    "    char data; \n",
    "  \n",
    "    // Frequency of the character \n",
    "    unsigned freq; \n",
    "  \n",
    "    // Left and right child of this node \n",
    "    struct MinHeapNode *left, *right; \n",
    "};\n"
   ]
  },
  {
   "cell_type": "code",
   "execution_count": 4,
   "metadata": {},
   "outputs": [],
   "source": [
    "// A Min Heap: Collection of \n",
    "// min-heap (or Huffman tree) nodes \n",
    "struct MinHeap { \n",
    "  \n",
    "    // Current size of min heap \n",
    "    unsigned size; \n",
    "  \n",
    "    // capacity of min heap \n",
    "    unsigned capacity; \n",
    "  \n",
    "    // Attay of minheap node pointers \n",
    "    struct MinHeapNode** array; \n",
    "}; \n",
    "  "
   ]
  },
  {
   "cell_type": "code",
   "execution_count": 10,
   "metadata": {},
   "outputs": [],
   "source": [
    "\n",
    "// A utility function allocate a new \n",
    "// min heap node with given character \n",
    "// and frequency of the character \n",
    "struct MinHeapNode* newNode(char data, unsigned freq) \n",
    "{ \n",
    "    struct MinHeapNode* temp \n",
    "        = (struct MinHeapNode*)malloc\n",
    "(sizeof(struct MinHeapNode)); \n",
    "  \n",
    "    temp->left = temp->right = NULL; \n",
    "    temp->data = data; \n",
    "    temp->freq = freq; \n",
    "  \n",
    "    return temp; \n",
    "} "
   ]
  },
  {
   "cell_type": "code",
   "execution_count": 11,
   "metadata": {},
   "outputs": [],
   "source": [
    "// A utility function to create \n",
    "// a min heap of given capacity \n",
    "struct MinHeap* createMinHeap(unsigned capacity) \n",
    "  \n",
    "{ \n",
    "  \n",
    "    struct MinHeap* minHeap \n",
    "        = (struct MinHeap*)malloc(sizeof(struct MinHeap)); \n",
    "  \n",
    "    // current size is 0 \n",
    "    minHeap->size = 0; \n",
    "  \n",
    "    minHeap->capacity = capacity; \n",
    "  \n",
    "    minHeap->array \n",
    "        = (struct MinHeapNode**)malloc(minHeap-> \n",
    "capacity * sizeof(struct MinHeapNode*)); \n",
    "    return minHeap; \n",
    "} "
   ]
  },
  {
   "cell_type": "code",
   "execution_count": null,
   "metadata": {},
   "outputs": [],
   "source": [
    "  \n",
    "// A utility function to \n",
    "// swap two min heap nodes \n",
    "void swapMinHeapNode(struct MinHeapNode** a, \n",
    "                    struct MinHeapNode** b) \n",
    "  \n",
    "{ \n",
    "  \n",
    "    struct MinHeapNode* t = *a; \n",
    "    *a = *b; \n",
    "    *b = t; \n",
    "} "
   ]
  },
  {
   "cell_type": "code",
   "execution_count": null,
   "metadata": {},
   "outputs": [],
   "source": [
    "  \n",
    "// The standard minHeapify function. \n",
    "void minHeapify(struct MinHeap* minHeap, int idx) \n",
    "  \n",
    "{ \n",
    "  \n",
    "    int smallest = idx; \n",
    "    int left = 2 * idx + 1; \n",
    "    int right = 2 * idx + 2; \n",
    "  \n",
    "    if (left < minHeap->size && minHeap->array[left]-> \n",
    "freq < minHeap->array[smallest]->freq) \n",
    "        smallest = left; \n",
    "  \n",
    "    if (right < minHeap->size && minHeap->array[right]-> \n",
    "freq < minHeap->array[smallest]->freq) \n",
    "        smallest = right; \n",
    "  \n",
    "    if (smallest != idx) { \n",
    "        swapMinHeapNode(&minHeap->array[smallest], \n",
    "                        &minHeap->array[idx]); \n",
    "        minHeapify(minHeap, smallest); \n",
    "    } \n",
    "}"
   ]
  },
  {
   "cell_type": "code",
   "execution_count": null,
   "metadata": {},
   "outputs": [],
   "source": [
    "  \n",
    "// A utility function to check \n",
    "// if size of heap is 1 or not \n",
    "int isSizeOne(struct MinHeap* minHeap) \n",
    "{ \n",
    "  \n",
    "    return (minHeap->size == 1); \n",
    "} "
   ]
  },
  {
   "cell_type": "code",
   "execution_count": null,
   "metadata": {},
   "outputs": [],
   "source": [
    "  \n",
    "// A standard function to extract \n",
    "// minimum value node from heap \n",
    "struct MinHeapNode* extractMin(struct MinHeap* minHeap) \n",
    "  \n",
    "{ \n",
    "  \n",
    "    struct MinHeapNode* temp = minHeap->array[0]; \n",
    "    minHeap->array[0] \n",
    "        = minHeap->array[minHeap->size - 1]; \n",
    "  \n",
    "    --minHeap->size; \n",
    "    minHeapify(minHeap, 0); \n",
    "  \n",
    "    return temp; \n",
    "} \n",
    "  "
   ]
  },
  {
   "cell_type": "code",
   "execution_count": null,
   "metadata": {},
   "outputs": [],
   "source": [
    "// A utility function to insert \n",
    "// a new node to Min Heap \n",
    "void insertMinHeap(struct MinHeap* minHeap, \n",
    "                struct MinHeapNode* minHeapNode) \n",
    "  \n",
    "{ \n",
    "  \n",
    "    ++minHeap->size; \n",
    "    int i = minHeap->size - 1; \n",
    "  \n",
    "    while (i && minHeapNode->freq < minHeap->array[(i - 1) / 2]->freq) { \n",
    "  \n",
    "        minHeap->array[i] = minHeap->array[(i - 1) / 2]; \n",
    "        i = (i - 1) / 2; \n",
    "    } \n",
    "  \n",
    "    minHeap->array[i] = minHeapNode; \n",
    "} "
   ]
  },
  {
   "cell_type": "code",
   "execution_count": null,
   "metadata": {},
   "outputs": [],
   "source": [
    "  \n",
    "// A standard function to build min heap \n",
    "void buildMinHeap(struct MinHeap* minHeap) \n",
    "  \n",
    "{ \n",
    "  \n",
    "    int n = minHeap->size - 1; \n",
    "    int i; \n",
    "  \n",
    "    for (i = (n - 1) / 2; i >= 0; --i) \n",
    "        minHeapify(minHeap, i); \n",
    "} "
   ]
  },
  {
   "cell_type": "code",
   "execution_count": null,
   "metadata": {},
   "outputs": [],
   "source": [
    "// A utility function to print an array of size n \n",
    "void printArr(int arr[], int n) \n",
    "{ \n",
    "    int i; \n",
    "    for (i = 0; i < n; ++i) \n",
    "        cout<< arr[i]; \n",
    "  \n",
    "    cout<<\"\\n\"; \n",
    "} "
   ]
  },
  {
   "cell_type": "code",
   "execution_count": null,
   "metadata": {},
   "outputs": [],
   "source": [
    "\n",
    "  \n",
    "// Utility function to check if this node is leaf \n",
    "int isLeaf(struct MinHeapNode* root) \n",
    "  \n",
    "{ \n",
    "  \n",
    "    return !(root->left) && !(root->right); \n",
    "} "
   ]
  },
  {
   "cell_type": "code",
   "execution_count": null,
   "metadata": {},
   "outputs": [],
   "source": [
    "// Creates a min heap of capacity \n",
    "// equal to size and inserts all character of \n",
    "// data[] in min heap. Initially size of \n",
    "// min heap is equal to capacity \n",
    "struct MinHeap* createAndBuildMinHeap(char data[], int freq[], int size) \n",
    "  \n",
    "{ \n",
    "  \n",
    "    struct MinHeap* minHeap = createMinHeap(size); \n",
    "  \n",
    "    for (int i = 0; i < size; ++i) \n",
    "        minHeap->array[i] = newNode(data[i], freq[i]); \n",
    "  \n",
    "    minHeap->size = size; \n",
    "    buildMinHeap(minHeap); \n",
    "  \n",
    "    return minHeap; \n",
    "} "
   ]
  },
  {
   "cell_type": "code",
   "execution_count": null,
   "metadata": {},
   "outputs": [],
   "source": [
    "// The main function that builds Huffman tree \n",
    "struct MinHeapNode* buildHuffmanTree(char data[], int freq[], int size) \n",
    "  \n",
    "{ \n",
    "    struct MinHeapNode *left, *right, *top; \n",
    "  \n",
    "    // Step 1: Create a min heap of capacity \n",
    "    // equal to size. Initially, there are \n",
    "    // modes equal to size. \n",
    "    struct MinHeap* minHeap = createAndBuildMinHeap(data, freq, size); \n",
    "  \n",
    "    // Iterate while size of heap doesn't become 1 \n",
    "    while (!isSizeOne(minHeap)) { \n",
    "  \n",
    "        // Step 2: Extract the two minimum \n",
    "        // freq items from min heap \n",
    "        left = extractMin(minHeap); \n",
    "        right = extractMin(minHeap); \n",
    "  \n",
    "        // Step 3: Create a new internal \n",
    "        // node with frequency equal to the \n",
    "        // sum of the two nodes frequencies. \n",
    "        // Make the two extracted node as \n",
    "        // left and right children of this new node. \n",
    "        // Add this node to the min heap \n",
    "        // '$' is a special value for internal nodes, not used \n",
    "        top = newNode('$', left->freq + right->freq); \n",
    "  \n",
    "        top->left = left; \n",
    "        top->right = right; \n",
    "  \n",
    "        insertMinHeap(minHeap, top); \n",
    "    } \n",
    "  \n",
    "    // Step 4: The remaining node is the \n",
    "    // root node and the tree is complete. \n",
    "    return extractMin(minHeap); \n",
    "} "
   ]
  },
  {
   "cell_type": "code",
   "execution_count": null,
   "metadata": {},
   "outputs": [],
   "source": [
    "// Prints huffman codes from the root of Huffman Tree. \n",
    "// It uses arr[] to store codes \n",
    "void printCodes(struct MinHeapNode* root, int arr[], int top) \n",
    "  \n",
    "{ \n",
    "  \n",
    "    // Assign 0 to left edge and recur \n",
    "    if (root->left) { \n",
    "  \n",
    "        arr[top] = 0; \n",
    "        printCodes(root->left, arr, top + 1); \n",
    "    } \n",
    "  \n",
    "    // Assign 1 to right edge and recur \n",
    "    if (root->right) { \n",
    "  \n",
    "        arr[top] = 1; \n",
    "        printCodes(root->right, arr, top + 1); \n",
    "    } \n",
    "  \n",
    "    // If this is a leaf node, then \n",
    "    // it contains one of the input \n",
    "    // characters, print the character \n",
    "    // and its code from arr[] \n",
    "    if (isLeaf(root)) { \n",
    "  \n",
    "        cout<< root->data <<\": \"; \n",
    "        printArr(arr, top); \n",
    "    } \n",
    "} "
   ]
  },
  {
   "cell_type": "code",
   "execution_count": null,
   "metadata": {},
   "outputs": [],
   "source": [
    "\n",
    "// The main function that builds a \n",
    "// Huffman Tree and print codes by traversing \n",
    "// the built Huffman Tree \n",
    "void HuffmanCodes(char data[], int freq[], int size) \n",
    "  \n",
    "{ \n",
    "    // Construct Huffman Tree \n",
    "    struct MinHeapNode* root \n",
    "        = buildHuffmanTree(data, freq, size); \n",
    "  \n",
    "    // Print Huffman codes using \n",
    "    // the Huffman tree built above \n",
    "    int arr[MAX_TREE_HT], top = 0; \n",
    "  \n",
    "    printCodes(root, arr, top); \n",
    "} "
   ]
  },
  {
   "cell_type": "code",
   "execution_count": null,
   "metadata": {},
   "outputs": [],
   "source": [
    "\n",
    "    char arr[] = { 'a', 'b', 'c', 'd', 'e', 'f' }; \n",
    "    int freq[] = { 42, 20, 5, 10, 11, 12 }; \n",
    "  \n",
    "    int size = sizeof(arr) / sizeof(arr[0]); \n",
    "  \n",
    "    HuffmanCodes(arr, freq, size); \n"
   ]
  },
  {
   "cell_type": "markdown",
   "metadata": {},
   "source": [
    "<div id=\"section5\" style=\"direction:rtl; font-size: 17px; font-family: 'XB Zar'; line-height: 200%\">\n",
    "<div style=\"font-size: 22px; color: #ff6600; font-weight: bold\">\n",
    "استفاده از کد هافمن در دنیای امروزی\n",
    "</div><br>\n",
    "کد هافمن پایه و اساس بسیاری از روش های فشرده سازی متن است برای مثال روش های GZIP,PKZIP(Winzip) و BZIP2 برای فشرده سازی فایل ها در نرم افزار Winzip از کدهافمن استفاده می شود همچنین در فشرده سازی فرمت های JPEG وPNG از این الگوریتم استفاده می شود.\n",
    "<br>\n",
    "مدل های فرانت اند ، فایل های MP3 و هزاران مورد دیگر همگی برای فشرده سازی داده خود از این کد استفاده می کنند.\n",
    "</div>\n"
   ]
  },
  {
   "cell_type": "code",
   "execution_count": null,
   "metadata": {},
   "outputs": [],
   "source": []
  }
 ],
 "metadata": {
  "kernelspec": {
   "display_name": "C++17",
   "language": "C++17",
   "name": "xcpp17"
  },
  "language_info": {
   "codemirror_mode": "text/x-c++src",
   "file_extension": ".cpp",
   "mimetype": "text/x-c++src",
   "name": "c++",
   "version": "17"
  }
 },
 "nbformat": 4,
 "nbformat_minor": 2
}
