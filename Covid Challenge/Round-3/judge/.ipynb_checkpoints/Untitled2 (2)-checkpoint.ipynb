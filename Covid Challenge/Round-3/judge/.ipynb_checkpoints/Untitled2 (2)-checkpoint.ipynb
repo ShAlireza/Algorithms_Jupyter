{
 "cells": [
  {
   "cell_type": "code",
   "execution_count": 48,
   "metadata": {},
   "outputs": [],
   "source": [
    "import os\n",
    "from pathlib import Path"
   ]
  },
  {
   "cell_type": "code",
   "execution_count": 1,
   "metadata": {},
   "outputs": [],
   "source": [
    "time_limit = 1"
   ]
  },
  {
   "cell_type": "code",
   "execution_count": 62,
   "metadata": {},
   "outputs": [],
   "source": [
    "import shutil\n",
    "\n",
    "\n",
    "working_directory = os.path.abspath('')\n",
    "os.chdir(working_directory)\n",
    "\n",
    "submissions_path = Path(os.path.join(working_directory, 'submissions'))\n",
    "\n",
    "tests_path = Path(os.path.join(working_directory, 'tests'))\n",
    "\n",
    "executables_path = os.path.join(working_directory, 'executables')\n",
    "\n",
    "if os.path.exists(executables_path):\n",
    "    shutil.rmtree(executables_path)\n",
    "\n",
    "os.mkdir(executables_path)\n",
    "    \n",
    "outputs_path = Path(os.path.join(working_directory, 'outputs'))\n",
    "    \n",
    "if os.path.exists(outputs_path):\n",
    "    shutil.rmtree(outputs_path)    \n",
    "    \n",
    "os.mkdir(outputs_path)"
   ]
  },
  {
   "cell_type": "code",
   "execution_count": 63,
   "metadata": {},
   "outputs": [],
   "source": [
    "students = list(os.walk(submissions_path))[0][1]"
   ]
  },
  {
   "cell_type": "code",
   "execution_count": 64,
   "metadata": {},
   "outputs": [
    {
     "name": "stdout",
     "output_type": "stream",
     "text": [
      "Compiling codes...\n",
      "Could not compile 97100581's code.\n",
      "Could not compile 97102044's code.\n",
      "Could not compile 96104881's code.\n",
      "Could not compile 96109599's code.\n",
      "Could not compile 96105875's code.\n",
      "Could not compile 97105771's code.\n",
      "Could not compile 96106033's code.\n",
      "Could not compile 96105626's code.\n",
      "Could not compile 96109663's code.\n",
      "Could not compile 97106262's code.\n",
      "Could not compile 96105712's code.\n",
      "Could not compile 96105983's code.\n",
      "Could not compile 97102441's code.\n",
      "Could not compile 97110206's code.\n",
      "Could not compile 95108008's code.\n",
      "Could not compile 96106077's code.\n",
      "Could not compile 97110155's code.\n",
      "Compilation finished for 36 codes: 17 error(s).\n",
      "\n",
      "=================================================\n",
      "\n"
     ]
    }
   ],
   "source": [
    "print('Compiling codes...')\n",
    "\n",
    "errors = 0\n",
    "\n",
    "for student in students:\n",
    "    cpp_files = list(Path(os.path.join(submissions_path, student)).rglob('*.c*'))\n",
    "    if len(cpp_files) != 1:\n",
    "        print(f'Something wrong with {student}\\'s files. Could not find the cpp file')\n",
    "        errors += 1\n",
    "        continue\n",
    "\n",
    "    cpp_file = cpp_files[0]\n",
    "    output_file = os.path.join(submissions_path, student, 'output-runnable')\n",
    "    code = os.system(f'g++ {cpp_file} -std=c++11 -O2 -o {output_file}')\n",
    "    \n",
    "    if code != 0:\n",
    "        print(f'Could not compile {student}\\'s code.')\n",
    "        errors += 1\n",
    "        continue\n",
    "    \n",
    "    \n",
    "    shutil.move(output_file, os.path.join(executables_path, f'{student}.exec'))\n",
    "\n",
    "print(f'Compilation finished for {len(students)} codes: {errors} error(s).')\n",
    "print('\\n=================================================\\n')"
   ]
  },
  {
   "cell_type": "code",
   "execution_count": 66,
   "metadata": {},
   "outputs": [
    {
     "name": "stdout",
     "output_type": "stream",
     "text": [
      "Executing codes...\n",
      "Running 97105854's codes\n",
      "Running 96101262's codes\n",
      "Running 97105855's codes\n",
      "Running 96109747's codes\n",
      "Running 96105683's codes\n",
      "Running 96105553's codes\n",
      "Running 97105844's codes\n",
      "Running 94101737's codes\n",
      "Time limit exceeded on test input1\n",
      "Time limit exceeded on test input19\n",
      "Time limit exceeded on test input18\n",
      "Time limit exceeded on test input2\n",
      "Time limit exceeded on test input11\n",
      "Running 96109588's codes\n",
      "Running 96105948's codes\n",
      "Running 96110067's codes\n",
      "Running 96105886's codes\n",
      "Running mehrdadkarrabi1997@gmail.com's codes\n",
      "Running 97106295's codes\n",
      "Running 96109606's codes\n",
      "Running 96109714's codes\n",
      "Time limit exceeded on test input11\n",
      "Time limit exceeded on test input13\n",
      "Time limit exceeded on test input15\n",
      "Running 96110129's codes\n",
      "Running 96105829's codes\n",
      "Running 96110797's codes\n",
      "\n",
      "=================================================\n",
      "\n"
     ]
    }
   ],
   "source": [
    "import subprocess\n",
    "\n",
    "print('Executing codes...')\n",
    "\n",
    "for executable in list(Path(executables_path).rglob('*.exec')):    \n",
    "    student_id = os.path.basename(executable).split('.exec')[0]\n",
    "        \n",
    "    print(f'Running {student_id}\\'s codes')        \n",
    "        \n",
    "    for test_file in tests_path.rglob('*.txt'):\n",
    "        test_name = os.path.basename(test_file).split('.txt')[0]\n",
    "        \n",
    "        output_dir = os.path.join(outputs_path, test_name)\n",
    "        os.makedirs(output_dir, exist_ok=True)\n",
    "        \n",
    "        output_path = os.path.join(output_dir, f'output-{student_id}.txt')\n",
    "        \n",
    "        input_file = open(test_file)\n",
    "        output_file = open(output_path, 'w')\n",
    "        \n",
    "        try:\n",
    "            subprocess.run([executable], stdin=input_file, stdout=output_file, timeout=tim, check=True)\n",
    "            output_file.close()\n",
    "        except subprocess.TimeoutExpired:\n",
    "            print(f'Time limit exceeded on test {test_name}')\n",
    "            os.remove(output_path)\n",
    "        except subprocess.CalledProcessError:\n",
    "            print(f'Runtime error on test {test_name}')\n",
    "            os.remove(output_path)\n",
    "        \n",
    "        input_file.close()\n",
    "        \n",
    "print('\\n=================================================\\n')"
   ]
  },
  {
   "cell_type": "code",
   "execution_count": 2,
   "metadata": {},
   "outputs": [
    {
     "data": {
      "text/plain": [
       "'/Users/kianooshabbasi/Downloads/assignment_13784_submissions_by_problem'"
      ]
     },
     "execution_count": 2,
     "metadata": {},
     "output_type": "execute_result"
    }
   ],
   "source": []
  },
  {
   "cell_type": "code",
   "execution_count": 15,
   "metadata": {},
   "outputs": [
    {
     "data": {
      "text/plain": [
       "[None]"
      ]
     },
     "execution_count": 15,
     "metadata": {},
     "output_type": "execute_result"
    }
   ],
   "source": []
  },
  {
   "cell_type": "code",
   "execution_count": null,
   "metadata": {},
   "outputs": [],
   "source": []
  }
 ],
 "metadata": {
  "kernelspec": {
   "display_name": "Python 3",
   "language": "python",
   "name": "python3"
  },
  "language_info": {
   "codemirror_mode": {
    "name": "ipython",
    "version": 3
   },
   "file_extension": ".py",
   "mimetype": "text/x-python",
   "name": "python",
   "nbconvert_exporter": "python",
   "pygments_lexer": "ipython3",
   "version": "3.7.4"
  }
 },
 "nbformat": 4,
 "nbformat_minor": 4
}
